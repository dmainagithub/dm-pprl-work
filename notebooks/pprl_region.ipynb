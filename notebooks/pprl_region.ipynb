{
 "cells": [
  {
   "cell_type": "code",
   "execution_count": 77,
   "id": "d0195848-800d-4cfb-a7c4-4adddad48919",
   "metadata": {},
   "outputs": [
    {
     "name": "stdout",
     "output_type": "stream",
     "text": [
      "Requirement already satisfied: kaleido in c:\\users\\dmaina.ad\\anaconda3\\envs\\phd_work\\lib\\site-packages (1.0.0)\n",
      "Requirement already satisfied: choreographer>=1.0.5 in c:\\users\\dmaina.ad\\anaconda3\\envs\\phd_work\\lib\\site-packages (from kaleido) (1.0.9)\n",
      "Requirement already satisfied: logistro>=1.0.8 in c:\\users\\dmaina.ad\\anaconda3\\envs\\phd_work\\lib\\site-packages (from kaleido) (1.1.0)\n",
      "Requirement already satisfied: orjson>=3.10.15 in c:\\users\\dmaina.ad\\anaconda3\\envs\\phd_work\\lib\\site-packages (from kaleido) (3.10.18)\n",
      "Requirement already satisfied: packaging in c:\\users\\dmaina.ad\\anaconda3\\envs\\phd_work\\lib\\site-packages (from kaleido) (23.2)\n",
      "Requirement already satisfied: simplejson>=3.19.3 in c:\\users\\dmaina.ad\\anaconda3\\envs\\phd_work\\lib\\site-packages (from choreographer>=1.0.5->kaleido) (3.20.1)\n"
     ]
    }
   ],
   "source": [
    "# !pip install -U kaleido\n",
    "# !pip install --upgrade plotly"
   ]
  },
  {
   "cell_type": "markdown",
   "id": "3bafc0f8-56e5-4b95-bfb5-e593b2a0d392",
   "metadata": {},
   "source": [
    "### Import Libraries"
   ]
  },
  {
   "cell_type": "code",
   "execution_count": 51,
   "id": "775829a1-a147-4639-95e8-d2f62395047e",
   "metadata": {},
   "outputs": [],
   "source": [
    "import pandas as pd\n",
    "from matplotlib import pyplot as plt \n",
    "from geopy.geocoders import Nominatim\n",
    "from time import sleep"
   ]
  },
  {
   "cell_type": "markdown",
   "id": "6efeb001-2606-43b1-a1e7-22cf5cbaed12",
   "metadata": {},
   "source": [
    "### Import data"
   ]
  },
  {
   "cell_type": "code",
   "execution_count": 52,
   "id": "c6146709-6388-411e-8100-db270b58f38c",
   "metadata": {},
   "outputs": [
    {
     "data": {
      "text/html": [
       "<div>\n",
       "<style scoped>\n",
       "    .dataframe tbody tr th:only-of-type {\n",
       "        vertical-align: middle;\n",
       "    }\n",
       "\n",
       "    .dataframe tbody tr th {\n",
       "        vertical-align: top;\n",
       "    }\n",
       "\n",
       "    .dataframe thead th {\n",
       "        text-align: right;\n",
       "    }\n",
       "</style>\n",
       "<table border=\"1\" class=\"dataframe\">\n",
       "  <thead>\n",
       "    <tr style=\"text-align: right;\">\n",
       "      <th></th>\n",
       "      <th>search_#</th>\n",
       "      <th>study_title</th>\n",
       "      <th>link</th>\n",
       "      <th>geographic_region</th>\n",
       "      <th>state_country</th>\n",
       "      <th>city</th>\n",
       "      <th>evaluation</th>\n",
       "      <th>date_done</th>\n",
       "      <th>year</th>\n",
       "      <th>topic</th>\n",
       "      <th>...</th>\n",
       "      <th>More explanation on AIMS</th>\n",
       "      <th>Sections</th>\n",
       "      <th>Authors</th>\n",
       "      <th>Skimming_through_scanning</th>\n",
       "      <th>fulltext</th>\n",
       "      <th>mendeley_zotero</th>\n",
       "      <th>citations</th>\n",
       "      <th>Authors_x</th>\n",
       "      <th>Databases</th>\n",
       "      <th>author_affiliation</th>\n",
       "    </tr>\n",
       "  </thead>\n",
       "  <tbody>\n",
       "    <tr>\n",
       "      <th>0</th>\n",
       "      <td>714153228727</td>\n",
       "      <td>NaN</td>\n",
       "      <td>https://doi.org/</td>\n",
       "      <td>NaN</td>\n",
       "      <td>NaN</td>\n",
       "      <td>NaN</td>\n",
       "      <td>NaN</td>\n",
       "      <td>7/10/2025</td>\n",
       "      <td>NaN</td>\n",
       "      <td>NaN</td>\n",
       "      <td>...</td>\n",
       "      <td>NaN</td>\n",
       "      <td>NaN</td>\n",
       "      <td>NaN</td>\n",
       "      <td>NaN</td>\n",
       "      <td>NaN</td>\n",
       "      <td>NaN</td>\n",
       "      <td>NaN</td>\n",
       "      <td>NaN</td>\n",
       "      <td>NaN</td>\n",
       "      <td>NaN</td>\n",
       "    </tr>\n",
       "    <tr>\n",
       "      <th>1</th>\n",
       "      <td>714153228967</td>\n",
       "      <td>Designing and piloting a generic research arch...</td>\n",
       "      <td>https://doi.org/10.1186/s12967-020-02547-x</td>\n",
       "      <td>Europe;</td>\n",
       "      <td>Germany;</td>\n",
       "      <td>NaN</td>\n",
       "      <td>great</td>\n",
       "      <td>7/14/2025</td>\n",
       "      <td>NaN</td>\n",
       "      <td>Secondary data, Trusted Third Party (TTP), pha...</td>\n",
       "      <td>...</td>\n",
       "      <td>NaN</td>\n",
       "      <td>NaN</td>\n",
       "      <td>NaN</td>\n",
       "      <td>NaN</td>\n",
       "      <td>NaN</td>\n",
       "      <td>NaN</td>\n",
       "      <td>NaN</td>\n",
       "      <td>NaN</td>\n",
       "      <td>NaN</td>\n",
       "      <td>NaN</td>\n",
       "    </tr>\n",
       "    <tr>\n",
       "      <th>2</th>\n",
       "      <td>714153228462</td>\n",
       "      <td>National administrative record linkage between...</td>\n",
       "      <td>https://doi.org/10.1136/bmjopen-2020-043540</td>\n",
       "      <td>Europe;</td>\n",
       "      <td>England;</td>\n",
       "      <td>NaN</td>\n",
       "      <td>great-practical</td>\n",
       "      <td>7/9/2025</td>\n",
       "      <td>2020.0</td>\n",
       "      <td>linkage rate; missed matches; gold-­standard s...</td>\n",
       "      <td>...</td>\n",
       "      <td>NaN</td>\n",
       "      <td>NaN</td>\n",
       "      <td>NaN</td>\n",
       "      <td>NaN</td>\n",
       "      <td>NaN</td>\n",
       "      <td>NaN</td>\n",
       "      <td>NaN</td>\n",
       "      <td>NaN</td>\n",
       "      <td>NaN</td>\n",
       "      <td>NaN</td>\n",
       "    </tr>\n",
       "    <tr>\n",
       "      <th>3</th>\n",
       "      <td>714153228270</td>\n",
       "      <td>Design and evaluation of a data anonymization ...</td>\n",
       "      <td>https://doi.org/10.1038/s41597-020-00773-y</td>\n",
       "      <td>Europe;</td>\n",
       "      <td>Germany;</td>\n",
       "      <td>NaN</td>\n",
       "      <td>great-practical</td>\n",
       "      <td>7/9/2025</td>\n",
       "      <td>2020.0</td>\n",
       "      <td>Public Use File (PUF); Scientific Use Files (S...</td>\n",
       "      <td>...</td>\n",
       "      <td>NaN</td>\n",
       "      <td>NaN</td>\n",
       "      <td>NaN</td>\n",
       "      <td>NaN</td>\n",
       "      <td>NaN</td>\n",
       "      <td>NaN</td>\n",
       "      <td>NaN</td>\n",
       "      <td>NaN</td>\n",
       "      <td>NaN</td>\n",
       "      <td>NaN</td>\n",
       "    </tr>\n",
       "    <tr>\n",
       "      <th>4</th>\n",
       "      <td>714153228538</td>\n",
       "      <td>Optimization of the Mainzelliste software for ...</td>\n",
       "      <td>https://doi.org/10.1186/s12967-020-02678-1</td>\n",
       "      <td>Europe;</td>\n",
       "      <td>Germany;</td>\n",
       "      <td>German city;</td>\n",
       "      <td>great</td>\n",
       "      <td>7/8/2025</td>\n",
       "      <td>2021.0</td>\n",
       "      <td>blocking methods (such as Soundex, phonetic bl...</td>\n",
       "      <td>...</td>\n",
       "      <td>NaN</td>\n",
       "      <td>NaN</td>\n",
       "      <td>Rohde F</td>\n",
       "      <td>Yes</td>\n",
       "      <td>NaN</td>\n",
       "      <td>NaN</td>\n",
       "      <td>J Transl Med. 2021 Jan 15;19(1):33. doi: 10.11...</td>\n",
       "      <td>Rohde F</td>\n",
       "      <td>J Transl Med</td>\n",
       "      <td>NaN</td>\n",
       "    </tr>\n",
       "  </tbody>\n",
       "</table>\n",
       "<p>5 rows × 88 columns</p>\n",
       "</div>"
      ],
      "text/plain": [
       "       search_#                                        study_title  \\\n",
       "0  714153228727                                                NaN   \n",
       "1  714153228967  Designing and piloting a generic research arch...   \n",
       "2  714153228462  National administrative record linkage between...   \n",
       "3  714153228270  Design and evaluation of a data anonymization ...   \n",
       "4  714153228538  Optimization of the Mainzelliste software for ...   \n",
       "\n",
       "                                          link geographic_region  \\\n",
       "0                             https://doi.org/               NaN   \n",
       "1   https://doi.org/10.1186/s12967-020-02547-x           Europe;   \n",
       "2  https://doi.org/10.1136/bmjopen-2020-043540           Europe;   \n",
       "3   https://doi.org/10.1038/s41597-020-00773-y           Europe;   \n",
       "4   https://doi.org/10.1186/s12967-020-02678-1           Europe;   \n",
       "\n",
       "  state_country          city       evaluation  date_done    year  \\\n",
       "0           NaN           NaN              NaN  7/10/2025     NaN   \n",
       "1      Germany;           NaN            great  7/14/2025     NaN   \n",
       "2      England;           NaN  great-practical   7/9/2025  2020.0   \n",
       "3      Germany;           NaN  great-practical   7/9/2025  2020.0   \n",
       "4      Germany;  German city;            great   7/8/2025  2021.0   \n",
       "\n",
       "                                               topic  ...  \\\n",
       "0                                                NaN  ...   \n",
       "1  Secondary data, Trusted Third Party (TTP), pha...  ...   \n",
       "2  linkage rate; missed matches; gold-­standard s...  ...   \n",
       "3  Public Use File (PUF); Scientific Use Files (S...  ...   \n",
       "4  blocking methods (such as Soundex, phonetic bl...  ...   \n",
       "\n",
       "  More explanation on AIMS Sections  Authors Skimming_through_scanning  \\\n",
       "0                      NaN      NaN      NaN                       NaN   \n",
       "1                      NaN      NaN      NaN                       NaN   \n",
       "2                      NaN      NaN      NaN                       NaN   \n",
       "3                      NaN      NaN      NaN                       NaN   \n",
       "4                      NaN      NaN  Rohde F                       Yes   \n",
       "\n",
       "  fulltext mendeley_zotero                                          citations  \\\n",
       "0      NaN             NaN                                                NaN   \n",
       "1      NaN             NaN                                                NaN   \n",
       "2      NaN             NaN                                                NaN   \n",
       "3      NaN             NaN                                                NaN   \n",
       "4      NaN             NaN  J Transl Med. 2021 Jan 15;19(1):33. doi: 10.11...   \n",
       "\n",
       "  Authors_x     Databases author_affiliation  \n",
       "0       NaN           NaN                NaN  \n",
       "1       NaN           NaN                NaN  \n",
       "2       NaN           NaN                NaN  \n",
       "3       NaN           NaN                NaN  \n",
       "4   Rohde F  J Transl Med                NaN  \n",
       "\n",
       "[5 rows x 88 columns]"
      ]
     },
     "execution_count": 52,
     "metadata": {},
     "output_type": "execute_result"
    }
   ],
   "source": [
    "df = pd.read_csv('D:/Daniels/exercises/ubuntu/phd_work/data/pprl_papers_data_extraction.csv')\n",
    "df.head()"
   ]
  },
  {
   "cell_type": "code",
   "execution_count": 53,
   "id": "092ded58-a839-4bf4-a4e6-264b16b94863",
   "metadata": {},
   "outputs": [
    {
     "data": {
      "text/plain": [
       "(529, 88)"
      ]
     },
     "execution_count": 53,
     "metadata": {},
     "output_type": "execute_result"
    }
   ],
   "source": [
    "df.shape"
   ]
  },
  {
   "cell_type": "markdown",
   "id": "91e60f6a-cc10-4d7a-8aa7-75b3b37964cd",
   "metadata": {},
   "source": [
    "### Split locations"
   ]
  },
  {
   "cell_type": "code",
   "execution_count": 54,
   "id": "22e6b8c5-9f08-47c6-864c-efd6e667c84f",
   "metadata": {},
   "outputs": [],
   "source": [
    "# Remove trailing semicolons and split into lists\n",
    "df['countries_list'] = df['state_country'].str.rstrip(';').str.split(';')\n",
    "\n",
    "# Explode into multiple rows\n",
    "df_exploded = df.explode('countries_list')\n",
    "\n",
    "# Clean up spaces and underscores\n",
    "df_exploded['countries_clean'] = df_exploded['countries_list'].str.replace('_', ' ').str.strip()\n",
    "\n",
    "# Drop NaNs or empty values\n",
    "df_exploded = df_exploded[df_exploded['countries_clean'].notna() & (df_exploded['countries_clean'] != '')]\n"
   ]
  },
  {
   "cell_type": "code",
   "execution_count": 55,
   "id": "ad85982d-18d0-4924-ba61-8896936bc0f2",
   "metadata": {},
   "outputs": [
    {
     "data": {
      "text/plain": [
       "65"
      ]
     },
     "execution_count": 55,
     "metadata": {},
     "output_type": "execute_result"
    }
   ],
   "source": [
    "df_exploded.countries_clean.nunique()"
   ]
  },
  {
   "cell_type": "code",
   "execution_count": 56,
   "id": "7229ff16-a742-4006-b66d-f663a5c7a305",
   "metadata": {},
   "outputs": [],
   "source": [
    "geolocator = Nominatim(user_agent=\"geoapi\")\n",
    "\n",
    "# Define function with delay to avoid rate-limiting\n",
    "def geocode_place(place):\n",
    "    try:\n",
    "        loc = geolocator.geocode(place)\n",
    "        if loc:\n",
    "            return pd.Series([loc.latitude, loc.longitude])\n",
    "    except:\n",
    "        return pd.Series([None, None])\n",
    "    return pd.Series([None, None])\n",
    "\n",
    "# Apply with delay\n",
    "df_exploded[['lat', 'lon']] = df_exploded['countries_clean'].apply(lambda x: geocode_place(x))"
   ]
  },
  {
   "cell_type": "code",
   "execution_count": 57,
   "id": "d1173ebe-3f2c-4883-b0f4-8a94cc888897",
   "metadata": {},
   "outputs": [
    {
     "data": {
      "application/vnd.plotly.v1+json": {
       "config": {
        "plotlyServerURL": "https://plot.ly"
       },
       "data": [
        {
         "geo": "geo",
         "hovertemplate": "countries_clean=%{text}<br>lat=%{lat}<br>lon=%{lon}<extra></extra>",
         "lat": [
          51.1638175,
          52.5310214,
          51.1638175,
          51.1638175,
          36.5748441,
          46.7985624,
          39.7837304,
          -31.8759835,
          35.6729639,
          43.6211955,
          9.6000359,
          -10.3333333,
          54.7023545,
          51.1638175,
          40.0796606,
          39.7837304,
          52.2928116,
          -25.2303005,
          51.4893335,
          54.7023545,
          54.7023545,
          -10.3333333,
          51.1638175,
          36.5748441,
          40.7127281,
          54.5859836,
          35.0000663,
          -28.8166236,
          46.7985624,
          27.7567667,
          23.9739374,
          38.7251776,
          51.1638175,
          61.1529386,
          -22.1646782,
          6.9100265,
          47.59397,
          51,
          40.7127281,
          -41.5000831,
          52.2928116,
          35.0000663,
          52.5310214,
          52.2434979,
          39.3260685,
          63.2467777,
          54.5859836,
          52.865196,
          -24.7761086,
          50.6402809,
          -31.8759835,
          -25.2303005,
          -24.7761086,
          35.6729639,
          54.7023545,
          35.0000663,
          46.7985624,
          31.2638905,
          39.5162401,
          52.2434979,
          -31.8759835,
          46.7985624,
          40.3270127,
          -31.8759835,
          39.7837304,
          -25.2303005,
          52.5310214,
          52.2928116,
          63.2467777,
          56.7861112,
          40.7127281,
          -22.1646782,
          36.5748441,
          51.1638175,
          -36.5986096,
          -36.5986096,
          51.1638175,
          40.0796606,
          -24.7761086,
          41.6500201,
          61.0666922,
          52.5310214,
          36.5748441,
          52.5310214,
          54.7023545,
          61.0666922,
          52.2928116,
          52.5310214,
          52.2928116,
          54.5859836,
          56.7861112,
          52.5310214,
          42.6384261,
          31.2638905,
          52.2928116,
          41.6500201,
          61.1529386,
          52.2928116,
          63.2467777,
          51.1638175,
          52.5310214,
          31.2638905,
          52.2928116,
          52.2928116,
          52.2928116,
          52.2928116,
          56.7861112,
          -25.2303005,
          41.6500201,
          42.3788774,
          47.1817585,
          35.6729639,
          46.603354,
          40.2253569,
          -28.8166236,
          31.2638905,
          57.0894077,
          51.1638175,
          -36.5986096,
          51.1638175,
          40.7127281,
          40.7127281,
          -36.3193573,
          30.8124247,
          -24.7761086,
          -6.5247123,
          -42.035067,
          -28.8166236,
          55.001251,
          55.001251,
          36.5748441,
          55.001251,
          55.001251,
          55.001251,
          38.7251776,
          38.7251776,
          -31.8759835,
          -30.5343665,
          -31.8759835,
          50.000678,
          -25.2303005,
          -31.8759835,
          51.1638175,
          -24.7761086,
          51.1638175,
          -31.8759835,
          -25.2303005,
          -30.5343665,
          35.6729639,
          40.2253569,
          51.1638175,
          -31.8759835,
          6.9100265,
          27.7567667,
          35.2048883,
          36.7014631,
          32.3293809,
          41.9216734,
          42.3788774,
          43.6211955,
          45.9896587,
          40.7127281,
          35.6729639,
          40.2253569,
          44.4308975,
          -13.2687204,
          56.7861112,
          -28.8166236,
          -28.8166236
         ],
         "legendgroup": "",
         "lon": [
          10.4478313,
          -1.2649062,
          10.4478313,
          10.4478313,
          139.2394179,
          8.2319736,
          -100.445882,
          147.2869493,
          -79.0392919,
          -84.6824346,
          7.9999721,
          -53.2,
          -3.2765753,
          10.4478313,
          -89.4337288,
          -100.445882,
          -3.73893,
          121.0187246,
          -0.1440551,
          -3.2765753,
          -3.2765753,
          -53.2,
          10.4478313,
          139.2394179,
          -74.0060152,
          -6.9591554,
          104.999955,
          24.991639,
          8.2319736,
          -81.4639835,
          120.9820179,
          -105.607716,
          10.4478313,
          8.7876653,
          144.5844903,
          79.8689028,
          14.12456,
          10,
          -74.0060152,
          172.8344077,
          -3.73893,
          104.999955,
          -1.2649062,
          5.6343227,
          -4.8379791,
          25.9209164,
          -6.9591554,
          -7.9794599,
          134.755,
          4.6667145,
          147.2869493,
          121.0187246,
          134.755,
          -79.0392919,
          -3.2765753,
          104.999955,
          8.2319736,
          -98.5456116,
          -76.9382069,
          5.6343227,
          147.2869493,
          8.2319736,
          -86.1746933,
          147.2869493,
          -100.445882,
          121.0187246,
          -1.2649062,
          -3.73893,
          25.9209164,
          -4.1140518,
          -74.0060152,
          144.5844903,
          139.2394179,
          10.4478313,
          144.6780052,
          144.6780052,
          10.4478313,
          -89.4337288,
          134.755,
          -72.7342163,
          -107.991707,
          -1.2649062,
          139.2394179,
          -1.2649062,
          -3.2765753,
          -107.991707,
          -3.73893,
          -1.2649062,
          -3.73893,
          -6.9591554,
          -4.1140518,
          -1.2649062,
          12.674297,
          -98.5456116,
          -3.73893,
          -72.7342163,
          8.7876653,
          -3.73893,
          25.9209164,
          10.4478313,
          -1.2649062,
          -98.5456116,
          -3.73893,
          -3.73893,
          -3.73893,
          -3.73893,
          -4.1140518,
          121.0187246,
          -72.7342163,
          -72.032366,
          19.5060937,
          -79.0392919,
          1.8883335,
          -82.6881395,
          24.991639,
          -98.5456116,
          -135.2543402,
          10.4478313,
          144.6780052,
          10.4478313,
          -74.0060152,
          -74.0060152,
          150.1254379,
          34.8594762,
          134.755,
          35.7878438,
          146.6366887,
          24.991639,
          -125.002441,
          -97.001038,
          139.2394179,
          -115.002136,
          -125.002441,
          -125.002441,
          -105.607716,
          -105.607716,
          147.2869493,
          135.6301212,
          147.2869493,
          -86.000977,
          121.0187246,
          147.2869493,
          10.4478313,
          134.755,
          10.4478313,
          147.2869493,
          121.0187246,
          135.6301212,
          -79.0392919,
          -82.6881395,
          10.4478313,
          147.2869493,
          79.8689028,
          -81.4639835,
          -92.4479108,
          -118.755997,
          -83.1137366,
          -93.3122705,
          -72.032366,
          -84.6824346,
          -94.6113288,
          -74.0060152,
          -79.0392919,
          -82.6881395,
          -89.6884637,
          33.9301963,
          -4.1140518,
          24.991639,
          24.991639
         ],
         "marker": {
          "color": "#636efa",
          "symbol": "circle"
         },
         "mode": "markers+text",
         "name": "",
         "showlegend": false,
         "text": [
          "Germany",
          "England",
          "Germany",
          "Germany",
          "Japan",
          "Switzerland",
          "USA",
          "New South Wales",
          "North Carolina",
          "Michigan",
          "Nigeria",
          "Brazil",
          "United Kingdom",
          "Germany",
          "Illinois",
          "USA",
          "Wales",
          "Western Australia",
          "London",
          "United Kingdom",
          "United Kingdom",
          "Brazil",
          "Germany",
          "Japan",
          "New York",
          "Northern Ireland",
          "China",
          "South Africa",
          "Switzerland",
          "Florida",
          "Taiwan",
          "Colorado",
          "Germany",
          "Norway",
          "Queensland",
          "Western Australian",
          "Austria",
          "Europe",
          "New York",
          "New Zealand",
          "Wales",
          "China",
          "England",
          "Netherlands",
          "Spain",
          "Finland",
          "Northern Ireland",
          "Ireland",
          "Australia",
          "Belgium",
          "New South Wales",
          "Western Australia",
          "Commonwealth of Australia",
          "North Carolina",
          "United Kingdom",
          "China",
          "Switzerland",
          "Texas",
          "Maryland",
          "Netherlands",
          "New South Wales",
          "Switzerland",
          "Indiana",
          "New South Wales",
          "United States",
          "Western Australia",
          "England",
          "Wales",
          "Finland",
          "Scotland",
          "New York",
          "Queensland",
          "Japan",
          "Germany",
          "Victoria",
          "Victoria",
          "Germany",
          "Illinois",
          "Australia",
          "Connecticut",
          "Canada",
          "England",
          "Japan",
          "England",
          "United Kingdom",
          "Canada",
          "Wales",
          "England",
          "Wales",
          "Northern Ireland",
          "Scotland",
          "England",
          "Italy",
          "Texas",
          "Wales",
          "Connecticut",
          "Norway",
          "Wales",
          "Finland",
          "Germany",
          "England",
          "Texas",
          "Wales",
          "Wales",
          "Wales",
          "Wales",
          "Scotland",
          "Western Australia",
          "Connecticut",
          "Massachusetts",
          "Hungary",
          "North Carolina",
          "France",
          "Ohio",
          "South Africa",
          "Texas",
          "South USA",
          "Germany",
          "Victoria",
          "Germany",
          "New York",
          "New York",
          "West Australia",
          "Israel",
          "Australia",
          "Tanzania",
          "Tasmania",
          "South Africa",
          "British Columbia",
          "Manitoba",
          "Japan",
          "Alberta",
          "British Columbia",
          "British Columbia",
          "Colorado",
          "Colorado",
          "New South Wales",
          "South Australia",
          "New South Wales",
          "Ontario",
          "Western Australia",
          "New South Wales",
          "Germany",
          "Australia",
          "Germany",
          "New South Wales",
          "Western Australia",
          "South Australia",
          "North Carolina",
          "Ohio",
          "Germany",
          "New South Wales",
          "Western Australian",
          "Florida",
          "Arkansas",
          "California",
          "Georgia",
          "Iowa",
          "Massachusetts",
          "Michigan",
          "Minnesota",
          "New York",
          "North Carolina",
          "Ohio",
          "Wisconsin",
          "Malawi",
          "Scotland",
          "South Africa",
          "South Africa"
         ],
         "type": "scattergeo"
        }
       ],
       "layout": {
        "geo": {
         "center": {},
         "domain": {
          "x": [
           0,
           1
          ],
          "y": [
           0,
           1
          ]
         },
         "projection": {
          "type": "natural earth"
         }
        },
        "legend": {
         "tracegroupgap": 0
        },
        "template": {
         "data": {
          "bar": [
           {
            "error_x": {
             "color": "#2a3f5f"
            },
            "error_y": {
             "color": "#2a3f5f"
            },
            "marker": {
             "line": {
              "color": "#E5ECF6",
              "width": 0.5
             },
             "pattern": {
              "fillmode": "overlay",
              "size": 10,
              "solidity": 0.2
             }
            },
            "type": "bar"
           }
          ],
          "barpolar": [
           {
            "marker": {
             "line": {
              "color": "#E5ECF6",
              "width": 0.5
             },
             "pattern": {
              "fillmode": "overlay",
              "size": 10,
              "solidity": 0.2
             }
            },
            "type": "barpolar"
           }
          ],
          "carpet": [
           {
            "aaxis": {
             "endlinecolor": "#2a3f5f",
             "gridcolor": "white",
             "linecolor": "white",
             "minorgridcolor": "white",
             "startlinecolor": "#2a3f5f"
            },
            "baxis": {
             "endlinecolor": "#2a3f5f",
             "gridcolor": "white",
             "linecolor": "white",
             "minorgridcolor": "white",
             "startlinecolor": "#2a3f5f"
            },
            "type": "carpet"
           }
          ],
          "choropleth": [
           {
            "colorbar": {
             "outlinewidth": 0,
             "ticks": ""
            },
            "type": "choropleth"
           }
          ],
          "contour": [
           {
            "colorbar": {
             "outlinewidth": 0,
             "ticks": ""
            },
            "colorscale": [
             [
              0,
              "#0d0887"
             ],
             [
              0.1111111111111111,
              "#46039f"
             ],
             [
              0.2222222222222222,
              "#7201a8"
             ],
             [
              0.3333333333333333,
              "#9c179e"
             ],
             [
              0.4444444444444444,
              "#bd3786"
             ],
             [
              0.5555555555555556,
              "#d8576b"
             ],
             [
              0.6666666666666666,
              "#ed7953"
             ],
             [
              0.7777777777777778,
              "#fb9f3a"
             ],
             [
              0.8888888888888888,
              "#fdca26"
             ],
             [
              1,
              "#f0f921"
             ]
            ],
            "type": "contour"
           }
          ],
          "contourcarpet": [
           {
            "colorbar": {
             "outlinewidth": 0,
             "ticks": ""
            },
            "type": "contourcarpet"
           }
          ],
          "heatmap": [
           {
            "colorbar": {
             "outlinewidth": 0,
             "ticks": ""
            },
            "colorscale": [
             [
              0,
              "#0d0887"
             ],
             [
              0.1111111111111111,
              "#46039f"
             ],
             [
              0.2222222222222222,
              "#7201a8"
             ],
             [
              0.3333333333333333,
              "#9c179e"
             ],
             [
              0.4444444444444444,
              "#bd3786"
             ],
             [
              0.5555555555555556,
              "#d8576b"
             ],
             [
              0.6666666666666666,
              "#ed7953"
             ],
             [
              0.7777777777777778,
              "#fb9f3a"
             ],
             [
              0.8888888888888888,
              "#fdca26"
             ],
             [
              1,
              "#f0f921"
             ]
            ],
            "type": "heatmap"
           }
          ],
          "heatmapgl": [
           {
            "colorbar": {
             "outlinewidth": 0,
             "ticks": ""
            },
            "colorscale": [
             [
              0,
              "#0d0887"
             ],
             [
              0.1111111111111111,
              "#46039f"
             ],
             [
              0.2222222222222222,
              "#7201a8"
             ],
             [
              0.3333333333333333,
              "#9c179e"
             ],
             [
              0.4444444444444444,
              "#bd3786"
             ],
             [
              0.5555555555555556,
              "#d8576b"
             ],
             [
              0.6666666666666666,
              "#ed7953"
             ],
             [
              0.7777777777777778,
              "#fb9f3a"
             ],
             [
              0.8888888888888888,
              "#fdca26"
             ],
             [
              1,
              "#f0f921"
             ]
            ],
            "type": "heatmapgl"
           }
          ],
          "histogram": [
           {
            "marker": {
             "pattern": {
              "fillmode": "overlay",
              "size": 10,
              "solidity": 0.2
             }
            },
            "type": "histogram"
           }
          ],
          "histogram2d": [
           {
            "colorbar": {
             "outlinewidth": 0,
             "ticks": ""
            },
            "colorscale": [
             [
              0,
              "#0d0887"
             ],
             [
              0.1111111111111111,
              "#46039f"
             ],
             [
              0.2222222222222222,
              "#7201a8"
             ],
             [
              0.3333333333333333,
              "#9c179e"
             ],
             [
              0.4444444444444444,
              "#bd3786"
             ],
             [
              0.5555555555555556,
              "#d8576b"
             ],
             [
              0.6666666666666666,
              "#ed7953"
             ],
             [
              0.7777777777777778,
              "#fb9f3a"
             ],
             [
              0.8888888888888888,
              "#fdca26"
             ],
             [
              1,
              "#f0f921"
             ]
            ],
            "type": "histogram2d"
           }
          ],
          "histogram2dcontour": [
           {
            "colorbar": {
             "outlinewidth": 0,
             "ticks": ""
            },
            "colorscale": [
             [
              0,
              "#0d0887"
             ],
             [
              0.1111111111111111,
              "#46039f"
             ],
             [
              0.2222222222222222,
              "#7201a8"
             ],
             [
              0.3333333333333333,
              "#9c179e"
             ],
             [
              0.4444444444444444,
              "#bd3786"
             ],
             [
              0.5555555555555556,
              "#d8576b"
             ],
             [
              0.6666666666666666,
              "#ed7953"
             ],
             [
              0.7777777777777778,
              "#fb9f3a"
             ],
             [
              0.8888888888888888,
              "#fdca26"
             ],
             [
              1,
              "#f0f921"
             ]
            ],
            "type": "histogram2dcontour"
           }
          ],
          "mesh3d": [
           {
            "colorbar": {
             "outlinewidth": 0,
             "ticks": ""
            },
            "type": "mesh3d"
           }
          ],
          "parcoords": [
           {
            "line": {
             "colorbar": {
              "outlinewidth": 0,
              "ticks": ""
             }
            },
            "type": "parcoords"
           }
          ],
          "pie": [
           {
            "automargin": true,
            "type": "pie"
           }
          ],
          "scatter": [
           {
            "fillpattern": {
             "fillmode": "overlay",
             "size": 10,
             "solidity": 0.2
            },
            "type": "scatter"
           }
          ],
          "scatter3d": [
           {
            "line": {
             "colorbar": {
              "outlinewidth": 0,
              "ticks": ""
             }
            },
            "marker": {
             "colorbar": {
              "outlinewidth": 0,
              "ticks": ""
             }
            },
            "type": "scatter3d"
           }
          ],
          "scattercarpet": [
           {
            "marker": {
             "colorbar": {
              "outlinewidth": 0,
              "ticks": ""
             }
            },
            "type": "scattercarpet"
           }
          ],
          "scattergeo": [
           {
            "marker": {
             "colorbar": {
              "outlinewidth": 0,
              "ticks": ""
             }
            },
            "type": "scattergeo"
           }
          ],
          "scattergl": [
           {
            "marker": {
             "colorbar": {
              "outlinewidth": 0,
              "ticks": ""
             }
            },
            "type": "scattergl"
           }
          ],
          "scattermapbox": [
           {
            "marker": {
             "colorbar": {
              "outlinewidth": 0,
              "ticks": ""
             }
            },
            "type": "scattermapbox"
           }
          ],
          "scatterpolar": [
           {
            "marker": {
             "colorbar": {
              "outlinewidth": 0,
              "ticks": ""
             }
            },
            "type": "scatterpolar"
           }
          ],
          "scatterpolargl": [
           {
            "marker": {
             "colorbar": {
              "outlinewidth": 0,
              "ticks": ""
             }
            },
            "type": "scatterpolargl"
           }
          ],
          "scatterternary": [
           {
            "marker": {
             "colorbar": {
              "outlinewidth": 0,
              "ticks": ""
             }
            },
            "type": "scatterternary"
           }
          ],
          "surface": [
           {
            "colorbar": {
             "outlinewidth": 0,
             "ticks": ""
            },
            "colorscale": [
             [
              0,
              "#0d0887"
             ],
             [
              0.1111111111111111,
              "#46039f"
             ],
             [
              0.2222222222222222,
              "#7201a8"
             ],
             [
              0.3333333333333333,
              "#9c179e"
             ],
             [
              0.4444444444444444,
              "#bd3786"
             ],
             [
              0.5555555555555556,
              "#d8576b"
             ],
             [
              0.6666666666666666,
              "#ed7953"
             ],
             [
              0.7777777777777778,
              "#fb9f3a"
             ],
             [
              0.8888888888888888,
              "#fdca26"
             ],
             [
              1,
              "#f0f921"
             ]
            ],
            "type": "surface"
           }
          ],
          "table": [
           {
            "cells": {
             "fill": {
              "color": "#EBF0F8"
             },
             "line": {
              "color": "white"
             }
            },
            "header": {
             "fill": {
              "color": "#C8D4E3"
             },
             "line": {
              "color": "white"
             }
            },
            "type": "table"
           }
          ]
         },
         "layout": {
          "annotationdefaults": {
           "arrowcolor": "#2a3f5f",
           "arrowhead": 0,
           "arrowwidth": 1
          },
          "autotypenumbers": "strict",
          "coloraxis": {
           "colorbar": {
            "outlinewidth": 0,
            "ticks": ""
           }
          },
          "colorscale": {
           "diverging": [
            [
             0,
             "#8e0152"
            ],
            [
             0.1,
             "#c51b7d"
            ],
            [
             0.2,
             "#de77ae"
            ],
            [
             0.3,
             "#f1b6da"
            ],
            [
             0.4,
             "#fde0ef"
            ],
            [
             0.5,
             "#f7f7f7"
            ],
            [
             0.6,
             "#e6f5d0"
            ],
            [
             0.7,
             "#b8e186"
            ],
            [
             0.8,
             "#7fbc41"
            ],
            [
             0.9,
             "#4d9221"
            ],
            [
             1,
             "#276419"
            ]
           ],
           "sequential": [
            [
             0,
             "#0d0887"
            ],
            [
             0.1111111111111111,
             "#46039f"
            ],
            [
             0.2222222222222222,
             "#7201a8"
            ],
            [
             0.3333333333333333,
             "#9c179e"
            ],
            [
             0.4444444444444444,
             "#bd3786"
            ],
            [
             0.5555555555555556,
             "#d8576b"
            ],
            [
             0.6666666666666666,
             "#ed7953"
            ],
            [
             0.7777777777777778,
             "#fb9f3a"
            ],
            [
             0.8888888888888888,
             "#fdca26"
            ],
            [
             1,
             "#f0f921"
            ]
           ],
           "sequentialminus": [
            [
             0,
             "#0d0887"
            ],
            [
             0.1111111111111111,
             "#46039f"
            ],
            [
             0.2222222222222222,
             "#7201a8"
            ],
            [
             0.3333333333333333,
             "#9c179e"
            ],
            [
             0.4444444444444444,
             "#bd3786"
            ],
            [
             0.5555555555555556,
             "#d8576b"
            ],
            [
             0.6666666666666666,
             "#ed7953"
            ],
            [
             0.7777777777777778,
             "#fb9f3a"
            ],
            [
             0.8888888888888888,
             "#fdca26"
            ],
            [
             1,
             "#f0f921"
            ]
           ]
          },
          "colorway": [
           "#636efa",
           "#EF553B",
           "#00cc96",
           "#ab63fa",
           "#FFA15A",
           "#19d3f3",
           "#FF6692",
           "#B6E880",
           "#FF97FF",
           "#FECB52"
          ],
          "font": {
           "color": "#2a3f5f"
          },
          "geo": {
           "bgcolor": "white",
           "lakecolor": "white",
           "landcolor": "#E5ECF6",
           "showlakes": true,
           "showland": true,
           "subunitcolor": "white"
          },
          "hoverlabel": {
           "align": "left"
          },
          "hovermode": "closest",
          "mapbox": {
           "style": "light"
          },
          "paper_bgcolor": "white",
          "plot_bgcolor": "#E5ECF6",
          "polar": {
           "angularaxis": {
            "gridcolor": "white",
            "linecolor": "white",
            "ticks": ""
           },
           "bgcolor": "#E5ECF6",
           "radialaxis": {
            "gridcolor": "white",
            "linecolor": "white",
            "ticks": ""
           }
          },
          "scene": {
           "xaxis": {
            "backgroundcolor": "#E5ECF6",
            "gridcolor": "white",
            "gridwidth": 2,
            "linecolor": "white",
            "showbackground": true,
            "ticks": "",
            "zerolinecolor": "white"
           },
           "yaxis": {
            "backgroundcolor": "#E5ECF6",
            "gridcolor": "white",
            "gridwidth": 2,
            "linecolor": "white",
            "showbackground": true,
            "ticks": "",
            "zerolinecolor": "white"
           },
           "zaxis": {
            "backgroundcolor": "#E5ECF6",
            "gridcolor": "white",
            "gridwidth": 2,
            "linecolor": "white",
            "showbackground": true,
            "ticks": "",
            "zerolinecolor": "white"
           }
          },
          "shapedefaults": {
           "line": {
            "color": "#2a3f5f"
           }
          },
          "ternary": {
           "aaxis": {
            "gridcolor": "white",
            "linecolor": "white",
            "ticks": ""
           },
           "baxis": {
            "gridcolor": "white",
            "linecolor": "white",
            "ticks": ""
           },
           "bgcolor": "#E5ECF6",
           "caxis": {
            "gridcolor": "white",
            "linecolor": "white",
            "ticks": ""
           }
          },
          "title": {
           "x": 0.05
          },
          "xaxis": {
           "automargin": true,
           "gridcolor": "white",
           "linecolor": "white",
           "ticks": "",
           "title": {
            "standoff": 15
           },
           "zerolinecolor": "white",
           "zerolinewidth": 2
          },
          "yaxis": {
           "automargin": true,
           "gridcolor": "white",
           "linecolor": "white",
           "ticks": "",
           "title": {
            "standoff": 15
           },
           "zerolinecolor": "white",
           "zerolinewidth": 2
          }
         }
        },
        "title": {
         "text": "World Map with Mixed and Multiple Locations"
        }
       }
      },
      "image/png": "[encoded data removed]",
      "text/html": [
       "<div>                            <div id=\"8a238901-fc88-43da-ae1c-cbd5ea711159\" class=\"plotly-graph-div\" style=\"height:525px; width:100%;\"></div>            <script type=\"text/javascript\">                require([\"plotly\"], function(Plotly) {                    window.PLOTLYENV=window.PLOTLYENV || {};                                    if (document.getElementById(\"8a238901-fc88-43da-ae1c-cbd5ea711159\")) {                    Plotly.newPlot(                        \"8a238901-fc88-43da-ae1c-cbd5ea711159\",                        [{\"geo\":\"geo\",\"hovertemplate\":\"countries_clean=%{text}\\u003cbr\\u003elat=%{lat}\\u003cbr\\u003elon=%{lon}\\u003cextra\\u003e\\u003c\\u002fextra\\u003e\",\"lat\":[51.1638175,52.5310214,51.1638175,51.1638175,36.5748441,46.7985624,39.7837304,-31.8759835,35.6729639,43.6211955,9.6000359,-10.3333333,54.7023545,51.1638175,40.0796606,39.7837304,52.2928116,-25.2303005,51.4893335,54.7023545,54.7023545,-10.3333333,51.1638175,36.5748441,40.7127281,54.5859836,35.0000663,-28.8166236,46.7985624,27.7567667,23.9739374,38.7251776,51.1638175,61.1529386,-22.1646782,6.9100265,47.59397,51.0,40.7127281,-41.5000831,52.2928116,35.0000663,52.5310214,52.2434979,39.3260685,63.2467777,54.5859836,52.865196,-24.7761086,50.6402809,-31.8759835,-25.2303005,-24.7761086,35.6729639,54.7023545,35.0000663,46.7985624,31.2638905,39.5162401,52.2434979,-31.8759835,46.7985624,40.3270127,-31.8759835,39.7837304,-25.2303005,52.5310214,52.2928116,63.2467777,56.7861112,40.7127281,-22.1646782,36.5748441,51.1638175,-36.5986096,-36.5986096,51.1638175,40.0796606,-24.7761086,41.6500201,61.0666922,52.5310214,36.5748441,52.5310214,54.7023545,61.0666922,52.2928116,52.5310214,52.2928116,54.5859836,56.7861112,52.5310214,42.6384261,31.2638905,52.2928116,41.6500201,61.1529386,52.2928116,63.2467777,51.1638175,52.5310214,31.2638905,52.2928116,52.2928116,52.2928116,52.2928116,56.7861112,-25.2303005,41.6500201,42.3788774,47.1817585,35.6729639,46.603354,40.2253569,-28.8166236,31.2638905,57.0894077,51.1638175,-36.5986096,51.1638175,40.7127281,40.7127281,-36.3193573,30.8124247,-24.7761086,-6.5247123,-42.035067,-28.8166236,55.001251,55.001251,36.5748441,55.001251,55.001251,55.001251,38.7251776,38.7251776,-31.8759835,-30.5343665,-31.8759835,50.000678,-25.2303005,-31.8759835,51.1638175,-24.7761086,51.1638175,-31.8759835,-25.2303005,-30.5343665,35.6729639,40.2253569,51.1638175,-31.8759835,6.9100265,27.7567667,35.2048883,36.7014631,32.3293809,41.9216734,42.3788774,43.6211955,45.9896587,40.7127281,35.6729639,40.2253569,44.4308975,-13.2687204,56.7861112,-28.8166236,-28.8166236],\"legendgroup\":\"\",\"lon\":[10.4478313,-1.2649062,10.4478313,10.4478313,139.2394179,8.2319736,-100.445882,147.2869493,-79.0392919,-84.6824346,7.9999721,-53.2,-3.2765753,10.4478313,-89.4337288,-100.445882,-3.73893,121.0187246,-0.1440551,-3.2765753,-3.2765753,-53.2,10.4478313,139.2394179,-74.0060152,-6.9591554,104.999955,24.991639,8.2319736,-81.4639835,120.9820179,-105.607716,10.4478313,8.7876653,144.5844903,79.8689028,14.12456,10.0,-74.0060152,172.8344077,-3.73893,104.999955,-1.2649062,5.6343227,-4.8379791,25.9209164,-6.9591554,-7.9794599,134.755,4.6667145,147.2869493,121.0187246,134.755,-79.0392919,-3.2765753,104.999955,8.2319736,-98.5456116,-76.9382069,5.6343227,147.2869493,8.2319736,-86.1746933,147.2869493,-100.445882,121.0187246,-1.2649062,-3.73893,25.9209164,-4.1140518,-74.0060152,144.5844903,139.2394179,10.4478313,144.6780052,144.6780052,10.4478313,-89.4337288,134.755,-72.7342163,-107.991707,-1.2649062,139.2394179,-1.2649062,-3.2765753,-107.991707,-3.73893,-1.2649062,-3.73893,-6.9591554,-4.1140518,-1.2649062,12.674297,-98.5456116,-3.73893,-72.7342163,8.7876653,-3.73893,25.9209164,10.4478313,-1.2649062,-98.5456116,-3.73893,-3.73893,-3.73893,-3.73893,-4.1140518,121.0187246,-72.7342163,-72.032366,19.5060937,-79.0392919,1.8883335,-82.6881395,24.991639,-98.5456116,-135.2543402,10.4478313,144.6780052,10.4478313,-74.0060152,-74.0060152,150.1254379,34.8594762,134.755,35.7878438,146.6366887,24.991639,-125.002441,-97.001038,139.2394179,-115.002136,-125.002441,-125.002441,-105.607716,-105.607716,147.2869493,135.6301212,147.2869493,-86.000977,121.0187246,147.2869493,10.4478313,134.755,10.4478313,147.2869493,121.0187246,135.6301212,-79.0392919,-82.6881395,10.4478313,147.2869493,79.8689028,-81.4639835,-92.4479108,-118.755997,-83.1137366,-93.3122705,-72.032366,-84.6824346,-94.6113288,-74.0060152,-79.0392919,-82.6881395,-89.6884637,33.9301963,-4.1140518,24.991639,24.991639],\"marker\":{\"color\":\"#636efa\",\"symbol\":\"circle\"},\"mode\":\"markers+text\",\"name\":\"\",\"showlegend\":false,\"text\":[\"Germany\",\"England\",\"Germany\",\"Germany\",\"Japan\",\"Switzerland\",\"USA\",\"New South Wales\",\"North Carolina\",\"Michigan\",\"Nigeria\",\"Brazil\",\"United Kingdom\",\"Germany\",\"Illinois\",\"USA\",\"Wales\",\"Western Australia\",\"London\",\"United Kingdom\",\"United Kingdom\",\"Brazil\",\"Germany\",\"Japan\",\"New York\",\"Northern Ireland\",\"China\",\"South Africa\",\"Switzerland\",\"Florida\",\"Taiwan\",\"Colorado\",\"Germany\",\"Norway\",\"Queensland\",\"Western Australian\",\"Austria\",\"Europe\",\"New York\",\"New Zealand\",\"Wales\",\"China\",\"England\",\"Netherlands\",\"Spain\",\"Finland\",\"Northern Ireland\",\"Ireland\",\"Australia\",\"Belgium\",\"New South Wales\",\"Western Australia\",\"Commonwealth of Australia\",\"North Carolina\",\"United Kingdom\",\"China\",\"Switzerland\",\"Texas\",\"Maryland\",\"Netherlands\",\"New South Wales\",\"Switzerland\",\"Indiana\",\"New South Wales\",\"United States\",\"Western Australia\",\"England\",\"Wales\",\"Finland\",\"Scotland\",\"New York\",\"Queensland\",\"Japan\",\"Germany\",\"Victoria\",\"Victoria\",\"Germany\",\"Illinois\",\"Australia\",\"Connecticut\",\"Canada\",\"England\",\"Japan\",\"England\",\"United Kingdom\",\"Canada\",\"Wales\",\"England\",\"Wales\",\"Northern Ireland\",\"Scotland\",\"England\",\"Italy\",\"Texas\",\"Wales\",\"Connecticut\",\"Norway\",\"Wales\",\"Finland\",\"Germany\",\"England\",\"Texas\",\"Wales\",\"Wales\",\"Wales\",\"Wales\",\"Scotland\",\"Western Australia\",\"Connecticut\",\"Massachusetts\",\"Hungary\",\"North Carolina\",\"France\",\"Ohio\",\"South Africa\",\"Texas\",\"South USA\",\"Germany\",\"Victoria\",\"Germany\",\"New York\",\"New York\",\"West Australia\",\"Israel\",\"Australia\",\"Tanzania\",\"Tasmania\",\"South Africa\",\"British Columbia\",\"Manitoba\",\"Japan\",\"Alberta\",\"British Columbia\",\"British Columbia\",\"Colorado\",\"Colorado\",\"New South Wales\",\"South Australia\",\"New South Wales\",\"Ontario\",\"Western Australia\",\"New South Wales\",\"Germany\",\"Australia\",\"Germany\",\"New South Wales\",\"Western Australia\",\"South Australia\",\"North Carolina\",\"Ohio\",\"Germany\",\"New South Wales\",\"Western Australian\",\"Florida\",\"Arkansas\",\"California\",\"Georgia\",\"Iowa\",\"Massachusetts\",\"Michigan\",\"Minnesota\",\"New York\",\"North Carolina\",\"Ohio\",\"Wisconsin\",\"Malawi\",\"Scotland\",\"South Africa\",\"South Africa\"],\"type\":\"scattergeo\"}],                        {\"template\":{\"data\":{\"histogram2dcontour\":[{\"type\":\"histogram2dcontour\",\"colorbar\":{\"outlinewidth\":0,\"ticks\":\"\"},\"colorscale\":[[0.0,\"#0d0887\"],[0.1111111111111111,\"#46039f\"],[0.2222222222222222,\"#7201a8\"],[0.3333333333333333,\"#9c179e\"],[0.4444444444444444,\"#bd3786\"],[0.5555555555555556,\"#d8576b\"],[0.6666666666666666,\"#ed7953\"],[0.7777777777777778,\"#fb9f3a\"],[0.8888888888888888,\"#fdca26\"],[1.0,\"#f0f921\"]]}],\"choropleth\":[{\"type\":\"choropleth\",\"colorbar\":{\"outlinewidth\":0,\"ticks\":\"\"}}],\"histogram2d\":[{\"type\":\"histogram2d\",\"colorbar\":{\"outlinewidth\":0,\"ticks\":\"\"},\"colorscale\":[[0.0,\"#0d0887\"],[0.1111111111111111,\"#46039f\"],[0.2222222222222222,\"#7201a8\"],[0.3333333333333333,\"#9c179e\"],[0.4444444444444444,\"#bd3786\"],[0.5555555555555556,\"#d8576b\"],[0.6666666666666666,\"#ed7953\"],[0.7777777777777778,\"#fb9f3a\"],[0.8888888888888888,\"#fdca26\"],[1.0,\"#f0f921\"]]}],\"heatmap\":[{\"type\":\"heatmap\",\"colorbar\":{\"outlinewidth\":0,\"ticks\":\"\"},\"colorscale\":[[0.0,\"#0d0887\"],[0.1111111111111111,\"#46039f\"],[0.2222222222222222,\"#7201a8\"],[0.3333333333333333,\"#9c179e\"],[0.4444444444444444,\"#bd3786\"],[0.5555555555555556,\"#d8576b\"],[0.6666666666666666,\"#ed7953\"],[0.7777777777777778,\"#fb9f3a\"],[0.8888888888888888,\"#fdca26\"],[1.0,\"#f0f921\"]]}],\"heatmapgl\":[{\"type\":\"heatmapgl\",\"colorbar\":{\"outlinewidth\":0,\"ticks\":\"\"},\"colorscale\":[[0.0,\"#0d0887\"],[0.1111111111111111,\"#46039f\"],[0.2222222222222222,\"#7201a8\"],[0.3333333333333333,\"#9c179e\"],[0.4444444444444444,\"#bd3786\"],[0.5555555555555556,\"#d8576b\"],[0.6666666666666666,\"#ed7953\"],[0.7777777777777778,\"#fb9f3a\"],[0.8888888888888888,\"#fdca26\"],[1.0,\"#f0f921\"]]}],\"contourcarpet\":[{\"type\":\"contourcarpet\",\"colorbar\":{\"outlinewidth\":0,\"ticks\":\"\"}}],\"contour\":[{\"type\":\"contour\",\"colorbar\":{\"outlinewidth\":0,\"ticks\":\"\"},\"colorscale\":[[0.0,\"#0d0887\"],[0.1111111111111111,\"#46039f\"],[0.2222222222222222,\"#7201a8\"],[0.3333333333333333,\"#9c179e\"],[0.4444444444444444,\"#bd3786\"],[0.5555555555555556,\"#d8576b\"],[0.6666666666666666,\"#ed7953\"],[0.7777777777777778,\"#fb9f3a\"],[0.8888888888888888,\"#fdca26\"],[1.0,\"#f0f921\"]]}],\"surface\":[{\"type\":\"surface\",\"colorbar\":{\"outlinewidth\":0,\"ticks\":\"\"},\"colorscale\":[[0.0,\"#0d0887\"],[0.1111111111111111,\"#46039f\"],[0.2222222222222222,\"#7201a8\"],[0.3333333333333333,\"#9c179e\"],[0.4444444444444444,\"#bd3786\"],[0.5555555555555556,\"#d8576b\"],[0.6666666666666666,\"#ed7953\"],[0.7777777777777778,\"#fb9f3a\"],[0.8888888888888888,\"#fdca26\"],[1.0,\"#f0f921\"]]}],\"mesh3d\":[{\"type\":\"mesh3d\",\"colorbar\":{\"outlinewidth\":0,\"ticks\":\"\"}}],\"scatter\":[{\"fillpattern\":{\"fillmode\":\"overlay\",\"size\":10,\"solidity\":0.2},\"type\":\"scatter\"}],\"parcoords\":[{\"type\":\"parcoords\",\"line\":{\"colorbar\":{\"outlinewidth\":0,\"ticks\":\"\"}}}],\"scatterpolargl\":[{\"type\":\"scatterpolargl\",\"marker\":{\"colorbar\":{\"outlinewidth\":0,\"ticks\":\"\"}}}],\"bar\":[{\"error_x\":{\"color\":\"#2a3f5f\"},\"error_y\":{\"color\":\"#2a3f5f\"},\"marker\":{\"line\":{\"color\":\"#E5ECF6\",\"width\":0.5},\"pattern\":{\"fillmode\":\"overlay\",\"size\":10,\"solidity\":0.2}},\"type\":\"bar\"}],\"scattergeo\":[{\"type\":\"scattergeo\",\"marker\":{\"colorbar\":{\"outlinewidth\":0,\"ticks\":\"\"}}}],\"scatterpolar\":[{\"type\":\"scatterpolar\",\"marker\":{\"colorbar\":{\"outlinewidth\":0,\"ticks\":\"\"}}}],\"histogram\":[{\"marker\":{\"pattern\":{\"fillmode\":\"overlay\",\"size\":10,\"solidity\":0.2}},\"type\":\"histogram\"}],\"scattergl\":[{\"type\":\"scattergl\",\"marker\":{\"colorbar\":{\"outlinewidth\":0,\"ticks\":\"\"}}}],\"scatter3d\":[{\"type\":\"scatter3d\",\"line\":{\"colorbar\":{\"outlinewidth\":0,\"ticks\":\"\"}},\"marker\":{\"colorbar\":{\"outlinewidth\":0,\"ticks\":\"\"}}}],\"scattermapbox\":[{\"type\":\"scattermapbox\",\"marker\":{\"colorbar\":{\"outlinewidth\":0,\"ticks\":\"\"}}}],\"scatterternary\":[{\"type\":\"scatterternary\",\"marker\":{\"colorbar\":{\"outlinewidth\":0,\"ticks\":\"\"}}}],\"scattercarpet\":[{\"type\":\"scattercarpet\",\"marker\":{\"colorbar\":{\"outlinewidth\":0,\"ticks\":\"\"}}}],\"carpet\":[{\"aaxis\":{\"endlinecolor\":\"#2a3f5f\",\"gridcolor\":\"white\",\"linecolor\":\"white\",\"minorgridcolor\":\"white\",\"startlinecolor\":\"#2a3f5f\"},\"baxis\":{\"endlinecolor\":\"#2a3f5f\",\"gridcolor\":\"white\",\"linecolor\":\"white\",\"minorgridcolor\":\"white\",\"startlinecolor\":\"#2a3f5f\"},\"type\":\"carpet\"}],\"table\":[{\"cells\":{\"fill\":{\"color\":\"#EBF0F8\"},\"line\":{\"color\":\"white\"}},\"header\":{\"fill\":{\"color\":\"#C8D4E3\"},\"line\":{\"color\":\"white\"}},\"type\":\"table\"}],\"barpolar\":[{\"marker\":{\"line\":{\"color\":\"#E5ECF6\",\"width\":0.5},\"pattern\":{\"fillmode\":\"overlay\",\"size\":10,\"solidity\":0.2}},\"type\":\"barpolar\"}],\"pie\":[{\"automargin\":true,\"type\":\"pie\"}]},\"layout\":{\"autotypenumbers\":\"strict\",\"colorway\":[\"#636efa\",\"#EF553B\",\"#00cc96\",\"#ab63fa\",\"#FFA15A\",\"#19d3f3\",\"#FF6692\",\"#B6E880\",\"#FF97FF\",\"#FECB52\"],\"font\":{\"color\":\"#2a3f5f\"},\"hovermode\":\"closest\",\"hoverlabel\":{\"align\":\"left\"},\"paper_bgcolor\":\"white\",\"plot_bgcolor\":\"#E5ECF6\",\"polar\":{\"bgcolor\":\"#E5ECF6\",\"angularaxis\":{\"gridcolor\":\"white\",\"linecolor\":\"white\",\"ticks\":\"\"},\"radialaxis\":{\"gridcolor\":\"white\",\"linecolor\":\"white\",\"ticks\":\"\"}},\"ternary\":{\"bgcolor\":\"#E5ECF6\",\"aaxis\":{\"gridcolor\":\"white\",\"linecolor\":\"white\",\"ticks\":\"\"},\"baxis\":{\"gridcolor\":\"white\",\"linecolor\":\"white\",\"ticks\":\"\"},\"caxis\":{\"gridcolor\":\"white\",\"linecolor\":\"white\",\"ticks\":\"\"}},\"coloraxis\":{\"colorbar\":{\"outlinewidth\":0,\"ticks\":\"\"}},\"colorscale\":{\"sequential\":[[0.0,\"#0d0887\"],[0.1111111111111111,\"#46039f\"],[0.2222222222222222,\"#7201a8\"],[0.3333333333333333,\"#9c179e\"],[0.4444444444444444,\"#bd3786\"],[0.5555555555555556,\"#d8576b\"],[0.6666666666666666,\"#ed7953\"],[0.7777777777777778,\"#fb9f3a\"],[0.8888888888888888,\"#fdca26\"],[1.0,\"#f0f921\"]],\"sequentialminus\":[[0.0,\"#0d0887\"],[0.1111111111111111,\"#46039f\"],[0.2222222222222222,\"#7201a8\"],[0.3333333333333333,\"#9c179e\"],[0.4444444444444444,\"#bd3786\"],[0.5555555555555556,\"#d8576b\"],[0.6666666666666666,\"#ed7953\"],[0.7777777777777778,\"#fb9f3a\"],[0.8888888888888888,\"#fdca26\"],[1.0,\"#f0f921\"]],\"diverging\":[[0,\"#8e0152\"],[0.1,\"#c51b7d\"],[0.2,\"#de77ae\"],[0.3,\"#f1b6da\"],[0.4,\"#fde0ef\"],[0.5,\"#f7f7f7\"],[0.6,\"#e6f5d0\"],[0.7,\"#b8e186\"],[0.8,\"#7fbc41\"],[0.9,\"#4d9221\"],[1,\"#276419\"]]},\"xaxis\":{\"gridcolor\":\"white\",\"linecolor\":\"white\",\"ticks\":\"\",\"title\":{\"standoff\":15},\"zerolinecolor\":\"white\",\"automargin\":true,\"zerolinewidth\":2},\"yaxis\":{\"gridcolor\":\"white\",\"linecolor\":\"white\",\"ticks\":\"\",\"title\":{\"standoff\":15},\"zerolinecolor\":\"white\",\"automargin\":true,\"zerolinewidth\":2},\"scene\":{\"xaxis\":{\"backgroundcolor\":\"#E5ECF6\",\"gridcolor\":\"white\",\"linecolor\":\"white\",\"showbackground\":true,\"ticks\":\"\",\"zerolinecolor\":\"white\",\"gridwidth\":2},\"yaxis\":{\"backgroundcolor\":\"#E5ECF6\",\"gridcolor\":\"white\",\"linecolor\":\"white\",\"showbackground\":true,\"ticks\":\"\",\"zerolinecolor\":\"white\",\"gridwidth\":2},\"zaxis\":{\"backgroundcolor\":\"#E5ECF6\",\"gridcolor\":\"white\",\"linecolor\":\"white\",\"showbackground\":true,\"ticks\":\"\",\"zerolinecolor\":\"white\",\"gridwidth\":2}},\"shapedefaults\":{\"line\":{\"color\":\"#2a3f5f\"}},\"annotationdefaults\":{\"arrowcolor\":\"#2a3f5f\",\"arrowhead\":0,\"arrowwidth\":1},\"geo\":{\"bgcolor\":\"white\",\"landcolor\":\"#E5ECF6\",\"subunitcolor\":\"white\",\"showland\":true,\"showlakes\":true,\"lakecolor\":\"white\"},\"title\":{\"x\":0.05},\"mapbox\":{\"style\":\"light\"}}},\"geo\":{\"domain\":{\"x\":[0.0,1.0],\"y\":[0.0,1.0]},\"projection\":{\"type\":\"natural earth\"},\"center\":{}},\"legend\":{\"tracegroupgap\":0},\"title\":{\"text\":\"World Map with Mixed and Multiple Locations\"}},                        {\"responsive\": true}                    ).then(function(){\n",
       "                            \n",
       "var gd = document.getElementById('8a238901-fc88-43da-ae1c-cbd5ea711159');\n",
       "var x = new MutationObserver(function (mutations, observer) {{\n",
       "        var display = window.getComputedStyle(gd).display;\n",
       "        if (!display || display === 'none') {{\n",
       "            console.log([gd, 'removed!']);\n",
       "            Plotly.purge(gd);\n",
       "            observer.disconnect();\n",
       "        }}\n",
       "}});\n",
       "\n",
       "// Listen for the removal of the full notebook cells\n",
       "var notebookContainer = gd.closest('#notebook-container');\n",
       "if (notebookContainer) {{\n",
       "    x.observe(notebookContainer, {childList: true});\n",
       "}}\n",
       "\n",
       "// Listen for the clearing of the current output cell\n",
       "var outputEl = gd.closest('.output');\n",
       "if (outputEl) {{\n",
       "    x.observe(outputEl, {childList: true});\n",
       "}}\n",
       "\n",
       "                        })                };                });            </script>        </div>"
      ]
     },
     "metadata": {},
     "output_type": "display_data"
    }
   ],
   "source": [
    "import plotly.express as px\n",
    "\n",
    "fig = px.scatter_geo(df_exploded,\n",
    "                     lat='lat',\n",
    "                     lon='lon',\n",
    "                     text='countries_clean',\n",
    "                     projection=\"natural earth\",\n",
    "                     title=\"World Map with Mixed and Multiple Locations\")\n",
    "\n",
    "fig.write_html(\"maps/map_output.html\")\n",
    "\n",
    "fig.show()\n"
   ]
  },
  {
   "cell_type": "markdown",
   "id": "934be372-d70f-4da2-87f8-51da3f00c860",
   "metadata": {},
   "source": [
    "### Map without country names (Size not factored)"
   ]
  },
  {
   "cell_type": "code",
   "execution_count": 58,
   "id": "088a0236-dbfb-4a84-aad0-90879aabf9bd",
   "metadata": {},
   "outputs": [
    {
     "data": {
      "application/vnd.plotly.v1+json": {
       "config": {
        "plotlyServerURL": "https://plot.ly"
       },
       "data": [
        {
         "geo": "geo",
         "hovertemplate": "<b>%{hovertext}</b><br><br>lat=%{lat}<br>lon=%{lon}<extra></extra>",
         "hovertext": [
          "Germany",
          "England",
          "Germany",
          "Germany",
          "Japan",
          "Switzerland",
          "USA",
          "New South Wales",
          "North Carolina",
          "Michigan",
          "Nigeria",
          "Brazil",
          "United Kingdom",
          "Germany",
          "Illinois",
          "USA",
          "Wales",
          "Western Australia",
          "London",
          "United Kingdom",
          "United Kingdom",
          "Brazil",
          "Germany",
          "Japan",
          "New York",
          "Northern Ireland",
          "China",
          "South Africa",
          "Switzerland",
          "Florida",
          "Taiwan",
          "Colorado",
          "Germany",
          "Norway",
          "Queensland",
          "Western Australian",
          "Austria",
          "Europe",
          "New York",
          "New Zealand",
          "Wales",
          "China",
          "England",
          "Netherlands",
          "Spain",
          "Finland",
          "Northern Ireland",
          "Ireland",
          "Australia",
          "Belgium",
          "New South Wales",
          "Western Australia",
          "Commonwealth of Australia",
          "North Carolina",
          "United Kingdom",
          "China",
          "Switzerland",
          "Texas",
          "Maryland",
          "Netherlands",
          "New South Wales",
          "Switzerland",
          "Indiana",
          "New South Wales",
          "United States",
          "Western Australia",
          "England",
          "Wales",
          "Finland",
          "Scotland",
          "New York",
          "Queensland",
          "Japan",
          "Germany",
          "Victoria",
          "Victoria",
          "Germany",
          "Illinois",
          "Australia",
          "Connecticut",
          "Canada",
          "England",
          "Japan",
          "England",
          "United Kingdom",
          "Canada",
          "Wales",
          "England",
          "Wales",
          "Northern Ireland",
          "Scotland",
          "England",
          "Italy",
          "Texas",
          "Wales",
          "Connecticut",
          "Norway",
          "Wales",
          "Finland",
          "Germany",
          "England",
          "Texas",
          "Wales",
          "Wales",
          "Wales",
          "Wales",
          "Scotland",
          "Western Australia",
          "Connecticut",
          "Massachusetts",
          "Hungary",
          "North Carolina",
          "France",
          "Ohio",
          "South Africa",
          "Texas",
          "South USA",
          "Germany",
          "Victoria",
          "Germany",
          "New York",
          "New York",
          "West Australia",
          "Israel",
          "Australia",
          "Tanzania",
          "Tasmania",
          "South Africa",
          "British Columbia",
          "Manitoba",
          "Japan",
          "Alberta",
          "British Columbia",
          "British Columbia",
          "Colorado",
          "Colorado",
          "New South Wales",
          "South Australia",
          "New South Wales",
          "Ontario",
          "Western Australia",
          "New South Wales",
          "Germany",
          "Australia",
          "Germany",
          "New South Wales",
          "Western Australia",
          "South Australia",
          "North Carolina",
          "Ohio",
          "Germany",
          "New South Wales",
          "Western Australian",
          "Florida",
          "Arkansas",
          "California",
          "Georgia",
          "Iowa",
          "Massachusetts",
          "Michigan",
          "Minnesota",
          "New York",
          "North Carolina",
          "Ohio",
          "Wisconsin",
          "Malawi",
          "Scotland",
          "South Africa",
          "South Africa"
         ],
         "lat": [
          51.1638175,
          52.5310214,
          51.1638175,
          51.1638175,
          36.5748441,
          46.7985624,
          39.7837304,
          -31.8759835,
          35.6729639,
          43.6211955,
          9.6000359,
          -10.3333333,
          54.7023545,
          51.1638175,
          40.0796606,
          39.7837304,
          52.2928116,
          -25.2303005,
          51.4893335,
          54.7023545,
          54.7023545,
          -10.3333333,
          51.1638175,
          36.5748441,
          40.7127281,
          54.5859836,
          35.0000663,
          -28.8166236,
          46.7985624,
          27.7567667,
          23.9739374,
          38.7251776,
          51.1638175,
          61.1529386,
          -22.1646782,
          6.9100265,
          47.59397,
          51,
          40.7127281,
          -41.5000831,
          52.2928116,
          35.0000663,
          52.5310214,
          52.2434979,
          39.3260685,
          63.2467777,
          54.5859836,
          52.865196,
          -24.7761086,
          50.6402809,
          -31.8759835,
          -25.2303005,
          -24.7761086,
          35.6729639,
          54.7023545,
          35.0000663,
          46.7985624,
          31.2638905,
          39.5162401,
          52.2434979,
          -31.8759835,
          46.7985624,
          40.3270127,
          -31.8759835,
          39.7837304,
          -25.2303005,
          52.5310214,
          52.2928116,
          63.2467777,
          56.7861112,
          40.7127281,
          -22.1646782,
          36.5748441,
          51.1638175,
          -36.5986096,
          -36.5986096,
          51.1638175,
          40.0796606,
          -24.7761086,
          41.6500201,
          61.0666922,
          52.5310214,
          36.5748441,
          52.5310214,
          54.7023545,
          61.0666922,
          52.2928116,
          52.5310214,
          52.2928116,
          54.5859836,
          56.7861112,
          52.5310214,
          42.6384261,
          31.2638905,
          52.2928116,
          41.6500201,
          61.1529386,
          52.2928116,
          63.2467777,
          51.1638175,
          52.5310214,
          31.2638905,
          52.2928116,
          52.2928116,
          52.2928116,
          52.2928116,
          56.7861112,
          -25.2303005,
          41.6500201,
          42.3788774,
          47.1817585,
          35.6729639,
          46.603354,
          40.2253569,
          -28.8166236,
          31.2638905,
          57.0894077,
          51.1638175,
          -36.5986096,
          51.1638175,
          40.7127281,
          40.7127281,
          -36.3193573,
          30.8124247,
          -24.7761086,
          -6.5247123,
          -42.035067,
          -28.8166236,
          55.001251,
          55.001251,
          36.5748441,
          55.001251,
          55.001251,
          55.001251,
          38.7251776,
          38.7251776,
          -31.8759835,
          -30.5343665,
          -31.8759835,
          50.000678,
          -25.2303005,
          -31.8759835,
          51.1638175,
          -24.7761086,
          51.1638175,
          -31.8759835,
          -25.2303005,
          -30.5343665,
          35.6729639,
          40.2253569,
          51.1638175,
          -31.8759835,
          6.9100265,
          27.7567667,
          35.2048883,
          36.7014631,
          32.3293809,
          41.9216734,
          42.3788774,
          43.6211955,
          45.9896587,
          40.7127281,
          35.6729639,
          40.2253569,
          44.4308975,
          -13.2687204,
          56.7861112,
          -28.8166236,
          -28.8166236
         ],
         "legendgroup": "",
         "lon": [
          10.4478313,
          -1.2649062,
          10.4478313,
          10.4478313,
          139.2394179,
          8.2319736,
          -100.445882,
          147.2869493,
          -79.0392919,
          -84.6824346,
          7.9999721,
          -53.2,
          -3.2765753,
          10.4478313,
          -89.4337288,
          -100.445882,
          -3.73893,
          121.0187246,
          -0.1440551,
          -3.2765753,
          -3.2765753,
          -53.2,
          10.4478313,
          139.2394179,
          -74.0060152,
          -6.9591554,
          104.999955,
          24.991639,
          8.2319736,
          -81.4639835,
          120.9820179,
          -105.607716,
          10.4478313,
          8.7876653,
          144.5844903,
          79.8689028,
          14.12456,
          10,
          -74.0060152,
          172.8344077,
          -3.73893,
          104.999955,
          -1.2649062,
          5.6343227,
          -4.8379791,
          25.9209164,
          -6.9591554,
          -7.9794599,
          134.755,
          4.6667145,
          147.2869493,
          121.0187246,
          134.755,
          -79.0392919,
          -3.2765753,
          104.999955,
          8.2319736,
          -98.5456116,
          -76.9382069,
          5.6343227,
          147.2869493,
          8.2319736,
          -86.1746933,
          147.2869493,
          -100.445882,
          121.0187246,
          -1.2649062,
          -3.73893,
          25.9209164,
          -4.1140518,
          -74.0060152,
          144.5844903,
          139.2394179,
          10.4478313,
          144.6780052,
          144.6780052,
          10.4478313,
          -89.4337288,
          134.755,
          -72.7342163,
          -107.991707,
          -1.2649062,
          139.2394179,
          -1.2649062,
          -3.2765753,
          -107.991707,
          -3.73893,
          -1.2649062,
          -3.73893,
          -6.9591554,
          -4.1140518,
          -1.2649062,
          12.674297,
          -98.5456116,
          -3.73893,
          -72.7342163,
          8.7876653,
          -3.73893,
          25.9209164,
          10.4478313,
          -1.2649062,
          -98.5456116,
          -3.73893,
          -3.73893,
          -3.73893,
          -3.73893,
          -4.1140518,
          121.0187246,
          -72.7342163,
          -72.032366,
          19.5060937,
          -79.0392919,
          1.8883335,
          -82.6881395,
          24.991639,
          -98.5456116,
          -135.2543402,
          10.4478313,
          144.6780052,
          10.4478313,
          -74.0060152,
          -74.0060152,
          150.1254379,
          34.8594762,
          134.755,
          35.7878438,
          146.6366887,
          24.991639,
          -125.002441,
          -97.001038,
          139.2394179,
          -115.002136,
          -125.002441,
          -125.002441,
          -105.607716,
          -105.607716,
          147.2869493,
          135.6301212,
          147.2869493,
          -86.000977,
          121.0187246,
          147.2869493,
          10.4478313,
          134.755,
          10.4478313,
          147.2869493,
          121.0187246,
          135.6301212,
          -79.0392919,
          -82.6881395,
          10.4478313,
          147.2869493,
          79.8689028,
          -81.4639835,
          -92.4479108,
          -118.755997,
          -83.1137366,
          -93.3122705,
          -72.032366,
          -84.6824346,
          -94.6113288,
          -74.0060152,
          -79.0392919,
          -82.6881395,
          -89.6884637,
          33.9301963,
          -4.1140518,
          24.991639,
          24.991639
         ],
         "marker": {
          "color": "#636efa",
          "symbol": "circle"
         },
         "mode": "markers",
         "name": "",
         "showlegend": false,
         "type": "scattergeo"
        }
       ],
       "layout": {
        "geo": {
         "center": {},
         "domain": {
          "x": [
           0,
           1
          ],
          "y": [
           0,
           1
          ]
         },
         "landcolor": "lightgray",
         "projection": {
          "type": "natural earth"
         },
         "showcoastlines": true,
         "showcountries": false,
         "showland": true
        },
        "legend": {
         "tracegroupgap": 0
        },
        "margin": {
         "b": 0,
         "l": 0,
         "r": 0,
         "t": 30
        },
        "template": {
         "data": {
          "bar": [
           {
            "error_x": {
             "color": "#2a3f5f"
            },
            "error_y": {
             "color": "#2a3f5f"
            },
            "marker": {
             "line": {
              "color": "#E5ECF6",
              "width": 0.5
             },
             "pattern": {
              "fillmode": "overlay",
              "size": 10,
              "solidity": 0.2
             }
            },
            "type": "bar"
           }
          ],
          "barpolar": [
           {
            "marker": {
             "line": {
              "color": "#E5ECF6",
              "width": 0.5
             },
             "pattern": {
              "fillmode": "overlay",
              "size": 10,
              "solidity": 0.2
             }
            },
            "type": "barpolar"
           }
          ],
          "carpet": [
           {
            "aaxis": {
             "endlinecolor": "#2a3f5f",
             "gridcolor": "white",
             "linecolor": "white",
             "minorgridcolor": "white",
             "startlinecolor": "#2a3f5f"
            },
            "baxis": {
             "endlinecolor": "#2a3f5f",
             "gridcolor": "white",
             "linecolor": "white",
             "minorgridcolor": "white",
             "startlinecolor": "#2a3f5f"
            },
            "type": "carpet"
           }
          ],
          "choropleth": [
           {
            "colorbar": {
             "outlinewidth": 0,
             "ticks": ""
            },
            "type": "choropleth"
           }
          ],
          "contour": [
           {
            "colorbar": {
             "outlinewidth": 0,
             "ticks": ""
            },
            "colorscale": [
             [
              0,
              "#0d0887"
             ],
             [
              0.1111111111111111,
              "#46039f"
             ],
             [
              0.2222222222222222,
              "#7201a8"
             ],
             [
              0.3333333333333333,
              "#9c179e"
             ],
             [
              0.4444444444444444,
              "#bd3786"
             ],
             [
              0.5555555555555556,
              "#d8576b"
             ],
             [
              0.6666666666666666,
              "#ed7953"
             ],
             [
              0.7777777777777778,
              "#fb9f3a"
             ],
             [
              0.8888888888888888,
              "#fdca26"
             ],
             [
              1,
              "#f0f921"
             ]
            ],
            "type": "contour"
           }
          ],
          "contourcarpet": [
           {
            "colorbar": {
             "outlinewidth": 0,
             "ticks": ""
            },
            "type": "contourcarpet"
           }
          ],
          "heatmap": [
           {
            "colorbar": {
             "outlinewidth": 0,
             "ticks": ""
            },
            "colorscale": [
             [
              0,
              "#0d0887"
             ],
             [
              0.1111111111111111,
              "#46039f"
             ],
             [
              0.2222222222222222,
              "#7201a8"
             ],
             [
              0.3333333333333333,
              "#9c179e"
             ],
             [
              0.4444444444444444,
              "#bd3786"
             ],
             [
              0.5555555555555556,
              "#d8576b"
             ],
             [
              0.6666666666666666,
              "#ed7953"
             ],
             [
              0.7777777777777778,
              "#fb9f3a"
             ],
             [
              0.8888888888888888,
              "#fdca26"
             ],
             [
              1,
              "#f0f921"
             ]
            ],
            "type": "heatmap"
           }
          ],
          "heatmapgl": [
           {
            "colorbar": {
             "outlinewidth": 0,
             "ticks": ""
            },
            "colorscale": [
             [
              0,
              "#0d0887"
             ],
             [
              0.1111111111111111,
              "#46039f"
             ],
             [
              0.2222222222222222,
              "#7201a8"
             ],
             [
              0.3333333333333333,
              "#9c179e"
             ],
             [
              0.4444444444444444,
              "#bd3786"
             ],
             [
              0.5555555555555556,
              "#d8576b"
             ],
             [
              0.6666666666666666,
              "#ed7953"
             ],
             [
              0.7777777777777778,
              "#fb9f3a"
             ],
             [
              0.8888888888888888,
              "#fdca26"
             ],
             [
              1,
              "#f0f921"
             ]
            ],
            "type": "heatmapgl"
           }
          ],
          "histogram": [
           {
            "marker": {
             "pattern": {
              "fillmode": "overlay",
              "size": 10,
              "solidity": 0.2
             }
            },
            "type": "histogram"
           }
          ],
          "histogram2d": [
           {
            "colorbar": {
             "outlinewidth": 0,
             "ticks": ""
            },
            "colorscale": [
             [
              0,
              "#0d0887"
             ],
             [
              0.1111111111111111,
              "#46039f"
             ],
             [
              0.2222222222222222,
              "#7201a8"
             ],
             [
              0.3333333333333333,
              "#9c179e"
             ],
             [
              0.4444444444444444,
              "#bd3786"
             ],
             [
              0.5555555555555556,
              "#d8576b"
             ],
             [
              0.6666666666666666,
              "#ed7953"
             ],
             [
              0.7777777777777778,
              "#fb9f3a"
             ],
             [
              0.8888888888888888,
              "#fdca26"
             ],
             [
              1,
              "#f0f921"
             ]
            ],
            "type": "histogram2d"
           }
          ],
          "histogram2dcontour": [
           {
            "colorbar": {
             "outlinewidth": 0,
             "ticks": ""
            },
            "colorscale": [
             [
              0,
              "#0d0887"
             ],
             [
              0.1111111111111111,
              "#46039f"
             ],
             [
              0.2222222222222222,
              "#7201a8"
             ],
             [
              0.3333333333333333,
              "#9c179e"
             ],
             [
              0.4444444444444444,
              "#bd3786"
             ],
             [
              0.5555555555555556,
              "#d8576b"
             ],
             [
              0.6666666666666666,
              "#ed7953"
             ],
             [
              0.7777777777777778,
              "#fb9f3a"
             ],
             [
              0.8888888888888888,
              "#fdca26"
             ],
             [
              1,
              "#f0f921"
             ]
            ],
            "type": "histogram2dcontour"
           }
          ],
          "mesh3d": [
           {
            "colorbar": {
             "outlinewidth": 0,
             "ticks": ""
            },
            "type": "mesh3d"
           }
          ],
          "parcoords": [
           {
            "line": {
             "colorbar": {
              "outlinewidth": 0,
              "ticks": ""
             }
            },
            "type": "parcoords"
           }
          ],
          "pie": [
           {
            "automargin": true,
            "type": "pie"
           }
          ],
          "scatter": [
           {
            "fillpattern": {
             "fillmode": "overlay",
             "size": 10,
             "solidity": 0.2
            },
            "type": "scatter"
           }
          ],
          "scatter3d": [
           {
            "line": {
             "colorbar": {
              "outlinewidth": 0,
              "ticks": ""
             }
            },
            "marker": {
             "colorbar": {
              "outlinewidth": 0,
              "ticks": ""
             }
            },
            "type": "scatter3d"
           }
          ],
          "scattercarpet": [
           {
            "marker": {
             "colorbar": {
              "outlinewidth": 0,
              "ticks": ""
             }
            },
            "type": "scattercarpet"
           }
          ],
          "scattergeo": [
           {
            "marker": {
             "colorbar": {
              "outlinewidth": 0,
              "ticks": ""
             }
            },
            "type": "scattergeo"
           }
          ],
          "scattergl": [
           {
            "marker": {
             "colorbar": {
              "outlinewidth": 0,
              "ticks": ""
             }
            },
            "type": "scattergl"
           }
          ],
          "scattermapbox": [
           {
            "marker": {
             "colorbar": {
              "outlinewidth": 0,
              "ticks": ""
             }
            },
            "type": "scattermapbox"
           }
          ],
          "scatterpolar": [
           {
            "marker": {
             "colorbar": {
              "outlinewidth": 0,
              "ticks": ""
             }
            },
            "type": "scatterpolar"
           }
          ],
          "scatterpolargl": [
           {
            "marker": {
             "colorbar": {
              "outlinewidth": 0,
              "ticks": ""
             }
            },
            "type": "scatterpolargl"
           }
          ],
          "scatterternary": [
           {
            "marker": {
             "colorbar": {
              "outlinewidth": 0,
              "ticks": ""
             }
            },
            "type": "scatterternary"
           }
          ],
          "surface": [
           {
            "colorbar": {
             "outlinewidth": 0,
             "ticks": ""
            },
            "colorscale": [
             [
              0,
              "#0d0887"
             ],
             [
              0.1111111111111111,
              "#46039f"
             ],
             [
              0.2222222222222222,
              "#7201a8"
             ],
             [
              0.3333333333333333,
              "#9c179e"
             ],
             [
              0.4444444444444444,
              "#bd3786"
             ],
             [
              0.5555555555555556,
              "#d8576b"
             ],
             [
              0.6666666666666666,
              "#ed7953"
             ],
             [
              0.7777777777777778,
              "#fb9f3a"
             ],
             [
              0.8888888888888888,
              "#fdca26"
             ],
             [
              1,
              "#f0f921"
             ]
            ],
            "type": "surface"
           }
          ],
          "table": [
           {
            "cells": {
             "fill": {
              "color": "#EBF0F8"
             },
             "line": {
              "color": "white"
             }
            },
            "header": {
             "fill": {
              "color": "#C8D4E3"
             },
             "line": {
              "color": "white"
             }
            },
            "type": "table"
           }
          ]
         },
         "layout": {
          "annotationdefaults": {
           "arrowcolor": "#2a3f5f",
           "arrowhead": 0,
           "arrowwidth": 1
          },
          "autotypenumbers": "strict",
          "coloraxis": {
           "colorbar": {
            "outlinewidth": 0,
            "ticks": ""
           }
          },
          "colorscale": {
           "diverging": [
            [
             0,
             "#8e0152"
            ],
            [
             0.1,
             "#c51b7d"
            ],
            [
             0.2,
             "#de77ae"
            ],
            [
             0.3,
             "#f1b6da"
            ],
            [
             0.4,
             "#fde0ef"
            ],
            [
             0.5,
             "#f7f7f7"
            ],
            [
             0.6,
             "#e6f5d0"
            ],
            [
             0.7,
             "#b8e186"
            ],
            [
             0.8,
             "#7fbc41"
            ],
            [
             0.9,
             "#4d9221"
            ],
            [
             1,
             "#276419"
            ]
           ],
           "sequential": [
            [
             0,
             "#0d0887"
            ],
            [
             0.1111111111111111,
             "#46039f"
            ],
            [
             0.2222222222222222,
             "#7201a8"
            ],
            [
             0.3333333333333333,
             "#9c179e"
            ],
            [
             0.4444444444444444,
             "#bd3786"
            ],
            [
             0.5555555555555556,
             "#d8576b"
            ],
            [
             0.6666666666666666,
             "#ed7953"
            ],
            [
             0.7777777777777778,
             "#fb9f3a"
            ],
            [
             0.8888888888888888,
             "#fdca26"
            ],
            [
             1,
             "#f0f921"
            ]
           ],
           "sequentialminus": [
            [
             0,
             "#0d0887"
            ],
            [
             0.1111111111111111,
             "#46039f"
            ],
            [
             0.2222222222222222,
             "#7201a8"
            ],
            [
             0.3333333333333333,
             "#9c179e"
            ],
            [
             0.4444444444444444,
             "#bd3786"
            ],
            [
             0.5555555555555556,
             "#d8576b"
            ],
            [
             0.6666666666666666,
             "#ed7953"
            ],
            [
             0.7777777777777778,
             "#fb9f3a"
            ],
            [
             0.8888888888888888,
             "#fdca26"
            ],
            [
             1,
             "#f0f921"
            ]
           ]
          },
          "colorway": [
           "#636efa",
           "#EF553B",
           "#00cc96",
           "#ab63fa",
           "#FFA15A",
           "#19d3f3",
           "#FF6692",
           "#B6E880",
           "#FF97FF",
           "#FECB52"
          ],
          "font": {
           "color": "#2a3f5f"
          },
          "geo": {
           "bgcolor": "white",
           "lakecolor": "white",
           "landcolor": "#E5ECF6",
           "showlakes": true,
           "showland": true,
           "subunitcolor": "white"
          },
          "hoverlabel": {
           "align": "left"
          },
          "hovermode": "closest",
          "mapbox": {
           "style": "light"
          },
          "paper_bgcolor": "white",
          "plot_bgcolor": "#E5ECF6",
          "polar": {
           "angularaxis": {
            "gridcolor": "white",
            "linecolor": "white",
            "ticks": ""
           },
           "bgcolor": "#E5ECF6",
           "radialaxis": {
            "gridcolor": "white",
            "linecolor": "white",
            "ticks": ""
           }
          },
          "scene": {
           "xaxis": {
            "backgroundcolor": "#E5ECF6",
            "gridcolor": "white",
            "gridwidth": 2,
            "linecolor": "white",
            "showbackground": true,
            "ticks": "",
            "zerolinecolor": "white"
           },
           "yaxis": {
            "backgroundcolor": "#E5ECF6",
            "gridcolor": "white",
            "gridwidth": 2,
            "linecolor": "white",
            "showbackground": true,
            "ticks": "",
            "zerolinecolor": "white"
           },
           "zaxis": {
            "backgroundcolor": "#E5ECF6",
            "gridcolor": "white",
            "gridwidth": 2,
            "linecolor": "white",
            "showbackground": true,
            "ticks": "",
            "zerolinecolor": "white"
           }
          },
          "shapedefaults": {
           "line": {
            "color": "#2a3f5f"
           }
          },
          "ternary": {
           "aaxis": {
            "gridcolor": "white",
            "linecolor": "white",
            "ticks": ""
           },
           "baxis": {
            "gridcolor": "white",
            "linecolor": "white",
            "ticks": ""
           },
           "bgcolor": "#E5ECF6",
           "caxis": {
            "gridcolor": "white",
            "linecolor": "white",
            "ticks": ""
           }
          },
          "title": {
           "x": 0.05
          },
          "xaxis": {
           "automargin": true,
           "gridcolor": "white",
           "linecolor": "white",
           "ticks": "",
           "title": {
            "standoff": 15
           },
           "zerolinecolor": "white",
           "zerolinewidth": 2
          },
          "yaxis": {
           "automargin": true,
           "gridcolor": "white",
           "linecolor": "white",
           "ticks": "",
           "title": {
            "standoff": 15
           },
           "zerolinecolor": "white",
           "zerolinewidth": 2
          }
         }
        },
        "title": {
         "text": "World Map showing PPRL Locations"
        }
       }
      },
      "image/png": "[encoded data removed]",
      "text/html": [
       "<div>                            <div id=\"1aa66429-39d2-49b9-a50c-90585597759a\" class=\"plotly-graph-div\" style=\"height:525px; width:100%;\"></div>            <script type=\"text/javascript\">                require([\"plotly\"], function(Plotly) {                    window.PLOTLYENV=window.PLOTLYENV || {};                                    if (document.getElementById(\"1aa66429-39d2-49b9-a50c-90585597759a\")) {                    Plotly.newPlot(                        \"1aa66429-39d2-49b9-a50c-90585597759a\",                        [{\"geo\":\"geo\",\"hovertemplate\":\"\\u003cb\\u003e%{hovertext}\\u003c\\u002fb\\u003e\\u003cbr\\u003e\\u003cbr\\u003elat=%{lat}\\u003cbr\\u003elon=%{lon}\\u003cextra\\u003e\\u003c\\u002fextra\\u003e\",\"hovertext\":[\"Germany\",\"England\",\"Germany\",\"Germany\",\"Japan\",\"Switzerland\",\"USA\",\"New South Wales\",\"North Carolina\",\"Michigan\",\"Nigeria\",\"Brazil\",\"United Kingdom\",\"Germany\",\"Illinois\",\"USA\",\"Wales\",\"Western Australia\",\"London\",\"United Kingdom\",\"United Kingdom\",\"Brazil\",\"Germany\",\"Japan\",\"New York\",\"Northern Ireland\",\"China\",\"South Africa\",\"Switzerland\",\"Florida\",\"Taiwan\",\"Colorado\",\"Germany\",\"Norway\",\"Queensland\",\"Western Australian\",\"Austria\",\"Europe\",\"New York\",\"New Zealand\",\"Wales\",\"China\",\"England\",\"Netherlands\",\"Spain\",\"Finland\",\"Northern Ireland\",\"Ireland\",\"Australia\",\"Belgium\",\"New South Wales\",\"Western Australia\",\"Commonwealth of Australia\",\"North Carolina\",\"United Kingdom\",\"China\",\"Switzerland\",\"Texas\",\"Maryland\",\"Netherlands\",\"New South Wales\",\"Switzerland\",\"Indiana\",\"New South Wales\",\"United States\",\"Western Australia\",\"England\",\"Wales\",\"Finland\",\"Scotland\",\"New York\",\"Queensland\",\"Japan\",\"Germany\",\"Victoria\",\"Victoria\",\"Germany\",\"Illinois\",\"Australia\",\"Connecticut\",\"Canada\",\"England\",\"Japan\",\"England\",\"United Kingdom\",\"Canada\",\"Wales\",\"England\",\"Wales\",\"Northern Ireland\",\"Scotland\",\"England\",\"Italy\",\"Texas\",\"Wales\",\"Connecticut\",\"Norway\",\"Wales\",\"Finland\",\"Germany\",\"England\",\"Texas\",\"Wales\",\"Wales\",\"Wales\",\"Wales\",\"Scotland\",\"Western Australia\",\"Connecticut\",\"Massachusetts\",\"Hungary\",\"North Carolina\",\"France\",\"Ohio\",\"South Africa\",\"Texas\",\"South USA\",\"Germany\",\"Victoria\",\"Germany\",\"New York\",\"New York\",\"West Australia\",\"Israel\",\"Australia\",\"Tanzania\",\"Tasmania\",\"South Africa\",\"British Columbia\",\"Manitoba\",\"Japan\",\"Alberta\",\"British Columbia\",\"British Columbia\",\"Colorado\",\"Colorado\",\"New South Wales\",\"South Australia\",\"New South Wales\",\"Ontario\",\"Western Australia\",\"New South Wales\",\"Germany\",\"Australia\",\"Germany\",\"New South Wales\",\"Western Australia\",\"South Australia\",\"North Carolina\",\"Ohio\",\"Germany\",\"New South Wales\",\"Western Australian\",\"Florida\",\"Arkansas\",\"California\",\"Georgia\",\"Iowa\",\"Massachusetts\",\"Michigan\",\"Minnesota\",\"New York\",\"North Carolina\",\"Ohio\",\"Wisconsin\",\"Malawi\",\"Scotland\",\"South Africa\",\"South Africa\"],\"lat\":[51.1638175,52.5310214,51.1638175,51.1638175,36.5748441,46.7985624,39.7837304,-31.8759835,35.6729639,43.6211955,9.6000359,-10.3333333,54.7023545,51.1638175,40.0796606,39.7837304,52.2928116,-25.2303005,51.4893335,54.7023545,54.7023545,-10.3333333,51.1638175,36.5748441,40.7127281,54.5859836,35.0000663,-28.8166236,46.7985624,27.7567667,23.9739374,38.7251776,51.1638175,61.1529386,-22.1646782,6.9100265,47.59397,51.0,40.7127281,-41.5000831,52.2928116,35.0000663,52.5310214,52.2434979,39.3260685,63.2467777,54.5859836,52.865196,-24.7761086,50.6402809,-31.8759835,-25.2303005,-24.7761086,35.6729639,54.7023545,35.0000663,46.7985624,31.2638905,39.5162401,52.2434979,-31.8759835,46.7985624,40.3270127,-31.8759835,39.7837304,-25.2303005,52.5310214,52.2928116,63.2467777,56.7861112,40.7127281,-22.1646782,36.5748441,51.1638175,-36.5986096,-36.5986096,51.1638175,40.0796606,-24.7761086,41.6500201,61.0666922,52.5310214,36.5748441,52.5310214,54.7023545,61.0666922,52.2928116,52.5310214,52.2928116,54.5859836,56.7861112,52.5310214,42.6384261,31.2638905,52.2928116,41.6500201,61.1529386,52.2928116,63.2467777,51.1638175,52.5310214,31.2638905,52.2928116,52.2928116,52.2928116,52.2928116,56.7861112,-25.2303005,41.6500201,42.3788774,47.1817585,35.6729639,46.603354,40.2253569,-28.8166236,31.2638905,57.0894077,51.1638175,-36.5986096,51.1638175,40.7127281,40.7127281,-36.3193573,30.8124247,-24.7761086,-6.5247123,-42.035067,-28.8166236,55.001251,55.001251,36.5748441,55.001251,55.001251,55.001251,38.7251776,38.7251776,-31.8759835,-30.5343665,-31.8759835,50.000678,-25.2303005,-31.8759835,51.1638175,-24.7761086,51.1638175,-31.8759835,-25.2303005,-30.5343665,35.6729639,40.2253569,51.1638175,-31.8759835,6.9100265,27.7567667,35.2048883,36.7014631,32.3293809,41.9216734,42.3788774,43.6211955,45.9896587,40.7127281,35.6729639,40.2253569,44.4308975,-13.2687204,56.7861112,-28.8166236,-28.8166236],\"legendgroup\":\"\",\"lon\":[10.4478313,-1.2649062,10.4478313,10.4478313,139.2394179,8.2319736,-100.445882,147.2869493,-79.0392919,-84.6824346,7.9999721,-53.2,-3.2765753,10.4478313,-89.4337288,-100.445882,-3.73893,121.0187246,-0.1440551,-3.2765753,-3.2765753,-53.2,10.4478313,139.2394179,-74.0060152,-6.9591554,104.999955,24.991639,8.2319736,-81.4639835,120.9820179,-105.607716,10.4478313,8.7876653,144.5844903,79.8689028,14.12456,10.0,-74.0060152,172.8344077,-3.73893,104.999955,-1.2649062,5.6343227,-4.8379791,25.9209164,-6.9591554,-7.9794599,134.755,4.6667145,147.2869493,121.0187246,134.755,-79.0392919,-3.2765753,104.999955,8.2319736,-98.5456116,-76.9382069,5.6343227,147.2869493,8.2319736,-86.1746933,147.2869493,-100.445882,121.0187246,-1.2649062,-3.73893,25.9209164,-4.1140518,-74.0060152,144.5844903,139.2394179,10.4478313,144.6780052,144.6780052,10.4478313,-89.4337288,134.755,-72.7342163,-107.991707,-1.2649062,139.2394179,-1.2649062,-3.2765753,-107.991707,-3.73893,-1.2649062,-3.73893,-6.9591554,-4.1140518,-1.2649062,12.674297,-98.5456116,-3.73893,-72.7342163,8.7876653,-3.73893,25.9209164,10.4478313,-1.2649062,-98.5456116,-3.73893,-3.73893,-3.73893,-3.73893,-4.1140518,121.0187246,-72.7342163,-72.032366,19.5060937,-79.0392919,1.8883335,-82.6881395,24.991639,-98.5456116,-135.2543402,10.4478313,144.6780052,10.4478313,-74.0060152,-74.0060152,150.1254379,34.8594762,134.755,35.7878438,146.6366887,24.991639,-125.002441,-97.001038,139.2394179,-115.002136,-125.002441,-125.002441,-105.607716,-105.607716,147.2869493,135.6301212,147.2869493,-86.000977,121.0187246,147.2869493,10.4478313,134.755,10.4478313,147.2869493,121.0187246,135.6301212,-79.0392919,-82.6881395,10.4478313,147.2869493,79.8689028,-81.4639835,-92.4479108,-118.755997,-83.1137366,-93.3122705,-72.032366,-84.6824346,-94.6113288,-74.0060152,-79.0392919,-82.6881395,-89.6884637,33.9301963,-4.1140518,24.991639,24.991639],\"marker\":{\"color\":\"#636efa\",\"symbol\":\"circle\"},\"mode\":\"markers\",\"name\":\"\",\"showlegend\":false,\"type\":\"scattergeo\"}],                        {\"template\":{\"data\":{\"histogram2dcontour\":[{\"type\":\"histogram2dcontour\",\"colorbar\":{\"outlinewidth\":0,\"ticks\":\"\"},\"colorscale\":[[0.0,\"#0d0887\"],[0.1111111111111111,\"#46039f\"],[0.2222222222222222,\"#7201a8\"],[0.3333333333333333,\"#9c179e\"],[0.4444444444444444,\"#bd3786\"],[0.5555555555555556,\"#d8576b\"],[0.6666666666666666,\"#ed7953\"],[0.7777777777777778,\"#fb9f3a\"],[0.8888888888888888,\"#fdca26\"],[1.0,\"#f0f921\"]]}],\"choropleth\":[{\"type\":\"choropleth\",\"colorbar\":{\"outlinewidth\":0,\"ticks\":\"\"}}],\"histogram2d\":[{\"type\":\"histogram2d\",\"colorbar\":{\"outlinewidth\":0,\"ticks\":\"\"},\"colorscale\":[[0.0,\"#0d0887\"],[0.1111111111111111,\"#46039f\"],[0.2222222222222222,\"#7201a8\"],[0.3333333333333333,\"#9c179e\"],[0.4444444444444444,\"#bd3786\"],[0.5555555555555556,\"#d8576b\"],[0.6666666666666666,\"#ed7953\"],[0.7777777777777778,\"#fb9f3a\"],[0.8888888888888888,\"#fdca26\"],[1.0,\"#f0f921\"]]}],\"heatmap\":[{\"type\":\"heatmap\",\"colorbar\":{\"outlinewidth\":0,\"ticks\":\"\"},\"colorscale\":[[0.0,\"#0d0887\"],[0.1111111111111111,\"#46039f\"],[0.2222222222222222,\"#7201a8\"],[0.3333333333333333,\"#9c179e\"],[0.4444444444444444,\"#bd3786\"],[0.5555555555555556,\"#d8576b\"],[0.6666666666666666,\"#ed7953\"],[0.7777777777777778,\"#fb9f3a\"],[0.8888888888888888,\"#fdca26\"],[1.0,\"#f0f921\"]]}],\"heatmapgl\":[{\"type\":\"heatmapgl\",\"colorbar\":{\"outlinewidth\":0,\"ticks\":\"\"},\"colorscale\":[[0.0,\"#0d0887\"],[0.1111111111111111,\"#46039f\"],[0.2222222222222222,\"#7201a8\"],[0.3333333333333333,\"#9c179e\"],[0.4444444444444444,\"#bd3786\"],[0.5555555555555556,\"#d8576b\"],[0.6666666666666666,\"#ed7953\"],[0.7777777777777778,\"#fb9f3a\"],[0.8888888888888888,\"#fdca26\"],[1.0,\"#f0f921\"]]}],\"contourcarpet\":[{\"type\":\"contourcarpet\",\"colorbar\":{\"outlinewidth\":0,\"ticks\":\"\"}}],\"contour\":[{\"type\":\"contour\",\"colorbar\":{\"outlinewidth\":0,\"ticks\":\"\"},\"colorscale\":[[0.0,\"#0d0887\"],[0.1111111111111111,\"#46039f\"],[0.2222222222222222,\"#7201a8\"],[0.3333333333333333,\"#9c179e\"],[0.4444444444444444,\"#bd3786\"],[0.5555555555555556,\"#d8576b\"],[0.6666666666666666,\"#ed7953\"],[0.7777777777777778,\"#fb9f3a\"],[0.8888888888888888,\"#fdca26\"],[1.0,\"#f0f921\"]]}],\"surface\":[{\"type\":\"surface\",\"colorbar\":{\"outlinewidth\":0,\"ticks\":\"\"},\"colorscale\":[[0.0,\"#0d0887\"],[0.1111111111111111,\"#46039f\"],[0.2222222222222222,\"#7201a8\"],[0.3333333333333333,\"#9c179e\"],[0.4444444444444444,\"#bd3786\"],[0.5555555555555556,\"#d8576b\"],[0.6666666666666666,\"#ed7953\"],[0.7777777777777778,\"#fb9f3a\"],[0.8888888888888888,\"#fdca26\"],[1.0,\"#f0f921\"]]}],\"mesh3d\":[{\"type\":\"mesh3d\",\"colorbar\":{\"outlinewidth\":0,\"ticks\":\"\"}}],\"scatter\":[{\"fillpattern\":{\"fillmode\":\"overlay\",\"size\":10,\"solidity\":0.2},\"type\":\"scatter\"}],\"parcoords\":[{\"type\":\"parcoords\",\"line\":{\"colorbar\":{\"outlinewidth\":0,\"ticks\":\"\"}}}],\"scatterpolargl\":[{\"type\":\"scatterpolargl\",\"marker\":{\"colorbar\":{\"outlinewidth\":0,\"ticks\":\"\"}}}],\"bar\":[{\"error_x\":{\"color\":\"#2a3f5f\"},\"error_y\":{\"color\":\"#2a3f5f\"},\"marker\":{\"line\":{\"color\":\"#E5ECF6\",\"width\":0.5},\"pattern\":{\"fillmode\":\"overlay\",\"size\":10,\"solidity\":0.2}},\"type\":\"bar\"}],\"scattergeo\":[{\"type\":\"scattergeo\",\"marker\":{\"colorbar\":{\"outlinewidth\":0,\"ticks\":\"\"}}}],\"scatterpolar\":[{\"type\":\"scatterpolar\",\"marker\":{\"colorbar\":{\"outlinewidth\":0,\"ticks\":\"\"}}}],\"histogram\":[{\"marker\":{\"pattern\":{\"fillmode\":\"overlay\",\"size\":10,\"solidity\":0.2}},\"type\":\"histogram\"}],\"scattergl\":[{\"type\":\"scattergl\",\"marker\":{\"colorbar\":{\"outlinewidth\":0,\"ticks\":\"\"}}}],\"scatter3d\":[{\"type\":\"scatter3d\",\"line\":{\"colorbar\":{\"outlinewidth\":0,\"ticks\":\"\"}},\"marker\":{\"colorbar\":{\"outlinewidth\":0,\"ticks\":\"\"}}}],\"scattermapbox\":[{\"type\":\"scattermapbox\",\"marker\":{\"colorbar\":{\"outlinewidth\":0,\"ticks\":\"\"}}}],\"scatterternary\":[{\"type\":\"scatterternary\",\"marker\":{\"colorbar\":{\"outlinewidth\":0,\"ticks\":\"\"}}}],\"scattercarpet\":[{\"type\":\"scattercarpet\",\"marker\":{\"colorbar\":{\"outlinewidth\":0,\"ticks\":\"\"}}}],\"carpet\":[{\"aaxis\":{\"endlinecolor\":\"#2a3f5f\",\"gridcolor\":\"white\",\"linecolor\":\"white\",\"minorgridcolor\":\"white\",\"startlinecolor\":\"#2a3f5f\"},\"baxis\":{\"endlinecolor\":\"#2a3f5f\",\"gridcolor\":\"white\",\"linecolor\":\"white\",\"minorgridcolor\":\"white\",\"startlinecolor\":\"#2a3f5f\"},\"type\":\"carpet\"}],\"table\":[{\"cells\":{\"fill\":{\"color\":\"#EBF0F8\"},\"line\":{\"color\":\"white\"}},\"header\":{\"fill\":{\"color\":\"#C8D4E3\"},\"line\":{\"color\":\"white\"}},\"type\":\"table\"}],\"barpolar\":[{\"marker\":{\"line\":{\"color\":\"#E5ECF6\",\"width\":0.5},\"pattern\":{\"fillmode\":\"overlay\",\"size\":10,\"solidity\":0.2}},\"type\":\"barpolar\"}],\"pie\":[{\"automargin\":true,\"type\":\"pie\"}]},\"layout\":{\"autotypenumbers\":\"strict\",\"colorway\":[\"#636efa\",\"#EF553B\",\"#00cc96\",\"#ab63fa\",\"#FFA15A\",\"#19d3f3\",\"#FF6692\",\"#B6E880\",\"#FF97FF\",\"#FECB52\"],\"font\":{\"color\":\"#2a3f5f\"},\"hovermode\":\"closest\",\"hoverlabel\":{\"align\":\"left\"},\"paper_bgcolor\":\"white\",\"plot_bgcolor\":\"#E5ECF6\",\"polar\":{\"bgcolor\":\"#E5ECF6\",\"angularaxis\":{\"gridcolor\":\"white\",\"linecolor\":\"white\",\"ticks\":\"\"},\"radialaxis\":{\"gridcolor\":\"white\",\"linecolor\":\"white\",\"ticks\":\"\"}},\"ternary\":{\"bgcolor\":\"#E5ECF6\",\"aaxis\":{\"gridcolor\":\"white\",\"linecolor\":\"white\",\"ticks\":\"\"},\"baxis\":{\"gridcolor\":\"white\",\"linecolor\":\"white\",\"ticks\":\"\"},\"caxis\":{\"gridcolor\":\"white\",\"linecolor\":\"white\",\"ticks\":\"\"}},\"coloraxis\":{\"colorbar\":{\"outlinewidth\":0,\"ticks\":\"\"}},\"colorscale\":{\"sequential\":[[0.0,\"#0d0887\"],[0.1111111111111111,\"#46039f\"],[0.2222222222222222,\"#7201a8\"],[0.3333333333333333,\"#9c179e\"],[0.4444444444444444,\"#bd3786\"],[0.5555555555555556,\"#d8576b\"],[0.6666666666666666,\"#ed7953\"],[0.7777777777777778,\"#fb9f3a\"],[0.8888888888888888,\"#fdca26\"],[1.0,\"#f0f921\"]],\"sequentialminus\":[[0.0,\"#0d0887\"],[0.1111111111111111,\"#46039f\"],[0.2222222222222222,\"#7201a8\"],[0.3333333333333333,\"#9c179e\"],[0.4444444444444444,\"#bd3786\"],[0.5555555555555556,\"#d8576b\"],[0.6666666666666666,\"#ed7953\"],[0.7777777777777778,\"#fb9f3a\"],[0.8888888888888888,\"#fdca26\"],[1.0,\"#f0f921\"]],\"diverging\":[[0,\"#8e0152\"],[0.1,\"#c51b7d\"],[0.2,\"#de77ae\"],[0.3,\"#f1b6da\"],[0.4,\"#fde0ef\"],[0.5,\"#f7f7f7\"],[0.6,\"#e6f5d0\"],[0.7,\"#b8e186\"],[0.8,\"#7fbc41\"],[0.9,\"#4d9221\"],[1,\"#276419\"]]},\"xaxis\":{\"gridcolor\":\"white\",\"linecolor\":\"white\",\"ticks\":\"\",\"title\":{\"standoff\":15},\"zerolinecolor\":\"white\",\"automargin\":true,\"zerolinewidth\":2},\"yaxis\":{\"gridcolor\":\"white\",\"linecolor\":\"white\",\"ticks\":\"\",\"title\":{\"standoff\":15},\"zerolinecolor\":\"white\",\"automargin\":true,\"zerolinewidth\":2},\"scene\":{\"xaxis\":{\"backgroundcolor\":\"#E5ECF6\",\"gridcolor\":\"white\",\"linecolor\":\"white\",\"showbackground\":true,\"ticks\":\"\",\"zerolinecolor\":\"white\",\"gridwidth\":2},\"yaxis\":{\"backgroundcolor\":\"#E5ECF6\",\"gridcolor\":\"white\",\"linecolor\":\"white\",\"showbackground\":true,\"ticks\":\"\",\"zerolinecolor\":\"white\",\"gridwidth\":2},\"zaxis\":{\"backgroundcolor\":\"#E5ECF6\",\"gridcolor\":\"white\",\"linecolor\":\"white\",\"showbackground\":true,\"ticks\":\"\",\"zerolinecolor\":\"white\",\"gridwidth\":2}},\"shapedefaults\":{\"line\":{\"color\":\"#2a3f5f\"}},\"annotationdefaults\":{\"arrowcolor\":\"#2a3f5f\",\"arrowhead\":0,\"arrowwidth\":1},\"geo\":{\"bgcolor\":\"white\",\"landcolor\":\"#E5ECF6\",\"subunitcolor\":\"white\",\"showland\":true,\"showlakes\":true,\"lakecolor\":\"white\"},\"title\":{\"x\":0.05},\"mapbox\":{\"style\":\"light\"}}},\"geo\":{\"domain\":{\"x\":[0.0,1.0],\"y\":[0.0,1.0]},\"projection\":{\"type\":\"natural earth\"},\"center\":{},\"showcountries\":false,\"showcoastlines\":true,\"showland\":true,\"landcolor\":\"lightgray\"},\"legend\":{\"tracegroupgap\":0},\"title\":{\"text\":\"World Map showing PPRL Locations\"},\"margin\":{\"r\":0,\"t\":30,\"l\":0,\"b\":0}},                        {\"responsive\": true}                    ).then(function(){\n",
       "                            \n",
       "var gd = document.getElementById('1aa66429-39d2-49b9-a50c-90585597759a');\n",
       "var x = new MutationObserver(function (mutations, observer) {{\n",
       "        var display = window.getComputedStyle(gd).display;\n",
       "        if (!display || display === 'none') {{\n",
       "            console.log([gd, 'removed!']);\n",
       "            Plotly.purge(gd);\n",
       "            observer.disconnect();\n",
       "        }}\n",
       "}});\n",
       "\n",
       "// Listen for the removal of the full notebook cells\n",
       "var notebookContainer = gd.closest('#notebook-container');\n",
       "if (notebookContainer) {{\n",
       "    x.observe(notebookContainer, {childList: true});\n",
       "}}\n",
       "\n",
       "// Listen for the clearing of the current output cell\n",
       "var outputEl = gd.closest('.output');\n",
       "if (outputEl) {{\n",
       "    x.observe(outputEl, {childList: true});\n",
       "}}\n",
       "\n",
       "                        })                };                });            </script>        </div>"
      ]
     },
     "metadata": {},
     "output_type": "display_data"
    }
   ],
   "source": [
    "import plotly.express as px\n",
    "\n",
    "fig = px.scatter_geo(df_exploded,\n",
    "                     lat='lat',\n",
    "                     lon='lon',\n",
    "                     # text='countries_clean',\n",
    "                     hover_name='countries_clean',\n",
    "                     projection=\"natural earth\",\n",
    "                     title=\"World Map showing PPRL Locations\")\n",
    "\n",
    "# Hide country names (labels), keep borders and land\n",
    "fig.update_geos(\n",
    "    showcountries=False,    # hides country names\n",
    "    showcoastlines=True,\n",
    "    showland=True,\n",
    "    landcolor=\"lightgray\"\n",
    ")\n",
    "\n",
    "# Optional: adjust layout margins if needed\n",
    "fig.update_layout(\n",
    "    margin={\"r\":0, \"t\":30, \"l\":0, \"b\":0}\n",
    ")\n",
    "\n",
    "# Save map\n",
    "fig.write_html(\"maps/map_output_ii.html\")\n",
    "\n",
    "# Show map\n",
    "fig.show()\n"
   ]
  },
  {
   "cell_type": "markdown",
   "id": "4215b282-312d-4300-a7bb-0c528c429aeb",
   "metadata": {},
   "source": [
    "### Map 3 - with size as a factor"
   ]
  },
  {
   "cell_type": "code",
   "execution_count": 59,
   "id": "c94d98d0-711a-4477-b4bc-f53f79a4a667",
   "metadata": {},
   "outputs": [
    {
     "data": {
      "text/html": [
       "<div>\n",
       "<style scoped>\n",
       "    .dataframe tbody tr th:only-of-type {\n",
       "        vertical-align: middle;\n",
       "    }\n",
       "\n",
       "    .dataframe tbody tr th {\n",
       "        vertical-align: top;\n",
       "    }\n",
       "\n",
       "    .dataframe thead th {\n",
       "        text-align: right;\n",
       "    }\n",
       "</style>\n",
       "<table border=\"1\" class=\"dataframe\">\n",
       "  <thead>\n",
       "    <tr style=\"text-align: right;\">\n",
       "      <th></th>\n",
       "      <th>search_#</th>\n",
       "      <th>study_title</th>\n",
       "      <th>link</th>\n",
       "      <th>geographic_region</th>\n",
       "      <th>state_country</th>\n",
       "      <th>city</th>\n",
       "      <th>evaluation</th>\n",
       "      <th>date_done</th>\n",
       "      <th>year</th>\n",
       "      <th>topic</th>\n",
       "      <th>...</th>\n",
       "      <th>mendeley_zotero</th>\n",
       "      <th>citations</th>\n",
       "      <th>Authors_x</th>\n",
       "      <th>Databases</th>\n",
       "      <th>author_affiliation</th>\n",
       "      <th>countries_list</th>\n",
       "      <th>countries_clean</th>\n",
       "      <th>lat</th>\n",
       "      <th>lon</th>\n",
       "      <th>size</th>\n",
       "    </tr>\n",
       "  </thead>\n",
       "  <tbody>\n",
       "    <tr>\n",
       "      <th>0</th>\n",
       "      <td>714153228967</td>\n",
       "      <td>Designing and piloting a generic research arch...</td>\n",
       "      <td>https://doi.org/10.1186/s12967-020-02547-x</td>\n",
       "      <td>Europe;</td>\n",
       "      <td>Germany;</td>\n",
       "      <td>NaN</td>\n",
       "      <td>great</td>\n",
       "      <td>7/14/2025</td>\n",
       "      <td>NaN</td>\n",
       "      <td>Secondary data, Trusted Third Party (TTP), pha...</td>\n",
       "      <td>...</td>\n",
       "      <td>NaN</td>\n",
       "      <td>NaN</td>\n",
       "      <td>NaN</td>\n",
       "      <td>NaN</td>\n",
       "      <td>NaN</td>\n",
       "      <td>Germany</td>\n",
       "      <td>Germany</td>\n",
       "      <td>51.163818</td>\n",
       "      <td>10.447831</td>\n",
       "      <td>14</td>\n",
       "    </tr>\n",
       "    <tr>\n",
       "      <th>1</th>\n",
       "      <td>714153228270</td>\n",
       "      <td>Design and evaluation of a data anonymization ...</td>\n",
       "      <td>https://doi.org/10.1038/s41597-020-00773-y</td>\n",
       "      <td>Europe;</td>\n",
       "      <td>Germany;</td>\n",
       "      <td>NaN</td>\n",
       "      <td>great-practical</td>\n",
       "      <td>7/9/2025</td>\n",
       "      <td>2020.0</td>\n",
       "      <td>Public Use File (PUF); Scientific Use Files (S...</td>\n",
       "      <td>...</td>\n",
       "      <td>NaN</td>\n",
       "      <td>NaN</td>\n",
       "      <td>NaN</td>\n",
       "      <td>NaN</td>\n",
       "      <td>NaN</td>\n",
       "      <td>Germany</td>\n",
       "      <td>Germany</td>\n",
       "      <td>51.163818</td>\n",
       "      <td>10.447831</td>\n",
       "      <td>14</td>\n",
       "    </tr>\n",
       "    <tr>\n",
       "      <th>2</th>\n",
       "      <td>714153228538</td>\n",
       "      <td>Optimization of the Mainzelliste software for ...</td>\n",
       "      <td>https://doi.org/10.1186/s12967-020-02678-1</td>\n",
       "      <td>Europe;</td>\n",
       "      <td>Germany;</td>\n",
       "      <td>German city;</td>\n",
       "      <td>great</td>\n",
       "      <td>7/8/2025</td>\n",
       "      <td>2021.0</td>\n",
       "      <td>blocking methods (such as Soundex, phonetic bl...</td>\n",
       "      <td>...</td>\n",
       "      <td>NaN</td>\n",
       "      <td>J Transl Med. 2021 Jan 15;19(1):33. doi: 10.11...</td>\n",
       "      <td>Rohde F</td>\n",
       "      <td>J Transl Med</td>\n",
       "      <td>NaN</td>\n",
       "      <td>Germany</td>\n",
       "      <td>Germany</td>\n",
       "      <td>51.163818</td>\n",
       "      <td>10.447831</td>\n",
       "      <td>14</td>\n",
       "    </tr>\n",
       "    <tr>\n",
       "      <th>3</th>\n",
       "      <td>714153228748</td>\n",
       "      <td>A Federated Record Linkage Algorithm for Secur...</td>\n",
       "      <td>https://doi.org/10.3233/SHTI210062</td>\n",
       "      <td>Europe;</td>\n",
       "      <td>Germany;</td>\n",
       "      <td>NaN</td>\n",
       "      <td>great-practical</td>\n",
       "      <td>6/28/2025</td>\n",
       "      <td>2021.0</td>\n",
       "      <td>NaN</td>\n",
       "      <td>...</td>\n",
       "      <td>NaN</td>\n",
       "      <td>Stud Health Technol Inform. 2021 May 24;278:14...</td>\n",
       "      <td>Heidt CM</td>\n",
       "      <td>Stud Health Technol Inform</td>\n",
       "      <td>NaN</td>\n",
       "      <td>Germany</td>\n",
       "      <td>Germany</td>\n",
       "      <td>51.163818</td>\n",
       "      <td>10.447831</td>\n",
       "      <td>14</td>\n",
       "    </tr>\n",
       "    <tr>\n",
       "      <th>4</th>\n",
       "      <td>714153228690</td>\n",
       "      <td>Mainzelliste SecureEpiLinker (MainSEL): Privac...</td>\n",
       "      <td>https://doi.org/10.1093/bioinformatics/btaa764</td>\n",
       "      <td>Europe;</td>\n",
       "      <td>Germany;</td>\n",
       "      <td>NaN</td>\n",
       "      <td>good</td>\n",
       "      <td>6/24/2025</td>\n",
       "      <td>2022.0</td>\n",
       "      <td>Linkage blocking techniques recommended to imp...</td>\n",
       "      <td>...</td>\n",
       "      <td>NaN</td>\n",
       "      <td>Bioinformatics. 2022 Mar 4;38(6):1657-1668. do...</td>\n",
       "      <td>Stammler S</td>\n",
       "      <td>Bioinformatics</td>\n",
       "      <td>NaN</td>\n",
       "      <td>Germany</td>\n",
       "      <td>Germany</td>\n",
       "      <td>51.163818</td>\n",
       "      <td>10.447831</td>\n",
       "      <td>14</td>\n",
       "    </tr>\n",
       "  </tbody>\n",
       "</table>\n",
       "<p>5 rows × 93 columns</p>\n",
       "</div>"
      ],
      "text/plain": [
       "       search_#                                        study_title  \\\n",
       "0  714153228967  Designing and piloting a generic research arch...   \n",
       "1  714153228270  Design and evaluation of a data anonymization ...   \n",
       "2  714153228538  Optimization of the Mainzelliste software for ...   \n",
       "3  714153228748  A Federated Record Linkage Algorithm for Secur...   \n",
       "4  714153228690  Mainzelliste SecureEpiLinker (MainSEL): Privac...   \n",
       "\n",
       "                                             link geographic_region  \\\n",
       "0      https://doi.org/10.1186/s12967-020-02547-x           Europe;   \n",
       "1      https://doi.org/10.1038/s41597-020-00773-y           Europe;   \n",
       "2      https://doi.org/10.1186/s12967-020-02678-1           Europe;   \n",
       "3              https://doi.org/10.3233/SHTI210062           Europe;   \n",
       "4  https://doi.org/10.1093/bioinformatics/btaa764           Europe;   \n",
       "\n",
       "  state_country          city       evaluation  date_done    year  \\\n",
       "0      Germany;           NaN            great  7/14/2025     NaN   \n",
       "1      Germany;           NaN  great-practical   7/9/2025  2020.0   \n",
       "2      Germany;  German city;            great   7/8/2025  2021.0   \n",
       "3      Germany;           NaN  great-practical  6/28/2025  2021.0   \n",
       "4      Germany;           NaN             good  6/24/2025  2022.0   \n",
       "\n",
       "                                               topic  ... mendeley_zotero  \\\n",
       "0  Secondary data, Trusted Third Party (TTP), pha...  ...             NaN   \n",
       "1  Public Use File (PUF); Scientific Use Files (S...  ...             NaN   \n",
       "2  blocking methods (such as Soundex, phonetic bl...  ...             NaN   \n",
       "3                                                NaN  ...             NaN   \n",
       "4  Linkage blocking techniques recommended to imp...  ...             NaN   \n",
       "\n",
       "                                           citations   Authors_x  \\\n",
       "0                                                NaN         NaN   \n",
       "1                                                NaN         NaN   \n",
       "2  J Transl Med. 2021 Jan 15;19(1):33. doi: 10.11...     Rohde F   \n",
       "3  Stud Health Technol Inform. 2021 May 24;278:14...    Heidt CM   \n",
       "4  Bioinformatics. 2022 Mar 4;38(6):1657-1668. do...  Stammler S   \n",
       "\n",
       "                    Databases author_affiliation countries_list  \\\n",
       "0                         NaN                NaN        Germany   \n",
       "1                         NaN                NaN        Germany   \n",
       "2                J Transl Med                NaN        Germany   \n",
       "3  Stud Health Technol Inform                NaN        Germany   \n",
       "4              Bioinformatics                NaN        Germany   \n",
       "\n",
       "  countries_clean        lat        lon size  \n",
       "0         Germany  51.163818  10.447831   14  \n",
       "1         Germany  51.163818  10.447831   14  \n",
       "2         Germany  51.163818  10.447831   14  \n",
       "3         Germany  51.163818  10.447831   14  \n",
       "4         Germany  51.163818  10.447831   14  \n",
       "\n",
       "[5 rows x 93 columns]"
      ]
     },
     "execution_count": 59,
     "metadata": {},
     "output_type": "execute_result"
    }
   ],
   "source": [
    "# Count occurrences of each location\n",
    "size_df = df_exploded['countries_clean'].value_counts().reset_index()\n",
    "size_df.columns = ['countries_clean', 'size']\n",
    "\n",
    "# Merge back to main DataFrame\n",
    "df_exploded = df_exploded.merge(size_df, on='countries_clean')\n",
    "df_exploded.head()"
   ]
  },
  {
   "cell_type": "code",
   "execution_count": 79,
   "id": "37c803c7-71ea-455f-b8df-0850b4f9f230",
   "metadata": {},
   "outputs": [
    {
     "data": {
      "application/vnd.plotly.v1+json": {
       "config": {
        "plotlyServerURL": "https://plot.ly"
       },
       "data": [
        {
         "geo": "geo",
         "hovertemplate": "<b>%{hovertext}</b><br><br>countries_clean=Germany<br>size=%{marker.size}<br>lat=%{lat}<br>lon=%{lon}<extra></extra>",
         "hovertext": [
          "Germany",
          "Germany",
          "Germany",
          "Germany",
          "Germany",
          "Germany",
          "Germany",
          "Germany",
          "Germany",
          "Germany",
          "Germany",
          "Germany",
          "Germany",
          "Germany"
         ],
         "lat": [
          51.1638175,
          51.1638175,
          51.1638175,
          51.1638175,
          51.1638175,
          51.1638175,
          51.1638175,
          51.1638175,
          51.1638175,
          51.1638175,
          51.1638175,
          51.1638175,
          51.1638175,
          51.1638175
         ],
         "legendgroup": "Germany",
         "lon": [
          10.4478313,
          10.4478313,
          10.4478313,
          10.4478313,
          10.4478313,
          10.4478313,
          10.4478313,
          10.4478313,
          10.4478313,
          10.4478313,
          10.4478313,
          10.4478313,
          10.4478313,
          10.4478313
         ],
         "marker": {
          "color": "#636efa",
          "size": [
           14,
           14,
           14,
           14,
           14,
           14,
           14,
           14,
           14,
           14,
           14,
           14,
           14,
           14
          ],
          "sizemode": "area",
          "sizeref": 0.035,
          "symbol": "circle"
         },
         "mode": "markers",
         "name": "Germany",
         "showlegend": true,
         "type": "scattergeo"
        },
        {
         "geo": "geo",
         "hovertemplate": "<b>%{hovertext}</b><br><br>countries_clean=England<br>size=%{marker.size}<br>lat=%{lat}<br>lon=%{lon}<extra></extra>",
         "hovertext": [
          "England",
          "England",
          "England",
          "England",
          "England",
          "England",
          "England",
          "England"
         ],
         "lat": [
          52.5310214,
          52.5310214,
          52.5310214,
          52.5310214,
          52.5310214,
          52.5310214,
          52.5310214,
          52.5310214
         ],
         "legendgroup": "England",
         "lon": [
          -1.2649062,
          -1.2649062,
          -1.2649062,
          -1.2649062,
          -1.2649062,
          -1.2649062,
          -1.2649062,
          -1.2649062
         ],
         "marker": {
          "color": "#EF553B",
          "size": [
           8,
           8,
           8,
           8,
           8,
           8,
           8,
           8
          ],
          "sizemode": "area",
          "sizeref": 0.035,
          "symbol": "circle"
         },
         "mode": "markers",
         "name": "England",
         "showlegend": true,
         "type": "scattergeo"
        },
        {
         "geo": "geo",
         "hovertemplate": "<b>%{hovertext}</b><br><br>countries_clean=Japan<br>size=%{marker.size}<br>lat=%{lat}<br>lon=%{lon}<extra></extra>",
         "hovertext": [
          "Japan",
          "Japan",
          "Japan",
          "Japan",
          "Japan"
         ],
         "lat": [
          36.5748441,
          36.5748441,
          36.5748441,
          36.5748441,
          36.5748441
         ],
         "legendgroup": "Japan",
         "lon": [
          139.2394179,
          139.2394179,
          139.2394179,
          139.2394179,
          139.2394179
         ],
         "marker": {
          "color": "#00cc96",
          "size": [
           5,
           5,
           5,
           5,
           5
          ],
          "sizemode": "area",
          "sizeref": 0.035,
          "symbol": "circle"
         },
         "mode": "markers",
         "name": "Japan",
         "showlegend": true,
         "type": "scattergeo"
        },
        {
         "geo": "geo",
         "hovertemplate": "<b>%{hovertext}</b><br><br>countries_clean=Switzerland<br>size=%{marker.size}<br>lat=%{lat}<br>lon=%{lon}<extra></extra>",
         "hovertext": [
          "Switzerland",
          "Switzerland",
          "Switzerland",
          "Switzerland"
         ],
         "lat": [
          46.7985624,
          46.7985624,
          46.7985624,
          46.7985624
         ],
         "legendgroup": "Switzerland",
         "lon": [
          8.2319736,
          8.2319736,
          8.2319736,
          8.2319736
         ],
         "marker": {
          "color": "#ab63fa",
          "size": [
           4,
           4,
           4,
           4
          ],
          "sizemode": "area",
          "sizeref": 0.035,
          "symbol": "circle"
         },
         "mode": "markers",
         "name": "Switzerland",
         "showlegend": true,
         "type": "scattergeo"
        },
        {
         "geo": "geo",
         "hovertemplate": "<b>%{hovertext}</b><br><br>countries_clean=USA<br>size=%{marker.size}<br>lat=%{lat}<br>lon=%{lon}<extra></extra>",
         "hovertext": [
          "USA",
          "USA"
         ],
         "lat": [
          39.7837304,
          39.7837304
         ],
         "legendgroup": "USA",
         "lon": [
          -100.445882,
          -100.445882
         ],
         "marker": {
          "color": "#FFA15A",
          "size": [
           2,
           2
          ],
          "sizemode": "area",
          "sizeref": 0.035,
          "symbol": "circle"
         },
         "mode": "markers",
         "name": "USA",
         "showlegend": true,
         "type": "scattergeo"
        },
        {
         "geo": "geo",
         "hovertemplate": "<b>%{hovertext}</b><br><br>countries_clean=New South Wales<br>size=%{marker.size}<br>lat=%{lat}<br>lon=%{lon}<extra></extra>",
         "hovertext": [
          "New South Wales",
          "New South Wales",
          "New South Wales",
          "New South Wales",
          "New South Wales",
          "New South Wales",
          "New South Wales",
          "New South Wales",
          "New South Wales"
         ],
         "lat": [
          -31.8759835,
          -31.8759835,
          -31.8759835,
          -31.8759835,
          -31.8759835,
          -31.8759835,
          -31.8759835,
          -31.8759835,
          -31.8759835
         ],
         "legendgroup": "New South Wales",
         "lon": [
          147.2869493,
          147.2869493,
          147.2869493,
          147.2869493,
          147.2869493,
          147.2869493,
          147.2869493,
          147.2869493,
          147.2869493
         ],
         "marker": {
          "color": "#19d3f3",
          "size": [
           9,
           9,
           9,
           9,
           9,
           9,
           9,
           9,
           9
          ],
          "sizemode": "area",
          "sizeref": 0.035,
          "symbol": "circle"
         },
         "mode": "markers",
         "name": "New South Wales",
         "showlegend": true,
         "type": "scattergeo"
        },
        {
         "geo": "geo",
         "hovertemplate": "<b>%{hovertext}</b><br><br>countries_clean=North Carolina<br>size=%{marker.size}<br>lat=%{lat}<br>lon=%{lon}<extra></extra>",
         "hovertext": [
          "North Carolina",
          "North Carolina",
          "North Carolina",
          "North Carolina",
          "North Carolina"
         ],
         "lat": [
          35.6729639,
          35.6729639,
          35.6729639,
          35.6729639,
          35.6729639
         ],
         "legendgroup": "North Carolina",
         "lon": [
          -79.0392919,
          -79.0392919,
          -79.0392919,
          -79.0392919,
          -79.0392919
         ],
         "marker": {
          "color": "#FF6692",
          "size": [
           5,
           5,
           5,
           5,
           5
          ],
          "sizemode": "area",
          "sizeref": 0.035,
          "symbol": "circle"
         },
         "mode": "markers",
         "name": "North Carolina",
         "showlegend": true,
         "type": "scattergeo"
        },
        {
         "geo": "geo",
         "hovertemplate": "<b>%{hovertext}</b><br><br>countries_clean=Michigan<br>size=%{marker.size}<br>lat=%{lat}<br>lon=%{lon}<extra></extra>",
         "hovertext": [
          "Michigan",
          "Michigan"
         ],
         "lat": [
          43.6211955,
          43.6211955
         ],
         "legendgroup": "Michigan",
         "lon": [
          -84.6824346,
          -84.6824346
         ],
         "marker": {
          "color": "#B6E880",
          "size": [
           2,
           2
          ],
          "sizemode": "area",
          "sizeref": 0.035,
          "symbol": "circle"
         },
         "mode": "markers",
         "name": "Michigan",
         "showlegend": true,
         "type": "scattergeo"
        },
        {
         "geo": "geo",
         "hovertemplate": "<b>%{hovertext}</b><br><br>countries_clean=Nigeria<br>size=%{marker.size}<br>lat=%{lat}<br>lon=%{lon}<extra></extra>",
         "hovertext": [
          "Nigeria"
         ],
         "lat": [
          9.6000359
         ],
         "legendgroup": "Nigeria",
         "lon": [
          7.9999721
         ],
         "marker": {
          "color": "#FF97FF",
          "size": [
           1
          ],
          "sizemode": "area",
          "sizeref": 0.035,
          "symbol": "circle"
         },
         "mode": "markers",
         "name": "Nigeria",
         "showlegend": true,
         "type": "scattergeo"
        },
        {
         "geo": "geo",
         "hovertemplate": "<b>%{hovertext}</b><br><br>countries_clean=Brazil<br>size=%{marker.size}<br>lat=%{lat}<br>lon=%{lon}<extra></extra>",
         "hovertext": [
          "Brazil",
          "Brazil"
         ],
         "lat": [
          -10.3333333,
          -10.3333333
         ],
         "legendgroup": "Brazil",
         "lon": [
          -53.2,
          -53.2
         ],
         "marker": {
          "color": "#FECB52",
          "size": [
           2,
           2
          ],
          "sizemode": "area",
          "sizeref": 0.035,
          "symbol": "circle"
         },
         "mode": "markers",
         "name": "Brazil",
         "showlegend": true,
         "type": "scattergeo"
        },
        {
         "geo": "geo",
         "hovertemplate": "<b>%{hovertext}</b><br><br>countries_clean=United Kingdom<br>size=%{marker.size}<br>lat=%{lat}<br>lon=%{lon}<extra></extra>",
         "hovertext": [
          "United Kingdom",
          "United Kingdom",
          "United Kingdom",
          "United Kingdom",
          "United Kingdom"
         ],
         "lat": [
          54.7023545,
          54.7023545,
          54.7023545,
          54.7023545,
          54.7023545
         ],
         "legendgroup": "United Kingdom",
         "lon": [
          -3.2765753,
          -3.2765753,
          -3.2765753,
          -3.2765753,
          -3.2765753
         ],
         "marker": {
          "color": "#636efa",
          "size": [
           5,
           5,
           5,
           5,
           5
          ],
          "sizemode": "area",
          "sizeref": 0.035,
          "symbol": "circle"
         },
         "mode": "markers",
         "name": "United Kingdom",
         "showlegend": true,
         "type": "scattergeo"
        },
        {
         "geo": "geo",
         "hovertemplate": "<b>%{hovertext}</b><br><br>countries_clean=Illinois<br>size=%{marker.size}<br>lat=%{lat}<br>lon=%{lon}<extra></extra>",
         "hovertext": [
          "Illinois",
          "Illinois"
         ],
         "lat": [
          40.0796606,
          40.0796606
         ],
         "legendgroup": "Illinois",
         "lon": [
          -89.4337288,
          -89.4337288
         ],
         "marker": {
          "color": "#EF553B",
          "size": [
           2,
           2
          ],
          "sizemode": "area",
          "sizeref": 0.035,
          "symbol": "circle"
         },
         "mode": "markers",
         "name": "Illinois",
         "showlegend": true,
         "type": "scattergeo"
        },
        {
         "geo": "geo",
         "hovertemplate": "<b>%{hovertext}</b><br><br>countries_clean=Wales<br>size=%{marker.size}<br>lat=%{lat}<br>lon=%{lon}<extra></extra>",
         "hovertext": [
          "Wales",
          "Wales",
          "Wales",
          "Wales",
          "Wales",
          "Wales",
          "Wales",
          "Wales",
          "Wales",
          "Wales",
          "Wales"
         ],
         "lat": [
          52.2928116,
          52.2928116,
          52.2928116,
          52.2928116,
          52.2928116,
          52.2928116,
          52.2928116,
          52.2928116,
          52.2928116,
          52.2928116,
          52.2928116
         ],
         "legendgroup": "Wales",
         "lon": [
          -3.73893,
          -3.73893,
          -3.73893,
          -3.73893,
          -3.73893,
          -3.73893,
          -3.73893,
          -3.73893,
          -3.73893,
          -3.73893,
          -3.73893
         ],
         "marker": {
          "color": "#00cc96",
          "size": [
           11,
           11,
           11,
           11,
           11,
           11,
           11,
           11,
           11,
           11,
           11
          ],
          "sizemode": "area",
          "sizeref": 0.035,
          "symbol": "circle"
         },
         "mode": "markers",
         "name": "Wales",
         "showlegend": true,
         "type": "scattergeo"
        },
        {
         "geo": "geo",
         "hovertemplate": "<b>%{hovertext}</b><br><br>countries_clean=Western Australia<br>size=%{marker.size}<br>lat=%{lat}<br>lon=%{lon}<extra></extra>",
         "hovertext": [
          "Western Australia",
          "Western Australia",
          "Western Australia",
          "Western Australia",
          "Western Australia",
          "Western Australia"
         ],
         "lat": [
          -25.2303005,
          -25.2303005,
          -25.2303005,
          -25.2303005,
          -25.2303005,
          -25.2303005
         ],
         "legendgroup": "Western Australia",
         "lon": [
          121.0187246,
          121.0187246,
          121.0187246,
          121.0187246,
          121.0187246,
          121.0187246
         ],
         "marker": {
          "color": "#ab63fa",
          "size": [
           6,
           6,
           6,
           6,
           6,
           6
          ],
          "sizemode": "area",
          "sizeref": 0.035,
          "symbol": "circle"
         },
         "mode": "markers",
         "name": "Western Australia",
         "showlegend": true,
         "type": "scattergeo"
        },
        {
         "geo": "geo",
         "hovertemplate": "<b>%{hovertext}</b><br><br>countries_clean=London<br>size=%{marker.size}<br>lat=%{lat}<br>lon=%{lon}<extra></extra>",
         "hovertext": [
          "London"
         ],
         "lat": [
          51.4893335
         ],
         "legendgroup": "London",
         "lon": [
          -0.1440551
         ],
         "marker": {
          "color": "#FFA15A",
          "size": [
           1
          ],
          "sizemode": "area",
          "sizeref": 0.035,
          "symbol": "circle"
         },
         "mode": "markers",
         "name": "London",
         "showlegend": true,
         "type": "scattergeo"
        },
        {
         "geo": "geo",
         "hovertemplate": "<b>%{hovertext}</b><br><br>countries_clean=New York<br>size=%{marker.size}<br>lat=%{lat}<br>lon=%{lon}<extra></extra>",
         "hovertext": [
          "New York",
          "New York",
          "New York",
          "New York",
          "New York",
          "New York"
         ],
         "lat": [
          40.7127281,
          40.7127281,
          40.7127281,
          40.7127281,
          40.7127281,
          40.7127281
         ],
         "legendgroup": "New York",
         "lon": [
          -74.0060152,
          -74.0060152,
          -74.0060152,
          -74.0060152,
          -74.0060152,
          -74.0060152
         ],
         "marker": {
          "color": "#19d3f3",
          "size": [
           6,
           6,
           6,
           6,
           6,
           6
          ],
          "sizemode": "area",
          "sizeref": 0.035,
          "symbol": "circle"
         },
         "mode": "markers",
         "name": "New York",
         "showlegend": true,
         "type": "scattergeo"
        },
        {
         "geo": "geo",
         "hovertemplate": "<b>%{hovertext}</b><br><br>countries_clean=Northern Ireland<br>size=%{marker.size}<br>lat=%{lat}<br>lon=%{lon}<extra></extra>",
         "hovertext": [
          "Northern Ireland",
          "Northern Ireland",
          "Northern Ireland"
         ],
         "lat": [
          54.5859836,
          54.5859836,
          54.5859836
         ],
         "legendgroup": "Northern Ireland",
         "lon": [
          -6.9591554,
          -6.9591554,
          -6.9591554
         ],
         "marker": {
          "color": "#FF6692",
          "size": [
           3,
           3,
           3
          ],
          "sizemode": "area",
          "sizeref": 0.035,
          "symbol": "circle"
         },
         "mode": "markers",
         "name": "Northern Ireland",
         "showlegend": true,
         "type": "scattergeo"
        },
        {
         "geo": "geo",
         "hovertemplate": "<b>%{hovertext}</b><br><br>countries_clean=China<br>size=%{marker.size}<br>lat=%{lat}<br>lon=%{lon}<extra></extra>",
         "hovertext": [
          "China",
          "China",
          "China"
         ],
         "lat": [
          35.0000663,
          35.0000663,
          35.0000663
         ],
         "legendgroup": "China",
         "lon": [
          104.999955,
          104.999955,
          104.999955
         ],
         "marker": {
          "color": "#B6E880",
          "size": [
           3,
           3,
           3
          ],
          "sizemode": "area",
          "sizeref": 0.035,
          "symbol": "circle"
         },
         "mode": "markers",
         "name": "China",
         "showlegend": true,
         "type": "scattergeo"
        },
        {
         "geo": "geo",
         "hovertemplate": "<b>%{hovertext}</b><br><br>countries_clean=South Africa<br>size=%{marker.size}<br>lat=%{lat}<br>lon=%{lon}<extra></extra>",
         "hovertext": [
          "South Africa",
          "South Africa",
          "South Africa",
          "South Africa",
          "South Africa"
         ],
         "lat": [
          -28.8166236,
          -28.8166236,
          -28.8166236,
          -28.8166236,
          -28.8166236
         ],
         "legendgroup": "South Africa",
         "lon": [
          24.991639,
          24.991639,
          24.991639,
          24.991639,
          24.991639
         ],
         "marker": {
          "color": "#FF97FF",
          "size": [
           5,
           5,
           5,
           5,
           5
          ],
          "sizemode": "area",
          "sizeref": 0.035,
          "symbol": "circle"
         },
         "mode": "markers",
         "name": "South Africa",
         "showlegend": true,
         "type": "scattergeo"
        },
        {
         "geo": "geo",
         "hovertemplate": "<b>%{hovertext}</b><br><br>countries_clean=Florida<br>size=%{marker.size}<br>lat=%{lat}<br>lon=%{lon}<extra></extra>",
         "hovertext": [
          "Florida",
          "Florida"
         ],
         "lat": [
          27.7567667,
          27.7567667
         ],
         "legendgroup": "Florida",
         "lon": [
          -81.4639835,
          -81.4639835
         ],
         "marker": {
          "color": "#FECB52",
          "size": [
           2,
           2
          ],
          "sizemode": "area",
          "sizeref": 0.035,
          "symbol": "circle"
         },
         "mode": "markers",
         "name": "Florida",
         "showlegend": true,
         "type": "scattergeo"
        },
        {
         "geo": "geo",
         "hovertemplate": "<b>%{hovertext}</b><br><br>countries_clean=Taiwan<br>size=%{marker.size}<br>lat=%{lat}<br>lon=%{lon}<extra></extra>",
         "hovertext": [
          "Taiwan"
         ],
         "lat": [
          23.9739374
         ],
         "legendgroup": "Taiwan",
         "lon": [
          120.9820179
         ],
         "marker": {
          "color": "#636efa",
          "size": [
           1
          ],
          "sizemode": "area",
          "sizeref": 0.035,
          "symbol": "circle"
         },
         "mode": "markers",
         "name": "Taiwan",
         "showlegend": true,
         "type": "scattergeo"
        },
        {
         "geo": "geo",
         "hovertemplate": "<b>%{hovertext}</b><br><br>countries_clean=Colorado<br>size=%{marker.size}<br>lat=%{lat}<br>lon=%{lon}<extra></extra>",
         "hovertext": [
          "Colorado",
          "Colorado",
          "Colorado"
         ],
         "lat": [
          38.7251776,
          38.7251776,
          38.7251776
         ],
         "legendgroup": "Colorado",
         "lon": [
          -105.607716,
          -105.607716,
          -105.607716
         ],
         "marker": {
          "color": "#EF553B",
          "size": [
           3,
           3,
           3
          ],
          "sizemode": "area",
          "sizeref": 0.035,
          "symbol": "circle"
         },
         "mode": "markers",
         "name": "Colorado",
         "showlegend": true,
         "type": "scattergeo"
        },
        {
         "geo": "geo",
         "hovertemplate": "<b>%{hovertext}</b><br><br>countries_clean=Norway<br>size=%{marker.size}<br>lat=%{lat}<br>lon=%{lon}<extra></extra>",
         "hovertext": [
          "Norway",
          "Norway"
         ],
         "lat": [
          61.1529386,
          61.1529386
         ],
         "legendgroup": "Norway",
         "lon": [
          8.7876653,
          8.7876653
         ],
         "marker": {
          "color": "#00cc96",
          "size": [
           2,
           2
          ],
          "sizemode": "area",
          "sizeref": 0.035,
          "symbol": "circle"
         },
         "mode": "markers",
         "name": "Norway",
         "showlegend": true,
         "type": "scattergeo"
        },
        {
         "geo": "geo",
         "hovertemplate": "<b>%{hovertext}</b><br><br>countries_clean=Queensland<br>size=%{marker.size}<br>lat=%{lat}<br>lon=%{lon}<extra></extra>",
         "hovertext": [
          "Queensland",
          "Queensland"
         ],
         "lat": [
          -22.1646782,
          -22.1646782
         ],
         "legendgroup": "Queensland",
         "lon": [
          144.5844903,
          144.5844903
         ],
         "marker": {
          "color": "#ab63fa",
          "size": [
           2,
           2
          ],
          "sizemode": "area",
          "sizeref": 0.035,
          "symbol": "circle"
         },
         "mode": "markers",
         "name": "Queensland",
         "showlegend": true,
         "type": "scattergeo"
        },
        {
         "geo": "geo",
         "hovertemplate": "<b>%{hovertext}</b><br><br>countries_clean=Western Australian<br>size=%{marker.size}<br>lat=%{lat}<br>lon=%{lon}<extra></extra>",
         "hovertext": [
          "Western Australian",
          "Western Australian"
         ],
         "lat": [
          6.9100265,
          6.9100265
         ],
         "legendgroup": "Western Australian",
         "lon": [
          79.8689028,
          79.8689028
         ],
         "marker": {
          "color": "#FFA15A",
          "size": [
           2,
           2
          ],
          "sizemode": "area",
          "sizeref": 0.035,
          "symbol": "circle"
         },
         "mode": "markers",
         "name": "Western Australian",
         "showlegend": true,
         "type": "scattergeo"
        },
        {
         "geo": "geo",
         "hovertemplate": "<b>%{hovertext}</b><br><br>countries_clean=Austria<br>size=%{marker.size}<br>lat=%{lat}<br>lon=%{lon}<extra></extra>",
         "hovertext": [
          "Austria"
         ],
         "lat": [
          47.59397
         ],
         "legendgroup": "Austria",
         "lon": [
          14.12456
         ],
         "marker": {
          "color": "#19d3f3",
          "size": [
           1
          ],
          "sizemode": "area",
          "sizeref": 0.035,
          "symbol": "circle"
         },
         "mode": "markers",
         "name": "Austria",
         "showlegend": true,
         "type": "scattergeo"
        },
        {
         "geo": "geo",
         "hovertemplate": "<b>%{hovertext}</b><br><br>countries_clean=Europe<br>size=%{marker.size}<br>lat=%{lat}<br>lon=%{lon}<extra></extra>",
         "hovertext": [
          "Europe"
         ],
         "lat": [
          51
         ],
         "legendgroup": "Europe",
         "lon": [
          10
         ],
         "marker": {
          "color": "#FF6692",
          "size": [
           1
          ],
          "sizemode": "area",
          "sizeref": 0.035,
          "symbol": "circle"
         },
         "mode": "markers",
         "name": "Europe",
         "showlegend": true,
         "type": "scattergeo"
        },
        {
         "geo": "geo",
         "hovertemplate": "<b>%{hovertext}</b><br><br>countries_clean=New Zealand<br>size=%{marker.size}<br>lat=%{lat}<br>lon=%{lon}<extra></extra>",
         "hovertext": [
          "New Zealand"
         ],
         "lat": [
          -41.5000831
         ],
         "legendgroup": "New Zealand",
         "lon": [
          172.8344077
         ],
         "marker": {
          "color": "#B6E880",
          "size": [
           1
          ],
          "sizemode": "area",
          "sizeref": 0.035,
          "symbol": "circle"
         },
         "mode": "markers",
         "name": "New Zealand",
         "showlegend": true,
         "type": "scattergeo"
        },
        {
         "geo": "geo",
         "hovertemplate": "<b>%{hovertext}</b><br><br>countries_clean=Netherlands<br>size=%{marker.size}<br>lat=%{lat}<br>lon=%{lon}<extra></extra>",
         "hovertext": [
          "Netherlands",
          "Netherlands"
         ],
         "lat": [
          52.2434979,
          52.2434979
         ],
         "legendgroup": "Netherlands",
         "lon": [
          5.6343227,
          5.6343227
         ],
         "marker": {
          "color": "#FF97FF",
          "size": [
           2,
           2
          ],
          "sizemode": "area",
          "sizeref": 0.035,
          "symbol": "circle"
         },
         "mode": "markers",
         "name": "Netherlands",
         "showlegend": true,
         "type": "scattergeo"
        },
        {
         "geo": "geo",
         "hovertemplate": "<b>%{hovertext}</b><br><br>countries_clean=Spain<br>size=%{marker.size}<br>lat=%{lat}<br>lon=%{lon}<extra></extra>",
         "hovertext": [
          "Spain"
         ],
         "lat": [
          39.3260685
         ],
         "legendgroup": "Spain",
         "lon": [
          -4.8379791
         ],
         "marker": {
          "color": "#FECB52",
          "size": [
           1
          ],
          "sizemode": "area",
          "sizeref": 0.035,
          "symbol": "circle"
         },
         "mode": "markers",
         "name": "Spain",
         "showlegend": true,
         "type": "scattergeo"
        },
        {
         "geo": "geo",
         "hovertemplate": "<b>%{hovertext}</b><br><br>countries_clean=Finland<br>size=%{marker.size}<br>lat=%{lat}<br>lon=%{lon}<extra></extra>",
         "hovertext": [
          "Finland",
          "Finland",
          "Finland"
         ],
         "lat": [
          63.2467777,
          63.2467777,
          63.2467777
         ],
         "legendgroup": "Finland",
         "lon": [
          25.9209164,
          25.9209164,
          25.9209164
         ],
         "marker": {
          "color": "#636efa",
          "size": [
           3,
           3,
           3
          ],
          "sizemode": "area",
          "sizeref": 0.035,
          "symbol": "circle"
         },
         "mode": "markers",
         "name": "Finland",
         "showlegend": true,
         "type": "scattergeo"
        },
        {
         "geo": "geo",
         "hovertemplate": "<b>%{hovertext}</b><br><br>countries_clean=Ireland<br>size=%{marker.size}<br>lat=%{lat}<br>lon=%{lon}<extra></extra>",
         "hovertext": [
          "Ireland"
         ],
         "lat": [
          52.865196
         ],
         "legendgroup": "Ireland",
         "lon": [
          -7.9794599
         ],
         "marker": {
          "color": "#EF553B",
          "size": [
           1
          ],
          "sizemode": "area",
          "sizeref": 0.035,
          "symbol": "circle"
         },
         "mode": "markers",
         "name": "Ireland",
         "showlegend": true,
         "type": "scattergeo"
        },
        {
         "geo": "geo",
         "hovertemplate": "<b>%{hovertext}</b><br><br>countries_clean=Australia<br>size=%{marker.size}<br>lat=%{lat}<br>lon=%{lon}<extra></extra>",
         "hovertext": [
          "Australia",
          "Australia",
          "Australia",
          "Australia"
         ],
         "lat": [
          -24.7761086,
          -24.7761086,
          -24.7761086,
          -24.7761086
         ],
         "legendgroup": "Australia",
         "lon": [
          134.755,
          134.755,
          134.755,
          134.755
         ],
         "marker": {
          "color": "#00cc96",
          "size": [
           4,
           4,
           4,
           4
          ],
          "sizemode": "area",
          "sizeref": 0.035,
          "symbol": "circle"
         },
         "mode": "markers",
         "name": "Australia",
         "showlegend": true,
         "type": "scattergeo"
        },
        {
         "geo": "geo",
         "hovertemplate": "<b>%{hovertext}</b><br><br>countries_clean=Belgium<br>size=%{marker.size}<br>lat=%{lat}<br>lon=%{lon}<extra></extra>",
         "hovertext": [
          "Belgium"
         ],
         "lat": [
          50.6402809
         ],
         "legendgroup": "Belgium",
         "lon": [
          4.6667145
         ],
         "marker": {
          "color": "#ab63fa",
          "size": [
           1
          ],
          "sizemode": "area",
          "sizeref": 0.035,
          "symbol": "circle"
         },
         "mode": "markers",
         "name": "Belgium",
         "showlegend": true,
         "type": "scattergeo"
        },
        {
         "geo": "geo",
         "hovertemplate": "<b>%{hovertext}</b><br><br>countries_clean=Commonwealth of Australia<br>size=%{marker.size}<br>lat=%{lat}<br>lon=%{lon}<extra></extra>",
         "hovertext": [
          "Commonwealth of Australia"
         ],
         "lat": [
          -24.7761086
         ],
         "legendgroup": "Commonwealth of Australia",
         "lon": [
          134.755
         ],
         "marker": {
          "color": "#FFA15A",
          "size": [
           1
          ],
          "sizemode": "area",
          "sizeref": 0.035,
          "symbol": "circle"
         },
         "mode": "markers",
         "name": "Commonwealth of Australia",
         "showlegend": true,
         "type": "scattergeo"
        },
        {
         "geo": "geo",
         "hovertemplate": "<b>%{hovertext}</b><br><br>countries_clean=Texas<br>size=%{marker.size}<br>lat=%{lat}<br>lon=%{lon}<extra></extra>",
         "hovertext": [
          "Texas",
          "Texas",
          "Texas",
          "Texas"
         ],
         "lat": [
          31.2638905,
          31.2638905,
          31.2638905,
          31.2638905
         ],
         "legendgroup": "Texas",
         "lon": [
          -98.5456116,
          -98.5456116,
          -98.5456116,
          -98.5456116
         ],
         "marker": {
          "color": "#19d3f3",
          "size": [
           4,
           4,
           4,
           4
          ],
          "sizemode": "area",
          "sizeref": 0.035,
          "symbol": "circle"
         },
         "mode": "markers",
         "name": "Texas",
         "showlegend": true,
         "type": "scattergeo"
        },
        {
         "geo": "geo",
         "hovertemplate": "<b>%{hovertext}</b><br><br>countries_clean=Maryland<br>size=%{marker.size}<br>lat=%{lat}<br>lon=%{lon}<extra></extra>",
         "hovertext": [
          "Maryland"
         ],
         "lat": [
          39.5162401
         ],
         "legendgroup": "Maryland",
         "lon": [
          -76.9382069
         ],
         "marker": {
          "color": "#FF6692",
          "size": [
           1
          ],
          "sizemode": "area",
          "sizeref": 0.035,
          "symbol": "circle"
         },
         "mode": "markers",
         "name": "Maryland",
         "showlegend": true,
         "type": "scattergeo"
        },
        {
         "geo": "geo",
         "hovertemplate": "<b>%{hovertext}</b><br><br>countries_clean=Indiana<br>size=%{marker.size}<br>lat=%{lat}<br>lon=%{lon}<extra></extra>",
         "hovertext": [
          "Indiana"
         ],
         "lat": [
          40.3270127
         ],
         "legendgroup": "Indiana",
         "lon": [
          -86.1746933
         ],
         "marker": {
          "color": "#B6E880",
          "size": [
           1
          ],
          "sizemode": "area",
          "sizeref": 0.035,
          "symbol": "circle"
         },
         "mode": "markers",
         "name": "Indiana",
         "showlegend": true,
         "type": "scattergeo"
        },
        {
         "geo": "geo",
         "hovertemplate": "<b>%{hovertext}</b><br><br>countries_clean=United States<br>size=%{marker.size}<br>lat=%{lat}<br>lon=%{lon}<extra></extra>",
         "hovertext": [
          "United States"
         ],
         "lat": [
          39.7837304
         ],
         "legendgroup": "United States",
         "lon": [
          -100.445882
         ],
         "marker": {
          "color": "#FF97FF",
          "size": [
           1
          ],
          "sizemode": "area",
          "sizeref": 0.035,
          "symbol": "circle"
         },
         "mode": "markers",
         "name": "United States",
         "showlegend": true,
         "type": "scattergeo"
        },
        {
         "geo": "geo",
         "hovertemplate": "<b>%{hovertext}</b><br><br>countries_clean=Scotland<br>size=%{marker.size}<br>lat=%{lat}<br>lon=%{lon}<extra></extra>",
         "hovertext": [
          "Scotland",
          "Scotland",
          "Scotland",
          "Scotland"
         ],
         "lat": [
          56.7861112,
          56.7861112,
          56.7861112,
          56.7861112
         ],
         "legendgroup": "Scotland",
         "lon": [
          -4.1140518,
          -4.1140518,
          -4.1140518,
          -4.1140518
         ],
         "marker": {
          "color": "#FECB52",
          "size": [
           4,
           4,
           4,
           4
          ],
          "sizemode": "area",
          "sizeref": 0.035,
          "symbol": "circle"
         },
         "mode": "markers",
         "name": "Scotland",
         "showlegend": true,
         "type": "scattergeo"
        },
        {
         "geo": "geo",
         "hovertemplate": "<b>%{hovertext}</b><br><br>countries_clean=Victoria<br>size=%{marker.size}<br>lat=%{lat}<br>lon=%{lon}<extra></extra>",
         "hovertext": [
          "Victoria",
          "Victoria",
          "Victoria"
         ],
         "lat": [
          -36.5986096,
          -36.5986096,
          -36.5986096
         ],
         "legendgroup": "Victoria",
         "lon": [
          144.6780052,
          144.6780052,
          144.6780052
         ],
         "marker": {
          "color": "#636efa",
          "size": [
           3,
           3,
           3
          ],
          "sizemode": "area",
          "sizeref": 0.035,
          "symbol": "circle"
         },
         "mode": "markers",
         "name": "Victoria",
         "showlegend": true,
         "type": "scattergeo"
        },
        {
         "geo": "geo",
         "hovertemplate": "<b>%{hovertext}</b><br><br>countries_clean=Connecticut<br>size=%{marker.size}<br>lat=%{lat}<br>lon=%{lon}<extra></extra>",
         "hovertext": [
          "Connecticut",
          "Connecticut",
          "Connecticut"
         ],
         "lat": [
          41.6500201,
          41.6500201,
          41.6500201
         ],
         "legendgroup": "Connecticut",
         "lon": [
          -72.7342163,
          -72.7342163,
          -72.7342163
         ],
         "marker": {
          "color": "#EF553B",
          "size": [
           3,
           3,
           3
          ],
          "sizemode": "area",
          "sizeref": 0.035,
          "symbol": "circle"
         },
         "mode": "markers",
         "name": "Connecticut",
         "showlegend": true,
         "type": "scattergeo"
        },
        {
         "geo": "geo",
         "hovertemplate": "<b>%{hovertext}</b><br><br>countries_clean=Canada<br>size=%{marker.size}<br>lat=%{lat}<br>lon=%{lon}<extra></extra>",
         "hovertext": [
          "Canada",
          "Canada"
         ],
         "lat": [
          61.0666922,
          61.0666922
         ],
         "legendgroup": "Canada",
         "lon": [
          -107.991707,
          -107.991707
         ],
         "marker": {
          "color": "#00cc96",
          "size": [
           2,
           2
          ],
          "sizemode": "area",
          "sizeref": 0.035,
          "symbol": "circle"
         },
         "mode": "markers",
         "name": "Canada",
         "showlegend": true,
         "type": "scattergeo"
        },
        {
         "geo": "geo",
         "hovertemplate": "<b>%{hovertext}</b><br><br>countries_clean=Italy<br>size=%{marker.size}<br>lat=%{lat}<br>lon=%{lon}<extra></extra>",
         "hovertext": [
          "Italy"
         ],
         "lat": [
          42.6384261
         ],
         "legendgroup": "Italy",
         "lon": [
          12.674297
         ],
         "marker": {
          "color": "#ab63fa",
          "size": [
           1
          ],
          "sizemode": "area",
          "sizeref": 0.035,
          "symbol": "circle"
         },
         "mode": "markers",
         "name": "Italy",
         "showlegend": true,
         "type": "scattergeo"
        },
        {
         "geo": "geo",
         "hovertemplate": "<b>%{hovertext}</b><br><br>countries_clean=Massachusetts<br>size=%{marker.size}<br>lat=%{lat}<br>lon=%{lon}<extra></extra>",
         "hovertext": [
          "Massachusetts",
          "Massachusetts"
         ],
         "lat": [
          42.3788774,
          42.3788774
         ],
         "legendgroup": "Massachusetts",
         "lon": [
          -72.032366,
          -72.032366
         ],
         "marker": {
          "color": "#FFA15A",
          "size": [
           2,
           2
          ],
          "sizemode": "area",
          "sizeref": 0.035,
          "symbol": "circle"
         },
         "mode": "markers",
         "name": "Massachusetts",
         "showlegend": true,
         "type": "scattergeo"
        },
        {
         "geo": "geo",
         "hovertemplate": "<b>%{hovertext}</b><br><br>countries_clean=Hungary<br>size=%{marker.size}<br>lat=%{lat}<br>lon=%{lon}<extra></extra>",
         "hovertext": [
          "Hungary"
         ],
         "lat": [
          47.1817585
         ],
         "legendgroup": "Hungary",
         "lon": [
          19.5060937
         ],
         "marker": {
          "color": "#19d3f3",
          "size": [
           1
          ],
          "sizemode": "area",
          "sizeref": 0.035,
          "symbol": "circle"
         },
         "mode": "markers",
         "name": "Hungary",
         "showlegend": true,
         "type": "scattergeo"
        },
        {
         "geo": "geo",
         "hovertemplate": "<b>%{hovertext}</b><br><br>countries_clean=France<br>size=%{marker.size}<br>lat=%{lat}<br>lon=%{lon}<extra></extra>",
         "hovertext": [
          "France"
         ],
         "lat": [
          46.603354
         ],
         "legendgroup": "France",
         "lon": [
          1.8883335
         ],
         "marker": {
          "color": "#FF6692",
          "size": [
           1
          ],
          "sizemode": "area",
          "sizeref": 0.035,
          "symbol": "circle"
         },
         "mode": "markers",
         "name": "France",
         "showlegend": true,
         "type": "scattergeo"
        },
        {
         "geo": "geo",
         "hovertemplate": "<b>%{hovertext}</b><br><br>countries_clean=Ohio<br>size=%{marker.size}<br>lat=%{lat}<br>lon=%{lon}<extra></extra>",
         "hovertext": [
          "Ohio",
          "Ohio",
          "Ohio"
         ],
         "lat": [
          40.2253569,
          40.2253569,
          40.2253569
         ],
         "legendgroup": "Ohio",
         "lon": [
          -82.6881395,
          -82.6881395,
          -82.6881395
         ],
         "marker": {
          "color": "#B6E880",
          "size": [
           3,
           3,
           3
          ],
          "sizemode": "area",
          "sizeref": 0.035,
          "symbol": "circle"
         },
         "mode": "markers",
         "name": "Ohio",
         "showlegend": true,
         "type": "scattergeo"
        },
        {
         "geo": "geo",
         "hovertemplate": "<b>%{hovertext}</b><br><br>countries_clean=South USA<br>size=%{marker.size}<br>lat=%{lat}<br>lon=%{lon}<extra></extra>",
         "hovertext": [
          "South USA"
         ],
         "lat": [
          57.0894077
         ],
         "legendgroup": "South USA",
         "lon": [
          -135.2543402
         ],
         "marker": {
          "color": "#FF97FF",
          "size": [
           1
          ],
          "sizemode": "area",
          "sizeref": 0.035,
          "symbol": "circle"
         },
         "mode": "markers",
         "name": "South USA",
         "showlegend": true,
         "type": "scattergeo"
        },
        {
         "geo": "geo",
         "hovertemplate": "<b>%{hovertext}</b><br><br>countries_clean=West Australia<br>size=%{marker.size}<br>lat=%{lat}<br>lon=%{lon}<extra></extra>",
         "hovertext": [
          "West Australia"
         ],
         "lat": [
          -36.3193573
         ],
         "legendgroup": "West Australia",
         "lon": [
          150.1254379
         ],
         "marker": {
          "color": "#FECB52",
          "size": [
           1
          ],
          "sizemode": "area",
          "sizeref": 0.035,
          "symbol": "circle"
         },
         "mode": "markers",
         "name": "West Australia",
         "showlegend": true,
         "type": "scattergeo"
        },
        {
         "geo": "geo",
         "hovertemplate": "<b>%{hovertext}</b><br><br>countries_clean=Israel<br>size=%{marker.size}<br>lat=%{lat}<br>lon=%{lon}<extra></extra>",
         "hovertext": [
          "Israel"
         ],
         "lat": [
          30.8124247
         ],
         "legendgroup": "Israel",
         "lon": [
          34.8594762
         ],
         "marker": {
          "color": "#636efa",
          "size": [
           1
          ],
          "sizemode": "area",
          "sizeref": 0.035,
          "symbol": "circle"
         },
         "mode": "markers",
         "name": "Israel",
         "showlegend": true,
         "type": "scattergeo"
        },
        {
         "geo": "geo",
         "hovertemplate": "<b>%{hovertext}</b><br><br>countries_clean=Tanzania<br>size=%{marker.size}<br>lat=%{lat}<br>lon=%{lon}<extra></extra>",
         "hovertext": [
          "Tanzania"
         ],
         "lat": [
          -6.5247123
         ],
         "legendgroup": "Tanzania",
         "lon": [
          35.7878438
         ],
         "marker": {
          "color": "#EF553B",
          "size": [
           1
          ],
          "sizemode": "area",
          "sizeref": 0.035,
          "symbol": "circle"
         },
         "mode": "markers",
         "name": "Tanzania",
         "showlegend": true,
         "type": "scattergeo"
        },
        {
         "geo": "geo",
         "hovertemplate": "<b>%{hovertext}</b><br><br>countries_clean=Tasmania<br>size=%{marker.size}<br>lat=%{lat}<br>lon=%{lon}<extra></extra>",
         "hovertext": [
          "Tasmania"
         ],
         "lat": [
          -42.035067
         ],
         "legendgroup": "Tasmania",
         "lon": [
          146.6366887
         ],
         "marker": {
          "color": "#00cc96",
          "size": [
           1
          ],
          "sizemode": "area",
          "sizeref": 0.035,
          "symbol": "circle"
         },
         "mode": "markers",
         "name": "Tasmania",
         "showlegend": true,
         "type": "scattergeo"
        },
        {
         "geo": "geo",
         "hovertemplate": "<b>%{hovertext}</b><br><br>countries_clean=British Columbia<br>size=%{marker.size}<br>lat=%{lat}<br>lon=%{lon}<extra></extra>",
         "hovertext": [
          "British Columbia",
          "British Columbia",
          "British Columbia"
         ],
         "lat": [
          55.001251,
          55.001251,
          55.001251
         ],
         "legendgroup": "British Columbia",
         "lon": [
          -125.002441,
          -125.002441,
          -125.002441
         ],
         "marker": {
          "color": "#ab63fa",
          "size": [
           3,
           3,
           3
          ],
          "sizemode": "area",
          "sizeref": 0.035,
          "symbol": "circle"
         },
         "mode": "markers",
         "name": "British Columbia",
         "showlegend": true,
         "type": "scattergeo"
        },
        {
         "geo": "geo",
         "hovertemplate": "<b>%{hovertext}</b><br><br>countries_clean=Manitoba<br>size=%{marker.size}<br>lat=%{lat}<br>lon=%{lon}<extra></extra>",
         "hovertext": [
          "Manitoba"
         ],
         "lat": [
          55.001251
         ],
         "legendgroup": "Manitoba",
         "lon": [
          -97.001038
         ],
         "marker": {
          "color": "#FFA15A",
          "size": [
           1
          ],
          "sizemode": "area",
          "sizeref": 0.035,
          "symbol": "circle"
         },
         "mode": "markers",
         "name": "Manitoba",
         "showlegend": true,
         "type": "scattergeo"
        },
        {
         "geo": "geo",
         "hovertemplate": "<b>%{hovertext}</b><br><br>countries_clean=Alberta<br>size=%{marker.size}<br>lat=%{lat}<br>lon=%{lon}<extra></extra>",
         "hovertext": [
          "Alberta"
         ],
         "lat": [
          55.001251
         ],
         "legendgroup": "Alberta",
         "lon": [
          -115.002136
         ],
         "marker": {
          "color": "#19d3f3",
          "size": [
           1
          ],
          "sizemode": "area",
          "sizeref": 0.035,
          "symbol": "circle"
         },
         "mode": "markers",
         "name": "Alberta",
         "showlegend": true,
         "type": "scattergeo"
        },
        {
         "geo": "geo",
         "hovertemplate": "<b>%{hovertext}</b><br><br>countries_clean=South Australia<br>size=%{marker.size}<br>lat=%{lat}<br>lon=%{lon}<extra></extra>",
         "hovertext": [
          "South Australia",
          "South Australia"
         ],
         "lat": [
          -30.5343665,
          -30.5343665
         ],
         "legendgroup": "South Australia",
         "lon": [
          135.6301212,
          135.6301212
         ],
         "marker": {
          "color": "#FF6692",
          "size": [
           2,
           2
          ],
          "sizemode": "area",
          "sizeref": 0.035,
          "symbol": "circle"
         },
         "mode": "markers",
         "name": "South Australia",
         "showlegend": true,
         "type": "scattergeo"
        },
        {
         "geo": "geo",
         "hovertemplate": "<b>%{hovertext}</b><br><br>countries_clean=Ontario<br>size=%{marker.size}<br>lat=%{lat}<br>lon=%{lon}<extra></extra>",
         "hovertext": [
          "Ontario"
         ],
         "lat": [
          50.000678
         ],
         "legendgroup": "Ontario",
         "lon": [
          -86.000977
         ],
         "marker": {
          "color": "#B6E880",
          "size": [
           1
          ],
          "sizemode": "area",
          "sizeref": 0.035,
          "symbol": "circle"
         },
         "mode": "markers",
         "name": "Ontario",
         "showlegend": true,
         "type": "scattergeo"
        },
        {
         "geo": "geo",
         "hovertemplate": "<b>%{hovertext}</b><br><br>countries_clean=Arkansas<br>size=%{marker.size}<br>lat=%{lat}<br>lon=%{lon}<extra></extra>",
         "hovertext": [
          "Arkansas"
         ],
         "lat": [
          35.2048883
         ],
         "legendgroup": "Arkansas",
         "lon": [
          -92.4479108
         ],
         "marker": {
          "color": "#FF97FF",
          "size": [
           1
          ],
          "sizemode": "area",
          "sizeref": 0.035,
          "symbol": "circle"
         },
         "mode": "markers",
         "name": "Arkansas",
         "showlegend": true,
         "type": "scattergeo"
        },
        {
         "geo": "geo",
         "hovertemplate": "<b>%{hovertext}</b><br><br>countries_clean=California<br>size=%{marker.size}<br>lat=%{lat}<br>lon=%{lon}<extra></extra>",
         "hovertext": [
          "California"
         ],
         "lat": [
          36.7014631
         ],
         "legendgroup": "California",
         "lon": [
          -118.755997
         ],
         "marker": {
          "color": "#FECB52",
          "size": [
           1
          ],
          "sizemode": "area",
          "sizeref": 0.035,
          "symbol": "circle"
         },
         "mode": "markers",
         "name": "California",
         "showlegend": true,
         "type": "scattergeo"
        },
        {
         "geo": "geo",
         "hovertemplate": "<b>%{hovertext}</b><br><br>countries_clean=Georgia<br>size=%{marker.size}<br>lat=%{lat}<br>lon=%{lon}<extra></extra>",
         "hovertext": [
          "Georgia"
         ],
         "lat": [
          32.3293809
         ],
         "legendgroup": "Georgia",
         "lon": [
          -83.1137366
         ],
         "marker": {
          "color": "#636efa",
          "size": [
           1
          ],
          "sizemode": "area",
          "sizeref": 0.035,
          "symbol": "circle"
         },
         "mode": "markers",
         "name": "Georgia",
         "showlegend": true,
         "type": "scattergeo"
        },
        {
         "geo": "geo",
         "hovertemplate": "<b>%{hovertext}</b><br><br>countries_clean=Iowa<br>size=%{marker.size}<br>lat=%{lat}<br>lon=%{lon}<extra></extra>",
         "hovertext": [
          "Iowa"
         ],
         "lat": [
          41.9216734
         ],
         "legendgroup": "Iowa",
         "lon": [
          -93.3122705
         ],
         "marker": {
          "color": "#EF553B",
          "size": [
           1
          ],
          "sizemode": "area",
          "sizeref": 0.035,
          "symbol": "circle"
         },
         "mode": "markers",
         "name": "Iowa",
         "showlegend": true,
         "type": "scattergeo"
        },
        {
         "geo": "geo",
         "hovertemplate": "<b>%{hovertext}</b><br><br>countries_clean=Minnesota<br>size=%{marker.size}<br>lat=%{lat}<br>lon=%{lon}<extra></extra>",
         "hovertext": [
          "Minnesota"
         ],
         "lat": [
          45.9896587
         ],
         "legendgroup": "Minnesota",
         "lon": [
          -94.6113288
         ],
         "marker": {
          "color": "#00cc96",
          "size": [
           1
          ],
          "sizemode": "area",
          "sizeref": 0.035,
          "symbol": "circle"
         },
         "mode": "markers",
         "name": "Minnesota",
         "showlegend": true,
         "type": "scattergeo"
        },
        {
         "geo": "geo",
         "hovertemplate": "<b>%{hovertext}</b><br><br>countries_clean=Wisconsin<br>size=%{marker.size}<br>lat=%{lat}<br>lon=%{lon}<extra></extra>",
         "hovertext": [
          "Wisconsin"
         ],
         "lat": [
          44.4308975
         ],
         "legendgroup": "Wisconsin",
         "lon": [
          -89.6884637
         ],
         "marker": {
          "color": "#ab63fa",
          "size": [
           1
          ],
          "sizemode": "area",
          "sizeref": 0.035,
          "symbol": "circle"
         },
         "mode": "markers",
         "name": "Wisconsin",
         "showlegend": true,
         "type": "scattergeo"
        },
        {
         "geo": "geo",
         "hovertemplate": "<b>%{hovertext}</b><br><br>countries_clean=Malawi<br>size=%{marker.size}<br>lat=%{lat}<br>lon=%{lon}<extra></extra>",
         "hovertext": [
          "Malawi"
         ],
         "lat": [
          -13.2687204
         ],
         "legendgroup": "Malawi",
         "lon": [
          33.9301963
         ],
         "marker": {
          "color": "#FFA15A",
          "size": [
           1
          ],
          "sizemode": "area",
          "sizeref": 0.035,
          "symbol": "circle"
         },
         "mode": "markers",
         "name": "Malawi",
         "showlegend": true,
         "type": "scattergeo"
        }
       ],
       "layout": {
        "geo": {
         "center": {},
         "coastlinecolor": "gray",
         "domain": {
          "x": [
           0,
           1
          ],
          "y": [
           0,
           1
          ]
         },
         "landcolor": "lightgray",
         "projection": {
          "type": "natural earth"
         },
         "showcoastlines": true,
         "showcountries": false,
         "showland": true
        },
        "legend": {
         "itemsizing": "constant",
         "title": {
          "text": "Region"
         },
         "tracegroupgap": 0
        },
        "margin": {
         "b": 0,
         "l": 0,
         "r": 0,
         "t": 30
        },
        "template": {
         "data": {
          "bar": [
           {
            "error_x": {
             "color": "#2a3f5f"
            },
            "error_y": {
             "color": "#2a3f5f"
            },
            "marker": {
             "line": {
              "color": "#E5ECF6",
              "width": 0.5
             },
             "pattern": {
              "fillmode": "overlay",
              "size": 10,
              "solidity": 0.2
             }
            },
            "type": "bar"
           }
          ],
          "barpolar": [
           {
            "marker": {
             "line": {
              "color": "#E5ECF6",
              "width": 0.5
             },
             "pattern": {
              "fillmode": "overlay",
              "size": 10,
              "solidity": 0.2
             }
            },
            "type": "barpolar"
           }
          ],
          "carpet": [
           {
            "aaxis": {
             "endlinecolor": "#2a3f5f",
             "gridcolor": "white",
             "linecolor": "white",
             "minorgridcolor": "white",
             "startlinecolor": "#2a3f5f"
            },
            "baxis": {
             "endlinecolor": "#2a3f5f",
             "gridcolor": "white",
             "linecolor": "white",
             "minorgridcolor": "white",
             "startlinecolor": "#2a3f5f"
            },
            "type": "carpet"
           }
          ],
          "choropleth": [
           {
            "colorbar": {
             "outlinewidth": 0,
             "ticks": ""
            },
            "type": "choropleth"
           }
          ],
          "contour": [
           {
            "colorbar": {
             "outlinewidth": 0,
             "ticks": ""
            },
            "colorscale": [
             [
              0,
              "#0d0887"
             ],
             [
              0.1111111111111111,
              "#46039f"
             ],
             [
              0.2222222222222222,
              "#7201a8"
             ],
             [
              0.3333333333333333,
              "#9c179e"
             ],
             [
              0.4444444444444444,
              "#bd3786"
             ],
             [
              0.5555555555555556,
              "#d8576b"
             ],
             [
              0.6666666666666666,
              "#ed7953"
             ],
             [
              0.7777777777777778,
              "#fb9f3a"
             ],
             [
              0.8888888888888888,
              "#fdca26"
             ],
             [
              1,
              "#f0f921"
             ]
            ],
            "type": "contour"
           }
          ],
          "contourcarpet": [
           {
            "colorbar": {
             "outlinewidth": 0,
             "ticks": ""
            },
            "type": "contourcarpet"
           }
          ],
          "heatmap": [
           {
            "colorbar": {
             "outlinewidth": 0,
             "ticks": ""
            },
            "colorscale": [
             [
              0,
              "#0d0887"
             ],
             [
              0.1111111111111111,
              "#46039f"
             ],
             [
              0.2222222222222222,
              "#7201a8"
             ],
             [
              0.3333333333333333,
              "#9c179e"
             ],
             [
              0.4444444444444444,
              "#bd3786"
             ],
             [
              0.5555555555555556,
              "#d8576b"
             ],
             [
              0.6666666666666666,
              "#ed7953"
             ],
             [
              0.7777777777777778,
              "#fb9f3a"
             ],
             [
              0.8888888888888888,
              "#fdca26"
             ],
             [
              1,
              "#f0f921"
             ]
            ],
            "type": "heatmap"
           }
          ],
          "heatmapgl": [
           {
            "colorbar": {
             "outlinewidth": 0,
             "ticks": ""
            },
            "colorscale": [
             [
              0,
              "#0d0887"
             ],
             [
              0.1111111111111111,
              "#46039f"
             ],
             [
              0.2222222222222222,
              "#7201a8"
             ],
             [
              0.3333333333333333,
              "#9c179e"
             ],
             [
              0.4444444444444444,
              "#bd3786"
             ],
             [
              0.5555555555555556,
              "#d8576b"
             ],
             [
              0.6666666666666666,
              "#ed7953"
             ],
             [
              0.7777777777777778,
              "#fb9f3a"
             ],
             [
              0.8888888888888888,
              "#fdca26"
             ],
             [
              1,
              "#f0f921"
             ]
            ],
            "type": "heatmapgl"
           }
          ],
          "histogram": [
           {
            "marker": {
             "pattern": {
              "fillmode": "overlay",
              "size": 10,
              "solidity": 0.2
             }
            },
            "type": "histogram"
           }
          ],
          "histogram2d": [
           {
            "colorbar": {
             "outlinewidth": 0,
             "ticks": ""
            },
            "colorscale": [
             [
              0,
              "#0d0887"
             ],
             [
              0.1111111111111111,
              "#46039f"
             ],
             [
              0.2222222222222222,
              "#7201a8"
             ],
             [
              0.3333333333333333,
              "#9c179e"
             ],
             [
              0.4444444444444444,
              "#bd3786"
             ],
             [
              0.5555555555555556,
              "#d8576b"
             ],
             [
              0.6666666666666666,
              "#ed7953"
             ],
             [
              0.7777777777777778,
              "#fb9f3a"
             ],
             [
              0.8888888888888888,
              "#fdca26"
             ],
             [
              1,
              "#f0f921"
             ]
            ],
            "type": "histogram2d"
           }
          ],
          "histogram2dcontour": [
           {
            "colorbar": {
             "outlinewidth": 0,
             "ticks": ""
            },
            "colorscale": [
             [
              0,
              "#0d0887"
             ],
             [
              0.1111111111111111,
              "#46039f"
             ],
             [
              0.2222222222222222,
              "#7201a8"
             ],
             [
              0.3333333333333333,
              "#9c179e"
             ],
             [
              0.4444444444444444,
              "#bd3786"
             ],
             [
              0.5555555555555556,
              "#d8576b"
             ],
             [
              0.6666666666666666,
              "#ed7953"
             ],
             [
              0.7777777777777778,
              "#fb9f3a"
             ],
             [
              0.8888888888888888,
              "#fdca26"
             ],
             [
              1,
              "#f0f921"
             ]
            ],
            "type": "histogram2dcontour"
           }
          ],
          "mesh3d": [
           {
            "colorbar": {
             "outlinewidth": 0,
             "ticks": ""
            },
            "type": "mesh3d"
           }
          ],
          "parcoords": [
           {
            "line": {
             "colorbar": {
              "outlinewidth": 0,
              "ticks": ""
             }
            },
            "type": "parcoords"
           }
          ],
          "pie": [
           {
            "automargin": true,
            "type": "pie"
           }
          ],
          "scatter": [
           {
            "fillpattern": {
             "fillmode": "overlay",
             "size": 10,
             "solidity": 0.2
            },
            "type": "scatter"
           }
          ],
          "scatter3d": [
           {
            "line": {
             "colorbar": {
              "outlinewidth": 0,
              "ticks": ""
             }
            },
            "marker": {
             "colorbar": {
              "outlinewidth": 0,
              "ticks": ""
             }
            },
            "type": "scatter3d"
           }
          ],
          "scattercarpet": [
           {
            "marker": {
             "colorbar": {
              "outlinewidth": 0,
              "ticks": ""
             }
            },
            "type": "scattercarpet"
           }
          ],
          "scattergeo": [
           {
            "marker": {
             "colorbar": {
              "outlinewidth": 0,
              "ticks": ""
             }
            },
            "type": "scattergeo"
           }
          ],
          "scattergl": [
           {
            "marker": {
             "colorbar": {
              "outlinewidth": 0,
              "ticks": ""
             }
            },
            "type": "scattergl"
           }
          ],
          "scattermapbox": [
           {
            "marker": {
             "colorbar": {
              "outlinewidth": 0,
              "ticks": ""
             }
            },
            "type": "scattermapbox"
           }
          ],
          "scatterpolar": [
           {
            "marker": {
             "colorbar": {
              "outlinewidth": 0,
              "ticks": ""
             }
            },
            "type": "scatterpolar"
           }
          ],
          "scatterpolargl": [
           {
            "marker": {
             "colorbar": {
              "outlinewidth": 0,
              "ticks": ""
             }
            },
            "type": "scatterpolargl"
           }
          ],
          "scatterternary": [
           {
            "marker": {
             "colorbar": {
              "outlinewidth": 0,
              "ticks": ""
             }
            },
            "type": "scatterternary"
           }
          ],
          "surface": [
           {
            "colorbar": {
             "outlinewidth": 0,
             "ticks": ""
            },
            "colorscale": [
             [
              0,
              "#0d0887"
             ],
             [
              0.1111111111111111,
              "#46039f"
             ],
             [
              0.2222222222222222,
              "#7201a8"
             ],
             [
              0.3333333333333333,
              "#9c179e"
             ],
             [
              0.4444444444444444,
              "#bd3786"
             ],
             [
              0.5555555555555556,
              "#d8576b"
             ],
             [
              0.6666666666666666,
              "#ed7953"
             ],
             [
              0.7777777777777778,
              "#fb9f3a"
             ],
             [
              0.8888888888888888,
              "#fdca26"
             ],
             [
              1,
              "#f0f921"
             ]
            ],
            "type": "surface"
           }
          ],
          "table": [
           {
            "cells": {
             "fill": {
              "color": "#EBF0F8"
             },
             "line": {
              "color": "white"
             }
            },
            "header": {
             "fill": {
              "color": "#C8D4E3"
             },
             "line": {
              "color": "white"
             }
            },
            "type": "table"
           }
          ]
         },
         "layout": {
          "annotationdefaults": {
           "arrowcolor": "#2a3f5f",
           "arrowhead": 0,
           "arrowwidth": 1
          },
          "autotypenumbers": "strict",
          "coloraxis": {
           "colorbar": {
            "outlinewidth": 0,
            "ticks": ""
           }
          },
          "colorscale": {
           "diverging": [
            [
             0,
             "#8e0152"
            ],
            [
             0.1,
             "#c51b7d"
            ],
            [
             0.2,
             "#de77ae"
            ],
            [
             0.3,
             "#f1b6da"
            ],
            [
             0.4,
             "#fde0ef"
            ],
            [
             0.5,
             "#f7f7f7"
            ],
            [
             0.6,
             "#e6f5d0"
            ],
            [
             0.7,
             "#b8e186"
            ],
            [
             0.8,
             "#7fbc41"
            ],
            [
             0.9,
             "#4d9221"
            ],
            [
             1,
             "#276419"
            ]
           ],
           "sequential": [
            [
             0,
             "#0d0887"
            ],
            [
             0.1111111111111111,
             "#46039f"
            ],
            [
             0.2222222222222222,
             "#7201a8"
            ],
            [
             0.3333333333333333,
             "#9c179e"
            ],
            [
             0.4444444444444444,
             "#bd3786"
            ],
            [
             0.5555555555555556,
             "#d8576b"
            ],
            [
             0.6666666666666666,
             "#ed7953"
            ],
            [
             0.7777777777777778,
             "#fb9f3a"
            ],
            [
             0.8888888888888888,
             "#fdca26"
            ],
            [
             1,
             "#f0f921"
            ]
           ],
           "sequentialminus": [
            [
             0,
             "#0d0887"
            ],
            [
             0.1111111111111111,
             "#46039f"
            ],
            [
             0.2222222222222222,
             "#7201a8"
            ],
            [
             0.3333333333333333,
             "#9c179e"
            ],
            [
             0.4444444444444444,
             "#bd3786"
            ],
            [
             0.5555555555555556,
             "#d8576b"
            ],
            [
             0.6666666666666666,
             "#ed7953"
            ],
            [
             0.7777777777777778,
             "#fb9f3a"
            ],
            [
             0.8888888888888888,
             "#fdca26"
            ],
            [
             1,
             "#f0f921"
            ]
           ]
          },
          "colorway": [
           "#636efa",
           "#EF553B",
           "#00cc96",
           "#ab63fa",
           "#FFA15A",
           "#19d3f3",
           "#FF6692",
           "#B6E880",
           "#FF97FF",
           "#FECB52"
          ],
          "font": {
           "color": "#2a3f5f"
          },
          "geo": {
           "bgcolor": "white",
           "lakecolor": "white",
           "landcolor": "#E5ECF6",
           "showlakes": true,
           "showland": true,
           "subunitcolor": "white"
          },
          "hoverlabel": {
           "align": "left"
          },
          "hovermode": "closest",
          "mapbox": {
           "style": "light"
          },
          "paper_bgcolor": "white",
          "plot_bgcolor": "#E5ECF6",
          "polar": {
           "angularaxis": {
            "gridcolor": "white",
            "linecolor": "white",
            "ticks": ""
           },
           "bgcolor": "#E5ECF6",
           "radialaxis": {
            "gridcolor": "white",
            "linecolor": "white",
            "ticks": ""
           }
          },
          "scene": {
           "xaxis": {
            "backgroundcolor": "#E5ECF6",
            "gridcolor": "white",
            "gridwidth": 2,
            "linecolor": "white",
            "showbackground": true,
            "ticks": "",
            "zerolinecolor": "white"
           },
           "yaxis": {
            "backgroundcolor": "#E5ECF6",
            "gridcolor": "white",
            "gridwidth": 2,
            "linecolor": "white",
            "showbackground": true,
            "ticks": "",
            "zerolinecolor": "white"
           },
           "zaxis": {
            "backgroundcolor": "#E5ECF6",
            "gridcolor": "white",
            "gridwidth": 2,
            "linecolor": "white",
            "showbackground": true,
            "ticks": "",
            "zerolinecolor": "white"
           }
          },
          "shapedefaults": {
           "line": {
            "color": "#2a3f5f"
           }
          },
          "ternary": {
           "aaxis": {
            "gridcolor": "white",
            "linecolor": "white",
            "ticks": ""
           },
           "baxis": {
            "gridcolor": "white",
            "linecolor": "white",
            "ticks": ""
           },
           "bgcolor": "#E5ECF6",
           "caxis": {
            "gridcolor": "white",
            "linecolor": "white",
            "ticks": ""
           }
          },
          "title": {
           "x": 0.05
          },
          "xaxis": {
           "automargin": true,
           "gridcolor": "white",
           "linecolor": "white",
           "ticks": "",
           "title": {
            "standoff": 15
           },
           "zerolinecolor": "white",
           "zerolinewidth": 2
          },
          "yaxis": {
           "automargin": true,
           "gridcolor": "white",
           "linecolor": "white",
           "ticks": "",
           "title": {
            "standoff": 15
           },
           "zerolinecolor": "white",
           "zerolinewidth": 2
          }
         }
        },
        "title": {
         "text": "World Map with Colored and Scaled Bubbles by Region"
        }
       }
      },
      "image/png": "[encoded data removed]",
      "text/html": [
       "<div>                            <div id=\"cce339e2-e6d6-43ab-a27d-bb302a19d9cb\" class=\"plotly-graph-div\" style=\"height:525px; width:100%;\"></div>            <script type=\"text/javascript\">                require([\"plotly\"], function(Plotly) {                    window.PLOTLYENV=window.PLOTLYENV || {};                                    if (document.getElementById(\"cce339e2-e6d6-43ab-a27d-bb302a19d9cb\")) {                    Plotly.newPlot(                        \"cce339e2-e6d6-43ab-a27d-bb302a19d9cb\",                        [{\"geo\":\"geo\",\"hovertemplate\":\"\\u003cb\\u003e%{hovertext}\\u003c\\u002fb\\u003e\\u003cbr\\u003e\\u003cbr\\u003ecountries_clean=Germany\\u003cbr\\u003esize=%{marker.size}\\u003cbr\\u003elat=%{lat}\\u003cbr\\u003elon=%{lon}\\u003cextra\\u003e\\u003c\\u002fextra\\u003e\",\"hovertext\":[\"Germany\",\"Germany\",\"Germany\",\"Germany\",\"Germany\",\"Germany\",\"Germany\",\"Germany\",\"Germany\",\"Germany\",\"Germany\",\"Germany\",\"Germany\",\"Germany\"],\"lat\":[51.1638175,51.1638175,51.1638175,51.1638175,51.1638175,51.1638175,51.1638175,51.1638175,51.1638175,51.1638175,51.1638175,51.1638175,51.1638175,51.1638175],\"legendgroup\":\"Germany\",\"lon\":[10.4478313,10.4478313,10.4478313,10.4478313,10.4478313,10.4478313,10.4478313,10.4478313,10.4478313,10.4478313,10.4478313,10.4478313,10.4478313,10.4478313],\"marker\":{\"color\":\"#636efa\",\"size\":[14,14,14,14,14,14,14,14,14,14,14,14,14,14],\"sizemode\":\"area\",\"sizeref\":0.035,\"symbol\":\"circle\"},\"mode\":\"markers\",\"name\":\"Germany\",\"showlegend\":true,\"type\":\"scattergeo\"},{\"geo\":\"geo\",\"hovertemplate\":\"\\u003cb\\u003e%{hovertext}\\u003c\\u002fb\\u003e\\u003cbr\\u003e\\u003cbr\\u003ecountries_clean=England\\u003cbr\\u003esize=%{marker.size}\\u003cbr\\u003elat=%{lat}\\u003cbr\\u003elon=%{lon}\\u003cextra\\u003e\\u003c\\u002fextra\\u003e\",\"hovertext\":[\"England\",\"England\",\"England\",\"England\",\"England\",\"England\",\"England\",\"England\"],\"lat\":[52.5310214,52.5310214,52.5310214,52.5310214,52.5310214,52.5310214,52.5310214,52.5310214],\"legendgroup\":\"England\",\"lon\":[-1.2649062,-1.2649062,-1.2649062,-1.2649062,-1.2649062,-1.2649062,-1.2649062,-1.2649062],\"marker\":{\"color\":\"#EF553B\",\"size\":[8,8,8,8,8,8,8,8],\"sizemode\":\"area\",\"sizeref\":0.035,\"symbol\":\"circle\"},\"mode\":\"markers\",\"name\":\"England\",\"showlegend\":true,\"type\":\"scattergeo\"},{\"geo\":\"geo\",\"hovertemplate\":\"\\u003cb\\u003e%{hovertext}\\u003c\\u002fb\\u003e\\u003cbr\\u003e\\u003cbr\\u003ecountries_clean=Japan\\u003cbr\\u003esize=%{marker.size}\\u003cbr\\u003elat=%{lat}\\u003cbr\\u003elon=%{lon}\\u003cextra\\u003e\\u003c\\u002fextra\\u003e\",\"hovertext\":[\"Japan\",\"Japan\",\"Japan\",\"Japan\",\"Japan\"],\"lat\":[36.5748441,36.5748441,36.5748441,36.5748441,36.5748441],\"legendgroup\":\"Japan\",\"lon\":[139.2394179,139.2394179,139.2394179,139.2394179,139.2394179],\"marker\":{\"color\":\"#00cc96\",\"size\":[5,5,5,5,5],\"sizemode\":\"area\",\"sizeref\":0.035,\"symbol\":\"circle\"},\"mode\":\"markers\",\"name\":\"Japan\",\"showlegend\":true,\"type\":\"scattergeo\"},{\"geo\":\"geo\",\"hovertemplate\":\"\\u003cb\\u003e%{hovertext}\\u003c\\u002fb\\u003e\\u003cbr\\u003e\\u003cbr\\u003ecountries_clean=Switzerland\\u003cbr\\u003esize=%{marker.size}\\u003cbr\\u003elat=%{lat}\\u003cbr\\u003elon=%{lon}\\u003cextra\\u003e\\u003c\\u002fextra\\u003e\",\"hovertext\":[\"Switzerland\",\"Switzerland\",\"Switzerland\",\"Switzerland\"],\"lat\":[46.7985624,46.7985624,46.7985624,46.7985624],\"legendgroup\":\"Switzerland\",\"lon\":[8.2319736,8.2319736,8.2319736,8.2319736],\"marker\":{\"color\":\"#ab63fa\",\"size\":[4,4,4,4],\"sizemode\":\"area\",\"sizeref\":0.035,\"symbol\":\"circle\"},\"mode\":\"markers\",\"name\":\"Switzerland\",\"showlegend\":true,\"type\":\"scattergeo\"},{\"geo\":\"geo\",\"hovertemplate\":\"\\u003cb\\u003e%{hovertext}\\u003c\\u002fb\\u003e\\u003cbr\\u003e\\u003cbr\\u003ecountries_clean=USA\\u003cbr\\u003esize=%{marker.size}\\u003cbr\\u003elat=%{lat}\\u003cbr\\u003elon=%{lon}\\u003cextra\\u003e\\u003c\\u002fextra\\u003e\",\"hovertext\":[\"USA\",\"USA\"],\"lat\":[39.7837304,39.7837304],\"legendgroup\":\"USA\",\"lon\":[-100.445882,-100.445882],\"marker\":{\"color\":\"#FFA15A\",\"size\":[2,2],\"sizemode\":\"area\",\"sizeref\":0.035,\"symbol\":\"circle\"},\"mode\":\"markers\",\"name\":\"USA\",\"showlegend\":true,\"type\":\"scattergeo\"},{\"geo\":\"geo\",\"hovertemplate\":\"\\u003cb\\u003e%{hovertext}\\u003c\\u002fb\\u003e\\u003cbr\\u003e\\u003cbr\\u003ecountries_clean=New South Wales\\u003cbr\\u003esize=%{marker.size}\\u003cbr\\u003elat=%{lat}\\u003cbr\\u003elon=%{lon}\\u003cextra\\u003e\\u003c\\u002fextra\\u003e\",\"hovertext\":[\"New South Wales\",\"New South Wales\",\"New South Wales\",\"New South Wales\",\"New South Wales\",\"New South Wales\",\"New South Wales\",\"New South Wales\",\"New South Wales\"],\"lat\":[-31.8759835,-31.8759835,-31.8759835,-31.8759835,-31.8759835,-31.8759835,-31.8759835,-31.8759835,-31.8759835],\"legendgroup\":\"New South Wales\",\"lon\":[147.2869493,147.2869493,147.2869493,147.2869493,147.2869493,147.2869493,147.2869493,147.2869493,147.2869493],\"marker\":{\"color\":\"#19d3f3\",\"size\":[9,9,9,9,9,9,9,9,9],\"sizemode\":\"area\",\"sizeref\":0.035,\"symbol\":\"circle\"},\"mode\":\"markers\",\"name\":\"New South Wales\",\"showlegend\":true,\"type\":\"scattergeo\"},{\"geo\":\"geo\",\"hovertemplate\":\"\\u003cb\\u003e%{hovertext}\\u003c\\u002fb\\u003e\\u003cbr\\u003e\\u003cbr\\u003ecountries_clean=North Carolina\\u003cbr\\u003esize=%{marker.size}\\u003cbr\\u003elat=%{lat}\\u003cbr\\u003elon=%{lon}\\u003cextra\\u003e\\u003c\\u002fextra\\u003e\",\"hovertext\":[\"North Carolina\",\"North Carolina\",\"North Carolina\",\"North Carolina\",\"North Carolina\"],\"lat\":[35.6729639,35.6729639,35.6729639,35.6729639,35.6729639],\"legendgroup\":\"North Carolina\",\"lon\":[-79.0392919,-79.0392919,-79.0392919,-79.0392919,-79.0392919],\"marker\":{\"color\":\"#FF6692\",\"size\":[5,5,5,5,5],\"sizemode\":\"area\",\"sizeref\":0.035,\"symbol\":\"circle\"},\"mode\":\"markers\",\"name\":\"North Carolina\",\"showlegend\":true,\"type\":\"scattergeo\"},{\"geo\":\"geo\",\"hovertemplate\":\"\\u003cb\\u003e%{hovertext}\\u003c\\u002fb\\u003e\\u003cbr\\u003e\\u003cbr\\u003ecountries_clean=Michigan\\u003cbr\\u003esize=%{marker.size}\\u003cbr\\u003elat=%{lat}\\u003cbr\\u003elon=%{lon}\\u003cextra\\u003e\\u003c\\u002fextra\\u003e\",\"hovertext\":[\"Michigan\",\"Michigan\"],\"lat\":[43.6211955,43.6211955],\"legendgroup\":\"Michigan\",\"lon\":[-84.6824346,-84.6824346],\"marker\":{\"color\":\"#B6E880\",\"size\":[2,2],\"sizemode\":\"area\",\"sizeref\":0.035,\"symbol\":\"circle\"},\"mode\":\"markers\",\"name\":\"Michigan\",\"showlegend\":true,\"type\":\"scattergeo\"},{\"geo\":\"geo\",\"hovertemplate\":\"\\u003cb\\u003e%{hovertext}\\u003c\\u002fb\\u003e\\u003cbr\\u003e\\u003cbr\\u003ecountries_clean=Nigeria\\u003cbr\\u003esize=%{marker.size}\\u003cbr\\u003elat=%{lat}\\u003cbr\\u003elon=%{lon}\\u003cextra\\u003e\\u003c\\u002fextra\\u003e\",\"hovertext\":[\"Nigeria\"],\"lat\":[9.6000359],\"legendgroup\":\"Nigeria\",\"lon\":[7.9999721],\"marker\":{\"color\":\"#FF97FF\",\"size\":[1],\"sizemode\":\"area\",\"sizeref\":0.035,\"symbol\":\"circle\"},\"mode\":\"markers\",\"name\":\"Nigeria\",\"showlegend\":true,\"type\":\"scattergeo\"},{\"geo\":\"geo\",\"hovertemplate\":\"\\u003cb\\u003e%{hovertext}\\u003c\\u002fb\\u003e\\u003cbr\\u003e\\u003cbr\\u003ecountries_clean=Brazil\\u003cbr\\u003esize=%{marker.size}\\u003cbr\\u003elat=%{lat}\\u003cbr\\u003elon=%{lon}\\u003cextra\\u003e\\u003c\\u002fextra\\u003e\",\"hovertext\":[\"Brazil\",\"Brazil\"],\"lat\":[-10.3333333,-10.3333333],\"legendgroup\":\"Brazil\",\"lon\":[-53.2,-53.2],\"marker\":{\"color\":\"#FECB52\",\"size\":[2,2],\"sizemode\":\"area\",\"sizeref\":0.035,\"symbol\":\"circle\"},\"mode\":\"markers\",\"name\":\"Brazil\",\"showlegend\":true,\"type\":\"scattergeo\"},{\"geo\":\"geo\",\"hovertemplate\":\"\\u003cb\\u003e%{hovertext}\\u003c\\u002fb\\u003e\\u003cbr\\u003e\\u003cbr\\u003ecountries_clean=United Kingdom\\u003cbr\\u003esize=%{marker.size}\\u003cbr\\u003elat=%{lat}\\u003cbr\\u003elon=%{lon}\\u003cextra\\u003e\\u003c\\u002fextra\\u003e\",\"hovertext\":[\"United Kingdom\",\"United Kingdom\",\"United Kingdom\",\"United Kingdom\",\"United Kingdom\"],\"lat\":[54.7023545,54.7023545,54.7023545,54.7023545,54.7023545],\"legendgroup\":\"United Kingdom\",\"lon\":[-3.2765753,-3.2765753,-3.2765753,-3.2765753,-3.2765753],\"marker\":{\"color\":\"#636efa\",\"size\":[5,5,5,5,5],\"sizemode\":\"area\",\"sizeref\":0.035,\"symbol\":\"circle\"},\"mode\":\"markers\",\"name\":\"United Kingdom\",\"showlegend\":true,\"type\":\"scattergeo\"},{\"geo\":\"geo\",\"hovertemplate\":\"\\u003cb\\u003e%{hovertext}\\u003c\\u002fb\\u003e\\u003cbr\\u003e\\u003cbr\\u003ecountries_clean=Illinois\\u003cbr\\u003esize=%{marker.size}\\u003cbr\\u003elat=%{lat}\\u003cbr\\u003elon=%{lon}\\u003cextra\\u003e\\u003c\\u002fextra\\u003e\",\"hovertext\":[\"Illinois\",\"Illinois\"],\"lat\":[40.0796606,40.0796606],\"legendgroup\":\"Illinois\",\"lon\":[-89.4337288,-89.4337288],\"marker\":{\"color\":\"#EF553B\",\"size\":[2,2],\"sizemode\":\"area\",\"sizeref\":0.035,\"symbol\":\"circle\"},\"mode\":\"markers\",\"name\":\"Illinois\",\"showlegend\":true,\"type\":\"scattergeo\"},{\"geo\":\"geo\",\"hovertemplate\":\"\\u003cb\\u003e%{hovertext}\\u003c\\u002fb\\u003e\\u003cbr\\u003e\\u003cbr\\u003ecountries_clean=Wales\\u003cbr\\u003esize=%{marker.size}\\u003cbr\\u003elat=%{lat}\\u003cbr\\u003elon=%{lon}\\u003cextra\\u003e\\u003c\\u002fextra\\u003e\",\"hovertext\":[\"Wales\",\"Wales\",\"Wales\",\"Wales\",\"Wales\",\"Wales\",\"Wales\",\"Wales\",\"Wales\",\"Wales\",\"Wales\"],\"lat\":[52.2928116,52.2928116,52.2928116,52.2928116,52.2928116,52.2928116,52.2928116,52.2928116,52.2928116,52.2928116,52.2928116],\"legendgroup\":\"Wales\",\"lon\":[-3.73893,-3.73893,-3.73893,-3.73893,-3.73893,-3.73893,-3.73893,-3.73893,-3.73893,-3.73893,-3.73893],\"marker\":{\"color\":\"#00cc96\",\"size\":[11,11,11,11,11,11,11,11,11,11,11],\"sizemode\":\"area\",\"sizeref\":0.035,\"symbol\":\"circle\"},\"mode\":\"markers\",\"name\":\"Wales\",\"showlegend\":true,\"type\":\"scattergeo\"},{\"geo\":\"geo\",\"hovertemplate\":\"\\u003cb\\u003e%{hovertext}\\u003c\\u002fb\\u003e\\u003cbr\\u003e\\u003cbr\\u003ecountries_clean=Western Australia\\u003cbr\\u003esize=%{marker.size}\\u003cbr\\u003elat=%{lat}\\u003cbr\\u003elon=%{lon}\\u003cextra\\u003e\\u003c\\u002fextra\\u003e\",\"hovertext\":[\"Western Australia\",\"Western Australia\",\"Western Australia\",\"Western Australia\",\"Western Australia\",\"Western Australia\"],\"lat\":[-25.2303005,-25.2303005,-25.2303005,-25.2303005,-25.2303005,-25.2303005],\"legendgroup\":\"Western Australia\",\"lon\":[121.0187246,121.0187246,121.0187246,121.0187246,121.0187246,121.0187246],\"marker\":{\"color\":\"#ab63fa\",\"size\":[6,6,6,6,6,6],\"sizemode\":\"area\",\"sizeref\":0.035,\"symbol\":\"circle\"},\"mode\":\"markers\",\"name\":\"Western Australia\",\"showlegend\":true,\"type\":\"scattergeo\"},{\"geo\":\"geo\",\"hovertemplate\":\"\\u003cb\\u003e%{hovertext}\\u003c\\u002fb\\u003e\\u003cbr\\u003e\\u003cbr\\u003ecountries_clean=London\\u003cbr\\u003esize=%{marker.size}\\u003cbr\\u003elat=%{lat}\\u003cbr\\u003elon=%{lon}\\u003cextra\\u003e\\u003c\\u002fextra\\u003e\",\"hovertext\":[\"London\"],\"lat\":[51.4893335],\"legendgroup\":\"London\",\"lon\":[-0.1440551],\"marker\":{\"color\":\"#FFA15A\",\"size\":[1],\"sizemode\":\"area\",\"sizeref\":0.035,\"symbol\":\"circle\"},\"mode\":\"markers\",\"name\":\"London\",\"showlegend\":true,\"type\":\"scattergeo\"},{\"geo\":\"geo\",\"hovertemplate\":\"\\u003cb\\u003e%{hovertext}\\u003c\\u002fb\\u003e\\u003cbr\\u003e\\u003cbr\\u003ecountries_clean=New York\\u003cbr\\u003esize=%{marker.size}\\u003cbr\\u003elat=%{lat}\\u003cbr\\u003elon=%{lon}\\u003cextra\\u003e\\u003c\\u002fextra\\u003e\",\"hovertext\":[\"New York\",\"New York\",\"New York\",\"New York\",\"New York\",\"New York\"],\"lat\":[40.7127281,40.7127281,40.7127281,40.7127281,40.7127281,40.7127281],\"legendgroup\":\"New York\",\"lon\":[-74.0060152,-74.0060152,-74.0060152,-74.0060152,-74.0060152,-74.0060152],\"marker\":{\"color\":\"#19d3f3\",\"size\":[6,6,6,6,6,6],\"sizemode\":\"area\",\"sizeref\":0.035,\"symbol\":\"circle\"},\"mode\":\"markers\",\"name\":\"New York\",\"showlegend\":true,\"type\":\"scattergeo\"},{\"geo\":\"geo\",\"hovertemplate\":\"\\u003cb\\u003e%{hovertext}\\u003c\\u002fb\\u003e\\u003cbr\\u003e\\u003cbr\\u003ecountries_clean=Northern Ireland\\u003cbr\\u003esize=%{marker.size}\\u003cbr\\u003elat=%{lat}\\u003cbr\\u003elon=%{lon}\\u003cextra\\u003e\\u003c\\u002fextra\\u003e\",\"hovertext\":[\"Northern Ireland\",\"Northern Ireland\",\"Northern Ireland\"],\"lat\":[54.5859836,54.5859836,54.5859836],\"legendgroup\":\"Northern Ireland\",\"lon\":[-6.9591554,-6.9591554,-6.9591554],\"marker\":{\"color\":\"#FF6692\",\"size\":[3,3,3],\"sizemode\":\"area\",\"sizeref\":0.035,\"symbol\":\"circle\"},\"mode\":\"markers\",\"name\":\"Northern Ireland\",\"showlegend\":true,\"type\":\"scattergeo\"},{\"geo\":\"geo\",\"hovertemplate\":\"\\u003cb\\u003e%{hovertext}\\u003c\\u002fb\\u003e\\u003cbr\\u003e\\u003cbr\\u003ecountries_clean=China\\u003cbr\\u003esize=%{marker.size}\\u003cbr\\u003elat=%{lat}\\u003cbr\\u003elon=%{lon}\\u003cextra\\u003e\\u003c\\u002fextra\\u003e\",\"hovertext\":[\"China\",\"China\",\"China\"],\"lat\":[35.0000663,35.0000663,35.0000663],\"legendgroup\":\"China\",\"lon\":[104.999955,104.999955,104.999955],\"marker\":{\"color\":\"#B6E880\",\"size\":[3,3,3],\"sizemode\":\"area\",\"sizeref\":0.035,\"symbol\":\"circle\"},\"mode\":\"markers\",\"name\":\"China\",\"showlegend\":true,\"type\":\"scattergeo\"},{\"geo\":\"geo\",\"hovertemplate\":\"\\u003cb\\u003e%{hovertext}\\u003c\\u002fb\\u003e\\u003cbr\\u003e\\u003cbr\\u003ecountries_clean=South Africa\\u003cbr\\u003esize=%{marker.size}\\u003cbr\\u003elat=%{lat}\\u003cbr\\u003elon=%{lon}\\u003cextra\\u003e\\u003c\\u002fextra\\u003e\",\"hovertext\":[\"South Africa\",\"South Africa\",\"South Africa\",\"South Africa\",\"South Africa\"],\"lat\":[-28.8166236,-28.8166236,-28.8166236,-28.8166236,-28.8166236],\"legendgroup\":\"South Africa\",\"lon\":[24.991639,24.991639,24.991639,24.991639,24.991639],\"marker\":{\"color\":\"#FF97FF\",\"size\":[5,5,5,5,5],\"sizemode\":\"area\",\"sizeref\":0.035,\"symbol\":\"circle\"},\"mode\":\"markers\",\"name\":\"South Africa\",\"showlegend\":true,\"type\":\"scattergeo\"},{\"geo\":\"geo\",\"hovertemplate\":\"\\u003cb\\u003e%{hovertext}\\u003c\\u002fb\\u003e\\u003cbr\\u003e\\u003cbr\\u003ecountries_clean=Florida\\u003cbr\\u003esize=%{marker.size}\\u003cbr\\u003elat=%{lat}\\u003cbr\\u003elon=%{lon}\\u003cextra\\u003e\\u003c\\u002fextra\\u003e\",\"hovertext\":[\"Florida\",\"Florida\"],\"lat\":[27.7567667,27.7567667],\"legendgroup\":\"Florida\",\"lon\":[-81.4639835,-81.4639835],\"marker\":{\"color\":\"#FECB52\",\"size\":[2,2],\"sizemode\":\"area\",\"sizeref\":0.035,\"symbol\":\"circle\"},\"mode\":\"markers\",\"name\":\"Florida\",\"showlegend\":true,\"type\":\"scattergeo\"},{\"geo\":\"geo\",\"hovertemplate\":\"\\u003cb\\u003e%{hovertext}\\u003c\\u002fb\\u003e\\u003cbr\\u003e\\u003cbr\\u003ecountries_clean=Taiwan\\u003cbr\\u003esize=%{marker.size}\\u003cbr\\u003elat=%{lat}\\u003cbr\\u003elon=%{lon}\\u003cextra\\u003e\\u003c\\u002fextra\\u003e\",\"hovertext\":[\"Taiwan\"],\"lat\":[23.9739374],\"legendgroup\":\"Taiwan\",\"lon\":[120.9820179],\"marker\":{\"color\":\"#636efa\",\"size\":[1],\"sizemode\":\"area\",\"sizeref\":0.035,\"symbol\":\"circle\"},\"mode\":\"markers\",\"name\":\"Taiwan\",\"showlegend\":true,\"type\":\"scattergeo\"},{\"geo\":\"geo\",\"hovertemplate\":\"\\u003cb\\u003e%{hovertext}\\u003c\\u002fb\\u003e\\u003cbr\\u003e\\u003cbr\\u003ecountries_clean=Colorado\\u003cbr\\u003esize=%{marker.size}\\u003cbr\\u003elat=%{lat}\\u003cbr\\u003elon=%{lon}\\u003cextra\\u003e\\u003c\\u002fextra\\u003e\",\"hovertext\":[\"Colorado\",\"Colorado\",\"Colorado\"],\"lat\":[38.7251776,38.7251776,38.7251776],\"legendgroup\":\"Colorado\",\"lon\":[-105.607716,-105.607716,-105.607716],\"marker\":{\"color\":\"#EF553B\",\"size\":[3,3,3],\"sizemode\":\"area\",\"sizeref\":0.035,\"symbol\":\"circle\"},\"mode\":\"markers\",\"name\":\"Colorado\",\"showlegend\":true,\"type\":\"scattergeo\"},{\"geo\":\"geo\",\"hovertemplate\":\"\\u003cb\\u003e%{hovertext}\\u003c\\u002fb\\u003e\\u003cbr\\u003e\\u003cbr\\u003ecountries_clean=Norway\\u003cbr\\u003esize=%{marker.size}\\u003cbr\\u003elat=%{lat}\\u003cbr\\u003elon=%{lon}\\u003cextra\\u003e\\u003c\\u002fextra\\u003e\",\"hovertext\":[\"Norway\",\"Norway\"],\"lat\":[61.1529386,61.1529386],\"legendgroup\":\"Norway\",\"lon\":[8.7876653,8.7876653],\"marker\":{\"color\":\"#00cc96\",\"size\":[2,2],\"sizemode\":\"area\",\"sizeref\":0.035,\"symbol\":\"circle\"},\"mode\":\"markers\",\"name\":\"Norway\",\"showlegend\":true,\"type\":\"scattergeo\"},{\"geo\":\"geo\",\"hovertemplate\":\"\\u003cb\\u003e%{hovertext}\\u003c\\u002fb\\u003e\\u003cbr\\u003e\\u003cbr\\u003ecountries_clean=Queensland\\u003cbr\\u003esize=%{marker.size}\\u003cbr\\u003elat=%{lat}\\u003cbr\\u003elon=%{lon}\\u003cextra\\u003e\\u003c\\u002fextra\\u003e\",\"hovertext\":[\"Queensland\",\"Queensland\"],\"lat\":[-22.1646782,-22.1646782],\"legendgroup\":\"Queensland\",\"lon\":[144.5844903,144.5844903],\"marker\":{\"color\":\"#ab63fa\",\"size\":[2,2],\"sizemode\":\"area\",\"sizeref\":0.035,\"symbol\":\"circle\"},\"mode\":\"markers\",\"name\":\"Queensland\",\"showlegend\":true,\"type\":\"scattergeo\"},{\"geo\":\"geo\",\"hovertemplate\":\"\\u003cb\\u003e%{hovertext}\\u003c\\u002fb\\u003e\\u003cbr\\u003e\\u003cbr\\u003ecountries_clean=Western Australian\\u003cbr\\u003esize=%{marker.size}\\u003cbr\\u003elat=%{lat}\\u003cbr\\u003elon=%{lon}\\u003cextra\\u003e\\u003c\\u002fextra\\u003e\",\"hovertext\":[\"Western Australian\",\"Western Australian\"],\"lat\":[6.9100265,6.9100265],\"legendgroup\":\"Western Australian\",\"lon\":[79.8689028,79.8689028],\"marker\":{\"color\":\"#FFA15A\",\"size\":[2,2],\"sizemode\":\"area\",\"sizeref\":0.035,\"symbol\":\"circle\"},\"mode\":\"markers\",\"name\":\"Western Australian\",\"showlegend\":true,\"type\":\"scattergeo\"},{\"geo\":\"geo\",\"hovertemplate\":\"\\u003cb\\u003e%{hovertext}\\u003c\\u002fb\\u003e\\u003cbr\\u003e\\u003cbr\\u003ecountries_clean=Austria\\u003cbr\\u003esize=%{marker.size}\\u003cbr\\u003elat=%{lat}\\u003cbr\\u003elon=%{lon}\\u003cextra\\u003e\\u003c\\u002fextra\\u003e\",\"hovertext\":[\"Austria\"],\"lat\":[47.59397],\"legendgroup\":\"Austria\",\"lon\":[14.12456],\"marker\":{\"color\":\"#19d3f3\",\"size\":[1],\"sizemode\":\"area\",\"sizeref\":0.035,\"symbol\":\"circle\"},\"mode\":\"markers\",\"name\":\"Austria\",\"showlegend\":true,\"type\":\"scattergeo\"},{\"geo\":\"geo\",\"hovertemplate\":\"\\u003cb\\u003e%{hovertext}\\u003c\\u002fb\\u003e\\u003cbr\\u003e\\u003cbr\\u003ecountries_clean=Europe\\u003cbr\\u003esize=%{marker.size}\\u003cbr\\u003elat=%{lat}\\u003cbr\\u003elon=%{lon}\\u003cextra\\u003e\\u003c\\u002fextra\\u003e\",\"hovertext\":[\"Europe\"],\"lat\":[51.0],\"legendgroup\":\"Europe\",\"lon\":[10.0],\"marker\":{\"color\":\"#FF6692\",\"size\":[1],\"sizemode\":\"area\",\"sizeref\":0.035,\"symbol\":\"circle\"},\"mode\":\"markers\",\"name\":\"Europe\",\"showlegend\":true,\"type\":\"scattergeo\"},{\"geo\":\"geo\",\"hovertemplate\":\"\\u003cb\\u003e%{hovertext}\\u003c\\u002fb\\u003e\\u003cbr\\u003e\\u003cbr\\u003ecountries_clean=New Zealand\\u003cbr\\u003esize=%{marker.size}\\u003cbr\\u003elat=%{lat}\\u003cbr\\u003elon=%{lon}\\u003cextra\\u003e\\u003c\\u002fextra\\u003e\",\"hovertext\":[\"New Zealand\"],\"lat\":[-41.5000831],\"legendgroup\":\"New Zealand\",\"lon\":[172.8344077],\"marker\":{\"color\":\"#B6E880\",\"size\":[1],\"sizemode\":\"area\",\"sizeref\":0.035,\"symbol\":\"circle\"},\"mode\":\"markers\",\"name\":\"New Zealand\",\"showlegend\":true,\"type\":\"scattergeo\"},{\"geo\":\"geo\",\"hovertemplate\":\"\\u003cb\\u003e%{hovertext}\\u003c\\u002fb\\u003e\\u003cbr\\u003e\\u003cbr\\u003ecountries_clean=Netherlands\\u003cbr\\u003esize=%{marker.size}\\u003cbr\\u003elat=%{lat}\\u003cbr\\u003elon=%{lon}\\u003cextra\\u003e\\u003c\\u002fextra\\u003e\",\"hovertext\":[\"Netherlands\",\"Netherlands\"],\"lat\":[52.2434979,52.2434979],\"legendgroup\":\"Netherlands\",\"lon\":[5.6343227,5.6343227],\"marker\":{\"color\":\"#FF97FF\",\"size\":[2,2],\"sizemode\":\"area\",\"sizeref\":0.035,\"symbol\":\"circle\"},\"mode\":\"markers\",\"name\":\"Netherlands\",\"showlegend\":true,\"type\":\"scattergeo\"},{\"geo\":\"geo\",\"hovertemplate\":\"\\u003cb\\u003e%{hovertext}\\u003c\\u002fb\\u003e\\u003cbr\\u003e\\u003cbr\\u003ecountries_clean=Spain\\u003cbr\\u003esize=%{marker.size}\\u003cbr\\u003elat=%{lat}\\u003cbr\\u003elon=%{lon}\\u003cextra\\u003e\\u003c\\u002fextra\\u003e\",\"hovertext\":[\"Spain\"],\"lat\":[39.3260685],\"legendgroup\":\"Spain\",\"lon\":[-4.8379791],\"marker\":{\"color\":\"#FECB52\",\"size\":[1],\"sizemode\":\"area\",\"sizeref\":0.035,\"symbol\":\"circle\"},\"mode\":\"markers\",\"name\":\"Spain\",\"showlegend\":true,\"type\":\"scattergeo\"},{\"geo\":\"geo\",\"hovertemplate\":\"\\u003cb\\u003e%{hovertext}\\u003c\\u002fb\\u003e\\u003cbr\\u003e\\u003cbr\\u003ecountries_clean=Finland\\u003cbr\\u003esize=%{marker.size}\\u003cbr\\u003elat=%{lat}\\u003cbr\\u003elon=%{lon}\\u003cextra\\u003e\\u003c\\u002fextra\\u003e\",\"hovertext\":[\"Finland\",\"Finland\",\"Finland\"],\"lat\":[63.2467777,63.2467777,63.2467777],\"legendgroup\":\"Finland\",\"lon\":[25.9209164,25.9209164,25.9209164],\"marker\":{\"color\":\"#636efa\",\"size\":[3,3,3],\"sizemode\":\"area\",\"sizeref\":0.035,\"symbol\":\"circle\"},\"mode\":\"markers\",\"name\":\"Finland\",\"showlegend\":true,\"type\":\"scattergeo\"},{\"geo\":\"geo\",\"hovertemplate\":\"\\u003cb\\u003e%{hovertext}\\u003c\\u002fb\\u003e\\u003cbr\\u003e\\u003cbr\\u003ecountries_clean=Ireland\\u003cbr\\u003esize=%{marker.size}\\u003cbr\\u003elat=%{lat}\\u003cbr\\u003elon=%{lon}\\u003cextra\\u003e\\u003c\\u002fextra\\u003e\",\"hovertext\":[\"Ireland\"],\"lat\":[52.865196],\"legendgroup\":\"Ireland\",\"lon\":[-7.9794599],\"marker\":{\"color\":\"#EF553B\",\"size\":[1],\"sizemode\":\"area\",\"sizeref\":0.035,\"symbol\":\"circle\"},\"mode\":\"markers\",\"name\":\"Ireland\",\"showlegend\":true,\"type\":\"scattergeo\"},{\"geo\":\"geo\",\"hovertemplate\":\"\\u003cb\\u003e%{hovertext}\\u003c\\u002fb\\u003e\\u003cbr\\u003e\\u003cbr\\u003ecountries_clean=Australia\\u003cbr\\u003esize=%{marker.size}\\u003cbr\\u003elat=%{lat}\\u003cbr\\u003elon=%{lon}\\u003cextra\\u003e\\u003c\\u002fextra\\u003e\",\"hovertext\":[\"Australia\",\"Australia\",\"Australia\",\"Australia\"],\"lat\":[-24.7761086,-24.7761086,-24.7761086,-24.7761086],\"legendgroup\":\"Australia\",\"lon\":[134.755,134.755,134.755,134.755],\"marker\":{\"color\":\"#00cc96\",\"size\":[4,4,4,4],\"sizemode\":\"area\",\"sizeref\":0.035,\"symbol\":\"circle\"},\"mode\":\"markers\",\"name\":\"Australia\",\"showlegend\":true,\"type\":\"scattergeo\"},{\"geo\":\"geo\",\"hovertemplate\":\"\\u003cb\\u003e%{hovertext}\\u003c\\u002fb\\u003e\\u003cbr\\u003e\\u003cbr\\u003ecountries_clean=Belgium\\u003cbr\\u003esize=%{marker.size}\\u003cbr\\u003elat=%{lat}\\u003cbr\\u003elon=%{lon}\\u003cextra\\u003e\\u003c\\u002fextra\\u003e\",\"hovertext\":[\"Belgium\"],\"lat\":[50.6402809],\"legendgroup\":\"Belgium\",\"lon\":[4.6667145],\"marker\":{\"color\":\"#ab63fa\",\"size\":[1],\"sizemode\":\"area\",\"sizeref\":0.035,\"symbol\":\"circle\"},\"mode\":\"markers\",\"name\":\"Belgium\",\"showlegend\":true,\"type\":\"scattergeo\"},{\"geo\":\"geo\",\"hovertemplate\":\"\\u003cb\\u003e%{hovertext}\\u003c\\u002fb\\u003e\\u003cbr\\u003e\\u003cbr\\u003ecountries_clean=Commonwealth of Australia\\u003cbr\\u003esize=%{marker.size}\\u003cbr\\u003elat=%{lat}\\u003cbr\\u003elon=%{lon}\\u003cextra\\u003e\\u003c\\u002fextra\\u003e\",\"hovertext\":[\"Commonwealth of Australia\"],\"lat\":[-24.7761086],\"legendgroup\":\"Commonwealth of Australia\",\"lon\":[134.755],\"marker\":{\"color\":\"#FFA15A\",\"size\":[1],\"sizemode\":\"area\",\"sizeref\":0.035,\"symbol\":\"circle\"},\"mode\":\"markers\",\"name\":\"Commonwealth of Australia\",\"showlegend\":true,\"type\":\"scattergeo\"},{\"geo\":\"geo\",\"hovertemplate\":\"\\u003cb\\u003e%{hovertext}\\u003c\\u002fb\\u003e\\u003cbr\\u003e\\u003cbr\\u003ecountries_clean=Texas\\u003cbr\\u003esize=%{marker.size}\\u003cbr\\u003elat=%{lat}\\u003cbr\\u003elon=%{lon}\\u003cextra\\u003e\\u003c\\u002fextra\\u003e\",\"hovertext\":[\"Texas\",\"Texas\",\"Texas\",\"Texas\"],\"lat\":[31.2638905,31.2638905,31.2638905,31.2638905],\"legendgroup\":\"Texas\",\"lon\":[-98.5456116,-98.5456116,-98.5456116,-98.5456116],\"marker\":{\"color\":\"#19d3f3\",\"size\":[4,4,4,4],\"sizemode\":\"area\",\"sizeref\":0.035,\"symbol\":\"circle\"},\"mode\":\"markers\",\"name\":\"Texas\",\"showlegend\":true,\"type\":\"scattergeo\"},{\"geo\":\"geo\",\"hovertemplate\":\"\\u003cb\\u003e%{hovertext}\\u003c\\u002fb\\u003e\\u003cbr\\u003e\\u003cbr\\u003ecountries_clean=Maryland\\u003cbr\\u003esize=%{marker.size}\\u003cbr\\u003elat=%{lat}\\u003cbr\\u003elon=%{lon}\\u003cextra\\u003e\\u003c\\u002fextra\\u003e\",\"hovertext\":[\"Maryland\"],\"lat\":[39.5162401],\"legendgroup\":\"Maryland\",\"lon\":[-76.9382069],\"marker\":{\"color\":\"#FF6692\",\"size\":[1],\"sizemode\":\"area\",\"sizeref\":0.035,\"symbol\":\"circle\"},\"mode\":\"markers\",\"name\":\"Maryland\",\"showlegend\":true,\"type\":\"scattergeo\"},{\"geo\":\"geo\",\"hovertemplate\":\"\\u003cb\\u003e%{hovertext}\\u003c\\u002fb\\u003e\\u003cbr\\u003e\\u003cbr\\u003ecountries_clean=Indiana\\u003cbr\\u003esize=%{marker.size}\\u003cbr\\u003elat=%{lat}\\u003cbr\\u003elon=%{lon}\\u003cextra\\u003e\\u003c\\u002fextra\\u003e\",\"hovertext\":[\"Indiana\"],\"lat\":[40.3270127],\"legendgroup\":\"Indiana\",\"lon\":[-86.1746933],\"marker\":{\"color\":\"#B6E880\",\"size\":[1],\"sizemode\":\"area\",\"sizeref\":0.035,\"symbol\":\"circle\"},\"mode\":\"markers\",\"name\":\"Indiana\",\"showlegend\":true,\"type\":\"scattergeo\"},{\"geo\":\"geo\",\"hovertemplate\":\"\\u003cb\\u003e%{hovertext}\\u003c\\u002fb\\u003e\\u003cbr\\u003e\\u003cbr\\u003ecountries_clean=United States\\u003cbr\\u003esize=%{marker.size}\\u003cbr\\u003elat=%{lat}\\u003cbr\\u003elon=%{lon}\\u003cextra\\u003e\\u003c\\u002fextra\\u003e\",\"hovertext\":[\"United States\"],\"lat\":[39.7837304],\"legendgroup\":\"United States\",\"lon\":[-100.445882],\"marker\":{\"color\":\"#FF97FF\",\"size\":[1],\"sizemode\":\"area\",\"sizeref\":0.035,\"symbol\":\"circle\"},\"mode\":\"markers\",\"name\":\"United States\",\"showlegend\":true,\"type\":\"scattergeo\"},{\"geo\":\"geo\",\"hovertemplate\":\"\\u003cb\\u003e%{hovertext}\\u003c\\u002fb\\u003e\\u003cbr\\u003e\\u003cbr\\u003ecountries_clean=Scotland\\u003cbr\\u003esize=%{marker.size}\\u003cbr\\u003elat=%{lat}\\u003cbr\\u003elon=%{lon}\\u003cextra\\u003e\\u003c\\u002fextra\\u003e\",\"hovertext\":[\"Scotland\",\"Scotland\",\"Scotland\",\"Scotland\"],\"lat\":[56.7861112,56.7861112,56.7861112,56.7861112],\"legendgroup\":\"Scotland\",\"lon\":[-4.1140518,-4.1140518,-4.1140518,-4.1140518],\"marker\":{\"color\":\"#FECB52\",\"size\":[4,4,4,4],\"sizemode\":\"area\",\"sizeref\":0.035,\"symbol\":\"circle\"},\"mode\":\"markers\",\"name\":\"Scotland\",\"showlegend\":true,\"type\":\"scattergeo\"},{\"geo\":\"geo\",\"hovertemplate\":\"\\u003cb\\u003e%{hovertext}\\u003c\\u002fb\\u003e\\u003cbr\\u003e\\u003cbr\\u003ecountries_clean=Victoria\\u003cbr\\u003esize=%{marker.size}\\u003cbr\\u003elat=%{lat}\\u003cbr\\u003elon=%{lon}\\u003cextra\\u003e\\u003c\\u002fextra\\u003e\",\"hovertext\":[\"Victoria\",\"Victoria\",\"Victoria\"],\"lat\":[-36.5986096,-36.5986096,-36.5986096],\"legendgroup\":\"Victoria\",\"lon\":[144.6780052,144.6780052,144.6780052],\"marker\":{\"color\":\"#636efa\",\"size\":[3,3,3],\"sizemode\":\"area\",\"sizeref\":0.035,\"symbol\":\"circle\"},\"mode\":\"markers\",\"name\":\"Victoria\",\"showlegend\":true,\"type\":\"scattergeo\"},{\"geo\":\"geo\",\"hovertemplate\":\"\\u003cb\\u003e%{hovertext}\\u003c\\u002fb\\u003e\\u003cbr\\u003e\\u003cbr\\u003ecountries_clean=Connecticut\\u003cbr\\u003esize=%{marker.size}\\u003cbr\\u003elat=%{lat}\\u003cbr\\u003elon=%{lon}\\u003cextra\\u003e\\u003c\\u002fextra\\u003e\",\"hovertext\":[\"Connecticut\",\"Connecticut\",\"Connecticut\"],\"lat\":[41.6500201,41.6500201,41.6500201],\"legendgroup\":\"Connecticut\",\"lon\":[-72.7342163,-72.7342163,-72.7342163],\"marker\":{\"color\":\"#EF553B\",\"size\":[3,3,3],\"sizemode\":\"area\",\"sizeref\":0.035,\"symbol\":\"circle\"},\"mode\":\"markers\",\"name\":\"Connecticut\",\"showlegend\":true,\"type\":\"scattergeo\"},{\"geo\":\"geo\",\"hovertemplate\":\"\\u003cb\\u003e%{hovertext}\\u003c\\u002fb\\u003e\\u003cbr\\u003e\\u003cbr\\u003ecountries_clean=Canada\\u003cbr\\u003esize=%{marker.size}\\u003cbr\\u003elat=%{lat}\\u003cbr\\u003elon=%{lon}\\u003cextra\\u003e\\u003c\\u002fextra\\u003e\",\"hovertext\":[\"Canada\",\"Canada\"],\"lat\":[61.0666922,61.0666922],\"legendgroup\":\"Canada\",\"lon\":[-107.991707,-107.991707],\"marker\":{\"color\":\"#00cc96\",\"size\":[2,2],\"sizemode\":\"area\",\"sizeref\":0.035,\"symbol\":\"circle\"},\"mode\":\"markers\",\"name\":\"Canada\",\"showlegend\":true,\"type\":\"scattergeo\"},{\"geo\":\"geo\",\"hovertemplate\":\"\\u003cb\\u003e%{hovertext}\\u003c\\u002fb\\u003e\\u003cbr\\u003e\\u003cbr\\u003ecountries_clean=Italy\\u003cbr\\u003esize=%{marker.size}\\u003cbr\\u003elat=%{lat}\\u003cbr\\u003elon=%{lon}\\u003cextra\\u003e\\u003c\\u002fextra\\u003e\",\"hovertext\":[\"Italy\"],\"lat\":[42.6384261],\"legendgroup\":\"Italy\",\"lon\":[12.674297],\"marker\":{\"color\":\"#ab63fa\",\"size\":[1],\"sizemode\":\"area\",\"sizeref\":0.035,\"symbol\":\"circle\"},\"mode\":\"markers\",\"name\":\"Italy\",\"showlegend\":true,\"type\":\"scattergeo\"},{\"geo\":\"geo\",\"hovertemplate\":\"\\u003cb\\u003e%{hovertext}\\u003c\\u002fb\\u003e\\u003cbr\\u003e\\u003cbr\\u003ecountries_clean=Massachusetts\\u003cbr\\u003esize=%{marker.size}\\u003cbr\\u003elat=%{lat}\\u003cbr\\u003elon=%{lon}\\u003cextra\\u003e\\u003c\\u002fextra\\u003e\",\"hovertext\":[\"Massachusetts\",\"Massachusetts\"],\"lat\":[42.3788774,42.3788774],\"legendgroup\":\"Massachusetts\",\"lon\":[-72.032366,-72.032366],\"marker\":{\"color\":\"#FFA15A\",\"size\":[2,2],\"sizemode\":\"area\",\"sizeref\":0.035,\"symbol\":\"circle\"},\"mode\":\"markers\",\"name\":\"Massachusetts\",\"showlegend\":true,\"type\":\"scattergeo\"},{\"geo\":\"geo\",\"hovertemplate\":\"\\u003cb\\u003e%{hovertext}\\u003c\\u002fb\\u003e\\u003cbr\\u003e\\u003cbr\\u003ecountries_clean=Hungary\\u003cbr\\u003esize=%{marker.size}\\u003cbr\\u003elat=%{lat}\\u003cbr\\u003elon=%{lon}\\u003cextra\\u003e\\u003c\\u002fextra\\u003e\",\"hovertext\":[\"Hungary\"],\"lat\":[47.1817585],\"legendgroup\":\"Hungary\",\"lon\":[19.5060937],\"marker\":{\"color\":\"#19d3f3\",\"size\":[1],\"sizemode\":\"area\",\"sizeref\":0.035,\"symbol\":\"circle\"},\"mode\":\"markers\",\"name\":\"Hungary\",\"showlegend\":true,\"type\":\"scattergeo\"},{\"geo\":\"geo\",\"hovertemplate\":\"\\u003cb\\u003e%{hovertext}\\u003c\\u002fb\\u003e\\u003cbr\\u003e\\u003cbr\\u003ecountries_clean=France\\u003cbr\\u003esize=%{marker.size}\\u003cbr\\u003elat=%{lat}\\u003cbr\\u003elon=%{lon}\\u003cextra\\u003e\\u003c\\u002fextra\\u003e\",\"hovertext\":[\"France\"],\"lat\":[46.603354],\"legendgroup\":\"France\",\"lon\":[1.8883335],\"marker\":{\"color\":\"#FF6692\",\"size\":[1],\"sizemode\":\"area\",\"sizeref\":0.035,\"symbol\":\"circle\"},\"mode\":\"markers\",\"name\":\"France\",\"showlegend\":true,\"type\":\"scattergeo\"},{\"geo\":\"geo\",\"hovertemplate\":\"\\u003cb\\u003e%{hovertext}\\u003c\\u002fb\\u003e\\u003cbr\\u003e\\u003cbr\\u003ecountries_clean=Ohio\\u003cbr\\u003esize=%{marker.size}\\u003cbr\\u003elat=%{lat}\\u003cbr\\u003elon=%{lon}\\u003cextra\\u003e\\u003c\\u002fextra\\u003e\",\"hovertext\":[\"Ohio\",\"Ohio\",\"Ohio\"],\"lat\":[40.2253569,40.2253569,40.2253569],\"legendgroup\":\"Ohio\",\"lon\":[-82.6881395,-82.6881395,-82.6881395],\"marker\":{\"color\":\"#B6E880\",\"size\":[3,3,3],\"sizemode\":\"area\",\"sizeref\":0.035,\"symbol\":\"circle\"},\"mode\":\"markers\",\"name\":\"Ohio\",\"showlegend\":true,\"type\":\"scattergeo\"},{\"geo\":\"geo\",\"hovertemplate\":\"\\u003cb\\u003e%{hovertext}\\u003c\\u002fb\\u003e\\u003cbr\\u003e\\u003cbr\\u003ecountries_clean=South USA\\u003cbr\\u003esize=%{marker.size}\\u003cbr\\u003elat=%{lat}\\u003cbr\\u003elon=%{lon}\\u003cextra\\u003e\\u003c\\u002fextra\\u003e\",\"hovertext\":[\"South USA\"],\"lat\":[57.0894077],\"legendgroup\":\"South USA\",\"lon\":[-135.2543402],\"marker\":{\"color\":\"#FF97FF\",\"size\":[1],\"sizemode\":\"area\",\"sizeref\":0.035,\"symbol\":\"circle\"},\"mode\":\"markers\",\"name\":\"South USA\",\"showlegend\":true,\"type\":\"scattergeo\"},{\"geo\":\"geo\",\"hovertemplate\":\"\\u003cb\\u003e%{hovertext}\\u003c\\u002fb\\u003e\\u003cbr\\u003e\\u003cbr\\u003ecountries_clean=West Australia\\u003cbr\\u003esize=%{marker.size}\\u003cbr\\u003elat=%{lat}\\u003cbr\\u003elon=%{lon}\\u003cextra\\u003e\\u003c\\u002fextra\\u003e\",\"hovertext\":[\"West Australia\"],\"lat\":[-36.3193573],\"legendgroup\":\"West Australia\",\"lon\":[150.1254379],\"marker\":{\"color\":\"#FECB52\",\"size\":[1],\"sizemode\":\"area\",\"sizeref\":0.035,\"symbol\":\"circle\"},\"mode\":\"markers\",\"name\":\"West Australia\",\"showlegend\":true,\"type\":\"scattergeo\"},{\"geo\":\"geo\",\"hovertemplate\":\"\\u003cb\\u003e%{hovertext}\\u003c\\u002fb\\u003e\\u003cbr\\u003e\\u003cbr\\u003ecountries_clean=Israel\\u003cbr\\u003esize=%{marker.size}\\u003cbr\\u003elat=%{lat}\\u003cbr\\u003elon=%{lon}\\u003cextra\\u003e\\u003c\\u002fextra\\u003e\",\"hovertext\":[\"Israel\"],\"lat\":[30.8124247],\"legendgroup\":\"Israel\",\"lon\":[34.8594762],\"marker\":{\"color\":\"#636efa\",\"size\":[1],\"sizemode\":\"area\",\"sizeref\":0.035,\"symbol\":\"circle\"},\"mode\":\"markers\",\"name\":\"Israel\",\"showlegend\":true,\"type\":\"scattergeo\"},{\"geo\":\"geo\",\"hovertemplate\":\"\\u003cb\\u003e%{hovertext}\\u003c\\u002fb\\u003e\\u003cbr\\u003e\\u003cbr\\u003ecountries_clean=Tanzania\\u003cbr\\u003esize=%{marker.size}\\u003cbr\\u003elat=%{lat}\\u003cbr\\u003elon=%{lon}\\u003cextra\\u003e\\u003c\\u002fextra\\u003e\",\"hovertext\":[\"Tanzania\"],\"lat\":[-6.5247123],\"legendgroup\":\"Tanzania\",\"lon\":[35.7878438],\"marker\":{\"color\":\"#EF553B\",\"size\":[1],\"sizemode\":\"area\",\"sizeref\":0.035,\"symbol\":\"circle\"},\"mode\":\"markers\",\"name\":\"Tanzania\",\"showlegend\":true,\"type\":\"scattergeo\"},{\"geo\":\"geo\",\"hovertemplate\":\"\\u003cb\\u003e%{hovertext}\\u003c\\u002fb\\u003e\\u003cbr\\u003e\\u003cbr\\u003ecountries_clean=Tasmania\\u003cbr\\u003esize=%{marker.size}\\u003cbr\\u003elat=%{lat}\\u003cbr\\u003elon=%{lon}\\u003cextra\\u003e\\u003c\\u002fextra\\u003e\",\"hovertext\":[\"Tasmania\"],\"lat\":[-42.035067],\"legendgroup\":\"Tasmania\",\"lon\":[146.6366887],\"marker\":{\"color\":\"#00cc96\",\"size\":[1],\"sizemode\":\"area\",\"sizeref\":0.035,\"symbol\":\"circle\"},\"mode\":\"markers\",\"name\":\"Tasmania\",\"showlegend\":true,\"type\":\"scattergeo\"},{\"geo\":\"geo\",\"hovertemplate\":\"\\u003cb\\u003e%{hovertext}\\u003c\\u002fb\\u003e\\u003cbr\\u003e\\u003cbr\\u003ecountries_clean=British Columbia\\u003cbr\\u003esize=%{marker.size}\\u003cbr\\u003elat=%{lat}\\u003cbr\\u003elon=%{lon}\\u003cextra\\u003e\\u003c\\u002fextra\\u003e\",\"hovertext\":[\"British Columbia\",\"British Columbia\",\"British Columbia\"],\"lat\":[55.001251,55.001251,55.001251],\"legendgroup\":\"British Columbia\",\"lon\":[-125.002441,-125.002441,-125.002441],\"marker\":{\"color\":\"#ab63fa\",\"size\":[3,3,3],\"sizemode\":\"area\",\"sizeref\":0.035,\"symbol\":\"circle\"},\"mode\":\"markers\",\"name\":\"British Columbia\",\"showlegend\":true,\"type\":\"scattergeo\"},{\"geo\":\"geo\",\"hovertemplate\":\"\\u003cb\\u003e%{hovertext}\\u003c\\u002fb\\u003e\\u003cbr\\u003e\\u003cbr\\u003ecountries_clean=Manitoba\\u003cbr\\u003esize=%{marker.size}\\u003cbr\\u003elat=%{lat}\\u003cbr\\u003elon=%{lon}\\u003cextra\\u003e\\u003c\\u002fextra\\u003e\",\"hovertext\":[\"Manitoba\"],\"lat\":[55.001251],\"legendgroup\":\"Manitoba\",\"lon\":[-97.001038],\"marker\":{\"color\":\"#FFA15A\",\"size\":[1],\"sizemode\":\"area\",\"sizeref\":0.035,\"symbol\":\"circle\"},\"mode\":\"markers\",\"name\":\"Manitoba\",\"showlegend\":true,\"type\":\"scattergeo\"},{\"geo\":\"geo\",\"hovertemplate\":\"\\u003cb\\u003e%{hovertext}\\u003c\\u002fb\\u003e\\u003cbr\\u003e\\u003cbr\\u003ecountries_clean=Alberta\\u003cbr\\u003esize=%{marker.size}\\u003cbr\\u003elat=%{lat}\\u003cbr\\u003elon=%{lon}\\u003cextra\\u003e\\u003c\\u002fextra\\u003e\",\"hovertext\":[\"Alberta\"],\"lat\":[55.001251],\"legendgroup\":\"Alberta\",\"lon\":[-115.002136],\"marker\":{\"color\":\"#19d3f3\",\"size\":[1],\"sizemode\":\"area\",\"sizeref\":0.035,\"symbol\":\"circle\"},\"mode\":\"markers\",\"name\":\"Alberta\",\"showlegend\":true,\"type\":\"scattergeo\"},{\"geo\":\"geo\",\"hovertemplate\":\"\\u003cb\\u003e%{hovertext}\\u003c\\u002fb\\u003e\\u003cbr\\u003e\\u003cbr\\u003ecountries_clean=South Australia\\u003cbr\\u003esize=%{marker.size}\\u003cbr\\u003elat=%{lat}\\u003cbr\\u003elon=%{lon}\\u003cextra\\u003e\\u003c\\u002fextra\\u003e\",\"hovertext\":[\"South Australia\",\"South Australia\"],\"lat\":[-30.5343665,-30.5343665],\"legendgroup\":\"South Australia\",\"lon\":[135.6301212,135.6301212],\"marker\":{\"color\":\"#FF6692\",\"size\":[2,2],\"sizemode\":\"area\",\"sizeref\":0.035,\"symbol\":\"circle\"},\"mode\":\"markers\",\"name\":\"South Australia\",\"showlegend\":true,\"type\":\"scattergeo\"},{\"geo\":\"geo\",\"hovertemplate\":\"\\u003cb\\u003e%{hovertext}\\u003c\\u002fb\\u003e\\u003cbr\\u003e\\u003cbr\\u003ecountries_clean=Ontario\\u003cbr\\u003esize=%{marker.size}\\u003cbr\\u003elat=%{lat}\\u003cbr\\u003elon=%{lon}\\u003cextra\\u003e\\u003c\\u002fextra\\u003e\",\"hovertext\":[\"Ontario\"],\"lat\":[50.000678],\"legendgroup\":\"Ontario\",\"lon\":[-86.000977],\"marker\":{\"color\":\"#B6E880\",\"size\":[1],\"sizemode\":\"area\",\"sizeref\":0.035,\"symbol\":\"circle\"},\"mode\":\"markers\",\"name\":\"Ontario\",\"showlegend\":true,\"type\":\"scattergeo\"},{\"geo\":\"geo\",\"hovertemplate\":\"\\u003cb\\u003e%{hovertext}\\u003c\\u002fb\\u003e\\u003cbr\\u003e\\u003cbr\\u003ecountries_clean=Arkansas\\u003cbr\\u003esize=%{marker.size}\\u003cbr\\u003elat=%{lat}\\u003cbr\\u003elon=%{lon}\\u003cextra\\u003e\\u003c\\u002fextra\\u003e\",\"hovertext\":[\"Arkansas\"],\"lat\":[35.2048883],\"legendgroup\":\"Arkansas\",\"lon\":[-92.4479108],\"marker\":{\"color\":\"#FF97FF\",\"size\":[1],\"sizemode\":\"area\",\"sizeref\":0.035,\"symbol\":\"circle\"},\"mode\":\"markers\",\"name\":\"Arkansas\",\"showlegend\":true,\"type\":\"scattergeo\"},{\"geo\":\"geo\",\"hovertemplate\":\"\\u003cb\\u003e%{hovertext}\\u003c\\u002fb\\u003e\\u003cbr\\u003e\\u003cbr\\u003ecountries_clean=California\\u003cbr\\u003esize=%{marker.size}\\u003cbr\\u003elat=%{lat}\\u003cbr\\u003elon=%{lon}\\u003cextra\\u003e\\u003c\\u002fextra\\u003e\",\"hovertext\":[\"California\"],\"lat\":[36.7014631],\"legendgroup\":\"California\",\"lon\":[-118.755997],\"marker\":{\"color\":\"#FECB52\",\"size\":[1],\"sizemode\":\"area\",\"sizeref\":0.035,\"symbol\":\"circle\"},\"mode\":\"markers\",\"name\":\"California\",\"showlegend\":true,\"type\":\"scattergeo\"},{\"geo\":\"geo\",\"hovertemplate\":\"\\u003cb\\u003e%{hovertext}\\u003c\\u002fb\\u003e\\u003cbr\\u003e\\u003cbr\\u003ecountries_clean=Georgia\\u003cbr\\u003esize=%{marker.size}\\u003cbr\\u003elat=%{lat}\\u003cbr\\u003elon=%{lon}\\u003cextra\\u003e\\u003c\\u002fextra\\u003e\",\"hovertext\":[\"Georgia\"],\"lat\":[32.3293809],\"legendgroup\":\"Georgia\",\"lon\":[-83.1137366],\"marker\":{\"color\":\"#636efa\",\"size\":[1],\"sizemode\":\"area\",\"sizeref\":0.035,\"symbol\":\"circle\"},\"mode\":\"markers\",\"name\":\"Georgia\",\"showlegend\":true,\"type\":\"scattergeo\"},{\"geo\":\"geo\",\"hovertemplate\":\"\\u003cb\\u003e%{hovertext}\\u003c\\u002fb\\u003e\\u003cbr\\u003e\\u003cbr\\u003ecountries_clean=Iowa\\u003cbr\\u003esize=%{marker.size}\\u003cbr\\u003elat=%{lat}\\u003cbr\\u003elon=%{lon}\\u003cextra\\u003e\\u003c\\u002fextra\\u003e\",\"hovertext\":[\"Iowa\"],\"lat\":[41.9216734],\"legendgroup\":\"Iowa\",\"lon\":[-93.3122705],\"marker\":{\"color\":\"#EF553B\",\"size\":[1],\"sizemode\":\"area\",\"sizeref\":0.035,\"symbol\":\"circle\"},\"mode\":\"markers\",\"name\":\"Iowa\",\"showlegend\":true,\"type\":\"scattergeo\"},{\"geo\":\"geo\",\"hovertemplate\":\"\\u003cb\\u003e%{hovertext}\\u003c\\u002fb\\u003e\\u003cbr\\u003e\\u003cbr\\u003ecountries_clean=Minnesota\\u003cbr\\u003esize=%{marker.size}\\u003cbr\\u003elat=%{lat}\\u003cbr\\u003elon=%{lon}\\u003cextra\\u003e\\u003c\\u002fextra\\u003e\",\"hovertext\":[\"Minnesota\"],\"lat\":[45.9896587],\"legendgroup\":\"Minnesota\",\"lon\":[-94.6113288],\"marker\":{\"color\":\"#00cc96\",\"size\":[1],\"sizemode\":\"area\",\"sizeref\":0.035,\"symbol\":\"circle\"},\"mode\":\"markers\",\"name\":\"Minnesota\",\"showlegend\":true,\"type\":\"scattergeo\"},{\"geo\":\"geo\",\"hovertemplate\":\"\\u003cb\\u003e%{hovertext}\\u003c\\u002fb\\u003e\\u003cbr\\u003e\\u003cbr\\u003ecountries_clean=Wisconsin\\u003cbr\\u003esize=%{marker.size}\\u003cbr\\u003elat=%{lat}\\u003cbr\\u003elon=%{lon}\\u003cextra\\u003e\\u003c\\u002fextra\\u003e\",\"hovertext\":[\"Wisconsin\"],\"lat\":[44.4308975],\"legendgroup\":\"Wisconsin\",\"lon\":[-89.6884637],\"marker\":{\"color\":\"#ab63fa\",\"size\":[1],\"sizemode\":\"area\",\"sizeref\":0.035,\"symbol\":\"circle\"},\"mode\":\"markers\",\"name\":\"Wisconsin\",\"showlegend\":true,\"type\":\"scattergeo\"},{\"geo\":\"geo\",\"hovertemplate\":\"\\u003cb\\u003e%{hovertext}\\u003c\\u002fb\\u003e\\u003cbr\\u003e\\u003cbr\\u003ecountries_clean=Malawi\\u003cbr\\u003esize=%{marker.size}\\u003cbr\\u003elat=%{lat}\\u003cbr\\u003elon=%{lon}\\u003cextra\\u003e\\u003c\\u002fextra\\u003e\",\"hovertext\":[\"Malawi\"],\"lat\":[-13.2687204],\"legendgroup\":\"Malawi\",\"lon\":[33.9301963],\"marker\":{\"color\":\"#FFA15A\",\"size\":[1],\"sizemode\":\"area\",\"sizeref\":0.035,\"symbol\":\"circle\"},\"mode\":\"markers\",\"name\":\"Malawi\",\"showlegend\":true,\"type\":\"scattergeo\"}],                        {\"template\":{\"data\":{\"histogram2dcontour\":[{\"type\":\"histogram2dcontour\",\"colorbar\":{\"outlinewidth\":0,\"ticks\":\"\"},\"colorscale\":[[0.0,\"#0d0887\"],[0.1111111111111111,\"#46039f\"],[0.2222222222222222,\"#7201a8\"],[0.3333333333333333,\"#9c179e\"],[0.4444444444444444,\"#bd3786\"],[0.5555555555555556,\"#d8576b\"],[0.6666666666666666,\"#ed7953\"],[0.7777777777777778,\"#fb9f3a\"],[0.8888888888888888,\"#fdca26\"],[1.0,\"#f0f921\"]]}],\"choropleth\":[{\"type\":\"choropleth\",\"colorbar\":{\"outlinewidth\":0,\"ticks\":\"\"}}],\"histogram2d\":[{\"type\":\"histogram2d\",\"colorbar\":{\"outlinewidth\":0,\"ticks\":\"\"},\"colorscale\":[[0.0,\"#0d0887\"],[0.1111111111111111,\"#46039f\"],[0.2222222222222222,\"#7201a8\"],[0.3333333333333333,\"#9c179e\"],[0.4444444444444444,\"#bd3786\"],[0.5555555555555556,\"#d8576b\"],[0.6666666666666666,\"#ed7953\"],[0.7777777777777778,\"#fb9f3a\"],[0.8888888888888888,\"#fdca26\"],[1.0,\"#f0f921\"]]}],\"heatmap\":[{\"type\":\"heatmap\",\"colorbar\":{\"outlinewidth\":0,\"ticks\":\"\"},\"colorscale\":[[0.0,\"#0d0887\"],[0.1111111111111111,\"#46039f\"],[0.2222222222222222,\"#7201a8\"],[0.3333333333333333,\"#9c179e\"],[0.4444444444444444,\"#bd3786\"],[0.5555555555555556,\"#d8576b\"],[0.6666666666666666,\"#ed7953\"],[0.7777777777777778,\"#fb9f3a\"],[0.8888888888888888,\"#fdca26\"],[1.0,\"#f0f921\"]]}],\"heatmapgl\":[{\"type\":\"heatmapgl\",\"colorbar\":{\"outlinewidth\":0,\"ticks\":\"\"},\"colorscale\":[[0.0,\"#0d0887\"],[0.1111111111111111,\"#46039f\"],[0.2222222222222222,\"#7201a8\"],[0.3333333333333333,\"#9c179e\"],[0.4444444444444444,\"#bd3786\"],[0.5555555555555556,\"#d8576b\"],[0.6666666666666666,\"#ed7953\"],[0.7777777777777778,\"#fb9f3a\"],[0.8888888888888888,\"#fdca26\"],[1.0,\"#f0f921\"]]}],\"contourcarpet\":[{\"type\":\"contourcarpet\",\"colorbar\":{\"outlinewidth\":0,\"ticks\":\"\"}}],\"contour\":[{\"type\":\"contour\",\"colorbar\":{\"outlinewidth\":0,\"ticks\":\"\"},\"colorscale\":[[0.0,\"#0d0887\"],[0.1111111111111111,\"#46039f\"],[0.2222222222222222,\"#7201a8\"],[0.3333333333333333,\"#9c179e\"],[0.4444444444444444,\"#bd3786\"],[0.5555555555555556,\"#d8576b\"],[0.6666666666666666,\"#ed7953\"],[0.7777777777777778,\"#fb9f3a\"],[0.8888888888888888,\"#fdca26\"],[1.0,\"#f0f921\"]]}],\"surface\":[{\"type\":\"surface\",\"colorbar\":{\"outlinewidth\":0,\"ticks\":\"\"},\"colorscale\":[[0.0,\"#0d0887\"],[0.1111111111111111,\"#46039f\"],[0.2222222222222222,\"#7201a8\"],[0.3333333333333333,\"#9c179e\"],[0.4444444444444444,\"#bd3786\"],[0.5555555555555556,\"#d8576b\"],[0.6666666666666666,\"#ed7953\"],[0.7777777777777778,\"#fb9f3a\"],[0.8888888888888888,\"#fdca26\"],[1.0,\"#f0f921\"]]}],\"mesh3d\":[{\"type\":\"mesh3d\",\"colorbar\":{\"outlinewidth\":0,\"ticks\":\"\"}}],\"scatter\":[{\"fillpattern\":{\"fillmode\":\"overlay\",\"size\":10,\"solidity\":0.2},\"type\":\"scatter\"}],\"parcoords\":[{\"type\":\"parcoords\",\"line\":{\"colorbar\":{\"outlinewidth\":0,\"ticks\":\"\"}}}],\"scatterpolargl\":[{\"type\":\"scatterpolargl\",\"marker\":{\"colorbar\":{\"outlinewidth\":0,\"ticks\":\"\"}}}],\"bar\":[{\"error_x\":{\"color\":\"#2a3f5f\"},\"error_y\":{\"color\":\"#2a3f5f\"},\"marker\":{\"line\":{\"color\":\"#E5ECF6\",\"width\":0.5},\"pattern\":{\"fillmode\":\"overlay\",\"size\":10,\"solidity\":0.2}},\"type\":\"bar\"}],\"scattergeo\":[{\"type\":\"scattergeo\",\"marker\":{\"colorbar\":{\"outlinewidth\":0,\"ticks\":\"\"}}}],\"scatterpolar\":[{\"type\":\"scatterpolar\",\"marker\":{\"colorbar\":{\"outlinewidth\":0,\"ticks\":\"\"}}}],\"histogram\":[{\"marker\":{\"pattern\":{\"fillmode\":\"overlay\",\"size\":10,\"solidity\":0.2}},\"type\":\"histogram\"}],\"scattergl\":[{\"type\":\"scattergl\",\"marker\":{\"colorbar\":{\"outlinewidth\":0,\"ticks\":\"\"}}}],\"scatter3d\":[{\"type\":\"scatter3d\",\"line\":{\"colorbar\":{\"outlinewidth\":0,\"ticks\":\"\"}},\"marker\":{\"colorbar\":{\"outlinewidth\":0,\"ticks\":\"\"}}}],\"scattermapbox\":[{\"type\":\"scattermapbox\",\"marker\":{\"colorbar\":{\"outlinewidth\":0,\"ticks\":\"\"}}}],\"scatterternary\":[{\"type\":\"scatterternary\",\"marker\":{\"colorbar\":{\"outlinewidth\":0,\"ticks\":\"\"}}}],\"scattercarpet\":[{\"type\":\"scattercarpet\",\"marker\":{\"colorbar\":{\"outlinewidth\":0,\"ticks\":\"\"}}}],\"carpet\":[{\"aaxis\":{\"endlinecolor\":\"#2a3f5f\",\"gridcolor\":\"white\",\"linecolor\":\"white\",\"minorgridcolor\":\"white\",\"startlinecolor\":\"#2a3f5f\"},\"baxis\":{\"endlinecolor\":\"#2a3f5f\",\"gridcolor\":\"white\",\"linecolor\":\"white\",\"minorgridcolor\":\"white\",\"startlinecolor\":\"#2a3f5f\"},\"type\":\"carpet\"}],\"table\":[{\"cells\":{\"fill\":{\"color\":\"#EBF0F8\"},\"line\":{\"color\":\"white\"}},\"header\":{\"fill\":{\"color\":\"#C8D4E3\"},\"line\":{\"color\":\"white\"}},\"type\":\"table\"}],\"barpolar\":[{\"marker\":{\"line\":{\"color\":\"#E5ECF6\",\"width\":0.5},\"pattern\":{\"fillmode\":\"overlay\",\"size\":10,\"solidity\":0.2}},\"type\":\"barpolar\"}],\"pie\":[{\"automargin\":true,\"type\":\"pie\"}]},\"layout\":{\"autotypenumbers\":\"strict\",\"colorway\":[\"#636efa\",\"#EF553B\",\"#00cc96\",\"#ab63fa\",\"#FFA15A\",\"#19d3f3\",\"#FF6692\",\"#B6E880\",\"#FF97FF\",\"#FECB52\"],\"font\":{\"color\":\"#2a3f5f\"},\"hovermode\":\"closest\",\"hoverlabel\":{\"align\":\"left\"},\"paper_bgcolor\":\"white\",\"plot_bgcolor\":\"#E5ECF6\",\"polar\":{\"bgcolor\":\"#E5ECF6\",\"angularaxis\":{\"gridcolor\":\"white\",\"linecolor\":\"white\",\"ticks\":\"\"},\"radialaxis\":{\"gridcolor\":\"white\",\"linecolor\":\"white\",\"ticks\":\"\"}},\"ternary\":{\"bgcolor\":\"#E5ECF6\",\"aaxis\":{\"gridcolor\":\"white\",\"linecolor\":\"white\",\"ticks\":\"\"},\"baxis\":{\"gridcolor\":\"white\",\"linecolor\":\"white\",\"ticks\":\"\"},\"caxis\":{\"gridcolor\":\"white\",\"linecolor\":\"white\",\"ticks\":\"\"}},\"coloraxis\":{\"colorbar\":{\"outlinewidth\":0,\"ticks\":\"\"}},\"colorscale\":{\"sequential\":[[0.0,\"#0d0887\"],[0.1111111111111111,\"#46039f\"],[0.2222222222222222,\"#7201a8\"],[0.3333333333333333,\"#9c179e\"],[0.4444444444444444,\"#bd3786\"],[0.5555555555555556,\"#d8576b\"],[0.6666666666666666,\"#ed7953\"],[0.7777777777777778,\"#fb9f3a\"],[0.8888888888888888,\"#fdca26\"],[1.0,\"#f0f921\"]],\"sequentialminus\":[[0.0,\"#0d0887\"],[0.1111111111111111,\"#46039f\"],[0.2222222222222222,\"#7201a8\"],[0.3333333333333333,\"#9c179e\"],[0.4444444444444444,\"#bd3786\"],[0.5555555555555556,\"#d8576b\"],[0.6666666666666666,\"#ed7953\"],[0.7777777777777778,\"#fb9f3a\"],[0.8888888888888888,\"#fdca26\"],[1.0,\"#f0f921\"]],\"diverging\":[[0,\"#8e0152\"],[0.1,\"#c51b7d\"],[0.2,\"#de77ae\"],[0.3,\"#f1b6da\"],[0.4,\"#fde0ef\"],[0.5,\"#f7f7f7\"],[0.6,\"#e6f5d0\"],[0.7,\"#b8e186\"],[0.8,\"#7fbc41\"],[0.9,\"#4d9221\"],[1,\"#276419\"]]},\"xaxis\":{\"gridcolor\":\"white\",\"linecolor\":\"white\",\"ticks\":\"\",\"title\":{\"standoff\":15},\"zerolinecolor\":\"white\",\"automargin\":true,\"zerolinewidth\":2},\"yaxis\":{\"gridcolor\":\"white\",\"linecolor\":\"white\",\"ticks\":\"\",\"title\":{\"standoff\":15},\"zerolinecolor\":\"white\",\"automargin\":true,\"zerolinewidth\":2},\"scene\":{\"xaxis\":{\"backgroundcolor\":\"#E5ECF6\",\"gridcolor\":\"white\",\"linecolor\":\"white\",\"showbackground\":true,\"ticks\":\"\",\"zerolinecolor\":\"white\",\"gridwidth\":2},\"yaxis\":{\"backgroundcolor\":\"#E5ECF6\",\"gridcolor\":\"white\",\"linecolor\":\"white\",\"showbackground\":true,\"ticks\":\"\",\"zerolinecolor\":\"white\",\"gridwidth\":2},\"zaxis\":{\"backgroundcolor\":\"#E5ECF6\",\"gridcolor\":\"white\",\"linecolor\":\"white\",\"showbackground\":true,\"ticks\":\"\",\"zerolinecolor\":\"white\",\"gridwidth\":2}},\"shapedefaults\":{\"line\":{\"color\":\"#2a3f5f\"}},\"annotationdefaults\":{\"arrowcolor\":\"#2a3f5f\",\"arrowhead\":0,\"arrowwidth\":1},\"geo\":{\"bgcolor\":\"white\",\"landcolor\":\"#E5ECF6\",\"subunitcolor\":\"white\",\"showland\":true,\"showlakes\":true,\"lakecolor\":\"white\"},\"title\":{\"x\":0.05},\"mapbox\":{\"style\":\"light\"}}},\"geo\":{\"domain\":{\"x\":[0.0,1.0],\"y\":[0.0,1.0]},\"projection\":{\"type\":\"natural earth\"},\"center\":{},\"showcountries\":false,\"showland\":true,\"landcolor\":\"lightgray\",\"showcoastlines\":true,\"coastlinecolor\":\"gray\"},\"legend\":{\"title\":{\"text\":\"Region\"},\"tracegroupgap\":0,\"itemsizing\":\"constant\"},\"title\":{\"text\":\"World Map with Colored and Scaled Bubbles by Region\"},\"margin\":{\"r\":0,\"t\":30,\"l\":0,\"b\":0}},                        {\"responsive\": true}                    ).then(function(){\n",
       "                            \n",
       "var gd = document.getElementById('cce339e2-e6d6-43ab-a27d-bb302a19d9cb');\n",
       "var x = new MutationObserver(function (mutations, observer) {{\n",
       "        var display = window.getComputedStyle(gd).display;\n",
       "        if (!display || display === 'none') {{\n",
       "            console.log([gd, 'removed!']);\n",
       "            Plotly.purge(gd);\n",
       "            observer.disconnect();\n",
       "        }}\n",
       "}});\n",
       "\n",
       "// Listen for the removal of the full notebook cells\n",
       "var notebookContainer = gd.closest('#notebook-container');\n",
       "if (notebookContainer) {{\n",
       "    x.observe(notebookContainer, {childList: true});\n",
       "}}\n",
       "\n",
       "// Listen for the clearing of the current output cell\n",
       "var outputEl = gd.closest('.output');\n",
       "if (outputEl) {{\n",
       "    x.observe(outputEl, {childList: true});\n",
       "}}\n",
       "\n",
       "                        })                };                });            </script>        </div>"
      ]
     },
     "metadata": {},
     "output_type": "display_data"
    }
   ],
   "source": [
    "import plotly.express as px\n",
    "\n",
    "fig = px.scatter_geo(\n",
    "    df_exploded,\n",
    "    lat='lat',\n",
    "    lon='lon',\n",
    "    hover_name='countries_clean',  # Appears on hover only\n",
    "    color='countries_clean',                # Colors by region\n",
    "    size='size',                  # Bubble size\n",
    "    projection=\"natural earth\",\n",
    "    title=\"World Map with Colored and Scaled Bubbles by Region\"\n",
    ")\n",
    "\n",
    "# Hide country labels and customize map appearance\n",
    "fig.update_geos(\n",
    "    showcountries=False,\n",
    "    showland=True,\n",
    "    landcolor=\"lightgray\",\n",
    "    showcoastlines=True,\n",
    "    coastlinecolor=\"gray\"\n",
    ")\n",
    "\n",
    "# Customize layout and legend appearance\n",
    "fig.update_layout(\n",
    "    legend_title_text='Region',\n",
    "    margin={\"r\":0,\"t\":30,\"l\":0,\"b\":0}\n",
    ")\n",
    "\n",
    "# Save and show\n",
    "# fig.write_image(\"maps/pprl_map_colored_iii.png\", scale=2)\n",
    "fig.write_html(\"maps/pprl_map_colored_iii.html\")\n",
    "fig.show()"
   ]
  },
  {
   "cell_type": "code",
   "execution_count": 71,
   "id": "ad3085d0-6dc2-49d5-9600-faac2a0c1292",
   "metadata": {},
   "outputs": [
    {
     "name": "stdout",
     "output_type": "stream",
     "text": [
      "Kaleido is working!\n"
     ]
    },
    {
     "name": "stderr",
     "output_type": "stream",
     "text": [
      "C:\\Users\\dmaina.AD\\Anaconda3\\envs\\phd_work\\lib\\site-packages\\kaleido\\__init__.py:14: UserWarning:\n",
      "\n",
      "\n",
      "\n",
      "Warning: You have Plotly version 5.19.0, which is not compatible with this version of Kaleido (1.0.0).\n",
      "\n",
      "This means that static image generation (e.g. `fig.write_image()`) will not work.\n",
      "\n",
      "Please upgrade Plotly to version 6.1.1 or greater, or downgrade Kaleido to version 0.2.1.\n",
      "\n",
      "\n"
     ]
    }
   ],
   "source": [
    "import kaleido\n",
    "print(\"Kaleido is working!\")"
   ]
  },
  {
   "cell_type": "markdown",
   "id": "5c08693c-9891-4bee-970b-b15c00175ea9",
   "metadata": {},
   "source": [
    "### End of the maps"
   ]
  }
 ],
 "metadata": {
  "kernelspec": {
   "display_name": "Python 3 (ipykernel)",
   "language": "python",
   "name": "python3"
  },
  "language_info": {
   "codemirror_mode": {
    "name": "ipython",
    "version": 3
   },
   "file_extension": ".py",
   "mimetype": "text/x-python",
   "name": "python",
   "nbconvert_exporter": "python",
   "pygments_lexer": "ipython3",
   "version": "3.9.19"
  }
 },
 "nbformat": 4,
 "nbformat_minor": 5
}
