{
 "cells": [
  {
   "cell_type": "code",
   "execution_count": 1,
   "id": "d0195848-800d-4cfb-a7c4-4adddad48919",
   "metadata": {},
   "outputs": [],
   "source": [
    "# !pip install -U kaleido\n",
    "# !pip install --upgrade plotly"
   ]
  },
  {
   "cell_type": "markdown",
   "id": "3bafc0f8-56e5-4b95-bfb5-e593b2a0d392",
   "metadata": {},
   "source": [
    "### Import Libraries"
   ]
  },
  {
   "cell_type": "code",
   "execution_count": 2,
   "id": "775829a1-a147-4639-95e8-d2f62395047e",
   "metadata": {},
   "outputs": [],
   "source": [
    "import pandas as pd\n",
    "from matplotlib import pyplot as plt \n",
    "from geopy.geocoders import Nominatim\n",
    "from time import sleep"
   ]
  },
  {
   "cell_type": "markdown",
   "id": "6efeb001-2606-43b1-a1e7-22cf5cbaed12",
   "metadata": {},
   "source": [
    "### Import data"
   ]
  },
  {
   "cell_type": "code",
   "execution_count": 3,
   "id": "c6146709-6388-411e-8100-db270b58f38c",
   "metadata": {},
   "outputs": [
    {
     "data": {
      "text/html": [
       "<div>\n",
       "<style scoped>\n",
       "    .dataframe tbody tr th:only-of-type {\n",
       "        vertical-align: middle;\n",
       "    }\n",
       "\n",
       "    .dataframe tbody tr th {\n",
       "        vertical-align: top;\n",
       "    }\n",
       "\n",
       "    .dataframe thead th {\n",
       "        text-align: right;\n",
       "    }\n",
       "</style>\n",
       "<table border=\"1\" class=\"dataframe\">\n",
       "  <thead>\n",
       "    <tr style=\"text-align: right;\">\n",
       "      <th></th>\n",
       "      <th>search_#</th>\n",
       "      <th>study_title</th>\n",
       "      <th>link</th>\n",
       "      <th>geographic_region</th>\n",
       "      <th>state_country</th>\n",
       "      <th>city</th>\n",
       "      <th>evaluation</th>\n",
       "      <th>date_done</th>\n",
       "      <th>year</th>\n",
       "      <th>topic</th>\n",
       "      <th>...</th>\n",
       "      <th>More explanation on AIMS</th>\n",
       "      <th>Sections</th>\n",
       "      <th>Authors</th>\n",
       "      <th>Skimming_through_scanning</th>\n",
       "      <th>fulltext</th>\n",
       "      <th>mendeley_zotero</th>\n",
       "      <th>citations</th>\n",
       "      <th>Authors_x</th>\n",
       "      <th>Databases</th>\n",
       "      <th>author_affiliation</th>\n",
       "    </tr>\n",
       "  </thead>\n",
       "  <tbody>\n",
       "    <tr>\n",
       "      <th>0</th>\n",
       "      <td>717133610579</td>\n",
       "      <td>Population-level surveillance of congenital he...</td>\n",
       "      <td>https://doi.org/10.1016/j.ahj.2020.04.008</td>\n",
       "      <td>USA;</td>\n",
       "      <td>Colorado;</td>\n",
       "      <td>NaN</td>\n",
       "      <td>NaN</td>\n",
       "      <td>7/17/2025</td>\n",
       "      <td>2020.0</td>\n",
       "      <td>NaN</td>\n",
       "      <td>...</td>\n",
       "      <td>NaN</td>\n",
       "      <td>NaN</td>\n",
       "      <td>NaN</td>\n",
       "      <td>NaN</td>\n",
       "      <td>NaN</td>\n",
       "      <td>NaN</td>\n",
       "      <td>NaN</td>\n",
       "      <td>NaN</td>\n",
       "      <td>NaN</td>\n",
       "      <td>NaN</td>\n",
       "    </tr>\n",
       "    <tr>\n",
       "      <th>1</th>\n",
       "      <td>717133610636</td>\n",
       "      <td>Real-world effectiveness of admissions to a te...</td>\n",
       "      <td>https://doi.org/10.1192/bjo.2020.51</td>\n",
       "      <td>Europe;</td>\n",
       "      <td>Scotland; Wales; Northern Ireland; England;</td>\n",
       "      <td>NaN</td>\n",
       "      <td>general-info</td>\n",
       "      <td>7/16/2025</td>\n",
       "      <td>2020.0</td>\n",
       "      <td>cohort identification; National Psychosis Unit...</td>\n",
       "      <td>...</td>\n",
       "      <td>NaN</td>\n",
       "      <td>NaN</td>\n",
       "      <td>NaN</td>\n",
       "      <td>NaN</td>\n",
       "      <td>NaN</td>\n",
       "      <td>NaN</td>\n",
       "      <td>NaN</td>\n",
       "      <td>NaN</td>\n",
       "      <td>NaN</td>\n",
       "      <td>NaN</td>\n",
       "    </tr>\n",
       "    <tr>\n",
       "      <th>2</th>\n",
       "      <td>717133610161</td>\n",
       "      <td>Population Data BC: Supporting population data...</td>\n",
       "      <td>https://doi.org/10.23889/ijpds.v4i2.1133</td>\n",
       "      <td>Canada;</td>\n",
       "      <td>British Columbia;</td>\n",
       "      <td>Vancouver;</td>\n",
       "      <td>Great</td>\n",
       "      <td>7/16/2025</td>\n",
       "      <td>2020.0</td>\n",
       "      <td>References for building of national data repos...</td>\n",
       "      <td>...</td>\n",
       "      <td>NaN</td>\n",
       "      <td>NaN</td>\n",
       "      <td>Ark TK</td>\n",
       "      <td>yes</td>\n",
       "      <td>Yes-partially</td>\n",
       "      <td>NaN</td>\n",
       "      <td>Int J Popul Data Sci. 2020 Mar 26;4(2):1133. d...</td>\n",
       "      <td>Ark TK</td>\n",
       "      <td>Int J Popul Data Sci</td>\n",
       "      <td>NaN</td>\n",
       "    </tr>\n",
       "    <tr>\n",
       "      <th>3</th>\n",
       "      <td>717133610794</td>\n",
       "      <td>Population Data Centre Profiles: Centre for Da...</td>\n",
       "      <td>https://doi.org/10.23889/ijpds.v4i2.1139</td>\n",
       "      <td>Australia;</td>\n",
       "      <td>Western Australia;</td>\n",
       "      <td>Curtin University, Western Australia;</td>\n",
       "      <td>NaN</td>\n",
       "      <td>7/16/2025</td>\n",
       "      <td>2020.0</td>\n",
       "      <td>Centre for Data Linkage (CDL); Curtin Universi...</td>\n",
       "      <td>...</td>\n",
       "      <td>NaN</td>\n",
       "      <td>NaN</td>\n",
       "      <td>Boyd JH</td>\n",
       "      <td>NaN</td>\n",
       "      <td>NaN</td>\n",
       "      <td>NaN</td>\n",
       "      <td>Int J Popul Data Sci. 2020 Mar 11;4(2):1139. d...</td>\n",
       "      <td>Boyd JH</td>\n",
       "      <td>Int J Popul Data Sci</td>\n",
       "      <td>NaN</td>\n",
       "    </tr>\n",
       "    <tr>\n",
       "      <th>4</th>\n",
       "      <td>717133610786</td>\n",
       "      <td>Secure Record Linkage of Large Health Data Set...</td>\n",
       "      <td>https://doi.org/10.2196/18920</td>\n",
       "      <td>Australia;</td>\n",
       "      <td>Western Australia;</td>\n",
       "      <td>Bentley, Western Australia;</td>\n",
       "      <td>great-practical</td>\n",
       "      <td>7/15/2025</td>\n",
       "      <td>2020.0</td>\n",
       "      <td>containers; linkage workloads; multiple nodes;...</td>\n",
       "      <td>...</td>\n",
       "      <td>NaN</td>\n",
       "      <td>NaN</td>\n",
       "      <td>Brown AP</td>\n",
       "      <td>NaN</td>\n",
       "      <td>NaN</td>\n",
       "      <td>NaN</td>\n",
       "      <td>JMIR Med Inform. 2020 Sep 23;8(9):e18920. doi:...</td>\n",
       "      <td>Brown AP</td>\n",
       "      <td>JMIR Med Inform</td>\n",
       "      <td>NaN</td>\n",
       "    </tr>\n",
       "  </tbody>\n",
       "</table>\n",
       "<p>5 rows × 88 columns</p>\n",
       "</div>"
      ],
      "text/plain": [
       "       search_#                                        study_title  \\\n",
       "0  717133610579  Population-level surveillance of congenital he...   \n",
       "1  717133610636  Real-world effectiveness of admissions to a te...   \n",
       "2  717133610161  Population Data BC: Supporting population data...   \n",
       "3  717133610794  Population Data Centre Profiles: Centre for Da...   \n",
       "4  717133610786  Secure Record Linkage of Large Health Data Set...   \n",
       "\n",
       "                                        link geographic_region  \\\n",
       "0  https://doi.org/10.1016/j.ahj.2020.04.008              USA;   \n",
       "1        https://doi.org/10.1192/bjo.2020.51           Europe;   \n",
       "2   https://doi.org/10.23889/ijpds.v4i2.1133           Canada;   \n",
       "3   https://doi.org/10.23889/ijpds.v4i2.1139        Australia;   \n",
       "4              https://doi.org/10.2196/18920        Australia;   \n",
       "\n",
       "                                 state_country  \\\n",
       "0                                    Colorado;   \n",
       "1  Scotland; Wales; Northern Ireland; England;   \n",
       "2                            British Columbia;   \n",
       "3                           Western Australia;   \n",
       "4                           Western Australia;   \n",
       "\n",
       "                                    city       evaluation  date_done    year  \\\n",
       "0                                    NaN              NaN  7/17/2025  2020.0   \n",
       "1                                    NaN     general-info  7/16/2025  2020.0   \n",
       "2                             Vancouver;            Great  7/16/2025  2020.0   \n",
       "3  Curtin University, Western Australia;              NaN  7/16/2025  2020.0   \n",
       "4            Bentley, Western Australia;  great-practical  7/15/2025  2020.0   \n",
       "\n",
       "                                               topic  ...  \\\n",
       "0                                                NaN  ...   \n",
       "1  cohort identification; National Psychosis Unit...  ...   \n",
       "2  References for building of national data repos...  ...   \n",
       "3  Centre for Data Linkage (CDL); Curtin Universi...  ...   \n",
       "4  containers; linkage workloads; multiple nodes;...  ...   \n",
       "\n",
       "  More explanation on AIMS Sections   Authors Skimming_through_scanning  \\\n",
       "0                      NaN      NaN       NaN                       NaN   \n",
       "1                      NaN      NaN       NaN                       NaN   \n",
       "2                      NaN      NaN    Ark TK                       yes   \n",
       "3                      NaN      NaN   Boyd JH                       NaN   \n",
       "4                      NaN      NaN  Brown AP                       NaN   \n",
       "\n",
       "        fulltext mendeley_zotero  \\\n",
       "0            NaN             NaN   \n",
       "1            NaN             NaN   \n",
       "2  Yes-partially             NaN   \n",
       "3            NaN             NaN   \n",
       "4            NaN             NaN   \n",
       "\n",
       "                                           citations Authors_x  \\\n",
       "0                                                NaN       NaN   \n",
       "1                                                NaN       NaN   \n",
       "2  Int J Popul Data Sci. 2020 Mar 26;4(2):1133. d...    Ark TK   \n",
       "3  Int J Popul Data Sci. 2020 Mar 11;4(2):1139. d...   Boyd JH   \n",
       "4  JMIR Med Inform. 2020 Sep 23;8(9):e18920. doi:...  Brown AP   \n",
       "\n",
       "              Databases author_affiliation  \n",
       "0                   NaN                NaN  \n",
       "1                   NaN                NaN  \n",
       "2  Int J Popul Data Sci                NaN  \n",
       "3  Int J Popul Data Sci                NaN  \n",
       "4       JMIR Med Inform                NaN  \n",
       "\n",
       "[5 rows x 88 columns]"
      ]
     },
     "execution_count": 3,
     "metadata": {},
     "output_type": "execute_result"
    }
   ],
   "source": [
    "df = pd.read_csv('D:/Daniels/exercises/ubuntu/phd_work/data/pprl_papers_data_extraction.csv')\n",
    "df.head()"
   ]
  },
  {
   "cell_type": "code",
   "execution_count": 4,
   "id": "092ded58-a839-4bf4-a4e6-264b16b94863",
   "metadata": {},
   "outputs": [
    {
     "data": {
      "text/plain": [
       "(534, 88)"
      ]
     },
     "execution_count": 4,
     "metadata": {},
     "output_type": "execute_result"
    }
   ],
   "source": [
    "df.shape"
   ]
  },
  {
   "cell_type": "markdown",
   "id": "91e60f6a-cc10-4d7a-8aa7-75b3b37964cd",
   "metadata": {},
   "source": [
    "### Split locations"
   ]
  },
  {
   "cell_type": "code",
   "execution_count": 5,
   "id": "22e6b8c5-9f08-47c6-864c-efd6e667c84f",
   "metadata": {},
   "outputs": [],
   "source": [
    "# Remove trailing semicolons and split into lists\n",
    "df['countries_list'] = df['state_country'].str.rstrip(';').str.split(';')\n",
    "\n",
    "# Explode into multiple rows\n",
    "df_exploded = df.explode('countries_list')\n",
    "\n",
    "# Clean up spaces and underscores\n",
    "df_exploded['countries_clean'] = df_exploded['countries_list'].str.replace('_', ' ').str.strip()\n",
    "\n",
    "# Drop NaNs or empty values\n",
    "df_exploded = df_exploded[df_exploded['countries_clean'].notna() & (df_exploded['countries_clean'] != '')]\n"
   ]
  },
  {
   "cell_type": "code",
   "execution_count": 6,
   "id": "ad85982d-18d0-4924-ba61-8896936bc0f2",
   "metadata": {},
   "outputs": [
    {
     "data": {
      "text/plain": [
       "68"
      ]
     },
     "execution_count": 6,
     "metadata": {},
     "output_type": "execute_result"
    }
   ],
   "source": [
    "df_exploded.countries_clean.nunique()"
   ]
  },
  {
   "cell_type": "markdown",
   "id": "6292e5a8-2e3f-4e9d-b00d-01974f2901af",
   "metadata": {},
   "source": [
    "### Geolocator - more time taken here"
   ]
  },
  {
   "cell_type": "code",
   "execution_count": 7,
   "id": "7229ff16-a742-4006-b66d-f663a5c7a305",
   "metadata": {},
   "outputs": [],
   "source": [
    "geolocator = Nominatim(user_agent=\"geoapi\")\n",
    "\n",
    "# Define function with delay to avoid rate-limiting\n",
    "def geocode_place(place):\n",
    "    try:\n",
    "        loc = geolocator.geocode(place)\n",
    "        if loc:\n",
    "            return pd.Series([loc.latitude, loc.longitude])\n",
    "    except:\n",
    "        return pd.Series([None, None])\n",
    "    return pd.Series([None, None])\n",
    "\n",
    "# Apply with delay\n",
    "df_exploded[['lat', 'lon']] = df_exploded['countries_clean'].apply(lambda x: geocode_place(x))"
   ]
  },
  {
   "cell_type": "code",
   "execution_count": 8,
   "id": "d1173ebe-3f2c-4883-b0f4-8a94cc888897",
   "metadata": {},
   "outputs": [
    {
     "data": {
      "application/vnd.plotly.v1+json": {
       "config": {
        "plotlyServerURL": "https://plot.ly"
       },
       "data": [
        {
         "geo": "geo",
         "hovertemplate": "countries_clean=%{text}<br>lat=%{lat}<br>lon=%{lon}<extra></extra>",
         "lat": {
          "bdata": "WeWdntJcQ0B5grNKn2RMQNnxutl6JUpABf+2ggFLS0DyPF2C+ENKQC0LJv4ogEtAoMA7+fQ6OcCgwDv59Do5wNxTKMHR3j5A9t7OdGXWTUDkpfZ9k5NOQJ6WH7jK1UtA6XBjaZafT0DZ8brZeiVKQOtVZHRA4D/AmYHK+PeUSUDyPF2C+ENKQJmByvj3lElAmYHK+PeUSUA35tB9lElCQFvo70o3ZkdAxXAaR1HkQ0DrVWR0QOA/wL7xWq4j1kFAEHaKVYPPRUAT2s3nNzMjQORVjKmqqiTAZtmTwOZZS0CZgcr495RJQM7ji1EyCkRAxXAaR1HkQ0DZ8brZeiVKQKDAO/n0OjnAKqvpeqK+SUBm2ZPA5llLQGbZk8DmWUtA5FWMqaqqJMCZgcr495RJQDfm0H2USUJAWTikrDpbREAF/7aCAUtLQHYqKiwCgEFATCSHPg7RPMBb6O9KN2ZHQKwzY3a7wTtA7Vkh9lP5N0BZ5Z2e0lxDQJmByvj3lElA5KX2fZOTTkA5XbtZKCo2wC/5n/zdoxtADmd+NQfMR0AAAAAAAIBJQFk4pKw6W0RAIuQXuQLARMDZ8brZeiVKQHYqKiwCgEFA8jxdgvhDSkCFkm7wKh9KQL3g05y8qUNA6XBjaZafT0AF/7aCAUtLQKRQFr6+bkpA9CSfDa/GOMBx4Hq59FFJQOtVZHRA4D/AoMA7+fQ6OcD0JJ8Nr8Y4wL7xWq4j1kFAZtmTwOZZS0B2KiosAoBBQFvo70o3ZkdAnznrU45DP0AfMdUnFMJDQIWSbvAqH0pA61VkdEDgP8Bb6O9KN2ZHQDbwWY3bKURA61VkdEDgP8DFcBpHUeRDQKDAO/n0OjnA8jxdgvhDSkDZ8brZeiVKQOlwY2mWn09AeYKzSp9kTEBZOKSsOltEQDldu1koKjbAN+bQfZRJQkCZgcr495RJQCyJRz2fTELALIlHPZ9MQsCZgcr495RJQM7ji1EyCkRA9CSfDa/GOMAPn8/bM9NEQPvyuF6JiE5A8jxdgvhDSkA35tB9lElCQPI8XYL4Q0pAZtmTwOZZS0D78rheiYhOQNnxutl6JUpA8jxdgvhDSkDZ8brZeiVKQAX/toIBS0tAeYKzSp9kTEDyPF2C+ENKQNc0SvK3UUVAnznrU45DP0DZ8brZeiVKQA+fz9sz00RA5KX2fZOTTkDZ8brZeiVKQOlwY2mWn09AmYHK+PeUSUDyPF2C+ENKQJ8561OOQz9A2fG62XolSkDZ8brZeiVKQNnxutl6JUpA2fG62XolSkB5grNKn2RMQKDAO/n0OjnAD5/P2zPTREDFGP0NfzBFQJCiztxDl0dAvvFariPWQUCV9DC0Ok1HQMe2sX7YHERATCSHPg7RPMCfOetTjkM/QFvBJbZxi0xAmYHK+PeUSUAsiUc9n0xCwJmByvj3lElAWTikrDpbREBZOKSsOltEQDzAkxYu+kHAbvasEPvPPkD0JJ8Nr8Y4wFs8YS5OGRrAnBVRE30ERcBMJIc+DtE8wC0LJv4ogEtALQsm/iiAS0A35tB9lElCQC0LJv4ogEtALQsm/iiAS0AtCyb+KIBLQFnlnZ7SXENAWeWdntJcQ0DrVWR0QOA/wPeTMT7MiD7A61VkdEDgP8DR6Xk3FgBJQKDAO/n0OjnA61VkdEDgP8CZgcr495RJQPQknw2vxjjAmYHK+PeUSUDrVWR0QOA/wKDAO/n0OjnA95MxPsyIPsC+8VquI9ZBQMe2sX7YHERAmYHK+PeUSUDrVWR0QOA/wC/5n/zdoxtArDNjdrvBO0Ch6qHHOZpBQObs+IrJWUJAqbZAJykqQEDsS9tk+fVEQMUY/Q1/MEVAEHaKVYPPRUDXWeMirf5GQFk4pKw6W0RAvvFariPWQUDHtrF+2BxEQM42N6YnN0ZAPIljuJWJKsB5grNKn2RMQEwkhz4O0TzATCSHPg7RPMA=",
          "dtype": "f8"
         },
         "legendgroup": "",
         "lon": {
          "bdata": "YVCm0eRmWsAiM7z+yXQQwChEwCFU6Q3AkCBL1SzWG8BGH5hIDj30v9rKS/4nQF/AXSiqyDJBXkBdKKrIMkFeQOI8nMB0AFfAm7HD860KLUBYY7/dSJMhQJ2pxgGqqiRAnVlcLcHrOUAoRMAhVOkNwIZjTLAuaWJAFkDnJErlJEBGH5hIDj30vxZA5yRK5SRAFkDnJErlJEB3UrpPqWdhQB4SYz7FdiBAAfinVIkcWcCGY0ywLmliQNpfLMKDwlPAKiosAq0rVcBXpqmv+P8fQJqZmZmZmUrAFg1jHG02CsAWQOckSuUkQFXVcDbCW1bAAfinVIkcWcAoRMAhVOkNwF0oqsgyQV5AnDepw2Vwwr8WDWMcbTYKwBYNYxxtNgrAmpmZmZmZSsAWQOckSuUkQHdSuk+pZ2FA2dGTjWKAUsCQIEvVLNYbwDCeQUP/P1pAKnCyDdz9OEAeEmM+xXYgQI2Y2eexXVTAiyWbYdk+XkBhUKbR5GZawBZA5yRK5SRAWGO/3UiTIUCJagAltBJiQMhZfRqc91NAj8cMVMY/LEAAAAAAAAAkQNnRk41igFLA++DGd7OaZUAoRMAhVOkNwDCeQUP/P1pARh+YSA499L8Scc7ji4kWQBLtdDEXWhPAnVlcLcHrOUCQIEvVLNYbwEb5OIn36h/AXI/C9SjYYEBzE7U0t6oSQIZjTLAuaWJAXSiqyDJBXkBcj8L1KNhgQNpfLMKDwlPAFg1jHG02CsAwnkFD/z9aQB4SYz7FdiBAXpTqTOuiWMBrGPSUCzxTwBJxzuOLiRZAhmNMsC5pYkAeEmM+xXYgQCSVziwui1XAhmNMsC5pYkAB+KdUiRxZwF0oqsgyQV5ARh+YSA499L8oRMAhVOkNwJ1ZXC3B6zlAIjO8/sl0EMDZ0ZONYoBSwIlqACW0EmJAd1K6T6lnYUAWQOckSuUkQJMQ9jeyFWJAkxD2N7IVYkAWQOckSuUkQFXVcDbCW1bAXI/C9SjYYEArLF1m/S5SwLcNoyB4/1rARh+YSA499L93UrpPqWdhQEYfmEgOPfS/Fg1jHG02CsC3DaMgeP9awChEwCFU6Q3ARh+YSA499L8oRMAhVOkNwJAgS9Us1hvAIjO8/sl0EMBGH5hIDj30v/KU1XQ9WSlAXpTqTOuiWMAoRMAhVOkNwCssXWb9LlLAWGO/3UiTIUAoRMAhVOkNwJ1ZXC3B6zlAFkDnJErlJEBGH5hIDj30v16U6kzroljAKETAIVTpDcAoRMAhVOkNwChEwCFU6Q3AKETAIVTpDcAiM7z+yXQQwF0oqsgyQV5AKyxdZv0uUsAm4NdIEgJSwC42UluPgTNA2l8swoPCU8A5DycwnTb+P37lQXoKrFTAKnCyDdz9OEBelOpM66JYwNwhD44j6GDAFkDnJErlJECTEPY3shViQBZA5yRK5SRA2dGTjWKAUsDZ0ZONYoBSwG20d6EUxWJAXljtUANuQUBcj8L1KNhgQJ2tzRDY5EFAcwf7wF9UYkAqcLIN3P04QNrKS/4nQF/AaAOwARFAWMB3UrpPqWdhQDuJCP8iwFzA2spL/idAX8Daykv+J0BfwGFQptHkZlrAYVCm0eRmWsCGY0ywLmliQIVQ7/Mp9GBAhmNMsC5pYkAWw9UBEIBVwF0oqsgyQV5AhmNMsC5pYkAWQOckSuUkQFyPwvUo2GBAFkDnJErlJECGY0ywLmliQF0oqsgyQV5AhVDv8yn0YEDaXyzCg8JTwH7lQXoKrFTAFkDnJErlJECGY0ywLmliQMhZfRqc91NAjZjZ57FdVMCdYQ+SqhxXwPG3PUFisF3A7VbgdUfHVMBbQGg9/FNXwCbg10gSAlLAKiosAq0rVcCWxtQCIKdXwNnRk41igFLA2l8swoPCU8B+5UF6CqxUwOz+DMoPbFbAG64frBD3QEAiM7z+yXQQwCpwsg3c/ThAKnCyDdz9OEA=",
          "dtype": "f8"
         },
         "marker": {
          "color": "#636efa",
          "symbol": "circle"
         },
         "mode": "markers+text",
         "name": "",
         "showlegend": false,
         "text": [
          "Colorado",
          "Scotland",
          "Wales",
          "Northern Ireland",
          "England",
          "British Columbia",
          "Western Australia",
          "Western Australia",
          "Louisiana",
          "Sweden",
          "Norway",
          "Denmark",
          "Finland",
          "Wales",
          "New South Wales",
          "Germany",
          "England",
          "Germany",
          "Germany",
          "Japan",
          "Switzerland",
          "USA",
          "New South Wales",
          "North Carolina",
          "Michigan",
          "Nigeria",
          "Brazil",
          "United Kingdom",
          "Germany",
          "Illinois",
          "USA",
          "Wales",
          "Western Australia",
          "London",
          "United Kingdom",
          "United Kingdom",
          "Brazil",
          "Germany",
          "Japan",
          "New York",
          "Northern Ireland",
          "China",
          "South Africa",
          "Switzerland",
          "Florida",
          "Taiwan",
          "Colorado",
          "Germany",
          "Norway",
          "Queensland",
          "Western Australian",
          "Austria",
          "Europe",
          "New York",
          "New Zealand",
          "Wales",
          "China",
          "England",
          "Netherlands",
          "Spain",
          "Finland",
          "Northern Ireland",
          "Ireland",
          "Australia",
          "Belgium",
          "New South Wales",
          "Western Australia",
          "Commonwealth of Australia",
          "North Carolina",
          "United Kingdom",
          "China",
          "Switzerland",
          "Texas",
          "Maryland",
          "Netherlands",
          "New South Wales",
          "Switzerland",
          "Indiana",
          "New South Wales",
          "United States",
          "Western Australia",
          "England",
          "Wales",
          "Finland",
          "Scotland",
          "New York",
          "Queensland",
          "Japan",
          "Germany",
          "Victoria",
          "Victoria",
          "Germany",
          "Illinois",
          "Australia",
          "Connecticut",
          "Canada",
          "England",
          "Japan",
          "England",
          "United Kingdom",
          "Canada",
          "Wales",
          "England",
          "Wales",
          "Northern Ireland",
          "Scotland",
          "England",
          "Italy",
          "Texas",
          "Wales",
          "Connecticut",
          "Norway",
          "Wales",
          "Finland",
          "Germany",
          "England",
          "Texas",
          "Wales",
          "Wales",
          "Wales",
          "Wales",
          "Scotland",
          "Western Australia",
          "Connecticut",
          "Massachusetts",
          "Hungary",
          "North Carolina",
          "France",
          "Ohio",
          "South Africa",
          "Texas",
          "South USA",
          "Germany",
          "Victoria",
          "Germany",
          "New York",
          "New York",
          "West Australia",
          "Israel",
          "Australia",
          "Tanzania",
          "Tasmania",
          "South Africa",
          "British Columbia",
          "Manitoba",
          "Japan",
          "Alberta",
          "British Columbia",
          "British Columbia",
          "Colorado",
          "Colorado",
          "New South Wales",
          "South Australia",
          "New South Wales",
          "Ontario",
          "Western Australia",
          "New South Wales",
          "Germany",
          "Australia",
          "Germany",
          "New South Wales",
          "Western Australia",
          "South Australia",
          "North Carolina",
          "Ohio",
          "Germany",
          "New South Wales",
          "Western Australian",
          "Florida",
          "Arkansas",
          "California",
          "Georgia",
          "Iowa",
          "Massachusetts",
          "Michigan",
          "Minnesota",
          "New York",
          "North Carolina",
          "Ohio",
          "Wisconsin",
          "Malawi",
          "Scotland",
          "South Africa",
          "South Africa"
         ],
         "type": "scattergeo"
        }
       ],
       "layout": {
        "geo": {
         "center": {},
         "domain": {
          "x": [
           0,
           1
          ],
          "y": [
           0,
           1
          ]
         },
         "projection": {
          "type": "natural earth"
         }
        },
        "legend": {
         "tracegroupgap": 0
        },
        "template": {
         "data": {
          "bar": [
           {
            "error_x": {
             "color": "#2a3f5f"
            },
            "error_y": {
             "color": "#2a3f5f"
            },
            "marker": {
             "line": {
              "color": "#E5ECF6",
              "width": 0.5
             },
             "pattern": {
              "fillmode": "overlay",
              "size": 10,
              "solidity": 0.2
             }
            },
            "type": "bar"
           }
          ],
          "barpolar": [
           {
            "marker": {
             "line": {
              "color": "#E5ECF6",
              "width": 0.5
             },
             "pattern": {
              "fillmode": "overlay",
              "size": 10,
              "solidity": 0.2
             }
            },
            "type": "barpolar"
           }
          ],
          "carpet": [
           {
            "aaxis": {
             "endlinecolor": "#2a3f5f",
             "gridcolor": "white",
             "linecolor": "white",
             "minorgridcolor": "white",
             "startlinecolor": "#2a3f5f"
            },
            "baxis": {
             "endlinecolor": "#2a3f5f",
             "gridcolor": "white",
             "linecolor": "white",
             "minorgridcolor": "white",
             "startlinecolor": "#2a3f5f"
            },
            "type": "carpet"
           }
          ],
          "choropleth": [
           {
            "colorbar": {
             "outlinewidth": 0,
             "ticks": ""
            },
            "type": "choropleth"
           }
          ],
          "contour": [
           {
            "colorbar": {
             "outlinewidth": 0,
             "ticks": ""
            },
            "colorscale": [
             [
              0,
              "#0d0887"
             ],
             [
              0.1111111111111111,
              "#46039f"
             ],
             [
              0.2222222222222222,
              "#7201a8"
             ],
             [
              0.3333333333333333,
              "#9c179e"
             ],
             [
              0.4444444444444444,
              "#bd3786"
             ],
             [
              0.5555555555555556,
              "#d8576b"
             ],
             [
              0.6666666666666666,
              "#ed7953"
             ],
             [
              0.7777777777777778,
              "#fb9f3a"
             ],
             [
              0.8888888888888888,
              "#fdca26"
             ],
             [
              1,
              "#f0f921"
             ]
            ],
            "type": "contour"
           }
          ],
          "contourcarpet": [
           {
            "colorbar": {
             "outlinewidth": 0,
             "ticks": ""
            },
            "type": "contourcarpet"
           }
          ],
          "heatmap": [
           {
            "colorbar": {
             "outlinewidth": 0,
             "ticks": ""
            },
            "colorscale": [
             [
              0,
              "#0d0887"
             ],
             [
              0.1111111111111111,
              "#46039f"
             ],
             [
              0.2222222222222222,
              "#7201a8"
             ],
             [
              0.3333333333333333,
              "#9c179e"
             ],
             [
              0.4444444444444444,
              "#bd3786"
             ],
             [
              0.5555555555555556,
              "#d8576b"
             ],
             [
              0.6666666666666666,
              "#ed7953"
             ],
             [
              0.7777777777777778,
              "#fb9f3a"
             ],
             [
              0.8888888888888888,
              "#fdca26"
             ],
             [
              1,
              "#f0f921"
             ]
            ],
            "type": "heatmap"
           }
          ],
          "histogram": [
           {
            "marker": {
             "pattern": {
              "fillmode": "overlay",
              "size": 10,
              "solidity": 0.2
             }
            },
            "type": "histogram"
           }
          ],
          "histogram2d": [
           {
            "colorbar": {
             "outlinewidth": 0,
             "ticks": ""
            },
            "colorscale": [
             [
              0,
              "#0d0887"
             ],
             [
              0.1111111111111111,
              "#46039f"
             ],
             [
              0.2222222222222222,
              "#7201a8"
             ],
             [
              0.3333333333333333,
              "#9c179e"
             ],
             [
              0.4444444444444444,
              "#bd3786"
             ],
             [
              0.5555555555555556,
              "#d8576b"
             ],
             [
              0.6666666666666666,
              "#ed7953"
             ],
             [
              0.7777777777777778,
              "#fb9f3a"
             ],
             [
              0.8888888888888888,
              "#fdca26"
             ],
             [
              1,
              "#f0f921"
             ]
            ],
            "type": "histogram2d"
           }
          ],
          "histogram2dcontour": [
           {
            "colorbar": {
             "outlinewidth": 0,
             "ticks": ""
            },
            "colorscale": [
             [
              0,
              "#0d0887"
             ],
             [
              0.1111111111111111,
              "#46039f"
             ],
             [
              0.2222222222222222,
              "#7201a8"
             ],
             [
              0.3333333333333333,
              "#9c179e"
             ],
             [
              0.4444444444444444,
              "#bd3786"
             ],
             [
              0.5555555555555556,
              "#d8576b"
             ],
             [
              0.6666666666666666,
              "#ed7953"
             ],
             [
              0.7777777777777778,
              "#fb9f3a"
             ],
             [
              0.8888888888888888,
              "#fdca26"
             ],
             [
              1,
              "#f0f921"
             ]
            ],
            "type": "histogram2dcontour"
           }
          ],
          "mesh3d": [
           {
            "colorbar": {
             "outlinewidth": 0,
             "ticks": ""
            },
            "type": "mesh3d"
           }
          ],
          "parcoords": [
           {
            "line": {
             "colorbar": {
              "outlinewidth": 0,
              "ticks": ""
             }
            },
            "type": "parcoords"
           }
          ],
          "pie": [
           {
            "automargin": true,
            "type": "pie"
           }
          ],
          "scatter": [
           {
            "fillpattern": {
             "fillmode": "overlay",
             "size": 10,
             "solidity": 0.2
            },
            "type": "scatter"
           }
          ],
          "scatter3d": [
           {
            "line": {
             "colorbar": {
              "outlinewidth": 0,
              "ticks": ""
             }
            },
            "marker": {
             "colorbar": {
              "outlinewidth": 0,
              "ticks": ""
             }
            },
            "type": "scatter3d"
           }
          ],
          "scattercarpet": [
           {
            "marker": {
             "colorbar": {
              "outlinewidth": 0,
              "ticks": ""
             }
            },
            "type": "scattercarpet"
           }
          ],
          "scattergeo": [
           {
            "marker": {
             "colorbar": {
              "outlinewidth": 0,
              "ticks": ""
             }
            },
            "type": "scattergeo"
           }
          ],
          "scattergl": [
           {
            "marker": {
             "colorbar": {
              "outlinewidth": 0,
              "ticks": ""
             }
            },
            "type": "scattergl"
           }
          ],
          "scattermap": [
           {
            "marker": {
             "colorbar": {
              "outlinewidth": 0,
              "ticks": ""
             }
            },
            "type": "scattermap"
           }
          ],
          "scattermapbox": [
           {
            "marker": {
             "colorbar": {
              "outlinewidth": 0,
              "ticks": ""
             }
            },
            "type": "scattermapbox"
           }
          ],
          "scatterpolar": [
           {
            "marker": {
             "colorbar": {
              "outlinewidth": 0,
              "ticks": ""
             }
            },
            "type": "scatterpolar"
           }
          ],
          "scatterpolargl": [
           {
            "marker": {
             "colorbar": {
              "outlinewidth": 0,
              "ticks": ""
             }
            },
            "type": "scatterpolargl"
           }
          ],
          "scatterternary": [
           {
            "marker": {
             "colorbar": {
              "outlinewidth": 0,
              "ticks": ""
             }
            },
            "type": "scatterternary"
           }
          ],
          "surface": [
           {
            "colorbar": {
             "outlinewidth": 0,
             "ticks": ""
            },
            "colorscale": [
             [
              0,
              "#0d0887"
             ],
             [
              0.1111111111111111,
              "#46039f"
             ],
             [
              0.2222222222222222,
              "#7201a8"
             ],
             [
              0.3333333333333333,
              "#9c179e"
             ],
             [
              0.4444444444444444,
              "#bd3786"
             ],
             [
              0.5555555555555556,
              "#d8576b"
             ],
             [
              0.6666666666666666,
              "#ed7953"
             ],
             [
              0.7777777777777778,
              "#fb9f3a"
             ],
             [
              0.8888888888888888,
              "#fdca26"
             ],
             [
              1,
              "#f0f921"
             ]
            ],
            "type": "surface"
           }
          ],
          "table": [
           {
            "cells": {
             "fill": {
              "color": "#EBF0F8"
             },
             "line": {
              "color": "white"
             }
            },
            "header": {
             "fill": {
              "color": "#C8D4E3"
             },
             "line": {
              "color": "white"
             }
            },
            "type": "table"
           }
          ]
         },
         "layout": {
          "annotationdefaults": {
           "arrowcolor": "#2a3f5f",
           "arrowhead": 0,
           "arrowwidth": 1
          },
          "autotypenumbers": "strict",
          "coloraxis": {
           "colorbar": {
            "outlinewidth": 0,
            "ticks": ""
           }
          },
          "colorscale": {
           "diverging": [
            [
             0,
             "#8e0152"
            ],
            [
             0.1,
             "#c51b7d"
            ],
            [
             0.2,
             "#de77ae"
            ],
            [
             0.3,
             "#f1b6da"
            ],
            [
             0.4,
             "#fde0ef"
            ],
            [
             0.5,
             "#f7f7f7"
            ],
            [
             0.6,
             "#e6f5d0"
            ],
            [
             0.7,
             "#b8e186"
            ],
            [
             0.8,
             "#7fbc41"
            ],
            [
             0.9,
             "#4d9221"
            ],
            [
             1,
             "#276419"
            ]
           ],
           "sequential": [
            [
             0,
             "#0d0887"
            ],
            [
             0.1111111111111111,
             "#46039f"
            ],
            [
             0.2222222222222222,
             "#7201a8"
            ],
            [
             0.3333333333333333,
             "#9c179e"
            ],
            [
             0.4444444444444444,
             "#bd3786"
            ],
            [
             0.5555555555555556,
             "#d8576b"
            ],
            [
             0.6666666666666666,
             "#ed7953"
            ],
            [
             0.7777777777777778,
             "#fb9f3a"
            ],
            [
             0.8888888888888888,
             "#fdca26"
            ],
            [
             1,
             "#f0f921"
            ]
           ],
           "sequentialminus": [
            [
             0,
             "#0d0887"
            ],
            [
             0.1111111111111111,
             "#46039f"
            ],
            [
             0.2222222222222222,
             "#7201a8"
            ],
            [
             0.3333333333333333,
             "#9c179e"
            ],
            [
             0.4444444444444444,
             "#bd3786"
            ],
            [
             0.5555555555555556,
             "#d8576b"
            ],
            [
             0.6666666666666666,
             "#ed7953"
            ],
            [
             0.7777777777777778,
             "#fb9f3a"
            ],
            [
             0.8888888888888888,
             "#fdca26"
            ],
            [
             1,
             "#f0f921"
            ]
           ]
          },
          "colorway": [
           "#636efa",
           "#EF553B",
           "#00cc96",
           "#ab63fa",
           "#FFA15A",
           "#19d3f3",
           "#FF6692",
           "#B6E880",
           "#FF97FF",
           "#FECB52"
          ],
          "font": {
           "color": "#2a3f5f"
          },
          "geo": {
           "bgcolor": "white",
           "lakecolor": "white",
           "landcolor": "#E5ECF6",
           "showlakes": true,
           "showland": true,
           "subunitcolor": "white"
          },
          "hoverlabel": {
           "align": "left"
          },
          "hovermode": "closest",
          "mapbox": {
           "style": "light"
          },
          "paper_bgcolor": "white",
          "plot_bgcolor": "#E5ECF6",
          "polar": {
           "angularaxis": {
            "gridcolor": "white",
            "linecolor": "white",
            "ticks": ""
           },
           "bgcolor": "#E5ECF6",
           "radialaxis": {
            "gridcolor": "white",
            "linecolor": "white",
            "ticks": ""
           }
          },
          "scene": {
           "xaxis": {
            "backgroundcolor": "#E5ECF6",
            "gridcolor": "white",
            "gridwidth": 2,
            "linecolor": "white",
            "showbackground": true,
            "ticks": "",
            "zerolinecolor": "white"
           },
           "yaxis": {
            "backgroundcolor": "#E5ECF6",
            "gridcolor": "white",
            "gridwidth": 2,
            "linecolor": "white",
            "showbackground": true,
            "ticks": "",
            "zerolinecolor": "white"
           },
           "zaxis": {
            "backgroundcolor": "#E5ECF6",
            "gridcolor": "white",
            "gridwidth": 2,
            "linecolor": "white",
            "showbackground": true,
            "ticks": "",
            "zerolinecolor": "white"
           }
          },
          "shapedefaults": {
           "line": {
            "color": "#2a3f5f"
           }
          },
          "ternary": {
           "aaxis": {
            "gridcolor": "white",
            "linecolor": "white",
            "ticks": ""
           },
           "baxis": {
            "gridcolor": "white",
            "linecolor": "white",
            "ticks": ""
           },
           "bgcolor": "#E5ECF6",
           "caxis": {
            "gridcolor": "white",
            "linecolor": "white",
            "ticks": ""
           }
          },
          "title": {
           "x": 0.05
          },
          "xaxis": {
           "automargin": true,
           "gridcolor": "white",
           "linecolor": "white",
           "ticks": "",
           "title": {
            "standoff": 15
           },
           "zerolinecolor": "white",
           "zerolinewidth": 2
          },
          "yaxis": {
           "automargin": true,
           "gridcolor": "white",
           "linecolor": "white",
           "ticks": "",
           "title": {
            "standoff": 15
           },
           "zerolinecolor": "white",
           "zerolinewidth": 2
          }
         }
        },
        "title": {
         "text": "World Map with Mixed and Multiple Locations"
        }
       }
      },
      "image/png": "[encoded data removed]"
     },
     "metadata": {},
     "output_type": "display_data"
    }
   ],
   "source": [
    "import plotly.express as px\n",
    "\n",
    "fig = px.scatter_geo(df_exploded,\n",
    "                     lat='lat',\n",
    "                     lon='lon',\n",
    "                     text='countries_clean',\n",
    "                     projection=\"natural earth\",\n",
    "                     title=\"World Map with Mixed and Multiple Locations\")\n",
    "\n",
    "fig.write_html(\"maps/map_output.html\")\n",
    "\n",
    "fig.show()\n"
   ]
  },
  {
   "cell_type": "markdown",
   "id": "934be372-d70f-4da2-87f8-51da3f00c860",
   "metadata": {},
   "source": [
    "### Map without country names (Size not factored)"
   ]
  },
  {
   "cell_type": "code",
   "execution_count": 9,
   "id": "088a0236-dbfb-4a84-aad0-90879aabf9bd",
   "metadata": {},
   "outputs": [
    {
     "data": {
      "application/vnd.plotly.v1+json": {
       "config": {
        "plotlyServerURL": "https://plot.ly"
       },
       "data": [
        {
         "geo": "geo",
         "hovertemplate": "<b>%{hovertext}</b><br><br>lat=%{lat}<br>lon=%{lon}<extra></extra>",
         "hovertext": [
          "Colorado",
          "Scotland",
          "Wales",
          "Northern Ireland",
          "England",
          "British Columbia",
          "Western Australia",
          "Western Australia",
          "Louisiana",
          "Sweden",
          "Norway",
          "Denmark",
          "Finland",
          "Wales",
          "New South Wales",
          "Germany",
          "England",
          "Germany",
          "Germany",
          "Japan",
          "Switzerland",
          "USA",
          "New South Wales",
          "North Carolina",
          "Michigan",
          "Nigeria",
          "Brazil",
          "United Kingdom",
          "Germany",
          "Illinois",
          "USA",
          "Wales",
          "Western Australia",
          "London",
          "United Kingdom",
          "United Kingdom",
          "Brazil",
          "Germany",
          "Japan",
          "New York",
          "Northern Ireland",
          "China",
          "South Africa",
          "Switzerland",
          "Florida",
          "Taiwan",
          "Colorado",
          "Germany",
          "Norway",
          "Queensland",
          "Western Australian",
          "Austria",
          "Europe",
          "New York",
          "New Zealand",
          "Wales",
          "China",
          "England",
          "Netherlands",
          "Spain",
          "Finland",
          "Northern Ireland",
          "Ireland",
          "Australia",
          "Belgium",
          "New South Wales",
          "Western Australia",
          "Commonwealth of Australia",
          "North Carolina",
          "United Kingdom",
          "China",
          "Switzerland",
          "Texas",
          "Maryland",
          "Netherlands",
          "New South Wales",
          "Switzerland",
          "Indiana",
          "New South Wales",
          "United States",
          "Western Australia",
          "England",
          "Wales",
          "Finland",
          "Scotland",
          "New York",
          "Queensland",
          "Japan",
          "Germany",
          "Victoria",
          "Victoria",
          "Germany",
          "Illinois",
          "Australia",
          "Connecticut",
          "Canada",
          "England",
          "Japan",
          "England",
          "United Kingdom",
          "Canada",
          "Wales",
          "England",
          "Wales",
          "Northern Ireland",
          "Scotland",
          "England",
          "Italy",
          "Texas",
          "Wales",
          "Connecticut",
          "Norway",
          "Wales",
          "Finland",
          "Germany",
          "England",
          "Texas",
          "Wales",
          "Wales",
          "Wales",
          "Wales",
          "Scotland",
          "Western Australia",
          "Connecticut",
          "Massachusetts",
          "Hungary",
          "North Carolina",
          "France",
          "Ohio",
          "South Africa",
          "Texas",
          "South USA",
          "Germany",
          "Victoria",
          "Germany",
          "New York",
          "New York",
          "West Australia",
          "Israel",
          "Australia",
          "Tanzania",
          "Tasmania",
          "South Africa",
          "British Columbia",
          "Manitoba",
          "Japan",
          "Alberta",
          "British Columbia",
          "British Columbia",
          "Colorado",
          "Colorado",
          "New South Wales",
          "South Australia",
          "New South Wales",
          "Ontario",
          "Western Australia",
          "New South Wales",
          "Germany",
          "Australia",
          "Germany",
          "New South Wales",
          "Western Australia",
          "South Australia",
          "North Carolina",
          "Ohio",
          "Germany",
          "New South Wales",
          "Western Australian",
          "Florida",
          "Arkansas",
          "California",
          "Georgia",
          "Iowa",
          "Massachusetts",
          "Michigan",
          "Minnesota",
          "New York",
          "North Carolina",
          "Ohio",
          "Wisconsin",
          "Malawi",
          "Scotland",
          "South Africa",
          "South Africa"
         ],
         "lat": {
          "bdata": "WeWdntJcQ0B5grNKn2RMQNnxutl6JUpABf+2ggFLS0DyPF2C+ENKQC0LJv4ogEtAoMA7+fQ6OcCgwDv59Do5wNxTKMHR3j5A9t7OdGXWTUDkpfZ9k5NOQJ6WH7jK1UtA6XBjaZafT0DZ8brZeiVKQOtVZHRA4D/AmYHK+PeUSUDyPF2C+ENKQJmByvj3lElAmYHK+PeUSUA35tB9lElCQFvo70o3ZkdAxXAaR1HkQ0DrVWR0QOA/wL7xWq4j1kFAEHaKVYPPRUAT2s3nNzMjQORVjKmqqiTAZtmTwOZZS0CZgcr495RJQM7ji1EyCkRAxXAaR1HkQ0DZ8brZeiVKQKDAO/n0OjnAKqvpeqK+SUBm2ZPA5llLQGbZk8DmWUtA5FWMqaqqJMCZgcr495RJQDfm0H2USUJAWTikrDpbREAF/7aCAUtLQHYqKiwCgEFATCSHPg7RPMBb6O9KN2ZHQKwzY3a7wTtA7Vkh9lP5N0BZ5Z2e0lxDQJmByvj3lElA5KX2fZOTTkA5XbtZKCo2wC/5n/zdoxtADmd+NQfMR0AAAAAAAIBJQFk4pKw6W0RAIuQXuQLARMDZ8brZeiVKQHYqKiwCgEFA8jxdgvhDSkCFkm7wKh9KQL3g05y8qUNA6XBjaZafT0AF/7aCAUtLQKRQFr6+bkpA9CSfDa/GOMBx4Hq59FFJQOtVZHRA4D/AoMA7+fQ6OcD0JJ8Nr8Y4wL7xWq4j1kFAZtmTwOZZS0B2KiosAoBBQFvo70o3ZkdAnznrU45DP0AfMdUnFMJDQIWSbvAqH0pA61VkdEDgP8Bb6O9KN2ZHQDbwWY3bKURA61VkdEDgP8DFcBpHUeRDQKDAO/n0OjnA8jxdgvhDSkDZ8brZeiVKQOlwY2mWn09AeYKzSp9kTEBZOKSsOltEQDldu1koKjbAN+bQfZRJQkCZgcr495RJQCyJRz2fTELALIlHPZ9MQsCZgcr495RJQM7ji1EyCkRA9CSfDa/GOMAPn8/bM9NEQPvyuF6JiE5A8jxdgvhDSkA35tB9lElCQPI8XYL4Q0pAZtmTwOZZS0D78rheiYhOQNnxutl6JUpA8jxdgvhDSkDZ8brZeiVKQAX/toIBS0tAeYKzSp9kTEDyPF2C+ENKQNc0SvK3UUVAnznrU45DP0DZ8brZeiVKQA+fz9sz00RA5KX2fZOTTkDZ8brZeiVKQOlwY2mWn09AmYHK+PeUSUDyPF2C+ENKQJ8561OOQz9A2fG62XolSkDZ8brZeiVKQNnxutl6JUpA2fG62XolSkB5grNKn2RMQKDAO/n0OjnAD5/P2zPTREDFGP0NfzBFQJCiztxDl0dAvvFariPWQUCV9DC0Ok1HQMe2sX7YHERATCSHPg7RPMCfOetTjkM/QFvBJbZxi0xAmYHK+PeUSUAsiUc9n0xCwJmByvj3lElAWTikrDpbREBZOKSsOltEQDzAkxYu+kHAbvasEPvPPkD0JJ8Nr8Y4wFs8YS5OGRrAnBVRE30ERcBMJIc+DtE8wC0LJv4ogEtALQsm/iiAS0A35tB9lElCQC0LJv4ogEtALQsm/iiAS0AtCyb+KIBLQFnlnZ7SXENAWeWdntJcQ0DrVWR0QOA/wPeTMT7MiD7A61VkdEDgP8DR6Xk3FgBJQKDAO/n0OjnA61VkdEDgP8CZgcr495RJQPQknw2vxjjAmYHK+PeUSUDrVWR0QOA/wKDAO/n0OjnA95MxPsyIPsC+8VquI9ZBQMe2sX7YHERAmYHK+PeUSUDrVWR0QOA/wC/5n/zdoxtArDNjdrvBO0Ch6qHHOZpBQObs+IrJWUJAqbZAJykqQEDsS9tk+fVEQMUY/Q1/MEVAEHaKVYPPRUDXWeMirf5GQFk4pKw6W0RAvvFariPWQUDHtrF+2BxEQM42N6YnN0ZAPIljuJWJKsB5grNKn2RMQEwkhz4O0TzATCSHPg7RPMA=",
          "dtype": "f8"
         },
         "legendgroup": "",
         "lon": {
          "bdata": "YVCm0eRmWsAiM7z+yXQQwChEwCFU6Q3AkCBL1SzWG8BGH5hIDj30v9rKS/4nQF/AXSiqyDJBXkBdKKrIMkFeQOI8nMB0AFfAm7HD860KLUBYY7/dSJMhQJ2pxgGqqiRAnVlcLcHrOUAoRMAhVOkNwIZjTLAuaWJAFkDnJErlJEBGH5hIDj30vxZA5yRK5SRAFkDnJErlJEB3UrpPqWdhQB4SYz7FdiBAAfinVIkcWcCGY0ywLmliQNpfLMKDwlPAKiosAq0rVcBXpqmv+P8fQJqZmZmZmUrAFg1jHG02CsAWQOckSuUkQFXVcDbCW1bAAfinVIkcWcAoRMAhVOkNwF0oqsgyQV5AnDepw2Vwwr8WDWMcbTYKwBYNYxxtNgrAmpmZmZmZSsAWQOckSuUkQHdSuk+pZ2FA2dGTjWKAUsCQIEvVLNYbwDCeQUP/P1pAKnCyDdz9OEAeEmM+xXYgQI2Y2eexXVTAiyWbYdk+XkBhUKbR5GZawBZA5yRK5SRAWGO/3UiTIUCJagAltBJiQMhZfRqc91NAj8cMVMY/LEAAAAAAAAAkQNnRk41igFLA++DGd7OaZUAoRMAhVOkNwDCeQUP/P1pARh+YSA499L8Scc7ji4kWQBLtdDEXWhPAnVlcLcHrOUCQIEvVLNYbwEb5OIn36h/AXI/C9SjYYEBzE7U0t6oSQIZjTLAuaWJAXSiqyDJBXkBcj8L1KNhgQNpfLMKDwlPAFg1jHG02CsAwnkFD/z9aQB4SYz7FdiBAXpTqTOuiWMBrGPSUCzxTwBJxzuOLiRZAhmNMsC5pYkAeEmM+xXYgQCSVziwui1XAhmNMsC5pYkAB+KdUiRxZwF0oqsgyQV5ARh+YSA499L8oRMAhVOkNwJ1ZXC3B6zlAIjO8/sl0EMDZ0ZONYoBSwIlqACW0EmJAd1K6T6lnYUAWQOckSuUkQJMQ9jeyFWJAkxD2N7IVYkAWQOckSuUkQFXVcDbCW1bAXI/C9SjYYEArLF1m/S5SwLcNoyB4/1rARh+YSA499L93UrpPqWdhQEYfmEgOPfS/Fg1jHG02CsC3DaMgeP9awChEwCFU6Q3ARh+YSA499L8oRMAhVOkNwJAgS9Us1hvAIjO8/sl0EMBGH5hIDj30v/KU1XQ9WSlAXpTqTOuiWMAoRMAhVOkNwCssXWb9LlLAWGO/3UiTIUAoRMAhVOkNwJ1ZXC3B6zlAFkDnJErlJEBGH5hIDj30v16U6kzroljAKETAIVTpDcAoRMAhVOkNwChEwCFU6Q3AKETAIVTpDcAiM7z+yXQQwF0oqsgyQV5AKyxdZv0uUsAm4NdIEgJSwC42UluPgTNA2l8swoPCU8A5DycwnTb+P37lQXoKrFTAKnCyDdz9OEBelOpM66JYwNwhD44j6GDAFkDnJErlJECTEPY3shViQBZA5yRK5SRA2dGTjWKAUsDZ0ZONYoBSwG20d6EUxWJAXljtUANuQUBcj8L1KNhgQJ2tzRDY5EFAcwf7wF9UYkAqcLIN3P04QNrKS/4nQF/AaAOwARFAWMB3UrpPqWdhQDuJCP8iwFzA2spL/idAX8Daykv+J0BfwGFQptHkZlrAYVCm0eRmWsCGY0ywLmliQIVQ7/Mp9GBAhmNMsC5pYkAWw9UBEIBVwF0oqsgyQV5AhmNMsC5pYkAWQOckSuUkQFyPwvUo2GBAFkDnJErlJECGY0ywLmliQF0oqsgyQV5AhVDv8yn0YEDaXyzCg8JTwH7lQXoKrFTAFkDnJErlJECGY0ywLmliQMhZfRqc91NAjZjZ57FdVMCdYQ+SqhxXwPG3PUFisF3A7VbgdUfHVMBbQGg9/FNXwCbg10gSAlLAKiosAq0rVcCWxtQCIKdXwNnRk41igFLA2l8swoPCU8B+5UF6CqxUwOz+DMoPbFbAG64frBD3QEAiM7z+yXQQwCpwsg3c/ThAKnCyDdz9OEA=",
          "dtype": "f8"
         },
         "marker": {
          "color": "#636efa",
          "symbol": "circle"
         },
         "mode": "markers",
         "name": "",
         "showlegend": false,
         "type": "scattergeo"
        }
       ],
       "layout": {
        "geo": {
         "center": {},
         "domain": {
          "x": [
           0,
           1
          ],
          "y": [
           0,
           1
          ]
         },
         "landcolor": "lightgray",
         "projection": {
          "type": "natural earth"
         },
         "showcoastlines": true,
         "showcountries": false,
         "showland": true
        },
        "legend": {
         "tracegroupgap": 0
        },
        "margin": {
         "b": 0,
         "l": 0,
         "r": 0,
         "t": 30
        },
        "template": {
         "data": {
          "bar": [
           {
            "error_x": {
             "color": "#2a3f5f"
            },
            "error_y": {
             "color": "#2a3f5f"
            },
            "marker": {
             "line": {
              "color": "#E5ECF6",
              "width": 0.5
             },
             "pattern": {
              "fillmode": "overlay",
              "size": 10,
              "solidity": 0.2
             }
            },
            "type": "bar"
           }
          ],
          "barpolar": [
           {
            "marker": {
             "line": {
              "color": "#E5ECF6",
              "width": 0.5
             },
             "pattern": {
              "fillmode": "overlay",
              "size": 10,
              "solidity": 0.2
             }
            },
            "type": "barpolar"
           }
          ],
          "carpet": [
           {
            "aaxis": {
             "endlinecolor": "#2a3f5f",
             "gridcolor": "white",
             "linecolor": "white",
             "minorgridcolor": "white",
             "startlinecolor": "#2a3f5f"
            },
            "baxis": {
             "endlinecolor": "#2a3f5f",
             "gridcolor": "white",
             "linecolor": "white",
             "minorgridcolor": "white",
             "startlinecolor": "#2a3f5f"
            },
            "type": "carpet"
           }
          ],
          "choropleth": [
           {
            "colorbar": {
             "outlinewidth": 0,
             "ticks": ""
            },
            "type": "choropleth"
           }
          ],
          "contour": [
           {
            "colorbar": {
             "outlinewidth": 0,
             "ticks": ""
            },
            "colorscale": [
             [
              0,
              "#0d0887"
             ],
             [
              0.1111111111111111,
              "#46039f"
             ],
             [
              0.2222222222222222,
              "#7201a8"
             ],
             [
              0.3333333333333333,
              "#9c179e"
             ],
             [
              0.4444444444444444,
              "#bd3786"
             ],
             [
              0.5555555555555556,
              "#d8576b"
             ],
             [
              0.6666666666666666,
              "#ed7953"
             ],
             [
              0.7777777777777778,
              "#fb9f3a"
             ],
             [
              0.8888888888888888,
              "#fdca26"
             ],
             [
              1,
              "#f0f921"
             ]
            ],
            "type": "contour"
           }
          ],
          "contourcarpet": [
           {
            "colorbar": {
             "outlinewidth": 0,
             "ticks": ""
            },
            "type": "contourcarpet"
           }
          ],
          "heatmap": [
           {
            "colorbar": {
             "outlinewidth": 0,
             "ticks": ""
            },
            "colorscale": [
             [
              0,
              "#0d0887"
             ],
             [
              0.1111111111111111,
              "#46039f"
             ],
             [
              0.2222222222222222,
              "#7201a8"
             ],
             [
              0.3333333333333333,
              "#9c179e"
             ],
             [
              0.4444444444444444,
              "#bd3786"
             ],
             [
              0.5555555555555556,
              "#d8576b"
             ],
             [
              0.6666666666666666,
              "#ed7953"
             ],
             [
              0.7777777777777778,
              "#fb9f3a"
             ],
             [
              0.8888888888888888,
              "#fdca26"
             ],
             [
              1,
              "#f0f921"
             ]
            ],
            "type": "heatmap"
           }
          ],
          "histogram": [
           {
            "marker": {
             "pattern": {
              "fillmode": "overlay",
              "size": 10,
              "solidity": 0.2
             }
            },
            "type": "histogram"
           }
          ],
          "histogram2d": [
           {
            "colorbar": {
             "outlinewidth": 0,
             "ticks": ""
            },
            "colorscale": [
             [
              0,
              "#0d0887"
             ],
             [
              0.1111111111111111,
              "#46039f"
             ],
             [
              0.2222222222222222,
              "#7201a8"
             ],
             [
              0.3333333333333333,
              "#9c179e"
             ],
             [
              0.4444444444444444,
              "#bd3786"
             ],
             [
              0.5555555555555556,
              "#d8576b"
             ],
             [
              0.6666666666666666,
              "#ed7953"
             ],
             [
              0.7777777777777778,
              "#fb9f3a"
             ],
             [
              0.8888888888888888,
              "#fdca26"
             ],
             [
              1,
              "#f0f921"
             ]
            ],
            "type": "histogram2d"
           }
          ],
          "histogram2dcontour": [
           {
            "colorbar": {
             "outlinewidth": 0,
             "ticks": ""
            },
            "colorscale": [
             [
              0,
              "#0d0887"
             ],
             [
              0.1111111111111111,
              "#46039f"
             ],
             [
              0.2222222222222222,
              "#7201a8"
             ],
             [
              0.3333333333333333,
              "#9c179e"
             ],
             [
              0.4444444444444444,
              "#bd3786"
             ],
             [
              0.5555555555555556,
              "#d8576b"
             ],
             [
              0.6666666666666666,
              "#ed7953"
             ],
             [
              0.7777777777777778,
              "#fb9f3a"
             ],
             [
              0.8888888888888888,
              "#fdca26"
             ],
             [
              1,
              "#f0f921"
             ]
            ],
            "type": "histogram2dcontour"
           }
          ],
          "mesh3d": [
           {
            "colorbar": {
             "outlinewidth": 0,
             "ticks": ""
            },
            "type": "mesh3d"
           }
          ],
          "parcoords": [
           {
            "line": {
             "colorbar": {
              "outlinewidth": 0,
              "ticks": ""
             }
            },
            "type": "parcoords"
           }
          ],
          "pie": [
           {
            "automargin": true,
            "type": "pie"
           }
          ],
          "scatter": [
           {
            "fillpattern": {
             "fillmode": "overlay",
             "size": 10,
             "solidity": 0.2
            },
            "type": "scatter"
           }
          ],
          "scatter3d": [
           {
            "line": {
             "colorbar": {
              "outlinewidth": 0,
              "ticks": ""
             }
            },
            "marker": {
             "colorbar": {
              "outlinewidth": 0,
              "ticks": ""
             }
            },
            "type": "scatter3d"
           }
          ],
          "scattercarpet": [
           {
            "marker": {
             "colorbar": {
              "outlinewidth": 0,
              "ticks": ""
             }
            },
            "type": "scattercarpet"
           }
          ],
          "scattergeo": [
           {
            "marker": {
             "colorbar": {
              "outlinewidth": 0,
              "ticks": ""
             }
            },
            "type": "scattergeo"
           }
          ],
          "scattergl": [
           {
            "marker": {
             "colorbar": {
              "outlinewidth": 0,
              "ticks": ""
             }
            },
            "type": "scattergl"
           }
          ],
          "scattermap": [
           {
            "marker": {
             "colorbar": {
              "outlinewidth": 0,
              "ticks": ""
             }
            },
            "type": "scattermap"
           }
          ],
          "scattermapbox": [
           {
            "marker": {
             "colorbar": {
              "outlinewidth": 0,
              "ticks": ""
             }
            },
            "type": "scattermapbox"
           }
          ],
          "scatterpolar": [
           {
            "marker": {
             "colorbar": {
              "outlinewidth": 0,
              "ticks": ""
             }
            },
            "type": "scatterpolar"
           }
          ],
          "scatterpolargl": [
           {
            "marker": {
             "colorbar": {
              "outlinewidth": 0,
              "ticks": ""
             }
            },
            "type": "scatterpolargl"
           }
          ],
          "scatterternary": [
           {
            "marker": {
             "colorbar": {
              "outlinewidth": 0,
              "ticks": ""
             }
            },
            "type": "scatterternary"
           }
          ],
          "surface": [
           {
            "colorbar": {
             "outlinewidth": 0,
             "ticks": ""
            },
            "colorscale": [
             [
              0,
              "#0d0887"
             ],
             [
              0.1111111111111111,
              "#46039f"
             ],
             [
              0.2222222222222222,
              "#7201a8"
             ],
             [
              0.3333333333333333,
              "#9c179e"
             ],
             [
              0.4444444444444444,
              "#bd3786"
             ],
             [
              0.5555555555555556,
              "#d8576b"
             ],
             [
              0.6666666666666666,
              "#ed7953"
             ],
             [
              0.7777777777777778,
              "#fb9f3a"
             ],
             [
              0.8888888888888888,
              "#fdca26"
             ],
             [
              1,
              "#f0f921"
             ]
            ],
            "type": "surface"
           }
          ],
          "table": [
           {
            "cells": {
             "fill": {
              "color": "#EBF0F8"
             },
             "line": {
              "color": "white"
             }
            },
            "header": {
             "fill": {
              "color": "#C8D4E3"
             },
             "line": {
              "color": "white"
             }
            },
            "type": "table"
           }
          ]
         },
         "layout": {
          "annotationdefaults": {
           "arrowcolor": "#2a3f5f",
           "arrowhead": 0,
           "arrowwidth": 1
          },
          "autotypenumbers": "strict",
          "coloraxis": {
           "colorbar": {
            "outlinewidth": 0,
            "ticks": ""
           }
          },
          "colorscale": {
           "diverging": [
            [
             0,
             "#8e0152"
            ],
            [
             0.1,
             "#c51b7d"
            ],
            [
             0.2,
             "#de77ae"
            ],
            [
             0.3,
             "#f1b6da"
            ],
            [
             0.4,
             "#fde0ef"
            ],
            [
             0.5,
             "#f7f7f7"
            ],
            [
             0.6,
             "#e6f5d0"
            ],
            [
             0.7,
             "#b8e186"
            ],
            [
             0.8,
             "#7fbc41"
            ],
            [
             0.9,
             "#4d9221"
            ],
            [
             1,
             "#276419"
            ]
           ],
           "sequential": [
            [
             0,
             "#0d0887"
            ],
            [
             0.1111111111111111,
             "#46039f"
            ],
            [
             0.2222222222222222,
             "#7201a8"
            ],
            [
             0.3333333333333333,
             "#9c179e"
            ],
            [
             0.4444444444444444,
             "#bd3786"
            ],
            [
             0.5555555555555556,
             "#d8576b"
            ],
            [
             0.6666666666666666,
             "#ed7953"
            ],
            [
             0.7777777777777778,
             "#fb9f3a"
            ],
            [
             0.8888888888888888,
             "#fdca26"
            ],
            [
             1,
             "#f0f921"
            ]
           ],
           "sequentialminus": [
            [
             0,
             "#0d0887"
            ],
            [
             0.1111111111111111,
             "#46039f"
            ],
            [
             0.2222222222222222,
             "#7201a8"
            ],
            [
             0.3333333333333333,
             "#9c179e"
            ],
            [
             0.4444444444444444,
             "#bd3786"
            ],
            [
             0.5555555555555556,
             "#d8576b"
            ],
            [
             0.6666666666666666,
             "#ed7953"
            ],
            [
             0.7777777777777778,
             "#fb9f3a"
            ],
            [
             0.8888888888888888,
             "#fdca26"
            ],
            [
             1,
             "#f0f921"
            ]
           ]
          },
          "colorway": [
           "#636efa",
           "#EF553B",
           "#00cc96",
           "#ab63fa",
           "#FFA15A",
           "#19d3f3",
           "#FF6692",
           "#B6E880",
           "#FF97FF",
           "#FECB52"
          ],
          "font": {
           "color": "#2a3f5f"
          },
          "geo": {
           "bgcolor": "white",
           "lakecolor": "white",
           "landcolor": "#E5ECF6",
           "showlakes": true,
           "showland": true,
           "subunitcolor": "white"
          },
          "hoverlabel": {
           "align": "left"
          },
          "hovermode": "closest",
          "mapbox": {
           "style": "light"
          },
          "paper_bgcolor": "white",
          "plot_bgcolor": "#E5ECF6",
          "polar": {
           "angularaxis": {
            "gridcolor": "white",
            "linecolor": "white",
            "ticks": ""
           },
           "bgcolor": "#E5ECF6",
           "radialaxis": {
            "gridcolor": "white",
            "linecolor": "white",
            "ticks": ""
           }
          },
          "scene": {
           "xaxis": {
            "backgroundcolor": "#E5ECF6",
            "gridcolor": "white",
            "gridwidth": 2,
            "linecolor": "white",
            "showbackground": true,
            "ticks": "",
            "zerolinecolor": "white"
           },
           "yaxis": {
            "backgroundcolor": "#E5ECF6",
            "gridcolor": "white",
            "gridwidth": 2,
            "linecolor": "white",
            "showbackground": true,
            "ticks": "",
            "zerolinecolor": "white"
           },
           "zaxis": {
            "backgroundcolor": "#E5ECF6",
            "gridcolor": "white",
            "gridwidth": 2,
            "linecolor": "white",
            "showbackground": true,
            "ticks": "",
            "zerolinecolor": "white"
           }
          },
          "shapedefaults": {
           "line": {
            "color": "#2a3f5f"
           }
          },
          "ternary": {
           "aaxis": {
            "gridcolor": "white",
            "linecolor": "white",
            "ticks": ""
           },
           "baxis": {
            "gridcolor": "white",
            "linecolor": "white",
            "ticks": ""
           },
           "bgcolor": "#E5ECF6",
           "caxis": {
            "gridcolor": "white",
            "linecolor": "white",
            "ticks": ""
           }
          },
          "title": {
           "x": 0.05
          },
          "xaxis": {
           "automargin": true,
           "gridcolor": "white",
           "linecolor": "white",
           "ticks": "",
           "title": {
            "standoff": 15
           },
           "zerolinecolor": "white",
           "zerolinewidth": 2
          },
          "yaxis": {
           "automargin": true,
           "gridcolor": "white",
           "linecolor": "white",
           "ticks": "",
           "title": {
            "standoff": 15
           },
           "zerolinecolor": "white",
           "zerolinewidth": 2
          }
         }
        },
        "title": {
         "text": "World Map showing PPRL Locations"
        }
       }
      }
     },
     "metadata": {},
     "output_type": "display_data"
    }
   ],
   "source": [
    "import plotly.express as px\n",
    "\n",
    "fig = px.scatter_geo(df_exploded,\n",
    "                     lat='lat',\n",
    "                     lon='lon',\n",
    "                     # text='countries_clean',\n",
    "                     hover_name='countries_clean',\n",
    "                     projection=\"natural earth\",\n",
    "                     title=\"World Map showing PPRL Locations\")\n",
    "\n",
    "# Hide country names (labels), keep borders and land\n",
    "fig.update_geos(\n",
    "    showcountries=False,    # hides country names\n",
    "    showcoastlines=True,\n",
    "    showland=True,\n",
    "    landcolor=\"lightgray\"\n",
    ")\n",
    "\n",
    "# Optional: adjust layout margins if needed\n",
    "fig.update_layout(\n",
    "    margin={\"r\":0, \"t\":30, \"l\":0, \"b\":0}\n",
    ")\n",
    "\n",
    "# Save map\n",
    "fig.write_html(\"maps/map_output_ii.html\")\n",
    "\n",
    "# Show map\n",
    "fig.show()\n"
   ]
  },
  {
   "cell_type": "markdown",
   "id": "4215b282-312d-4300-a7bb-0c528c429aeb",
   "metadata": {},
   "source": [
    "### Map 3 - with size as a factor"
   ]
  },
  {
   "cell_type": "code",
   "execution_count": 10,
   "id": "c94d98d0-711a-4477-b4bc-f53f79a4a667",
   "metadata": {},
   "outputs": [
    {
     "data": {
      "text/html": [
       "<div>\n",
       "<style scoped>\n",
       "    .dataframe tbody tr th:only-of-type {\n",
       "        vertical-align: middle;\n",
       "    }\n",
       "\n",
       "    .dataframe tbody tr th {\n",
       "        vertical-align: top;\n",
       "    }\n",
       "\n",
       "    .dataframe thead th {\n",
       "        text-align: right;\n",
       "    }\n",
       "</style>\n",
       "<table border=\"1\" class=\"dataframe\">\n",
       "  <thead>\n",
       "    <tr style=\"text-align: right;\">\n",
       "      <th></th>\n",
       "      <th>search_#</th>\n",
       "      <th>study_title</th>\n",
       "      <th>link</th>\n",
       "      <th>geographic_region</th>\n",
       "      <th>state_country</th>\n",
       "      <th>city</th>\n",
       "      <th>evaluation</th>\n",
       "      <th>date_done</th>\n",
       "      <th>year</th>\n",
       "      <th>topic</th>\n",
       "      <th>...</th>\n",
       "      <th>mendeley_zotero</th>\n",
       "      <th>citations</th>\n",
       "      <th>Authors_x</th>\n",
       "      <th>Databases</th>\n",
       "      <th>author_affiliation</th>\n",
       "      <th>countries_list</th>\n",
       "      <th>countries_clean</th>\n",
       "      <th>lat</th>\n",
       "      <th>lon</th>\n",
       "      <th>size</th>\n",
       "    </tr>\n",
       "  </thead>\n",
       "  <tbody>\n",
       "    <tr>\n",
       "      <th>0</th>\n",
       "      <td>717133610579</td>\n",
       "      <td>Population-level surveillance of congenital he...</td>\n",
       "      <td>https://doi.org/10.1016/j.ahj.2020.04.008</td>\n",
       "      <td>USA;</td>\n",
       "      <td>Colorado;</td>\n",
       "      <td>NaN</td>\n",
       "      <td>NaN</td>\n",
       "      <td>7/17/2025</td>\n",
       "      <td>2020.0</td>\n",
       "      <td>NaN</td>\n",
       "      <td>...</td>\n",
       "      <td>NaN</td>\n",
       "      <td>NaN</td>\n",
       "      <td>NaN</td>\n",
       "      <td>NaN</td>\n",
       "      <td>NaN</td>\n",
       "      <td>Colorado</td>\n",
       "      <td>Colorado</td>\n",
       "      <td>38.725178</td>\n",
       "      <td>-105.607716</td>\n",
       "      <td>4</td>\n",
       "    </tr>\n",
       "    <tr>\n",
       "      <th>1</th>\n",
       "      <td>717133610360</td>\n",
       "      <td>The role of all-payer claims databases to expa...</td>\n",
       "      <td>https://doi.org/10.1111/1475-6773.13901</td>\n",
       "      <td>USA;</td>\n",
       "      <td>Colorado;</td>\n",
       "      <td>NaN</td>\n",
       "      <td>practical-good;</td>\n",
       "      <td>6/14/2025</td>\n",
       "      <td>2022.0</td>\n",
       "      <td>linkage rate; uninsured patients; private plan...</td>\n",
       "      <td>...</td>\n",
       "      <td>NaN</td>\n",
       "      <td>NaN</td>\n",
       "      <td>NaN</td>\n",
       "      <td>NaN</td>\n",
       "      <td>NaN</td>\n",
       "      <td>Colorado</td>\n",
       "      <td>Colorado</td>\n",
       "      <td>38.725178</td>\n",
       "      <td>-105.607716</td>\n",
       "      <td>4</td>\n",
       "    </tr>\n",
       "    <tr>\n",
       "      <th>2</th>\n",
       "      <td>717133610665</td>\n",
       "      <td>Medical Needs after Pediatric Traumatic Brain ...</td>\n",
       "      <td>https://doi.org/10.23889/ijpds.v3i4.968</td>\n",
       "      <td>USA;</td>\n",
       "      <td>Colorado;</td>\n",
       "      <td>Colorado;</td>\n",
       "      <td>NaN</td>\n",
       "      <td>11/13/2023</td>\n",
       "      <td>2018.0</td>\n",
       "      <td>Identifying patterns using unsupervised ML, TB...</td>\n",
       "      <td>...</td>\n",
       "      <td>NaN</td>\n",
       "      <td>NaN</td>\n",
       "      <td>NaN</td>\n",
       "      <td>NaN</td>\n",
       "      <td>NaN</td>\n",
       "      <td>Colorado</td>\n",
       "      <td>Colorado</td>\n",
       "      <td>38.725178</td>\n",
       "      <td>-105.607716</td>\n",
       "      <td>4</td>\n",
       "    </tr>\n",
       "    <tr>\n",
       "      <th>3</th>\n",
       "      <td>717133610966</td>\n",
       "      <td>Scalable Secure Privacy-Preserving Record Link...</td>\n",
       "      <td>https://doi.org/10.23889/ijpds.v3i4.638</td>\n",
       "      <td>USA;</td>\n",
       "      <td>Colorado;</td>\n",
       "      <td>Colorado;</td>\n",
       "      <td>Great</td>\n",
       "      <td>11/13/2023</td>\n",
       "      <td>2018.0</td>\n",
       "      <td>PPRL on the cloud, parallel processing (record...</td>\n",
       "      <td>...</td>\n",
       "      <td>NaN</td>\n",
       "      <td>NaN</td>\n",
       "      <td>NaN</td>\n",
       "      <td>NaN</td>\n",
       "      <td>NaN</td>\n",
       "      <td>Colorado</td>\n",
       "      <td>Colorado</td>\n",
       "      <td>38.725178</td>\n",
       "      <td>-105.607716</td>\n",
       "      <td>4</td>\n",
       "    </tr>\n",
       "    <tr>\n",
       "      <th>4</th>\n",
       "      <td>717133610636</td>\n",
       "      <td>Real-world effectiveness of admissions to a te...</td>\n",
       "      <td>https://doi.org/10.1192/bjo.2020.51</td>\n",
       "      <td>Europe;</td>\n",
       "      <td>Scotland; Wales; Northern Ireland; England;</td>\n",
       "      <td>NaN</td>\n",
       "      <td>general-info</td>\n",
       "      <td>7/16/2025</td>\n",
       "      <td>2020.0</td>\n",
       "      <td>cohort identification; National Psychosis Unit...</td>\n",
       "      <td>...</td>\n",
       "      <td>NaN</td>\n",
       "      <td>NaN</td>\n",
       "      <td>NaN</td>\n",
       "      <td>NaN</td>\n",
       "      <td>NaN</td>\n",
       "      <td>Scotland</td>\n",
       "      <td>Scotland</td>\n",
       "      <td>56.786111</td>\n",
       "      <td>-4.114052</td>\n",
       "      <td>5</td>\n",
       "    </tr>\n",
       "  </tbody>\n",
       "</table>\n",
       "<p>5 rows × 93 columns</p>\n",
       "</div>"
      ],
      "text/plain": [
       "       search_#                                        study_title  \\\n",
       "0  717133610579  Population-level surveillance of congenital he...   \n",
       "1  717133610360  The role of all-payer claims databases to expa...   \n",
       "2  717133610665  Medical Needs after Pediatric Traumatic Brain ...   \n",
       "3  717133610966  Scalable Secure Privacy-Preserving Record Link...   \n",
       "4  717133610636  Real-world effectiveness of admissions to a te...   \n",
       "\n",
       "                                        link geographic_region  \\\n",
       "0  https://doi.org/10.1016/j.ahj.2020.04.008              USA;   \n",
       "1    https://doi.org/10.1111/1475-6773.13901              USA;   \n",
       "2    https://doi.org/10.23889/ijpds.v3i4.968              USA;   \n",
       "3    https://doi.org/10.23889/ijpds.v3i4.638              USA;   \n",
       "4        https://doi.org/10.1192/bjo.2020.51           Europe;   \n",
       "\n",
       "                                 state_country       city       evaluation  \\\n",
       "0                                    Colorado;        NaN              NaN   \n",
       "1                                    Colorado;        NaN  practical-good;   \n",
       "2                                    Colorado;  Colorado;              NaN   \n",
       "3                                    Colorado;  Colorado;            Great   \n",
       "4  Scotland; Wales; Northern Ireland; England;        NaN     general-info   \n",
       "\n",
       "    date_done    year                                              topic  ...  \\\n",
       "0   7/17/2025  2020.0                                                NaN  ...   \n",
       "1   6/14/2025  2022.0  linkage rate; uninsured patients; private plan...  ...   \n",
       "2  11/13/2023  2018.0  Identifying patterns using unsupervised ML, TB...  ...   \n",
       "3  11/13/2023  2018.0  PPRL on the cloud, parallel processing (record...  ...   \n",
       "4   7/16/2025  2020.0  cohort identification; National Psychosis Unit...  ...   \n",
       "\n",
       "  mendeley_zotero citations Authors_x Databases author_affiliation  \\\n",
       "0             NaN       NaN       NaN       NaN                NaN   \n",
       "1             NaN       NaN       NaN       NaN                NaN   \n",
       "2             NaN       NaN       NaN       NaN                NaN   \n",
       "3             NaN       NaN       NaN       NaN                NaN   \n",
       "4             NaN       NaN       NaN       NaN                NaN   \n",
       "\n",
       "  countries_list countries_clean        lat         lon size  \n",
       "0       Colorado        Colorado  38.725178 -105.607716    4  \n",
       "1       Colorado        Colorado  38.725178 -105.607716    4  \n",
       "2       Colorado        Colorado  38.725178 -105.607716    4  \n",
       "3       Colorado        Colorado  38.725178 -105.607716    4  \n",
       "4       Scotland        Scotland  56.786111   -4.114052    5  \n",
       "\n",
       "[5 rows x 93 columns]"
      ]
     },
     "execution_count": 10,
     "metadata": {},
     "output_type": "execute_result"
    }
   ],
   "source": [
    "# Count occurrences of each location\n",
    "size_df = df_exploded['countries_clean'].value_counts().reset_index()\n",
    "size_df.columns = ['countries_clean', 'size']\n",
    "\n",
    "# Merge back to main DataFrame\n",
    "df_exploded = df_exploded.merge(size_df, on='countries_clean')\n",
    "df_exploded.head()"
   ]
  },
  {
   "cell_type": "code",
   "execution_count": 11,
   "id": "37c803c7-71ea-455f-b8df-0850b4f9f230",
   "metadata": {},
   "outputs": [
    {
     "data": {
      "application/vnd.plotly.v1+json": {
       "config": {
        "plotlyServerURL": "https://plot.ly"
       },
       "data": [
        {
         "geo": "geo",
         "hovertemplate": "<b>%{hovertext}</b><br><br>countries_clean=Colorado<br>size=%{marker.size}<br>lat=%{lat}<br>lon=%{lon}<extra></extra>",
         "hovertext": [
          "Colorado",
          "Colorado",
          "Colorado",
          "Colorado"
         ],
         "lat": {
          "bdata": "WeWdntJcQ0BZ5Z2e0lxDQFnlnZ7SXENAWeWdntJcQ0A=",
          "dtype": "f8"
         },
         "legendgroup": "Colorado",
         "lon": {
          "bdata": "YVCm0eRmWsBhUKbR5GZawGFQptHkZlrAYVCm0eRmWsA=",
          "dtype": "f8"
         },
         "marker": {
          "color": "#636efa",
          "size": {
           "bdata": "BAQEBA==",
           "dtype": "i1"
          },
          "sizemode": "area",
          "sizeref": 0.035,
          "symbol": "circle"
         },
         "mode": "markers",
         "name": "Colorado",
         "showlegend": true,
         "type": "scattergeo"
        },
        {
         "geo": "geo",
         "hovertemplate": "<b>%{hovertext}</b><br><br>countries_clean=Scotland<br>size=%{marker.size}<br>lat=%{lat}<br>lon=%{lon}<extra></extra>",
         "hovertext": [
          "Scotland",
          "Scotland",
          "Scotland",
          "Scotland",
          "Scotland"
         ],
         "lat": {
          "bdata": "eYKzSp9kTEB5grNKn2RMQHmCs0qfZExAeYKzSp9kTEB5grNKn2RMQA==",
          "dtype": "f8"
         },
         "legendgroup": "Scotland",
         "lon": {
          "bdata": "IjO8/sl0EMAiM7z+yXQQwCIzvP7JdBDAIjO8/sl0EMAiM7z+yXQQwA==",
          "dtype": "f8"
         },
         "marker": {
          "color": "#EF553B",
          "size": {
           "bdata": "BQUFBQU=",
           "dtype": "i1"
          },
          "sizemode": "area",
          "sizeref": 0.035,
          "symbol": "circle"
         },
         "mode": "markers",
         "name": "Scotland",
         "showlegend": true,
         "type": "scattergeo"
        },
        {
         "geo": "geo",
         "hovertemplate": "<b>%{hovertext}</b><br><br>countries_clean=Wales<br>size=%{marker.size}<br>lat=%{lat}<br>lon=%{lon}<extra></extra>",
         "hovertext": [
          "Wales",
          "Wales",
          "Wales",
          "Wales",
          "Wales",
          "Wales",
          "Wales",
          "Wales",
          "Wales",
          "Wales",
          "Wales",
          "Wales",
          "Wales"
         ],
         "lat": {
          "bdata": "2fG62XolSkDZ8brZeiVKQNnxutl6JUpA2fG62XolSkDZ8brZeiVKQNnxutl6JUpA2fG62XolSkDZ8brZeiVKQNnxutl6JUpA2fG62XolSkDZ8brZeiVKQNnxutl6JUpA2fG62XolSkA=",
          "dtype": "f8"
         },
         "legendgroup": "Wales",
         "lon": {
          "bdata": "KETAIVTpDcAoRMAhVOkNwChEwCFU6Q3AKETAIVTpDcAoRMAhVOkNwChEwCFU6Q3AKETAIVTpDcAoRMAhVOkNwChEwCFU6Q3AKETAIVTpDcAoRMAhVOkNwChEwCFU6Q3AKETAIVTpDcA=",
          "dtype": "f8"
         },
         "marker": {
          "color": "#00cc96",
          "size": {
           "bdata": "DQ0NDQ0NDQ0NDQ0NDQ==",
           "dtype": "i1"
          },
          "sizemode": "area",
          "sizeref": 0.035,
          "symbol": "circle"
         },
         "mode": "markers",
         "name": "Wales",
         "showlegend": true,
         "type": "scattergeo"
        },
        {
         "geo": "geo",
         "hovertemplate": "<b>%{hovertext}</b><br><br>countries_clean=Northern Ireland<br>size=%{marker.size}<br>lat=%{lat}<br>lon=%{lon}<extra></extra>",
         "hovertext": [
          "Northern Ireland",
          "Northern Ireland",
          "Northern Ireland",
          "Northern Ireland"
         ],
         "lat": {
          "bdata": "Bf+2ggFLS0AF/7aCAUtLQAX/toIBS0tABf+2ggFLS0A=",
          "dtype": "f8"
         },
         "legendgroup": "Northern Ireland",
         "lon": {
          "bdata": "kCBL1SzWG8CQIEvVLNYbwJAgS9Us1hvAkCBL1SzWG8A=",
          "dtype": "f8"
         },
         "marker": {
          "color": "#ab63fa",
          "size": {
           "bdata": "BAQEBA==",
           "dtype": "i1"
          },
          "sizemode": "area",
          "sizeref": 0.035,
          "symbol": "circle"
         },
         "mode": "markers",
         "name": "Northern Ireland",
         "showlegend": true,
         "type": "scattergeo"
        },
        {
         "geo": "geo",
         "hovertemplate": "<b>%{hovertext}</b><br><br>countries_clean=England<br>size=%{marker.size}<br>lat=%{lat}<br>lon=%{lon}<extra></extra>",
         "hovertext": [
          "England",
          "England",
          "England",
          "England",
          "England",
          "England",
          "England",
          "England",
          "England"
         ],
         "lat": {
          "bdata": "8jxdgvhDSkDyPF2C+ENKQPI8XYL4Q0pA8jxdgvhDSkDyPF2C+ENKQPI8XYL4Q0pA8jxdgvhDSkDyPF2C+ENKQPI8XYL4Q0pA",
          "dtype": "f8"
         },
         "legendgroup": "England",
         "lon": {
          "bdata": "Rh+YSA499L9GH5hIDj30v0YfmEgOPfS/Rh+YSA499L9GH5hIDj30v0YfmEgOPfS/Rh+YSA499L9GH5hIDj30v0YfmEgOPfS/",
          "dtype": "f8"
         },
         "marker": {
          "color": "#FFA15A",
          "size": {
           "bdata": "CQkJCQkJCQkJ",
           "dtype": "i1"
          },
          "sizemode": "area",
          "sizeref": 0.035,
          "symbol": "circle"
         },
         "mode": "markers",
         "name": "England",
         "showlegend": true,
         "type": "scattergeo"
        },
        {
         "geo": "geo",
         "hovertemplate": "<b>%{hovertext}</b><br><br>countries_clean=British Columbia<br>size=%{marker.size}<br>lat=%{lat}<br>lon=%{lon}<extra></extra>",
         "hovertext": [
          "British Columbia",
          "British Columbia",
          "British Columbia",
          "British Columbia"
         ],
         "lat": {
          "bdata": "LQsm/iiAS0AtCyb+KIBLQC0LJv4ogEtALQsm/iiAS0A=",
          "dtype": "f8"
         },
         "legendgroup": "British Columbia",
         "lon": {
          "bdata": "2spL/idAX8Daykv+J0BfwNrKS/4nQF/A2spL/idAX8A=",
          "dtype": "f8"
         },
         "marker": {
          "color": "#19d3f3",
          "size": {
           "bdata": "BAQEBA==",
           "dtype": "i1"
          },
          "sizemode": "area",
          "sizeref": 0.035,
          "symbol": "circle"
         },
         "mode": "markers",
         "name": "British Columbia",
         "showlegend": true,
         "type": "scattergeo"
        },
        {
         "geo": "geo",
         "hovertemplate": "<b>%{hovertext}</b><br><br>countries_clean=Western Australia<br>size=%{marker.size}<br>lat=%{lat}<br>lon=%{lon}<extra></extra>",
         "hovertext": [
          "Western Australia",
          "Western Australia",
          "Western Australia",
          "Western Australia",
          "Western Australia",
          "Western Australia",
          "Western Australia",
          "Western Australia"
         ],
         "lat": {
          "bdata": "oMA7+fQ6OcCgwDv59Do5wKDAO/n0OjnAoMA7+fQ6OcCgwDv59Do5wKDAO/n0OjnAoMA7+fQ6OcCgwDv59Do5wA==",
          "dtype": "f8"
         },
         "legendgroup": "Western Australia",
         "lon": {
          "bdata": "XSiqyDJBXkBdKKrIMkFeQF0oqsgyQV5AXSiqyDJBXkBdKKrIMkFeQF0oqsgyQV5AXSiqyDJBXkBdKKrIMkFeQA==",
          "dtype": "f8"
         },
         "marker": {
          "color": "#FF6692",
          "size": {
           "bdata": "CAgICAgICAg=",
           "dtype": "i1"
          },
          "sizemode": "area",
          "sizeref": 0.035,
          "symbol": "circle"
         },
         "mode": "markers",
         "name": "Western Australia",
         "showlegend": true,
         "type": "scattergeo"
        },
        {
         "geo": "geo",
         "hovertemplate": "<b>%{hovertext}</b><br><br>countries_clean=Louisiana<br>size=%{marker.size}<br>lat=%{lat}<br>lon=%{lon}<extra></extra>",
         "hovertext": [
          "Louisiana"
         ],
         "lat": {
          "bdata": "3FMowdHePkA=",
          "dtype": "f8"
         },
         "legendgroup": "Louisiana",
         "lon": {
          "bdata": "4jycwHQAV8A=",
          "dtype": "f8"
         },
         "marker": {
          "color": "#B6E880",
          "size": {
           "bdata": "AQ==",
           "dtype": "i1"
          },
          "sizemode": "area",
          "sizeref": 0.035,
          "symbol": "circle"
         },
         "mode": "markers",
         "name": "Louisiana",
         "showlegend": true,
         "type": "scattergeo"
        },
        {
         "geo": "geo",
         "hovertemplate": "<b>%{hovertext}</b><br><br>countries_clean=Sweden<br>size=%{marker.size}<br>lat=%{lat}<br>lon=%{lon}<extra></extra>",
         "hovertext": [
          "Sweden"
         ],
         "lat": {
          "bdata": "9t7OdGXWTUA=",
          "dtype": "f8"
         },
         "legendgroup": "Sweden",
         "lon": {
          "bdata": "m7HD860KLUA=",
          "dtype": "f8"
         },
         "marker": {
          "color": "#FF97FF",
          "size": {
           "bdata": "AQ==",
           "dtype": "i1"
          },
          "sizemode": "area",
          "sizeref": 0.035,
          "symbol": "circle"
         },
         "mode": "markers",
         "name": "Sweden",
         "showlegend": true,
         "type": "scattergeo"
        },
        {
         "geo": "geo",
         "hovertemplate": "<b>%{hovertext}</b><br><br>countries_clean=Norway<br>size=%{marker.size}<br>lat=%{lat}<br>lon=%{lon}<extra></extra>",
         "hovertext": [
          "Norway",
          "Norway",
          "Norway"
         ],
         "lat": {
          "bdata": "5KX2fZOTTkDkpfZ9k5NOQOSl9n2Tk05A",
          "dtype": "f8"
         },
         "legendgroup": "Norway",
         "lon": {
          "bdata": "WGO/3UiTIUBYY7/dSJMhQFhjv91IkyFA",
          "dtype": "f8"
         },
         "marker": {
          "color": "#FECB52",
          "size": {
           "bdata": "AwMD",
           "dtype": "i1"
          },
          "sizemode": "area",
          "sizeref": 0.035,
          "symbol": "circle"
         },
         "mode": "markers",
         "name": "Norway",
         "showlegend": true,
         "type": "scattergeo"
        },
        {
         "geo": "geo",
         "hovertemplate": "<b>%{hovertext}</b><br><br>countries_clean=Denmark<br>size=%{marker.size}<br>lat=%{lat}<br>lon=%{lon}<extra></extra>",
         "hovertext": [
          "Denmark"
         ],
         "lat": {
          "bdata": "npYfuMrVS0A=",
          "dtype": "f8"
         },
         "legendgroup": "Denmark",
         "lon": {
          "bdata": "nanGAaqqJEA=",
          "dtype": "f8"
         },
         "marker": {
          "color": "#636efa",
          "size": {
           "bdata": "AQ==",
           "dtype": "i1"
          },
          "sizemode": "area",
          "sizeref": 0.035,
          "symbol": "circle"
         },
         "mode": "markers",
         "name": "Denmark",
         "showlegend": true,
         "type": "scattergeo"
        },
        {
         "geo": "geo",
         "hovertemplate": "<b>%{hovertext}</b><br><br>countries_clean=Finland<br>size=%{marker.size}<br>lat=%{lat}<br>lon=%{lon}<extra></extra>",
         "hovertext": [
          "Finland",
          "Finland",
          "Finland",
          "Finland"
         ],
         "lat": {
          "bdata": "6XBjaZafT0DpcGNplp9PQOlwY2mWn09A6XBjaZafT0A=",
          "dtype": "f8"
         },
         "legendgroup": "Finland",
         "lon": {
          "bdata": "nVlcLcHrOUCdWVwtwes5QJ1ZXC3B6zlAnVlcLcHrOUA=",
          "dtype": "f8"
         },
         "marker": {
          "color": "#EF553B",
          "size": {
           "bdata": "BAQEBA==",
           "dtype": "i1"
          },
          "sizemode": "area",
          "sizeref": 0.035,
          "symbol": "circle"
         },
         "mode": "markers",
         "name": "Finland",
         "showlegend": true,
         "type": "scattergeo"
        },
        {
         "geo": "geo",
         "hovertemplate": "<b>%{hovertext}</b><br><br>countries_clean=New South Wales<br>size=%{marker.size}<br>lat=%{lat}<br>lon=%{lon}<extra></extra>",
         "hovertext": [
          "New South Wales",
          "New South Wales",
          "New South Wales",
          "New South Wales",
          "New South Wales",
          "New South Wales",
          "New South Wales",
          "New South Wales",
          "New South Wales",
          "New South Wales"
         ],
         "lat": {
          "bdata": "61VkdEDgP8DrVWR0QOA/wOtVZHRA4D/A61VkdEDgP8DrVWR0QOA/wOtVZHRA4D/A61VkdEDgP8DrVWR0QOA/wOtVZHRA4D/A61VkdEDgP8A=",
          "dtype": "f8"
         },
         "legendgroup": "New South Wales",
         "lon": {
          "bdata": "hmNMsC5pYkCGY0ywLmliQIZjTLAuaWJAhmNMsC5pYkCGY0ywLmliQIZjTLAuaWJAhmNMsC5pYkCGY0ywLmliQIZjTLAuaWJAhmNMsC5pYkA=",
          "dtype": "f8"
         },
         "marker": {
          "color": "#00cc96",
          "size": {
           "bdata": "CgoKCgoKCgoKCg==",
           "dtype": "i1"
          },
          "sizemode": "area",
          "sizeref": 0.035,
          "symbol": "circle"
         },
         "mode": "markers",
         "name": "New South Wales",
         "showlegend": true,
         "type": "scattergeo"
        },
        {
         "geo": "geo",
         "hovertemplate": "<b>%{hovertext}</b><br><br>countries_clean=Germany<br>size=%{marker.size}<br>lat=%{lat}<br>lon=%{lon}<extra></extra>",
         "hovertext": [
          "Germany",
          "Germany",
          "Germany",
          "Germany",
          "Germany",
          "Germany",
          "Germany",
          "Germany",
          "Germany",
          "Germany",
          "Germany",
          "Germany",
          "Germany",
          "Germany"
         ],
         "lat": {
          "bdata": "mYHK+PeUSUCZgcr495RJQJmByvj3lElAmYHK+PeUSUCZgcr495RJQJmByvj3lElAmYHK+PeUSUCZgcr495RJQJmByvj3lElAmYHK+PeUSUCZgcr495RJQJmByvj3lElAmYHK+PeUSUCZgcr495RJQA==",
          "dtype": "f8"
         },
         "legendgroup": "Germany",
         "lon": {
          "bdata": "FkDnJErlJEAWQOckSuUkQBZA5yRK5SRAFkDnJErlJEAWQOckSuUkQBZA5yRK5SRAFkDnJErlJEAWQOckSuUkQBZA5yRK5SRAFkDnJErlJEAWQOckSuUkQBZA5yRK5SRAFkDnJErlJEAWQOckSuUkQA==",
          "dtype": "f8"
         },
         "marker": {
          "color": "#ab63fa",
          "size": {
           "bdata": "Dg4ODg4ODg4ODg4ODg4=",
           "dtype": "i1"
          },
          "sizemode": "area",
          "sizeref": 0.035,
          "symbol": "circle"
         },
         "mode": "markers",
         "name": "Germany",
         "showlegend": true,
         "type": "scattergeo"
        },
        {
         "geo": "geo",
         "hovertemplate": "<b>%{hovertext}</b><br><br>countries_clean=Japan<br>size=%{marker.size}<br>lat=%{lat}<br>lon=%{lon}<extra></extra>",
         "hovertext": [
          "Japan",
          "Japan",
          "Japan",
          "Japan",
          "Japan"
         ],
         "lat": {
          "bdata": "N+bQfZRJQkA35tB9lElCQDfm0H2USUJAN+bQfZRJQkA35tB9lElCQA==",
          "dtype": "f8"
         },
         "legendgroup": "Japan",
         "lon": {
          "bdata": "d1K6T6lnYUB3UrpPqWdhQHdSuk+pZ2FAd1K6T6lnYUB3UrpPqWdhQA==",
          "dtype": "f8"
         },
         "marker": {
          "color": "#FFA15A",
          "size": {
           "bdata": "BQUFBQU=",
           "dtype": "i1"
          },
          "sizemode": "area",
          "sizeref": 0.035,
          "symbol": "circle"
         },
         "mode": "markers",
         "name": "Japan",
         "showlegend": true,
         "type": "scattergeo"
        },
        {
         "geo": "geo",
         "hovertemplate": "<b>%{hovertext}</b><br><br>countries_clean=Switzerland<br>size=%{marker.size}<br>lat=%{lat}<br>lon=%{lon}<extra></extra>",
         "hovertext": [
          "Switzerland",
          "Switzerland",
          "Switzerland",
          "Switzerland"
         ],
         "lat": {
          "bdata": "W+jvSjdmR0Bb6O9KN2ZHQFvo70o3ZkdAW+jvSjdmR0A=",
          "dtype": "f8"
         },
         "legendgroup": "Switzerland",
         "lon": {
          "bdata": "HhJjPsV2IEAeEmM+xXYgQB4SYz7FdiBAHhJjPsV2IEA=",
          "dtype": "f8"
         },
         "marker": {
          "color": "#19d3f3",
          "size": {
           "bdata": "BAQEBA==",
           "dtype": "i1"
          },
          "sizemode": "area",
          "sizeref": 0.035,
          "symbol": "circle"
         },
         "mode": "markers",
         "name": "Switzerland",
         "showlegend": true,
         "type": "scattergeo"
        },
        {
         "geo": "geo",
         "hovertemplate": "<b>%{hovertext}</b><br><br>countries_clean=USA<br>size=%{marker.size}<br>lat=%{lat}<br>lon=%{lon}<extra></extra>",
         "hovertext": [
          "USA",
          "USA"
         ],
         "lat": {
          "bdata": "xXAaR1HkQ0DFcBpHUeRDQA==",
          "dtype": "f8"
         },
         "legendgroup": "USA",
         "lon": {
          "bdata": "AfinVIkcWcAB+KdUiRxZwA==",
          "dtype": "f8"
         },
         "marker": {
          "color": "#FF6692",
          "size": {
           "bdata": "AgI=",
           "dtype": "i1"
          },
          "sizemode": "area",
          "sizeref": 0.035,
          "symbol": "circle"
         },
         "mode": "markers",
         "name": "USA",
         "showlegend": true,
         "type": "scattergeo"
        },
        {
         "geo": "geo",
         "hovertemplate": "<b>%{hovertext}</b><br><br>countries_clean=North Carolina<br>size=%{marker.size}<br>lat=%{lat}<br>lon=%{lon}<extra></extra>",
         "hovertext": [
          "North Carolina",
          "North Carolina",
          "North Carolina",
          "North Carolina",
          "North Carolina"
         ],
         "lat": {
          "bdata": "vvFariPWQUC+8VquI9ZBQL7xWq4j1kFAvvFariPWQUC+8VquI9ZBQA==",
          "dtype": "f8"
         },
         "legendgroup": "North Carolina",
         "lon": {
          "bdata": "2l8swoPCU8DaXyzCg8JTwNpfLMKDwlPA2l8swoPCU8DaXyzCg8JTwA==",
          "dtype": "f8"
         },
         "marker": {
          "color": "#B6E880",
          "size": {
           "bdata": "BQUFBQU=",
           "dtype": "i1"
          },
          "sizemode": "area",
          "sizeref": 0.035,
          "symbol": "circle"
         },
         "mode": "markers",
         "name": "North Carolina",
         "showlegend": true,
         "type": "scattergeo"
        },
        {
         "geo": "geo",
         "hovertemplate": "<b>%{hovertext}</b><br><br>countries_clean=Michigan<br>size=%{marker.size}<br>lat=%{lat}<br>lon=%{lon}<extra></extra>",
         "hovertext": [
          "Michigan",
          "Michigan"
         ],
         "lat": {
          "bdata": "EHaKVYPPRUAQdopVg89FQA==",
          "dtype": "f8"
         },
         "legendgroup": "Michigan",
         "lon": {
          "bdata": "KiosAq0rVcAqKiwCrStVwA==",
          "dtype": "f8"
         },
         "marker": {
          "color": "#FF97FF",
          "size": {
           "bdata": "AgI=",
           "dtype": "i1"
          },
          "sizemode": "area",
          "sizeref": 0.035,
          "symbol": "circle"
         },
         "mode": "markers",
         "name": "Michigan",
         "showlegend": true,
         "type": "scattergeo"
        },
        {
         "geo": "geo",
         "hovertemplate": "<b>%{hovertext}</b><br><br>countries_clean=Nigeria<br>size=%{marker.size}<br>lat=%{lat}<br>lon=%{lon}<extra></extra>",
         "hovertext": [
          "Nigeria"
         ],
         "lat": {
          "bdata": "E9rN5zczI0A=",
          "dtype": "f8"
         },
         "legendgroup": "Nigeria",
         "lon": {
          "bdata": "V6apr/j/H0A=",
          "dtype": "f8"
         },
         "marker": {
          "color": "#FECB52",
          "size": {
           "bdata": "AQ==",
           "dtype": "i1"
          },
          "sizemode": "area",
          "sizeref": 0.035,
          "symbol": "circle"
         },
         "mode": "markers",
         "name": "Nigeria",
         "showlegend": true,
         "type": "scattergeo"
        },
        {
         "geo": "geo",
         "hovertemplate": "<b>%{hovertext}</b><br><br>countries_clean=Brazil<br>size=%{marker.size}<br>lat=%{lat}<br>lon=%{lon}<extra></extra>",
         "hovertext": [
          "Brazil",
          "Brazil"
         ],
         "lat": {
          "bdata": "5FWMqaqqJMDkVYypqqokwA==",
          "dtype": "f8"
         },
         "legendgroup": "Brazil",
         "lon": {
          "bdata": "mpmZmZmZSsCamZmZmZlKwA==",
          "dtype": "f8"
         },
         "marker": {
          "color": "#636efa",
          "size": {
           "bdata": "AgI=",
           "dtype": "i1"
          },
          "sizemode": "area",
          "sizeref": 0.035,
          "symbol": "circle"
         },
         "mode": "markers",
         "name": "Brazil",
         "showlegend": true,
         "type": "scattergeo"
        },
        {
         "geo": "geo",
         "hovertemplate": "<b>%{hovertext}</b><br><br>countries_clean=United Kingdom<br>size=%{marker.size}<br>lat=%{lat}<br>lon=%{lon}<extra></extra>",
         "hovertext": [
          "United Kingdom",
          "United Kingdom",
          "United Kingdom",
          "United Kingdom",
          "United Kingdom"
         ],
         "lat": {
          "bdata": "ZtmTwOZZS0Bm2ZPA5llLQGbZk8DmWUtAZtmTwOZZS0Bm2ZPA5llLQA==",
          "dtype": "f8"
         },
         "legendgroup": "United Kingdom",
         "lon": {
          "bdata": "Fg1jHG02CsAWDWMcbTYKwBYNYxxtNgrAFg1jHG02CsAWDWMcbTYKwA==",
          "dtype": "f8"
         },
         "marker": {
          "color": "#EF553B",
          "size": {
           "bdata": "BQUFBQU=",
           "dtype": "i1"
          },
          "sizemode": "area",
          "sizeref": 0.035,
          "symbol": "circle"
         },
         "mode": "markers",
         "name": "United Kingdom",
         "showlegend": true,
         "type": "scattergeo"
        },
        {
         "geo": "geo",
         "hovertemplate": "<b>%{hovertext}</b><br><br>countries_clean=Illinois<br>size=%{marker.size}<br>lat=%{lat}<br>lon=%{lon}<extra></extra>",
         "hovertext": [
          "Illinois",
          "Illinois"
         ],
         "lat": {
          "bdata": "zuOLUTIKREDO44tRMgpEQA==",
          "dtype": "f8"
         },
         "legendgroup": "Illinois",
         "lon": {
          "bdata": "VdVwNsJbVsBV1XA2wltWwA==",
          "dtype": "f8"
         },
         "marker": {
          "color": "#00cc96",
          "size": {
           "bdata": "AgI=",
           "dtype": "i1"
          },
          "sizemode": "area",
          "sizeref": 0.035,
          "symbol": "circle"
         },
         "mode": "markers",
         "name": "Illinois",
         "showlegend": true,
         "type": "scattergeo"
        },
        {
         "geo": "geo",
         "hovertemplate": "<b>%{hovertext}</b><br><br>countries_clean=London<br>size=%{marker.size}<br>lat=%{lat}<br>lon=%{lon}<extra></extra>",
         "hovertext": [
          "London"
         ],
         "lat": {
          "bdata": "KqvpeqK+SUA=",
          "dtype": "f8"
         },
         "legendgroup": "London",
         "lon": {
          "bdata": "nDepw2Vwwr8=",
          "dtype": "f8"
         },
         "marker": {
          "color": "#ab63fa",
          "size": {
           "bdata": "AQ==",
           "dtype": "i1"
          },
          "sizemode": "area",
          "sizeref": 0.035,
          "symbol": "circle"
         },
         "mode": "markers",
         "name": "London",
         "showlegend": true,
         "type": "scattergeo"
        },
        {
         "geo": "geo",
         "hovertemplate": "<b>%{hovertext}</b><br><br>countries_clean=New York<br>size=%{marker.size}<br>lat=%{lat}<br>lon=%{lon}<extra></extra>",
         "hovertext": [
          "New York",
          "New York",
          "New York",
          "New York",
          "New York",
          "New York"
         ],
         "lat": {
          "bdata": "WTikrDpbREBZOKSsOltEQFk4pKw6W0RAWTikrDpbREBZOKSsOltEQFk4pKw6W0RA",
          "dtype": "f8"
         },
         "legendgroup": "New York",
         "lon": {
          "bdata": "2dGTjWKAUsDZ0ZONYoBSwNnRk41igFLA2dGTjWKAUsDZ0ZONYoBSwNnRk41igFLA",
          "dtype": "f8"
         },
         "marker": {
          "color": "#FFA15A",
          "size": {
           "bdata": "BgYGBgYG",
           "dtype": "i1"
          },
          "sizemode": "area",
          "sizeref": 0.035,
          "symbol": "circle"
         },
         "mode": "markers",
         "name": "New York",
         "showlegend": true,
         "type": "scattergeo"
        },
        {
         "geo": "geo",
         "hovertemplate": "<b>%{hovertext}</b><br><br>countries_clean=China<br>size=%{marker.size}<br>lat=%{lat}<br>lon=%{lon}<extra></extra>",
         "hovertext": [
          "China",
          "China",
          "China"
         ],
         "lat": {
          "bdata": "dioqLAKAQUB2KiosAoBBQHYqKiwCgEFA",
          "dtype": "f8"
         },
         "legendgroup": "China",
         "lon": {
          "bdata": "MJ5BQ/8/WkAwnkFD/z9aQDCeQUP/P1pA",
          "dtype": "f8"
         },
         "marker": {
          "color": "#19d3f3",
          "size": {
           "bdata": "AwMD",
           "dtype": "i1"
          },
          "sizemode": "area",
          "sizeref": 0.035,
          "symbol": "circle"
         },
         "mode": "markers",
         "name": "China",
         "showlegend": true,
         "type": "scattergeo"
        },
        {
         "geo": "geo",
         "hovertemplate": "<b>%{hovertext}</b><br><br>countries_clean=South Africa<br>size=%{marker.size}<br>lat=%{lat}<br>lon=%{lon}<extra></extra>",
         "hovertext": [
          "South Africa",
          "South Africa",
          "South Africa",
          "South Africa",
          "South Africa"
         ],
         "lat": {
          "bdata": "TCSHPg7RPMBMJIc+DtE8wEwkhz4O0TzATCSHPg7RPMBMJIc+DtE8wA==",
          "dtype": "f8"
         },
         "legendgroup": "South Africa",
         "lon": {
          "bdata": "KnCyDdz9OEAqcLIN3P04QCpwsg3c/ThAKnCyDdz9OEAqcLIN3P04QA==",
          "dtype": "f8"
         },
         "marker": {
          "color": "#FF6692",
          "size": {
           "bdata": "BQUFBQU=",
           "dtype": "i1"
          },
          "sizemode": "area",
          "sizeref": 0.035,
          "symbol": "circle"
         },
         "mode": "markers",
         "name": "South Africa",
         "showlegend": true,
         "type": "scattergeo"
        },
        {
         "geo": "geo",
         "hovertemplate": "<b>%{hovertext}</b><br><br>countries_clean=Florida<br>size=%{marker.size}<br>lat=%{lat}<br>lon=%{lon}<extra></extra>",
         "hovertext": [
          "Florida",
          "Florida"
         ],
         "lat": {
          "bdata": "rDNjdrvBO0CsM2N2u8E7QA==",
          "dtype": "f8"
         },
         "legendgroup": "Florida",
         "lon": {
          "bdata": "jZjZ57FdVMCNmNnnsV1UwA==",
          "dtype": "f8"
         },
         "marker": {
          "color": "#B6E880",
          "size": {
           "bdata": "AgI=",
           "dtype": "i1"
          },
          "sizemode": "area",
          "sizeref": 0.035,
          "symbol": "circle"
         },
         "mode": "markers",
         "name": "Florida",
         "showlegend": true,
         "type": "scattergeo"
        },
        {
         "geo": "geo",
         "hovertemplate": "<b>%{hovertext}</b><br><br>countries_clean=Taiwan<br>size=%{marker.size}<br>lat=%{lat}<br>lon=%{lon}<extra></extra>",
         "hovertext": [
          "Taiwan"
         ],
         "lat": {
          "bdata": "7Vkh9lP5N0A=",
          "dtype": "f8"
         },
         "legendgroup": "Taiwan",
         "lon": {
          "bdata": "iyWbYdk+XkA=",
          "dtype": "f8"
         },
         "marker": {
          "color": "#FF97FF",
          "size": {
           "bdata": "AQ==",
           "dtype": "i1"
          },
          "sizemode": "area",
          "sizeref": 0.035,
          "symbol": "circle"
         },
         "mode": "markers",
         "name": "Taiwan",
         "showlegend": true,
         "type": "scattergeo"
        },
        {
         "geo": "geo",
         "hovertemplate": "<b>%{hovertext}</b><br><br>countries_clean=Queensland<br>size=%{marker.size}<br>lat=%{lat}<br>lon=%{lon}<extra></extra>",
         "hovertext": [
          "Queensland",
          "Queensland"
         ],
         "lat": {
          "bdata": "OV27WSgqNsA5XbtZKCo2wA==",
          "dtype": "f8"
         },
         "legendgroup": "Queensland",
         "lon": {
          "bdata": "iWoAJbQSYkCJagAltBJiQA==",
          "dtype": "f8"
         },
         "marker": {
          "color": "#FECB52",
          "size": {
           "bdata": "AgI=",
           "dtype": "i1"
          },
          "sizemode": "area",
          "sizeref": 0.035,
          "symbol": "circle"
         },
         "mode": "markers",
         "name": "Queensland",
         "showlegend": true,
         "type": "scattergeo"
        },
        {
         "geo": "geo",
         "hovertemplate": "<b>%{hovertext}</b><br><br>countries_clean=Western Australian<br>size=%{marker.size}<br>lat=%{lat}<br>lon=%{lon}<extra></extra>",
         "hovertext": [
          "Western Australian",
          "Western Australian"
         ],
         "lat": {
          "bdata": "L/mf/N2jG0Av+Z/83aMbQA==",
          "dtype": "f8"
         },
         "legendgroup": "Western Australian",
         "lon": {
          "bdata": "yFl9Gpz3U0DIWX0anPdTQA==",
          "dtype": "f8"
         },
         "marker": {
          "color": "#636efa",
          "size": {
           "bdata": "AgI=",
           "dtype": "i1"
          },
          "sizemode": "area",
          "sizeref": 0.035,
          "symbol": "circle"
         },
         "mode": "markers",
         "name": "Western Australian",
         "showlegend": true,
         "type": "scattergeo"
        },
        {
         "geo": "geo",
         "hovertemplate": "<b>%{hovertext}</b><br><br>countries_clean=Austria<br>size=%{marker.size}<br>lat=%{lat}<br>lon=%{lon}<extra></extra>",
         "hovertext": [
          "Austria"
         ],
         "lat": {
          "bdata": "Dmd+NQfMR0A=",
          "dtype": "f8"
         },
         "legendgroup": "Austria",
         "lon": {
          "bdata": "j8cMVMY/LEA=",
          "dtype": "f8"
         },
         "marker": {
          "color": "#EF553B",
          "size": {
           "bdata": "AQ==",
           "dtype": "i1"
          },
          "sizemode": "area",
          "sizeref": 0.035,
          "symbol": "circle"
         },
         "mode": "markers",
         "name": "Austria",
         "showlegend": true,
         "type": "scattergeo"
        },
        {
         "geo": "geo",
         "hovertemplate": "<b>%{hovertext}</b><br><br>countries_clean=Europe<br>size=%{marker.size}<br>lat=%{lat}<br>lon=%{lon}<extra></extra>",
         "hovertext": [
          "Europe"
         ],
         "lat": {
          "bdata": "AAAAAACASUA=",
          "dtype": "f8"
         },
         "legendgroup": "Europe",
         "lon": {
          "bdata": "AAAAAAAAJEA=",
          "dtype": "f8"
         },
         "marker": {
          "color": "#00cc96",
          "size": {
           "bdata": "AQ==",
           "dtype": "i1"
          },
          "sizemode": "area",
          "sizeref": 0.035,
          "symbol": "circle"
         },
         "mode": "markers",
         "name": "Europe",
         "showlegend": true,
         "type": "scattergeo"
        },
        {
         "geo": "geo",
         "hovertemplate": "<b>%{hovertext}</b><br><br>countries_clean=New Zealand<br>size=%{marker.size}<br>lat=%{lat}<br>lon=%{lon}<extra></extra>",
         "hovertext": [
          "New Zealand"
         ],
         "lat": {
          "bdata": "IuQXuQLARMA=",
          "dtype": "f8"
         },
         "legendgroup": "New Zealand",
         "lon": {
          "bdata": "++DGd7OaZUA=",
          "dtype": "f8"
         },
         "marker": {
          "color": "#ab63fa",
          "size": {
           "bdata": "AQ==",
           "dtype": "i1"
          },
          "sizemode": "area",
          "sizeref": 0.035,
          "symbol": "circle"
         },
         "mode": "markers",
         "name": "New Zealand",
         "showlegend": true,
         "type": "scattergeo"
        },
        {
         "geo": "geo",
         "hovertemplate": "<b>%{hovertext}</b><br><br>countries_clean=Netherlands<br>size=%{marker.size}<br>lat=%{lat}<br>lon=%{lon}<extra></extra>",
         "hovertext": [
          "Netherlands",
          "Netherlands"
         ],
         "lat": {
          "bdata": "hZJu8CofSkCFkm7wKh9KQA==",
          "dtype": "f8"
         },
         "legendgroup": "Netherlands",
         "lon": {
          "bdata": "EnHO44uJFkAScc7ji4kWQA==",
          "dtype": "f8"
         },
         "marker": {
          "color": "#FFA15A",
          "size": {
           "bdata": "AgI=",
           "dtype": "i1"
          },
          "sizemode": "area",
          "sizeref": 0.035,
          "symbol": "circle"
         },
         "mode": "markers",
         "name": "Netherlands",
         "showlegend": true,
         "type": "scattergeo"
        },
        {
         "geo": "geo",
         "hovertemplate": "<b>%{hovertext}</b><br><br>countries_clean=Spain<br>size=%{marker.size}<br>lat=%{lat}<br>lon=%{lon}<extra></extra>",
         "hovertext": [
          "Spain"
         ],
         "lat": {
          "bdata": "veDTnLypQ0A=",
          "dtype": "f8"
         },
         "legendgroup": "Spain",
         "lon": {
          "bdata": "Eu10MRdaE8A=",
          "dtype": "f8"
         },
         "marker": {
          "color": "#19d3f3",
          "size": {
           "bdata": "AQ==",
           "dtype": "i1"
          },
          "sizemode": "area",
          "sizeref": 0.035,
          "symbol": "circle"
         },
         "mode": "markers",
         "name": "Spain",
         "showlegend": true,
         "type": "scattergeo"
        },
        {
         "geo": "geo",
         "hovertemplate": "<b>%{hovertext}</b><br><br>countries_clean=Ireland<br>size=%{marker.size}<br>lat=%{lat}<br>lon=%{lon}<extra></extra>",
         "hovertext": [
          "Ireland"
         ],
         "lat": {
          "bdata": "pFAWvr5uSkA=",
          "dtype": "f8"
         },
         "legendgroup": "Ireland",
         "lon": {
          "bdata": "Rvk4iffqH8A=",
          "dtype": "f8"
         },
         "marker": {
          "color": "#FF6692",
          "size": {
           "bdata": "AQ==",
           "dtype": "i1"
          },
          "sizemode": "area",
          "sizeref": 0.035,
          "symbol": "circle"
         },
         "mode": "markers",
         "name": "Ireland",
         "showlegend": true,
         "type": "scattergeo"
        },
        {
         "geo": "geo",
         "hovertemplate": "<b>%{hovertext}</b><br><br>countries_clean=Australia<br>size=%{marker.size}<br>lat=%{lat}<br>lon=%{lon}<extra></extra>",
         "hovertext": [
          "Australia",
          "Australia",
          "Australia",
          "Australia"
         ],
         "lat": {
          "bdata": "9CSfDa/GOMD0JJ8Nr8Y4wPQknw2vxjjA9CSfDa/GOMA=",
          "dtype": "f8"
         },
         "legendgroup": "Australia",
         "lon": {
          "bdata": "XI/C9SjYYEBcj8L1KNhgQFyPwvUo2GBAXI/C9SjYYEA=",
          "dtype": "f8"
         },
         "marker": {
          "color": "#B6E880",
          "size": {
           "bdata": "BAQEBA==",
           "dtype": "i1"
          },
          "sizemode": "area",
          "sizeref": 0.035,
          "symbol": "circle"
         },
         "mode": "markers",
         "name": "Australia",
         "showlegend": true,
         "type": "scattergeo"
        },
        {
         "geo": "geo",
         "hovertemplate": "<b>%{hovertext}</b><br><br>countries_clean=Belgium<br>size=%{marker.size}<br>lat=%{lat}<br>lon=%{lon}<extra></extra>",
         "hovertext": [
          "Belgium"
         ],
         "lat": {
          "bdata": "ceB6ufRRSUA=",
          "dtype": "f8"
         },
         "legendgroup": "Belgium",
         "lon": {
          "bdata": "cxO1NLeqEkA=",
          "dtype": "f8"
         },
         "marker": {
          "color": "#FF97FF",
          "size": {
           "bdata": "AQ==",
           "dtype": "i1"
          },
          "sizemode": "area",
          "sizeref": 0.035,
          "symbol": "circle"
         },
         "mode": "markers",
         "name": "Belgium",
         "showlegend": true,
         "type": "scattergeo"
        },
        {
         "geo": "geo",
         "hovertemplate": "<b>%{hovertext}</b><br><br>countries_clean=Commonwealth of Australia<br>size=%{marker.size}<br>lat=%{lat}<br>lon=%{lon}<extra></extra>",
         "hovertext": [
          "Commonwealth of Australia"
         ],
         "lat": {
          "bdata": "9CSfDa/GOMA=",
          "dtype": "f8"
         },
         "legendgroup": "Commonwealth of Australia",
         "lon": {
          "bdata": "XI/C9SjYYEA=",
          "dtype": "f8"
         },
         "marker": {
          "color": "#FECB52",
          "size": {
           "bdata": "AQ==",
           "dtype": "i1"
          },
          "sizemode": "area",
          "sizeref": 0.035,
          "symbol": "circle"
         },
         "mode": "markers",
         "name": "Commonwealth of Australia",
         "showlegend": true,
         "type": "scattergeo"
        },
        {
         "geo": "geo",
         "hovertemplate": "<b>%{hovertext}</b><br><br>countries_clean=Texas<br>size=%{marker.size}<br>lat=%{lat}<br>lon=%{lon}<extra></extra>",
         "hovertext": [
          "Texas",
          "Texas",
          "Texas",
          "Texas"
         ],
         "lat": {
          "bdata": "nznrU45DP0CfOetTjkM/QJ8561OOQz9AnznrU45DP0A=",
          "dtype": "f8"
         },
         "legendgroup": "Texas",
         "lon": {
          "bdata": "XpTqTOuiWMBelOpM66JYwF6U6kzroljAXpTqTOuiWMA=",
          "dtype": "f8"
         },
         "marker": {
          "color": "#636efa",
          "size": {
           "bdata": "BAQEBA==",
           "dtype": "i1"
          },
          "sizemode": "area",
          "sizeref": 0.035,
          "symbol": "circle"
         },
         "mode": "markers",
         "name": "Texas",
         "showlegend": true,
         "type": "scattergeo"
        },
        {
         "geo": "geo",
         "hovertemplate": "<b>%{hovertext}</b><br><br>countries_clean=Maryland<br>size=%{marker.size}<br>lat=%{lat}<br>lon=%{lon}<extra></extra>",
         "hovertext": [
          "Maryland"
         ],
         "lat": {
          "bdata": "HzHVJxTCQ0A=",
          "dtype": "f8"
         },
         "legendgroup": "Maryland",
         "lon": {
          "bdata": "axj0lAs8U8A=",
          "dtype": "f8"
         },
         "marker": {
          "color": "#EF553B",
          "size": {
           "bdata": "AQ==",
           "dtype": "i1"
          },
          "sizemode": "area",
          "sizeref": 0.035,
          "symbol": "circle"
         },
         "mode": "markers",
         "name": "Maryland",
         "showlegend": true,
         "type": "scattergeo"
        },
        {
         "geo": "geo",
         "hovertemplate": "<b>%{hovertext}</b><br><br>countries_clean=Indiana<br>size=%{marker.size}<br>lat=%{lat}<br>lon=%{lon}<extra></extra>",
         "hovertext": [
          "Indiana"
         ],
         "lat": {
          "bdata": "NvBZjdspREA=",
          "dtype": "f8"
         },
         "legendgroup": "Indiana",
         "lon": {
          "bdata": "JJXOLC6LVcA=",
          "dtype": "f8"
         },
         "marker": {
          "color": "#00cc96",
          "size": {
           "bdata": "AQ==",
           "dtype": "i1"
          },
          "sizemode": "area",
          "sizeref": 0.035,
          "symbol": "circle"
         },
         "mode": "markers",
         "name": "Indiana",
         "showlegend": true,
         "type": "scattergeo"
        },
        {
         "geo": "geo",
         "hovertemplate": "<b>%{hovertext}</b><br><br>countries_clean=United States<br>size=%{marker.size}<br>lat=%{lat}<br>lon=%{lon}<extra></extra>",
         "hovertext": [
          "United States"
         ],
         "lat": {
          "bdata": "xXAaR1HkQ0A=",
          "dtype": "f8"
         },
         "legendgroup": "United States",
         "lon": {
          "bdata": "AfinVIkcWcA=",
          "dtype": "f8"
         },
         "marker": {
          "color": "#ab63fa",
          "size": {
           "bdata": "AQ==",
           "dtype": "i1"
          },
          "sizemode": "area",
          "sizeref": 0.035,
          "symbol": "circle"
         },
         "mode": "markers",
         "name": "United States",
         "showlegend": true,
         "type": "scattergeo"
        },
        {
         "geo": "geo",
         "hovertemplate": "<b>%{hovertext}</b><br><br>countries_clean=Victoria<br>size=%{marker.size}<br>lat=%{lat}<br>lon=%{lon}<extra></extra>",
         "hovertext": [
          "Victoria",
          "Victoria",
          "Victoria"
         ],
         "lat": {
          "bdata": "LIlHPZ9MQsAsiUc9n0xCwCyJRz2fTELA",
          "dtype": "f8"
         },
         "legendgroup": "Victoria",
         "lon": {
          "bdata": "kxD2N7IVYkCTEPY3shViQJMQ9jeyFWJA",
          "dtype": "f8"
         },
         "marker": {
          "color": "#FFA15A",
          "size": {
           "bdata": "AwMD",
           "dtype": "i1"
          },
          "sizemode": "area",
          "sizeref": 0.035,
          "symbol": "circle"
         },
         "mode": "markers",
         "name": "Victoria",
         "showlegend": true,
         "type": "scattergeo"
        },
        {
         "geo": "geo",
         "hovertemplate": "<b>%{hovertext}</b><br><br>countries_clean=Connecticut<br>size=%{marker.size}<br>lat=%{lat}<br>lon=%{lon}<extra></extra>",
         "hovertext": [
          "Connecticut",
          "Connecticut",
          "Connecticut"
         ],
         "lat": {
          "bdata": "D5/P2zPTREAPn8/bM9NEQA+fz9sz00RA",
          "dtype": "f8"
         },
         "legendgroup": "Connecticut",
         "lon": {
          "bdata": "KyxdZv0uUsArLF1m/S5SwCssXWb9LlLA",
          "dtype": "f8"
         },
         "marker": {
          "color": "#19d3f3",
          "size": {
           "bdata": "AwMD",
           "dtype": "i1"
          },
          "sizemode": "area",
          "sizeref": 0.035,
          "symbol": "circle"
         },
         "mode": "markers",
         "name": "Connecticut",
         "showlegend": true,
         "type": "scattergeo"
        },
        {
         "geo": "geo",
         "hovertemplate": "<b>%{hovertext}</b><br><br>countries_clean=Canada<br>size=%{marker.size}<br>lat=%{lat}<br>lon=%{lon}<extra></extra>",
         "hovertext": [
          "Canada",
          "Canada"
         ],
         "lat": {
          "bdata": "+/K4XomITkD78rheiYhOQA==",
          "dtype": "f8"
         },
         "legendgroup": "Canada",
         "lon": {
          "bdata": "tw2jIHj/WsC3DaMgeP9awA==",
          "dtype": "f8"
         },
         "marker": {
          "color": "#FF6692",
          "size": {
           "bdata": "AgI=",
           "dtype": "i1"
          },
          "sizemode": "area",
          "sizeref": 0.035,
          "symbol": "circle"
         },
         "mode": "markers",
         "name": "Canada",
         "showlegend": true,
         "type": "scattergeo"
        },
        {
         "geo": "geo",
         "hovertemplate": "<b>%{hovertext}</b><br><br>countries_clean=Italy<br>size=%{marker.size}<br>lat=%{lat}<br>lon=%{lon}<extra></extra>",
         "hovertext": [
          "Italy"
         ],
         "lat": {
          "bdata": "1zRK8rdRRUA=",
          "dtype": "f8"
         },
         "legendgroup": "Italy",
         "lon": {
          "bdata": "8pTVdD1ZKUA=",
          "dtype": "f8"
         },
         "marker": {
          "color": "#B6E880",
          "size": {
           "bdata": "AQ==",
           "dtype": "i1"
          },
          "sizemode": "area",
          "sizeref": 0.035,
          "symbol": "circle"
         },
         "mode": "markers",
         "name": "Italy",
         "showlegend": true,
         "type": "scattergeo"
        },
        {
         "geo": "geo",
         "hovertemplate": "<b>%{hovertext}</b><br><br>countries_clean=Massachusetts<br>size=%{marker.size}<br>lat=%{lat}<br>lon=%{lon}<extra></extra>",
         "hovertext": [
          "Massachusetts",
          "Massachusetts"
         ],
         "lat": {
          "bdata": "xRj9DX8wRUDFGP0NfzBFQA==",
          "dtype": "f8"
         },
         "legendgroup": "Massachusetts",
         "lon": {
          "bdata": "JuDXSBICUsAm4NdIEgJSwA==",
          "dtype": "f8"
         },
         "marker": {
          "color": "#FF97FF",
          "size": {
           "bdata": "AgI=",
           "dtype": "i1"
          },
          "sizemode": "area",
          "sizeref": 0.035,
          "symbol": "circle"
         },
         "mode": "markers",
         "name": "Massachusetts",
         "showlegend": true,
         "type": "scattergeo"
        },
        {
         "geo": "geo",
         "hovertemplate": "<b>%{hovertext}</b><br><br>countries_clean=Hungary<br>size=%{marker.size}<br>lat=%{lat}<br>lon=%{lon}<extra></extra>",
         "hovertext": [
          "Hungary"
         ],
         "lat": {
          "bdata": "kKLO3EOXR0A=",
          "dtype": "f8"
         },
         "legendgroup": "Hungary",
         "lon": {
          "bdata": "LjZSW4+BM0A=",
          "dtype": "f8"
         },
         "marker": {
          "color": "#FECB52",
          "size": {
           "bdata": "AQ==",
           "dtype": "i1"
          },
          "sizemode": "area",
          "sizeref": 0.035,
          "symbol": "circle"
         },
         "mode": "markers",
         "name": "Hungary",
         "showlegend": true,
         "type": "scattergeo"
        },
        {
         "geo": "geo",
         "hovertemplate": "<b>%{hovertext}</b><br><br>countries_clean=France<br>size=%{marker.size}<br>lat=%{lat}<br>lon=%{lon}<extra></extra>",
         "hovertext": [
          "France"
         ],
         "lat": {
          "bdata": "lfQwtDpNR0A=",
          "dtype": "f8"
         },
         "legendgroup": "France",
         "lon": {
          "bdata": "OQ8nMJ02/j8=",
          "dtype": "f8"
         },
         "marker": {
          "color": "#636efa",
          "size": {
           "bdata": "AQ==",
           "dtype": "i1"
          },
          "sizemode": "area",
          "sizeref": 0.035,
          "symbol": "circle"
         },
         "mode": "markers",
         "name": "France",
         "showlegend": true,
         "type": "scattergeo"
        },
        {
         "geo": "geo",
         "hovertemplate": "<b>%{hovertext}</b><br><br>countries_clean=Ohio<br>size=%{marker.size}<br>lat=%{lat}<br>lon=%{lon}<extra></extra>",
         "hovertext": [
          "Ohio",
          "Ohio",
          "Ohio"
         ],
         "lat": {
          "bdata": "x7axftgcREDHtrF+2BxEQMe2sX7YHERA",
          "dtype": "f8"
         },
         "legendgroup": "Ohio",
         "lon": {
          "bdata": "fuVBegqsVMB+5UF6CqxUwH7lQXoKrFTA",
          "dtype": "f8"
         },
         "marker": {
          "color": "#EF553B",
          "size": {
           "bdata": "AwMD",
           "dtype": "i1"
          },
          "sizemode": "area",
          "sizeref": 0.035,
          "symbol": "circle"
         },
         "mode": "markers",
         "name": "Ohio",
         "showlegend": true,
         "type": "scattergeo"
        },
        {
         "geo": "geo",
         "hovertemplate": "<b>%{hovertext}</b><br><br>countries_clean=South USA<br>size=%{marker.size}<br>lat=%{lat}<br>lon=%{lon}<extra></extra>",
         "hovertext": [
          "South USA"
         ],
         "lat": {
          "bdata": "W8EltnGLTEA=",
          "dtype": "f8"
         },
         "legendgroup": "South USA",
         "lon": {
          "bdata": "3CEPjiPoYMA=",
          "dtype": "f8"
         },
         "marker": {
          "color": "#00cc96",
          "size": {
           "bdata": "AQ==",
           "dtype": "i1"
          },
          "sizemode": "area",
          "sizeref": 0.035,
          "symbol": "circle"
         },
         "mode": "markers",
         "name": "South USA",
         "showlegend": true,
         "type": "scattergeo"
        },
        {
         "geo": "geo",
         "hovertemplate": "<b>%{hovertext}</b><br><br>countries_clean=West Australia<br>size=%{marker.size}<br>lat=%{lat}<br>lon=%{lon}<extra></extra>",
         "hovertext": [
          "West Australia"
         ],
         "lat": {
          "bdata": "PMCTFi76QcA=",
          "dtype": "f8"
         },
         "legendgroup": "West Australia",
         "lon": {
          "bdata": "bbR3oRTFYkA=",
          "dtype": "f8"
         },
         "marker": {
          "color": "#ab63fa",
          "size": {
           "bdata": "AQ==",
           "dtype": "i1"
          },
          "sizemode": "area",
          "sizeref": 0.035,
          "symbol": "circle"
         },
         "mode": "markers",
         "name": "West Australia",
         "showlegend": true,
         "type": "scattergeo"
        },
        {
         "geo": "geo",
         "hovertemplate": "<b>%{hovertext}</b><br><br>countries_clean=Israel<br>size=%{marker.size}<br>lat=%{lat}<br>lon=%{lon}<extra></extra>",
         "hovertext": [
          "Israel"
         ],
         "lat": {
          "bdata": "bvasEPvPPkA=",
          "dtype": "f8"
         },
         "legendgroup": "Israel",
         "lon": {
          "bdata": "XljtUANuQUA=",
          "dtype": "f8"
         },
         "marker": {
          "color": "#FFA15A",
          "size": {
           "bdata": "AQ==",
           "dtype": "i1"
          },
          "sizemode": "area",
          "sizeref": 0.035,
          "symbol": "circle"
         },
         "mode": "markers",
         "name": "Israel",
         "showlegend": true,
         "type": "scattergeo"
        },
        {
         "geo": "geo",
         "hovertemplate": "<b>%{hovertext}</b><br><br>countries_clean=Tanzania<br>size=%{marker.size}<br>lat=%{lat}<br>lon=%{lon}<extra></extra>",
         "hovertext": [
          "Tanzania"
         ],
         "lat": {
          "bdata": "WzxhLk4ZGsA=",
          "dtype": "f8"
         },
         "legendgroup": "Tanzania",
         "lon": {
          "bdata": "na3NENjkQUA=",
          "dtype": "f8"
         },
         "marker": {
          "color": "#19d3f3",
          "size": {
           "bdata": "AQ==",
           "dtype": "i1"
          },
          "sizemode": "area",
          "sizeref": 0.035,
          "symbol": "circle"
         },
         "mode": "markers",
         "name": "Tanzania",
         "showlegend": true,
         "type": "scattergeo"
        },
        {
         "geo": "geo",
         "hovertemplate": "<b>%{hovertext}</b><br><br>countries_clean=Tasmania<br>size=%{marker.size}<br>lat=%{lat}<br>lon=%{lon}<extra></extra>",
         "hovertext": [
          "Tasmania"
         ],
         "lat": {
          "bdata": "nBVRE30ERcA=",
          "dtype": "f8"
         },
         "legendgroup": "Tasmania",
         "lon": {
          "bdata": "cwf7wF9UYkA=",
          "dtype": "f8"
         },
         "marker": {
          "color": "#FF6692",
          "size": {
           "bdata": "AQ==",
           "dtype": "i1"
          },
          "sizemode": "area",
          "sizeref": 0.035,
          "symbol": "circle"
         },
         "mode": "markers",
         "name": "Tasmania",
         "showlegend": true,
         "type": "scattergeo"
        },
        {
         "geo": "geo",
         "hovertemplate": "<b>%{hovertext}</b><br><br>countries_clean=Manitoba<br>size=%{marker.size}<br>lat=%{lat}<br>lon=%{lon}<extra></extra>",
         "hovertext": [
          "Manitoba"
         ],
         "lat": {
          "bdata": "LQsm/iiAS0A=",
          "dtype": "f8"
         },
         "legendgroup": "Manitoba",
         "lon": {
          "bdata": "aAOwARFAWMA=",
          "dtype": "f8"
         },
         "marker": {
          "color": "#B6E880",
          "size": {
           "bdata": "AQ==",
           "dtype": "i1"
          },
          "sizemode": "area",
          "sizeref": 0.035,
          "symbol": "circle"
         },
         "mode": "markers",
         "name": "Manitoba",
         "showlegend": true,
         "type": "scattergeo"
        },
        {
         "geo": "geo",
         "hovertemplate": "<b>%{hovertext}</b><br><br>countries_clean=Alberta<br>size=%{marker.size}<br>lat=%{lat}<br>lon=%{lon}<extra></extra>",
         "hovertext": [
          "Alberta"
         ],
         "lat": {
          "bdata": "LQsm/iiAS0A=",
          "dtype": "f8"
         },
         "legendgroup": "Alberta",
         "lon": {
          "bdata": "O4kI/yLAXMA=",
          "dtype": "f8"
         },
         "marker": {
          "color": "#FF97FF",
          "size": {
           "bdata": "AQ==",
           "dtype": "i1"
          },
          "sizemode": "area",
          "sizeref": 0.035,
          "symbol": "circle"
         },
         "mode": "markers",
         "name": "Alberta",
         "showlegend": true,
         "type": "scattergeo"
        },
        {
         "geo": "geo",
         "hovertemplate": "<b>%{hovertext}</b><br><br>countries_clean=South Australia<br>size=%{marker.size}<br>lat=%{lat}<br>lon=%{lon}<extra></extra>",
         "hovertext": [
          "South Australia",
          "South Australia"
         ],
         "lat": {
          "bdata": "95MxPsyIPsD3kzE+zIg+wA==",
          "dtype": "f8"
         },
         "legendgroup": "South Australia",
         "lon": {
          "bdata": "hVDv8yn0YECFUO/zKfRgQA==",
          "dtype": "f8"
         },
         "marker": {
          "color": "#FECB52",
          "size": {
           "bdata": "AgI=",
           "dtype": "i1"
          },
          "sizemode": "area",
          "sizeref": 0.035,
          "symbol": "circle"
         },
         "mode": "markers",
         "name": "South Australia",
         "showlegend": true,
         "type": "scattergeo"
        },
        {
         "geo": "geo",
         "hovertemplate": "<b>%{hovertext}</b><br><br>countries_clean=Ontario<br>size=%{marker.size}<br>lat=%{lat}<br>lon=%{lon}<extra></extra>",
         "hovertext": [
          "Ontario"
         ],
         "lat": {
          "bdata": "0el5NxYASUA=",
          "dtype": "f8"
         },
         "legendgroup": "Ontario",
         "lon": {
          "bdata": "FsPVARCAVcA=",
          "dtype": "f8"
         },
         "marker": {
          "color": "#636efa",
          "size": {
           "bdata": "AQ==",
           "dtype": "i1"
          },
          "sizemode": "area",
          "sizeref": 0.035,
          "symbol": "circle"
         },
         "mode": "markers",
         "name": "Ontario",
         "showlegend": true,
         "type": "scattergeo"
        },
        {
         "geo": "geo",
         "hovertemplate": "<b>%{hovertext}</b><br><br>countries_clean=Arkansas<br>size=%{marker.size}<br>lat=%{lat}<br>lon=%{lon}<extra></extra>",
         "hovertext": [
          "Arkansas"
         ],
         "lat": {
          "bdata": "oeqhxzmaQUA=",
          "dtype": "f8"
         },
         "legendgroup": "Arkansas",
         "lon": {
          "bdata": "nWEPkqocV8A=",
          "dtype": "f8"
         },
         "marker": {
          "color": "#EF553B",
          "size": {
           "bdata": "AQ==",
           "dtype": "i1"
          },
          "sizemode": "area",
          "sizeref": 0.035,
          "symbol": "circle"
         },
         "mode": "markers",
         "name": "Arkansas",
         "showlegend": true,
         "type": "scattergeo"
        },
        {
         "geo": "geo",
         "hovertemplate": "<b>%{hovertext}</b><br><br>countries_clean=California<br>size=%{marker.size}<br>lat=%{lat}<br>lon=%{lon}<extra></extra>",
         "hovertext": [
          "California"
         ],
         "lat": {
          "bdata": "5uz4islZQkA=",
          "dtype": "f8"
         },
         "legendgroup": "California",
         "lon": {
          "bdata": "8bc9QWKwXcA=",
          "dtype": "f8"
         },
         "marker": {
          "color": "#00cc96",
          "size": {
           "bdata": "AQ==",
           "dtype": "i1"
          },
          "sizemode": "area",
          "sizeref": 0.035,
          "symbol": "circle"
         },
         "mode": "markers",
         "name": "California",
         "showlegend": true,
         "type": "scattergeo"
        },
        {
         "geo": "geo",
         "hovertemplate": "<b>%{hovertext}</b><br><br>countries_clean=Georgia<br>size=%{marker.size}<br>lat=%{lat}<br>lon=%{lon}<extra></extra>",
         "hovertext": [
          "Georgia"
         ],
         "lat": {
          "bdata": "qbZAJykqQEA=",
          "dtype": "f8"
         },
         "legendgroup": "Georgia",
         "lon": {
          "bdata": "7VbgdUfHVMA=",
          "dtype": "f8"
         },
         "marker": {
          "color": "#ab63fa",
          "size": {
           "bdata": "AQ==",
           "dtype": "i1"
          },
          "sizemode": "area",
          "sizeref": 0.035,
          "symbol": "circle"
         },
         "mode": "markers",
         "name": "Georgia",
         "showlegend": true,
         "type": "scattergeo"
        },
        {
         "geo": "geo",
         "hovertemplate": "<b>%{hovertext}</b><br><br>countries_clean=Iowa<br>size=%{marker.size}<br>lat=%{lat}<br>lon=%{lon}<extra></extra>",
         "hovertext": [
          "Iowa"
         ],
         "lat": {
          "bdata": "7EvbZPn1REA=",
          "dtype": "f8"
         },
         "legendgroup": "Iowa",
         "lon": {
          "bdata": "W0BoPfxTV8A=",
          "dtype": "f8"
         },
         "marker": {
          "color": "#FFA15A",
          "size": {
           "bdata": "AQ==",
           "dtype": "i1"
          },
          "sizemode": "area",
          "sizeref": 0.035,
          "symbol": "circle"
         },
         "mode": "markers",
         "name": "Iowa",
         "showlegend": true,
         "type": "scattergeo"
        },
        {
         "geo": "geo",
         "hovertemplate": "<b>%{hovertext}</b><br><br>countries_clean=Minnesota<br>size=%{marker.size}<br>lat=%{lat}<br>lon=%{lon}<extra></extra>",
         "hovertext": [
          "Minnesota"
         ],
         "lat": {
          "bdata": "11njIq3+RkA=",
          "dtype": "f8"
         },
         "legendgroup": "Minnesota",
         "lon": {
          "bdata": "lsbUAiCnV8A=",
          "dtype": "f8"
         },
         "marker": {
          "color": "#19d3f3",
          "size": {
           "bdata": "AQ==",
           "dtype": "i1"
          },
          "sizemode": "area",
          "sizeref": 0.035,
          "symbol": "circle"
         },
         "mode": "markers",
         "name": "Minnesota",
         "showlegend": true,
         "type": "scattergeo"
        },
        {
         "geo": "geo",
         "hovertemplate": "<b>%{hovertext}</b><br><br>countries_clean=Wisconsin<br>size=%{marker.size}<br>lat=%{lat}<br>lon=%{lon}<extra></extra>",
         "hovertext": [
          "Wisconsin"
         ],
         "lat": {
          "bdata": "zjY3pic3RkA=",
          "dtype": "f8"
         },
         "legendgroup": "Wisconsin",
         "lon": {
          "bdata": "7P4Myg9sVsA=",
          "dtype": "f8"
         },
         "marker": {
          "color": "#FF6692",
          "size": {
           "bdata": "AQ==",
           "dtype": "i1"
          },
          "sizemode": "area",
          "sizeref": 0.035,
          "symbol": "circle"
         },
         "mode": "markers",
         "name": "Wisconsin",
         "showlegend": true,
         "type": "scattergeo"
        },
        {
         "geo": "geo",
         "hovertemplate": "<b>%{hovertext}</b><br><br>countries_clean=Malawi<br>size=%{marker.size}<br>lat=%{lat}<br>lon=%{lon}<extra></extra>",
         "hovertext": [
          "Malawi"
         ],
         "lat": {
          "bdata": "PIljuJWJKsA=",
          "dtype": "f8"
         },
         "legendgroup": "Malawi",
         "lon": {
          "bdata": "G64frBD3QEA=",
          "dtype": "f8"
         },
         "marker": {
          "color": "#B6E880",
          "size": {
           "bdata": "AQ==",
           "dtype": "i1"
          },
          "sizemode": "area",
          "sizeref": 0.035,
          "symbol": "circle"
         },
         "mode": "markers",
         "name": "Malawi",
         "showlegend": true,
         "type": "scattergeo"
        }
       ],
       "layout": {
        "geo": {
         "center": {},
         "coastlinecolor": "gray",
         "domain": {
          "x": [
           0,
           1
          ],
          "y": [
           0,
           1
          ]
         },
         "landcolor": "lightgray",
         "projection": {
          "type": "natural earth"
         },
         "showcoastlines": true,
         "showcountries": false,
         "showland": true
        },
        "legend": {
         "itemsizing": "constant",
         "title": {
          "text": "Region"
         },
         "tracegroupgap": 0
        },
        "margin": {
         "b": 0,
         "l": 0,
         "r": 0,
         "t": 30
        },
        "template": {
         "data": {
          "bar": [
           {
            "error_x": {
             "color": "#2a3f5f"
            },
            "error_y": {
             "color": "#2a3f5f"
            },
            "marker": {
             "line": {
              "color": "#E5ECF6",
              "width": 0.5
             },
             "pattern": {
              "fillmode": "overlay",
              "size": 10,
              "solidity": 0.2
             }
            },
            "type": "bar"
           }
          ],
          "barpolar": [
           {
            "marker": {
             "line": {
              "color": "#E5ECF6",
              "width": 0.5
             },
             "pattern": {
              "fillmode": "overlay",
              "size": 10,
              "solidity": 0.2
             }
            },
            "type": "barpolar"
           }
          ],
          "carpet": [
           {
            "aaxis": {
             "endlinecolor": "#2a3f5f",
             "gridcolor": "white",
             "linecolor": "white",
             "minorgridcolor": "white",
             "startlinecolor": "#2a3f5f"
            },
            "baxis": {
             "endlinecolor": "#2a3f5f",
             "gridcolor": "white",
             "linecolor": "white",
             "minorgridcolor": "white",
             "startlinecolor": "#2a3f5f"
            },
            "type": "carpet"
           }
          ],
          "choropleth": [
           {
            "colorbar": {
             "outlinewidth": 0,
             "ticks": ""
            },
            "type": "choropleth"
           }
          ],
          "contour": [
           {
            "colorbar": {
             "outlinewidth": 0,
             "ticks": ""
            },
            "colorscale": [
             [
              0,
              "#0d0887"
             ],
             [
              0.1111111111111111,
              "#46039f"
             ],
             [
              0.2222222222222222,
              "#7201a8"
             ],
             [
              0.3333333333333333,
              "#9c179e"
             ],
             [
              0.4444444444444444,
              "#bd3786"
             ],
             [
              0.5555555555555556,
              "#d8576b"
             ],
             [
              0.6666666666666666,
              "#ed7953"
             ],
             [
              0.7777777777777778,
              "#fb9f3a"
             ],
             [
              0.8888888888888888,
              "#fdca26"
             ],
             [
              1,
              "#f0f921"
             ]
            ],
            "type": "contour"
           }
          ],
          "contourcarpet": [
           {
            "colorbar": {
             "outlinewidth": 0,
             "ticks": ""
            },
            "type": "contourcarpet"
           }
          ],
          "heatmap": [
           {
            "colorbar": {
             "outlinewidth": 0,
             "ticks": ""
            },
            "colorscale": [
             [
              0,
              "#0d0887"
             ],
             [
              0.1111111111111111,
              "#46039f"
             ],
             [
              0.2222222222222222,
              "#7201a8"
             ],
             [
              0.3333333333333333,
              "#9c179e"
             ],
             [
              0.4444444444444444,
              "#bd3786"
             ],
             [
              0.5555555555555556,
              "#d8576b"
             ],
             [
              0.6666666666666666,
              "#ed7953"
             ],
             [
              0.7777777777777778,
              "#fb9f3a"
             ],
             [
              0.8888888888888888,
              "#fdca26"
             ],
             [
              1,
              "#f0f921"
             ]
            ],
            "type": "heatmap"
           }
          ],
          "histogram": [
           {
            "marker": {
             "pattern": {
              "fillmode": "overlay",
              "size": 10,
              "solidity": 0.2
             }
            },
            "type": "histogram"
           }
          ],
          "histogram2d": [
           {
            "colorbar": {
             "outlinewidth": 0,
             "ticks": ""
            },
            "colorscale": [
             [
              0,
              "#0d0887"
             ],
             [
              0.1111111111111111,
              "#46039f"
             ],
             [
              0.2222222222222222,
              "#7201a8"
             ],
             [
              0.3333333333333333,
              "#9c179e"
             ],
             [
              0.4444444444444444,
              "#bd3786"
             ],
             [
              0.5555555555555556,
              "#d8576b"
             ],
             [
              0.6666666666666666,
              "#ed7953"
             ],
             [
              0.7777777777777778,
              "#fb9f3a"
             ],
             [
              0.8888888888888888,
              "#fdca26"
             ],
             [
              1,
              "#f0f921"
             ]
            ],
            "type": "histogram2d"
           }
          ],
          "histogram2dcontour": [
           {
            "colorbar": {
             "outlinewidth": 0,
             "ticks": ""
            },
            "colorscale": [
             [
              0,
              "#0d0887"
             ],
             [
              0.1111111111111111,
              "#46039f"
             ],
             [
              0.2222222222222222,
              "#7201a8"
             ],
             [
              0.3333333333333333,
              "#9c179e"
             ],
             [
              0.4444444444444444,
              "#bd3786"
             ],
             [
              0.5555555555555556,
              "#d8576b"
             ],
             [
              0.6666666666666666,
              "#ed7953"
             ],
             [
              0.7777777777777778,
              "#fb9f3a"
             ],
             [
              0.8888888888888888,
              "#fdca26"
             ],
             [
              1,
              "#f0f921"
             ]
            ],
            "type": "histogram2dcontour"
           }
          ],
          "mesh3d": [
           {
            "colorbar": {
             "outlinewidth": 0,
             "ticks": ""
            },
            "type": "mesh3d"
           }
          ],
          "parcoords": [
           {
            "line": {
             "colorbar": {
              "outlinewidth": 0,
              "ticks": ""
             }
            },
            "type": "parcoords"
           }
          ],
          "pie": [
           {
            "automargin": true,
            "type": "pie"
           }
          ],
          "scatter": [
           {
            "fillpattern": {
             "fillmode": "overlay",
             "size": 10,
             "solidity": 0.2
            },
            "type": "scatter"
           }
          ],
          "scatter3d": [
           {
            "line": {
             "colorbar": {
              "outlinewidth": 0,
              "ticks": ""
             }
            },
            "marker": {
             "colorbar": {
              "outlinewidth": 0,
              "ticks": ""
             }
            },
            "type": "scatter3d"
           }
          ],
          "scattercarpet": [
           {
            "marker": {
             "colorbar": {
              "outlinewidth": 0,
              "ticks": ""
             }
            },
            "type": "scattercarpet"
           }
          ],
          "scattergeo": [
           {
            "marker": {
             "colorbar": {
              "outlinewidth": 0,
              "ticks": ""
             }
            },
            "type": "scattergeo"
           }
          ],
          "scattergl": [
           {
            "marker": {
             "colorbar": {
              "outlinewidth": 0,
              "ticks": ""
             }
            },
            "type": "scattergl"
           }
          ],
          "scattermap": [
           {
            "marker": {
             "colorbar": {
              "outlinewidth": 0,
              "ticks": ""
             }
            },
            "type": "scattermap"
           }
          ],
          "scattermapbox": [
           {
            "marker": {
             "colorbar": {
              "outlinewidth": 0,
              "ticks": ""
             }
            },
            "type": "scattermapbox"
           }
          ],
          "scatterpolar": [
           {
            "marker": {
             "colorbar": {
              "outlinewidth": 0,
              "ticks": ""
             }
            },
            "type": "scatterpolar"
           }
          ],
          "scatterpolargl": [
           {
            "marker": {
             "colorbar": {
              "outlinewidth": 0,
              "ticks": ""
             }
            },
            "type": "scatterpolargl"
           }
          ],
          "scatterternary": [
           {
            "marker": {
             "colorbar": {
              "outlinewidth": 0,
              "ticks": ""
             }
            },
            "type": "scatterternary"
           }
          ],
          "surface": [
           {
            "colorbar": {
             "outlinewidth": 0,
             "ticks": ""
            },
            "colorscale": [
             [
              0,
              "#0d0887"
             ],
             [
              0.1111111111111111,
              "#46039f"
             ],
             [
              0.2222222222222222,
              "#7201a8"
             ],
             [
              0.3333333333333333,
              "#9c179e"
             ],
             [
              0.4444444444444444,
              "#bd3786"
             ],
             [
              0.5555555555555556,
              "#d8576b"
             ],
             [
              0.6666666666666666,
              "#ed7953"
             ],
             [
              0.7777777777777778,
              "#fb9f3a"
             ],
             [
              0.8888888888888888,
              "#fdca26"
             ],
             [
              1,
              "#f0f921"
             ]
            ],
            "type": "surface"
           }
          ],
          "table": [
           {
            "cells": {
             "fill": {
              "color": "#EBF0F8"
             },
             "line": {
              "color": "white"
             }
            },
            "header": {
             "fill": {
              "color": "#C8D4E3"
             },
             "line": {
              "color": "white"
             }
            },
            "type": "table"
           }
          ]
         },
         "layout": {
          "annotationdefaults": {
           "arrowcolor": "#2a3f5f",
           "arrowhead": 0,
           "arrowwidth": 1
          },
          "autotypenumbers": "strict",
          "coloraxis": {
           "colorbar": {
            "outlinewidth": 0,
            "ticks": ""
           }
          },
          "colorscale": {
           "diverging": [
            [
             0,
             "#8e0152"
            ],
            [
             0.1,
             "#c51b7d"
            ],
            [
             0.2,
             "#de77ae"
            ],
            [
             0.3,
             "#f1b6da"
            ],
            [
             0.4,
             "#fde0ef"
            ],
            [
             0.5,
             "#f7f7f7"
            ],
            [
             0.6,
             "#e6f5d0"
            ],
            [
             0.7,
             "#b8e186"
            ],
            [
             0.8,
             "#7fbc41"
            ],
            [
             0.9,
             "#4d9221"
            ],
            [
             1,
             "#276419"
            ]
           ],
           "sequential": [
            [
             0,
             "#0d0887"
            ],
            [
             0.1111111111111111,
             "#46039f"
            ],
            [
             0.2222222222222222,
             "#7201a8"
            ],
            [
             0.3333333333333333,
             "#9c179e"
            ],
            [
             0.4444444444444444,
             "#bd3786"
            ],
            [
             0.5555555555555556,
             "#d8576b"
            ],
            [
             0.6666666666666666,
             "#ed7953"
            ],
            [
             0.7777777777777778,
             "#fb9f3a"
            ],
            [
             0.8888888888888888,
             "#fdca26"
            ],
            [
             1,
             "#f0f921"
            ]
           ],
           "sequentialminus": [
            [
             0,
             "#0d0887"
            ],
            [
             0.1111111111111111,
             "#46039f"
            ],
            [
             0.2222222222222222,
             "#7201a8"
            ],
            [
             0.3333333333333333,
             "#9c179e"
            ],
            [
             0.4444444444444444,
             "#bd3786"
            ],
            [
             0.5555555555555556,
             "#d8576b"
            ],
            [
             0.6666666666666666,
             "#ed7953"
            ],
            [
             0.7777777777777778,
             "#fb9f3a"
            ],
            [
             0.8888888888888888,
             "#fdca26"
            ],
            [
             1,
             "#f0f921"
            ]
           ]
          },
          "colorway": [
           "#636efa",
           "#EF553B",
           "#00cc96",
           "#ab63fa",
           "#FFA15A",
           "#19d3f3",
           "#FF6692",
           "#B6E880",
           "#FF97FF",
           "#FECB52"
          ],
          "font": {
           "color": "#2a3f5f"
          },
          "geo": {
           "bgcolor": "white",
           "lakecolor": "white",
           "landcolor": "#E5ECF6",
           "showlakes": true,
           "showland": true,
           "subunitcolor": "white"
          },
          "hoverlabel": {
           "align": "left"
          },
          "hovermode": "closest",
          "mapbox": {
           "style": "light"
          },
          "paper_bgcolor": "white",
          "plot_bgcolor": "#E5ECF6",
          "polar": {
           "angularaxis": {
            "gridcolor": "white",
            "linecolor": "white",
            "ticks": ""
           },
           "bgcolor": "#E5ECF6",
           "radialaxis": {
            "gridcolor": "white",
            "linecolor": "white",
            "ticks": ""
           }
          },
          "scene": {
           "xaxis": {
            "backgroundcolor": "#E5ECF6",
            "gridcolor": "white",
            "gridwidth": 2,
            "linecolor": "white",
            "showbackground": true,
            "ticks": "",
            "zerolinecolor": "white"
           },
           "yaxis": {
            "backgroundcolor": "#E5ECF6",
            "gridcolor": "white",
            "gridwidth": 2,
            "linecolor": "white",
            "showbackground": true,
            "ticks": "",
            "zerolinecolor": "white"
           },
           "zaxis": {
            "backgroundcolor": "#E5ECF6",
            "gridcolor": "white",
            "gridwidth": 2,
            "linecolor": "white",
            "showbackground": true,
            "ticks": "",
            "zerolinecolor": "white"
           }
          },
          "shapedefaults": {
           "line": {
            "color": "#2a3f5f"
           }
          },
          "ternary": {
           "aaxis": {
            "gridcolor": "white",
            "linecolor": "white",
            "ticks": ""
           },
           "baxis": {
            "gridcolor": "white",
            "linecolor": "white",
            "ticks": ""
           },
           "bgcolor": "#E5ECF6",
           "caxis": {
            "gridcolor": "white",
            "linecolor": "white",
            "ticks": ""
           }
          },
          "title": {
           "x": 0.05
          },
          "xaxis": {
           "automargin": true,
           "gridcolor": "white",
           "linecolor": "white",
           "ticks": "",
           "title": {
            "standoff": 15
           },
           "zerolinecolor": "white",
           "zerolinewidth": 2
          },
          "yaxis": {
           "automargin": true,
           "gridcolor": "white",
           "linecolor": "white",
           "ticks": "",
           "title": {
            "standoff": 15
           },
           "zerolinecolor": "white",
           "zerolinewidth": 2
          }
         }
        },
        "title": {
         "text": "World Map with Colored and Scaled Bubbles by Region"
        }
       }
      }
     },
     "metadata": {},
     "output_type": "display_data"
    }
   ],
   "source": [
    "import plotly.express as px\n",
    "\n",
    "fig = px.scatter_geo(\n",
    "    df_exploded,\n",
    "    lat='lat',\n",
    "    lon='lon',\n",
    "    hover_name='countries_clean',  # Appears on hover only\n",
    "    color='countries_clean',                # Colors by region\n",
    "    size='size',                  # Bubble size\n",
    "    projection=\"natural earth\",\n",
    "    title=\"World Map with Colored and Scaled Bubbles by Region\"\n",
    ")\n",
    "\n",
    "# Hide country labels and customize map appearance\n",
    "fig.update_geos(\n",
    "    showcountries=False,\n",
    "    showland=True,\n",
    "    landcolor=\"lightgray\",\n",
    "    showcoastlines=True,\n",
    "    coastlinecolor=\"gray\"\n",
    ")\n",
    "\n",
    "# Customize layout and legend appearance\n",
    "fig.update_layout(\n",
    "    legend_title_text='Region',\n",
    "    margin={\"r\":0,\"t\":30,\"l\":0,\"b\":0}\n",
    ")\n",
    "\n",
    "# Save and show\n",
    "# fig.write_image(\"maps/pprl_map_colored_iii.png\", scale=2)\n",
    "fig.write_html(\"maps/pprl_map_colored_iii.html\")\n",
    "fig.show()"
   ]
  },
  {
   "cell_type": "code",
   "execution_count": 12,
   "id": "ad3085d0-6dc2-49d5-9600-faac2a0c1292",
   "metadata": {},
   "outputs": [],
   "source": [
    "# import kaleido\n",
    "# print(\"Kaleido is working!\")"
   ]
  },
  {
   "cell_type": "markdown",
   "id": "a55fae40-28ff-438c-91fc-2369c95b39de",
   "metadata": {},
   "source": [
    "### Top 12 countries"
   ]
  },
  {
   "cell_type": "code",
   "execution_count": 22,
   "id": "15fd7053-c1c6-44e8-86fe-edd6489a7dd5",
   "metadata": {},
   "outputs": [
    {
     "data": {
      "text/html": [
       "<style type=\"text/css\">\n",
       "#T_00a5b caption {\n",
       "  color: #2a3f5f;\n",
       "  font-size: 18px;\n",
       "  font-weight: bold;\n",
       "  text-align: center;\n",
       "}\n",
       "#T_00a5b th {\n",
       "  background-color: #f2f2f2;\n",
       "  font-size: 14px;\n",
       "  text-align: center;\n",
       "}\n",
       "#T_00a5b td:nth-child(1) {\n",
       "  text-align: left;\n",
       "  min-width: 200px;\n",
       "}\n",
       "#T_00a5b td:nth-child(2) {\n",
       "  text-align: center;\n",
       "  min-width: 100px;\n",
       "}\n",
       "</style>\n",
       "<table id=\"T_00a5b\">\n",
       "  <caption>Top 12 Countries with Most Record Linkage Work</caption>\n",
       "  <thead>\n",
       "    <tr>\n",
       "      <th id=\"T_00a5b_level0_col0\" class=\"col_heading level0 col0\" >countries_clean</th>\n",
       "      <th id=\"T_00a5b_level0_col1\" class=\"col_heading level0 col1\" >size</th>\n",
       "    </tr>\n",
       "  </thead>\n",
       "  <tbody>\n",
       "    <tr>\n",
       "      <td id=\"T_00a5b_row0_col0\" class=\"data row0 col0\" >Germany</td>\n",
       "      <td id=\"T_00a5b_row0_col1\" class=\"data row0 col1\" >14</td>\n",
       "    </tr>\n",
       "    <tr>\n",
       "      <td id=\"T_00a5b_row1_col0\" class=\"data row1 col0\" >Wales</td>\n",
       "      <td id=\"T_00a5b_row1_col1\" class=\"data row1 col1\" >13</td>\n",
       "    </tr>\n",
       "    <tr>\n",
       "      <td id=\"T_00a5b_row2_col0\" class=\"data row2 col0\" >New South Wales</td>\n",
       "      <td id=\"T_00a5b_row2_col1\" class=\"data row2 col1\" >10</td>\n",
       "    </tr>\n",
       "    <tr>\n",
       "      <td id=\"T_00a5b_row3_col0\" class=\"data row3 col0\" >England</td>\n",
       "      <td id=\"T_00a5b_row3_col1\" class=\"data row3 col1\" >9</td>\n",
       "    </tr>\n",
       "    <tr>\n",
       "      <td id=\"T_00a5b_row4_col0\" class=\"data row4 col0\" >Western Australia</td>\n",
       "      <td id=\"T_00a5b_row4_col1\" class=\"data row4 col1\" >8</td>\n",
       "    </tr>\n",
       "    <tr>\n",
       "      <td id=\"T_00a5b_row5_col0\" class=\"data row5 col0\" >New York</td>\n",
       "      <td id=\"T_00a5b_row5_col1\" class=\"data row5 col1\" >6</td>\n",
       "    </tr>\n",
       "    <tr>\n",
       "      <td id=\"T_00a5b_row6_col0\" class=\"data row6 col0\" >Japan</td>\n",
       "      <td id=\"T_00a5b_row6_col1\" class=\"data row6 col1\" >5</td>\n",
       "    </tr>\n",
       "    <tr>\n",
       "      <td id=\"T_00a5b_row7_col0\" class=\"data row7 col0\" >South Africa</td>\n",
       "      <td id=\"T_00a5b_row7_col1\" class=\"data row7 col1\" >5</td>\n",
       "    </tr>\n",
       "    <tr>\n",
       "      <td id=\"T_00a5b_row8_col0\" class=\"data row8 col0\" >Scotland</td>\n",
       "      <td id=\"T_00a5b_row8_col1\" class=\"data row8 col1\" >5</td>\n",
       "    </tr>\n",
       "    <tr>\n",
       "      <td id=\"T_00a5b_row9_col0\" class=\"data row9 col0\" >United Kingdom</td>\n",
       "      <td id=\"T_00a5b_row9_col1\" class=\"data row9 col1\" >5</td>\n",
       "    </tr>\n",
       "    <tr>\n",
       "      <td id=\"T_00a5b_row10_col0\" class=\"data row10 col0\" >North Carolina</td>\n",
       "      <td id=\"T_00a5b_row10_col1\" class=\"data row10 col1\" >5</td>\n",
       "    </tr>\n",
       "    <tr>\n",
       "      <td id=\"T_00a5b_row11_col0\" class=\"data row11 col0\" >Finland</td>\n",
       "      <td id=\"T_00a5b_row11_col1\" class=\"data row11 col1\" >4</td>\n",
       "    </tr>\n",
       "  </tbody>\n",
       "</table>\n"
      ],
      "text/plain": [
       "<pandas.io.formats.style.Styler at 0x1963a2bc8b0>"
      ]
     },
     "execution_count": 22,
     "metadata": {},
     "output_type": "execute_result"
    }
   ],
   "source": [
    "# Get top 12 countries sorted by size\n",
    "top_12_countries = size_df.sort_values(by='size', ascending=False).head(12)\n",
    "\n",
    "# Styled Pandas Table with formatting\n",
    "styled_table = top_12_countries.style \\\n",
    "    .set_caption(\"Top 12 Countries with Most Record Linkage Work\") \\\n",
    "    .hide(axis=\"index\") \\\n",
    "    .set_table_styles([\n",
    "        {'selector': 'caption', 'props': [('color', '#2a3f5f'),\n",
    "                                          ('font-size', '18px'),\n",
    "                                          ('font-weight', 'bold'),\n",
    "                                          ('text-align', 'center')]},\n",
    "        {'selector': 'th', 'props': [('background-color', '#f2f2f2'),\n",
    "                                     ('font-size', '14px'),\n",
    "                                     ('text-align', 'center')]},\n",
    "        {'selector': 'td:nth-child(1)', 'props': [('text-align', 'left'), ('min-width', '200px')]},\n",
    "        {'selector': 'td:nth-child(2)', 'props': [('text-align', 'center'), ('min-width', '100px')]}\n",
    "    ]) \\\n",
    "    .format({'size': '{:,}'})\n",
    "\n",
    "\n",
    "styled_table\n"
   ]
  },
  {
   "cell_type": "markdown",
   "id": "7c56606a-b311-4459-b07d-f6edde6f9c26",
   "metadata": {},
   "source": [
    "### Export styled table"
   ]
  },
  {
   "cell_type": "code",
   "execution_count": 23,
   "id": "d40e123a-aad1-495f-ab2a-160be7226940",
   "metadata": {},
   "outputs": [],
   "source": [
    "with open(\"maps/top_12_countries.html\", \"w\") as f:\n",
    "    f.write(styled_table.to_html())"
   ]
  },
  {
   "cell_type": "markdown",
   "id": "5c08693c-9891-4bee-970b-b15c00175ea9",
   "metadata": {},
   "source": [
    "### End of the maps"
   ]
  }
 ],
 "metadata": {
  "kernelspec": {
   "display_name": "Python 3 (ipykernel)",
   "language": "python",
   "name": "python3"
  },
  "language_info": {
   "codemirror_mode": {
    "name": "ipython",
    "version": 3
   },
   "file_extension": ".py",
   "mimetype": "text/x-python",
   "name": "python",
   "nbconvert_exporter": "python",
   "pygments_lexer": "ipython3",
   "version": "3.9.19"
  }
 },
 "nbformat": 4,
 "nbformat_minor": 5
}
