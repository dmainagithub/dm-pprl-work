{
 "cells": [
  {
   "cell_type": "code",
   "execution_count": 60,
   "id": "d0195848-800d-4cfb-a7c4-4adddad48919",
   "metadata": {},
   "outputs": [],
   "source": [
    "# !pip install -U kaleido\n",
    "# !pip install --upgrade plotly"
   ]
  },
  {
   "cell_type": "markdown",
   "id": "3bafc0f8-56e5-4b95-bfb5-e593b2a0d392",
   "metadata": {},
   "source": [
    "### Import Libraries"
   ]
  },
  {
   "cell_type": "code",
   "execution_count": 1,
   "id": "775829a1-a147-4639-95e8-d2f62395047e",
   "metadata": {},
   "outputs": [],
   "source": [
    "import pandas as pd\n",
    "from matplotlib import pyplot as plt \n",
    "from geopy.geocoders import Nominatim\n",
    "from time import sleep"
   ]
  },
  {
   "cell_type": "markdown",
   "id": "6efeb001-2606-43b1-a1e7-22cf5cbaed12",
   "metadata": {},
   "source": [
    "### Import data"
   ]
  },
  {
   "cell_type": "code",
   "execution_count": 2,
   "id": "c6146709-6388-411e-8100-db270b58f38c",
   "metadata": {},
   "outputs": [
    {
     "data": {
      "text/html": [
       "<div>\n",
       "<style scoped>\n",
       "    .dataframe tbody tr th:only-of-type {\n",
       "        vertical-align: middle;\n",
       "    }\n",
       "\n",
       "    .dataframe tbody tr th {\n",
       "        vertical-align: top;\n",
       "    }\n",
       "\n",
       "    .dataframe thead th {\n",
       "        text-align: right;\n",
       "    }\n",
       "</style>\n",
       "<table border=\"1\" class=\"dataframe\">\n",
       "  <thead>\n",
       "    <tr style=\"text-align: right;\">\n",
       "      <th></th>\n",
       "      <th>search_no</th>\n",
       "      <th>study_title</th>\n",
       "      <th>link</th>\n",
       "      <th>geographic_region</th>\n",
       "      <th>state_country</th>\n",
       "      <th>city</th>\n",
       "      <th>evaluation</th>\n",
       "      <th>date_done</th>\n",
       "      <th>year</th>\n",
       "      <th>topic</th>\n",
       "      <th>...</th>\n",
       "      <th>More explanation on AIMS</th>\n",
       "      <th>Sections</th>\n",
       "      <th>Authors</th>\n",
       "      <th>Skimming_through_scanning</th>\n",
       "      <th>fulltext</th>\n",
       "      <th>mendeley_zotero</th>\n",
       "      <th>citations</th>\n",
       "      <th>Authors_x</th>\n",
       "      <th>Databases</th>\n",
       "      <th>author_affiliation</th>\n",
       "    </tr>\n",
       "  </thead>\n",
       "  <tbody>\n",
       "    <tr>\n",
       "      <th>0</th>\n",
       "      <td>828144128180</td>\n",
       "      <td>NaN</td>\n",
       "      <td>https://doi.org/</td>\n",
       "      <td>NaN</td>\n",
       "      <td>NaN</td>\n",
       "      <td>NaN</td>\n",
       "      <td>NaN</td>\n",
       "      <td>NaN</td>\n",
       "      <td>NaN</td>\n",
       "      <td>NaN</td>\n",
       "      <td>...</td>\n",
       "      <td>NaN</td>\n",
       "      <td>NaN</td>\n",
       "      <td>NaN</td>\n",
       "      <td>NaN</td>\n",
       "      <td>NaN</td>\n",
       "      <td>NaN</td>\n",
       "      <td>NaN</td>\n",
       "      <td>NaN</td>\n",
       "      <td>NaN</td>\n",
       "      <td>NaN</td>\n",
       "    </tr>\n",
       "    <tr>\n",
       "      <th>1</th>\n",
       "      <td>828144128646</td>\n",
       "      <td>Protecting the Privacy of Cancer Patients Usin...</td>\n",
       "      <td>https://doi.org/10.31557/APJCP.2019.20.5.1437</td>\n",
       "      <td>None;</td>\n",
       "      <td>NaN</td>\n",
       "      <td>NaN</td>\n",
       "      <td>NaN</td>\n",
       "      <td>8/24/2025</td>\n",
       "      <td>2019.0</td>\n",
       "      <td>blocking based techniques; sensitive rules;</td>\n",
       "      <td>...</td>\n",
       "      <td>NaN</td>\n",
       "      <td>NaN</td>\n",
       "      <td>Krishnamoorthy S</td>\n",
       "      <td>NaN</td>\n",
       "      <td>NaN</td>\n",
       "      <td>NaN</td>\n",
       "      <td>Asian Pac J Cancer Prev. 2019 May 25;20(5):143...</td>\n",
       "      <td>Krishnamoorthy S</td>\n",
       "      <td>Asian Pac J Cancer Prev</td>\n",
       "      <td>NaN</td>\n",
       "    </tr>\n",
       "    <tr>\n",
       "      <th>2</th>\n",
       "      <td>828144128141</td>\n",
       "      <td>Identifying cerebral palsy from routinely-coll...</td>\n",
       "      <td>https://doi.org/10.2147/CLEP.S200748</td>\n",
       "      <td>Europe;</td>\n",
       "      <td>England; Wales;</td>\n",
       "      <td>England; Wales;</td>\n",
       "      <td>general-info</td>\n",
       "      <td>8/24/2025</td>\n",
       "      <td>2019.0</td>\n",
       "      <td>prevalence; Prevalence estimates; cerebral pal...</td>\n",
       "      <td>...</td>\n",
       "      <td>NaN</td>\n",
       "      <td>NaN</td>\n",
       "      <td>NaN</td>\n",
       "      <td>NaN</td>\n",
       "      <td>NaN</td>\n",
       "      <td>NaN</td>\n",
       "      <td>NaN</td>\n",
       "      <td>NaN</td>\n",
       "      <td>NaN</td>\n",
       "      <td>NaN</td>\n",
       "    </tr>\n",
       "    <tr>\n",
       "      <th>3</th>\n",
       "      <td>828144128853</td>\n",
       "      <td>Using national laboratory data to assess cumul...</td>\n",
       "      <td>https://doi.org/10.1002/jia2.25326</td>\n",
       "      <td>Africa;</td>\n",
       "      <td>South Africa</td>\n",
       "      <td>Durban, South Africa;</td>\n",
       "      <td>general-info</td>\n",
       "      <td>8/24/2025</td>\n",
       "      <td>2019.0</td>\n",
       "      <td>PEPFAR-funded HIV clinic; government-funded cl...</td>\n",
       "      <td>...</td>\n",
       "      <td>NaN</td>\n",
       "      <td>NaN</td>\n",
       "      <td>NaN</td>\n",
       "      <td>NaN</td>\n",
       "      <td>NaN</td>\n",
       "      <td>NaN</td>\n",
       "      <td>NaN</td>\n",
       "      <td>NaN</td>\n",
       "      <td>NaN</td>\n",
       "      <td>NaN</td>\n",
       "    </tr>\n",
       "    <tr>\n",
       "      <th>4</th>\n",
       "      <td>828144128282</td>\n",
       "      <td>Retrospective Analysis of Cancer Care Performa...</td>\n",
       "      <td>https://doi.org/10.31557/APJCP.2019.20.6.1701</td>\n",
       "      <td>Asia;</td>\n",
       "      <td>Malaysia;</td>\n",
       "      <td>NaN</td>\n",
       "      <td>general-info</td>\n",
       "      <td>8/24/2025</td>\n",
       "      <td>2019.0</td>\n",
       "      <td>nasopharyngeal carcinoma (NPC); Subang Jaya Me...</td>\n",
       "      <td>...</td>\n",
       "      <td>NaN</td>\n",
       "      <td>NaN</td>\n",
       "      <td>NaN</td>\n",
       "      <td>NaN</td>\n",
       "      <td>NaN</td>\n",
       "      <td>NaN</td>\n",
       "      <td>NaN</td>\n",
       "      <td>NaN</td>\n",
       "      <td>NaN</td>\n",
       "      <td>NaN</td>\n",
       "    </tr>\n",
       "  </tbody>\n",
       "</table>\n",
       "<p>5 rows × 88 columns</p>\n",
       "</div>"
      ],
      "text/plain": [
       "      search_no                                        study_title  \\\n",
       "0  828144128180                                                NaN   \n",
       "1  828144128646  Protecting the Privacy of Cancer Patients Usin...   \n",
       "2  828144128141  Identifying cerebral palsy from routinely-coll...   \n",
       "3  828144128853  Using national laboratory data to assess cumul...   \n",
       "4  828144128282  Retrospective Analysis of Cancer Care Performa...   \n",
       "\n",
       "                                            link geographic_region  \\\n",
       "0                               https://doi.org/               NaN   \n",
       "1  https://doi.org/10.31557/APJCP.2019.20.5.1437             None;   \n",
       "2           https://doi.org/10.2147/CLEP.S200748           Europe;   \n",
       "3             https://doi.org/10.1002/jia2.25326           Africa;   \n",
       "4  https://doi.org/10.31557/APJCP.2019.20.6.1701             Asia;   \n",
       "\n",
       "     state_country                     city    evaluation  date_done    year  \\\n",
       "0              NaN                      NaN           NaN        NaN     NaN   \n",
       "1              NaN                      NaN           NaN  8/24/2025  2019.0   \n",
       "2  England; Wales;         England; Wales;   general-info  8/24/2025  2019.0   \n",
       "3     South Africa  Durban, South Africa;    general-info  8/24/2025  2019.0   \n",
       "4        Malaysia;                      NaN  general-info  8/24/2025  2019.0   \n",
       "\n",
       "                                               topic  ...  \\\n",
       "0                                                NaN  ...   \n",
       "1        blocking based techniques; sensitive rules;  ...   \n",
       "2  prevalence; Prevalence estimates; cerebral pal...  ...   \n",
       "3  PEPFAR-funded HIV clinic; government-funded cl...  ...   \n",
       "4  nasopharyngeal carcinoma (NPC); Subang Jaya Me...  ...   \n",
       "\n",
       "  More explanation on AIMS Sections           Authors  \\\n",
       "0                      NaN      NaN               NaN   \n",
       "1                      NaN      NaN  Krishnamoorthy S   \n",
       "2                      NaN      NaN               NaN   \n",
       "3                      NaN      NaN               NaN   \n",
       "4                      NaN      NaN               NaN   \n",
       "\n",
       "  Skimming_through_scanning fulltext mendeley_zotero  \\\n",
       "0                       NaN      NaN             NaN   \n",
       "1                       NaN      NaN             NaN   \n",
       "2                       NaN      NaN             NaN   \n",
       "3                       NaN      NaN             NaN   \n",
       "4                       NaN      NaN             NaN   \n",
       "\n",
       "                                           citations         Authors_x  \\\n",
       "0                                                NaN               NaN   \n",
       "1  Asian Pac J Cancer Prev. 2019 May 25;20(5):143...  Krishnamoorthy S   \n",
       "2                                                NaN               NaN   \n",
       "3                                                NaN               NaN   \n",
       "4                                                NaN               NaN   \n",
       "\n",
       "                 Databases author_affiliation  \n",
       "0                      NaN                NaN  \n",
       "1  Asian Pac J Cancer Prev                NaN  \n",
       "2                      NaN                NaN  \n",
       "3                      NaN                NaN  \n",
       "4                      NaN                NaN  \n",
       "\n",
       "[5 rows x 88 columns]"
      ]
     },
     "execution_count": 2,
     "metadata": {},
     "output_type": "execute_result"
    }
   ],
   "source": [
    "df = pd.read_csv('D:/Daniels/exercises/ubuntu/phd_work/data/pprl_papers_data_extraction.csv')\n",
    "df.head()"
   ]
  },
  {
   "cell_type": "code",
   "execution_count": 3,
   "id": "092ded58-a839-4bf4-a4e6-264b16b94863",
   "metadata": {},
   "outputs": [
    {
     "data": {
      "text/plain": [
       "(541, 88)"
      ]
     },
     "execution_count": 3,
     "metadata": {},
     "output_type": "execute_result"
    }
   ],
   "source": [
    "df.shape"
   ]
  },
  {
   "cell_type": "markdown",
   "id": "91e60f6a-cc10-4d7a-8aa7-75b3b37964cd",
   "metadata": {},
   "source": [
    "### Split locations"
   ]
  },
  {
   "cell_type": "code",
   "execution_count": 64,
   "id": "22e6b8c5-9f08-47c6-864c-efd6e667c84f",
   "metadata": {},
   "outputs": [],
   "source": [
    "# Remove trailing semicolons and split into lists\n",
    "df['countries_list'] = df['state_country'].str.rstrip(';').str.split(';')\n",
    "\n",
    "# Explode into multiple rows\n",
    "df_exploded = df.explode('countries_list')\n",
    "\n",
    "# Clean up spaces and underscores\n",
    "df_exploded['countries_clean'] = df_exploded['countries_list'].str.replace('_', ' ').str.strip()\n",
    "\n",
    "# Drop NaNs or empty values\n",
    "df_exploded = df_exploded[df_exploded['countries_clean'].notna() & (df_exploded['countries_clean'] != '')]\n"
   ]
  },
  {
   "cell_type": "code",
   "execution_count": 65,
   "id": "ad85982d-18d0-4924-ba61-8896936bc0f2",
   "metadata": {},
   "outputs": [
    {
     "data": {
      "text/plain": [
       "72"
      ]
     },
     "execution_count": 65,
     "metadata": {},
     "output_type": "execute_result"
    }
   ],
   "source": [
    "df_exploded.countries_clean.nunique()"
   ]
  },
  {
   "cell_type": "markdown",
   "id": "6292e5a8-2e3f-4e9d-b00d-01974f2901af",
   "metadata": {},
   "source": [
    "### Geolocator - more time taken here"
   ]
  },
  {
   "cell_type": "code",
   "execution_count": null,
   "id": "7229ff16-a742-4006-b66d-f663a5c7a305",
   "metadata": {},
   "outputs": [],
   "source": [
    "geolocator = Nominatim(user_agent=\"geoapi\", timeout=10)\n",
    "\n",
    "def geocode_place(place):\n",
    "    try:\n",
    "        loc = geolocator.geocode(place)\n",
    "        time.sleep(1)  # delay to avoid rate limit\n",
    "        if loc:\n",
    "            return pd.Series([loc.latitude, loc.longitude])\n",
    "    except Exception as e:\n",
    "        print(f\"Error geocoding {place}: {e}\")\n",
    "        return pd.Series([None, None])\n",
    "    return pd.Series([None, None])\n",
    "\n",
    "\n",
    "# Apply with delay\n",
    "df_exploded[['lat', 'lon']] = df_exploded['countries_clean'].apply(\n",
    "    lambda x: geocode_place(x)\n",
    ")\n"
   ]
  },
  {
   "cell_type": "code",
   "execution_count": 67,
   "id": "d1173ebe-3f2c-4883-b0f4-8a94cc888897",
   "metadata": {},
   "outputs": [
    {
     "ename": "KeyboardInterrupt",
     "evalue": "",
     "output_type": "error",
     "traceback": [
      "\u001b[1;31m---------------------------------------------------------------------------\u001b[0m",
      "\u001b[1;31mKeyboardInterrupt\u001b[0m                         Traceback (most recent call last)",
      "Cell \u001b[1;32mIn[67], line 10\u001b[0m\n\u001b[0;32m      1\u001b[0m \u001b[38;5;28;01mimport\u001b[39;00m \u001b[38;5;21;01mplotly\u001b[39;00m\u001b[38;5;21;01m.\u001b[39;00m\u001b[38;5;21;01mexpress\u001b[39;00m \u001b[38;5;28;01mas\u001b[39;00m \u001b[38;5;21;01mpx\u001b[39;00m\n\u001b[0;32m      3\u001b[0m fig \u001b[38;5;241m=\u001b[39m px\u001b[38;5;241m.\u001b[39mscatter_geo(df_exploded,\n\u001b[0;32m      4\u001b[0m                      lat\u001b[38;5;241m=\u001b[39m\u001b[38;5;124m'\u001b[39m\u001b[38;5;124mlat\u001b[39m\u001b[38;5;124m'\u001b[39m,\n\u001b[0;32m      5\u001b[0m                      lon\u001b[38;5;241m=\u001b[39m\u001b[38;5;124m'\u001b[39m\u001b[38;5;124mlon\u001b[39m\u001b[38;5;124m'\u001b[39m,\n\u001b[0;32m      6\u001b[0m                      text\u001b[38;5;241m=\u001b[39m\u001b[38;5;124m'\u001b[39m\u001b[38;5;124mcountries_clean\u001b[39m\u001b[38;5;124m'\u001b[39m,\n\u001b[0;32m      7\u001b[0m                      projection\u001b[38;5;241m=\u001b[39m\u001b[38;5;124m\"\u001b[39m\u001b[38;5;124mnatural earth\u001b[39m\u001b[38;5;124m\"\u001b[39m,\n\u001b[0;32m      8\u001b[0m                      title\u001b[38;5;241m=\u001b[39m\u001b[38;5;124m\"\u001b[39m\u001b[38;5;124mWorld Map with Mixed and Multiple Locations\u001b[39m\u001b[38;5;124m\"\u001b[39m)\n\u001b[1;32m---> 10\u001b[0m \u001b[43mfig\u001b[49m\u001b[38;5;241;43m.\u001b[39;49m\u001b[43mwrite_html\u001b[49m\u001b[43m(\u001b[49m\u001b[38;5;124;43m\"\u001b[39;49m\u001b[38;5;124;43mmaps/map_output.html\u001b[39;49m\u001b[38;5;124;43m\"\u001b[39;49m\u001b[43m)\u001b[49m\n\u001b[0;32m     12\u001b[0m fig\u001b[38;5;241m.\u001b[39mshow()\n",
      "File \u001b[1;32m~\\Anaconda3\\envs\\phd_work\\lib\\site-packages\\plotly\\basedatatypes.py:3712\u001b[0m, in \u001b[0;36mBaseFigure.write_html\u001b[1;34m(self, *args, **kwargs)\u001b[0m\n\u001b[0;32m   3609\u001b[0m \u001b[38;5;250m\u001b[39m\u001b[38;5;124;03m\"\"\"\u001b[39;00m\n\u001b[0;32m   3610\u001b[0m \u001b[38;5;124;03mWrite a figure to an HTML file representation\u001b[39;00m\n\u001b[0;32m   3611\u001b[0m \n\u001b[1;32m   (...)\u001b[0m\n\u001b[0;32m   3708\u001b[0m \u001b[38;5;124;03mNone\u001b[39;00m\n\u001b[0;32m   3709\u001b[0m \u001b[38;5;124;03m\"\"\"\u001b[39;00m\n\u001b[0;32m   3710\u001b[0m \u001b[38;5;28;01mimport\u001b[39;00m \u001b[38;5;21;01mplotly\u001b[39;00m\u001b[38;5;21;01m.\u001b[39;00m\u001b[38;5;21;01mio\u001b[39;00m \u001b[38;5;28;01mas\u001b[39;00m \u001b[38;5;21;01mpio\u001b[39;00m\n\u001b[1;32m-> 3712\u001b[0m \u001b[38;5;28;01mreturn\u001b[39;00m pio\u001b[38;5;241m.\u001b[39mwrite_html(\u001b[38;5;28mself\u001b[39m, \u001b[38;5;241m*\u001b[39margs, \u001b[38;5;241m*\u001b[39m\u001b[38;5;241m*\u001b[39mkwargs)\n",
      "File \u001b[1;32m~\\Anaconda3\\envs\\phd_work\\lib\\site-packages\\plotly\\io\\_html.py:503\u001b[0m, in \u001b[0;36mwrite_html\u001b[1;34m(fig, file, config, auto_play, include_plotlyjs, include_mathjax, post_script, full_html, animation_opts, validate, default_width, default_height, auto_open, div_id)\u001b[0m\n\u001b[0;32m    500\u001b[0m \u001b[38;5;66;03m# Write HTML string\u001b[39;00m\n\u001b[0;32m    501\u001b[0m \u001b[38;5;28;01mif\u001b[39;00m path \u001b[38;5;129;01mis\u001b[39;00m \u001b[38;5;129;01mnot\u001b[39;00m \u001b[38;5;28;01mNone\u001b[39;00m:\n\u001b[0;32m    502\u001b[0m     \u001b[38;5;66;03m# To use a different file encoding, pass a file descriptor\u001b[39;00m\n\u001b[1;32m--> 503\u001b[0m     \u001b[43mpath\u001b[49m\u001b[38;5;241;43m.\u001b[39;49m\u001b[43mwrite_text\u001b[49m\u001b[43m(\u001b[49m\u001b[43mhtml_str\u001b[49m\u001b[43m,\u001b[49m\u001b[43m \u001b[49m\u001b[38;5;124;43m\"\u001b[39;49m\u001b[38;5;124;43mutf-8\u001b[39;49m\u001b[38;5;124;43m\"\u001b[39;49m\u001b[43m)\u001b[49m\n\u001b[0;32m    504\u001b[0m \u001b[38;5;28;01melse\u001b[39;00m:\n\u001b[0;32m    505\u001b[0m     file\u001b[38;5;241m.\u001b[39mwrite(html_str)\n",
      "File \u001b[1;32m~\\Anaconda3\\envs\\phd_work\\lib\\pathlib.py:1286\u001b[0m, in \u001b[0;36mPath.write_text\u001b[1;34m(self, data, encoding, errors)\u001b[0m\n\u001b[0;32m   1283\u001b[0m     \u001b[38;5;28;01mraise\u001b[39;00m \u001b[38;5;167;01mTypeError\u001b[39;00m(\u001b[38;5;124m'\u001b[39m\u001b[38;5;124mdata must be str, not \u001b[39m\u001b[38;5;132;01m%s\u001b[39;00m\u001b[38;5;124m'\u001b[39m \u001b[38;5;241m%\u001b[39m\n\u001b[0;32m   1284\u001b[0m                     data\u001b[38;5;241m.\u001b[39m\u001b[38;5;18m__class__\u001b[39m\u001b[38;5;241m.\u001b[39m\u001b[38;5;18m__name__\u001b[39m)\n\u001b[0;32m   1285\u001b[0m \u001b[38;5;28;01mwith\u001b[39;00m \u001b[38;5;28mself\u001b[39m\u001b[38;5;241m.\u001b[39mopen(mode\u001b[38;5;241m=\u001b[39m\u001b[38;5;124m'\u001b[39m\u001b[38;5;124mw\u001b[39m\u001b[38;5;124m'\u001b[39m, encoding\u001b[38;5;241m=\u001b[39mencoding, errors\u001b[38;5;241m=\u001b[39merrors) \u001b[38;5;28;01mas\u001b[39;00m f:\n\u001b[1;32m-> 1286\u001b[0m     \u001b[38;5;28;01mreturn\u001b[39;00m f\u001b[38;5;241m.\u001b[39mwrite(data)\n",
      "\u001b[1;31mKeyboardInterrupt\u001b[0m: "
     ]
    }
   ],
   "source": [
    "import plotly.express as px\n",
    "\n",
    "fig = px.scatter_geo(df_exploded,\n",
    "                     lat='lat',\n",
    "                     lon='lon',\n",
    "                     text='countries_clean',\n",
    "                     projection=\"natural earth\",\n",
    "                     title=\"World Map with Mixed and Multiple Locations\")\n",
    "\n",
    "fig.write_html(\"maps/map_output.html\")\n",
    "\n",
    "fig.show()\n"
   ]
  },
  {
   "cell_type": "markdown",
   "id": "934be372-d70f-4da2-87f8-51da3f00c860",
   "metadata": {},
   "source": [
    "### Map without country names (Size not factored)"
   ]
  },
  {
   "cell_type": "code",
   "execution_count": null,
   "id": "088a0236-dbfb-4a84-aad0-90879aabf9bd",
   "metadata": {},
   "outputs": [],
   "source": [
    "import plotly.express as px\n",
    "\n",
    "fig = px.scatter_geo(df_exploded,\n",
    "                     lat='lat',\n",
    "                     lon='lon',\n",
    "                     # text='countries_clean',\n",
    "                     hover_name='countries_clean',\n",
    "                     projection=\"natural earth\",\n",
    "                     title=\"World Map showing PPRL Locations\")\n",
    "\n",
    "# Hide country names (labels), keep borders and land\n",
    "fig.update_geos(\n",
    "    showcountries=False,    # hides country names\n",
    "    showcoastlines=True,\n",
    "    showland=True,\n",
    "    landcolor=\"lightgray\"\n",
    ")\n",
    "\n",
    "# Optional: adjust layout margins if needed\n",
    "fig.update_layout(\n",
    "    margin={\"r\":0, \"t\":30, \"l\":0, \"b\":0}\n",
    ")\n",
    "\n",
    "# Save map\n",
    "fig.write_html(\"maps/map_output_ii.html\")\n",
    "\n",
    "# Show map\n",
    "fig.show()\n"
   ]
  },
  {
   "cell_type": "markdown",
   "id": "4215b282-312d-4300-a7bb-0c528c429aeb",
   "metadata": {},
   "source": [
    "### Map 3 - with size as a factor"
   ]
  },
  {
   "cell_type": "code",
   "execution_count": null,
   "id": "c94d98d0-711a-4477-b4bc-f53f79a4a667",
   "metadata": {},
   "outputs": [],
   "source": [
    "# Count occurrences of each location\n",
    "size_df = df_exploded['countries_clean'].value_counts().reset_index()\n",
    "size_df.columns = ['countries_clean', 'size']\n",
    "\n",
    "# Merge back to main DataFrame\n",
    "df_exploded = df_exploded.merge(size_df, on='countries_clean')\n",
    "df_exploded.head()"
   ]
  },
  {
   "cell_type": "code",
   "execution_count": null,
   "id": "37c803c7-71ea-455f-b8df-0850b4f9f230",
   "metadata": {},
   "outputs": [],
   "source": [
    "import plotly.express as px\n",
    "\n",
    "fig = px.scatter_geo(\n",
    "    df_exploded,\n",
    "    lat='lat',\n",
    "    lon='lon',\n",
    "    hover_name='countries_clean',  # Appears on hover only\n",
    "    color='countries_clean',                # Colors by region\n",
    "    size='size',                  # Bubble size\n",
    "    projection=\"natural earth\",\n",
    "    title=\"World Map with Colored and Scaled Bubbles by Region\"\n",
    ")\n",
    "\n",
    "# Hide country labels and customize map appearance\n",
    "fig.update_geos(\n",
    "    showcountries=False,\n",
    "    showland=True,\n",
    "    landcolor=\"lightgray\",\n",
    "    showcoastlines=True,\n",
    "    coastlinecolor=\"gray\"\n",
    ")\n",
    "\n",
    "# Customize layout and legend appearance\n",
    "fig.update_layout(\n",
    "    legend_title_text='Region',\n",
    "    margin={\"r\":0,\"t\":30,\"l\":0,\"b\":0}\n",
    ")\n",
    "\n",
    "# Save and show\n",
    "# fig.write_image(\"maps/pprl_map_colored_iii.png\", scale=2)\n",
    "fig.write_html(\"maps/pprl_map_colored_iii.html\")\n",
    "fig.show()"
   ]
  },
  {
   "cell_type": "code",
   "execution_count": null,
   "id": "ad3085d0-6dc2-49d5-9600-faac2a0c1292",
   "metadata": {},
   "outputs": [],
   "source": [
    "# import kaleido\n",
    "# print(\"Kaleido is working!\")"
   ]
  },
  {
   "cell_type": "markdown",
   "id": "a55fae40-28ff-438c-91fc-2369c95b39de",
   "metadata": {},
   "source": [
    "### Top 12 countries"
   ]
  },
  {
   "cell_type": "code",
   "execution_count": null,
   "id": "15fd7053-c1c6-44e8-86fe-edd6489a7dd5",
   "metadata": {},
   "outputs": [],
   "source": [
    "# Get top 12 countries sorted by size\n",
    "top_12_countries = size_df.sort_values(by='size', ascending=False).head(12)\n",
    "\n",
    "# Styled Pandas Table with formatting\n",
    "styled_table = top_12_countries.style \\\n",
    "    .set_caption(\"Top 12 Countries with Most Record Linkage Work\") \\\n",
    "    .hide(axis=\"index\") \\\n",
    "    .set_table_styles([\n",
    "        {'selector': 'caption', 'props': [('color', '#2a3f5f'),\n",
    "                                          ('font-size', '18px'),\n",
    "                                          ('font-weight', 'bold'),\n",
    "                                          ('text-align', 'center')]},\n",
    "        {'selector': 'th', 'props': [('background-color', '#f2f2f2'),\n",
    "                                     ('font-size', '14px'),\n",
    "                                     ('text-align', 'center')]},\n",
    "        {'selector': 'td:nth-child(1)', 'props': [('text-align', 'left'), ('min-width', '200px')]},\n",
    "        {'selector': 'td:nth-child(2)', 'props': [('text-align', 'center'), ('min-width', '100px')]}\n",
    "    ]) \\\n",
    "    .format({'size': '{:,}'})\n",
    "\n",
    "styled_table"
   ]
  },
  {
   "cell_type": "markdown",
   "id": "7c56606a-b311-4459-b07d-f6edde6f9c26",
   "metadata": {},
   "source": [
    "### Export styled table"
   ]
  },
  {
   "cell_type": "code",
   "execution_count": null,
   "id": "d40e123a-aad1-495f-ab2a-160be7226940",
   "metadata": {},
   "outputs": [],
   "source": [
    "with open(\"maps/top_12_countries.html\", \"w\") as f:\n",
    "    f.write(styled_table.to_html())"
   ]
  },
  {
   "cell_type": "markdown",
   "id": "5c08693c-9891-4bee-970b-b15c00175ea9",
   "metadata": {},
   "source": [
    "### End of the maps"
   ]
  }
 ],
 "metadata": {
  "kernelspec": {
   "display_name": "Python 3 (ipykernel)",
   "language": "python",
   "name": "python3"
  },
  "language_info": {
   "codemirror_mode": {
    "name": "ipython",
    "version": 3
   },
   "file_extension": ".py",
   "mimetype": "text/x-python",
   "name": "python",
   "nbconvert_exporter": "python",
   "pygments_lexer": "ipython3",
   "version": "3.9.19"
  }
 },
 "nbformat": 4,
 "nbformat_minor": 5
}
